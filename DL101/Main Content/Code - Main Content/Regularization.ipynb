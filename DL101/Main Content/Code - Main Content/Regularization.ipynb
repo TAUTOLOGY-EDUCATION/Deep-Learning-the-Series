{
 "cells": [
  {
   "cell_type": "code",
   "execution_count": 1,
   "id": "021c8507",
   "metadata": {},
   "outputs": [],
   "source": [
    "import numpy as np\n",
    "import pandas as pd\n",
    "import matplotlib.pyplot as plt\n",
    "\n",
    "from sklearn.linear_model import LinearRegression, RidgeCV, LassoCV, ElasticNetCV\n",
    "\n",
    "import warnings\n",
    "warnings.filterwarnings('ignore')\n",
    "\n",
    "from sklearn.metrics import r2_score, mean_squared_error, mean_absolute_error, mean_absolute_percentage_error"
   ]
  },
  {
   "cell_type": "code",
   "execution_count": 2,
   "id": "8292ce5a",
   "metadata": {},
   "outputs": [],
   "source": [
    "data = pd.read_csv('dataset2.csv')"
   ]
  },
  {
   "cell_type": "code",
   "execution_count": 3,
   "id": "f4fb70c5",
   "metadata": {},
   "outputs": [
    {
     "data": {
      "text/html": [
       "<div>\n",
       "<style scoped>\n",
       "    .dataframe tbody tr th:only-of-type {\n",
       "        vertical-align: middle;\n",
       "    }\n",
       "\n",
       "    .dataframe tbody tr th {\n",
       "        vertical-align: top;\n",
       "    }\n",
       "\n",
       "    .dataframe thead th {\n",
       "        text-align: right;\n",
       "    }\n",
       "</style>\n",
       "<table border=\"1\" class=\"dataframe\">\n",
       "  <thead>\n",
       "    <tr style=\"text-align: right;\">\n",
       "      <th></th>\n",
       "      <th>x1</th>\n",
       "      <th>x2</th>\n",
       "      <th>y</th>\n",
       "    </tr>\n",
       "  </thead>\n",
       "  <tbody>\n",
       "    <tr>\n",
       "      <th>0</th>\n",
       "      <td>0</td>\n",
       "      <td>1</td>\n",
       "      <td>3.9</td>\n",
       "    </tr>\n",
       "    <tr>\n",
       "      <th>1</th>\n",
       "      <td>2</td>\n",
       "      <td>1</td>\n",
       "      <td>7.7</td>\n",
       "    </tr>\n",
       "    <tr>\n",
       "      <th>2</th>\n",
       "      <td>1</td>\n",
       "      <td>1</td>\n",
       "      <td>6.2</td>\n",
       "    </tr>\n",
       "    <tr>\n",
       "      <th>3</th>\n",
       "      <td>2</td>\n",
       "      <td>0</td>\n",
       "      <td>5.2</td>\n",
       "    </tr>\n",
       "    <tr>\n",
       "      <th>4</th>\n",
       "      <td>3</td>\n",
       "      <td>1</td>\n",
       "      <td>9.8</td>\n",
       "    </tr>\n",
       "  </tbody>\n",
       "</table>\n",
       "</div>"
      ],
      "text/plain": [
       "   x1  x2    y\n",
       "0   0   1  3.9\n",
       "1   2   1  7.7\n",
       "2   1   1  6.2\n",
       "3   2   0  5.2\n",
       "4   3   1  9.8"
      ]
     },
     "execution_count": 3,
     "metadata": {},
     "output_type": "execute_result"
    }
   ],
   "source": [
    "data"
   ]
  },
  {
   "cell_type": "code",
   "execution_count": 4,
   "id": "0f969543",
   "metadata": {},
   "outputs": [],
   "source": [
    "X = data[['x1','x2']]"
   ]
  },
  {
   "cell_type": "code",
   "execution_count": 5,
   "id": "08d5e2f4",
   "metadata": {},
   "outputs": [],
   "source": [
    "y = data['y']"
   ]
  },
  {
   "cell_type": "markdown",
   "id": "33ab12be",
   "metadata": {},
   "source": [
    "# ========== Ridge Regression =========="
   ]
  },
  {
   "cell_type": "code",
   "execution_count": 6,
   "id": "25b7614a",
   "metadata": {},
   "outputs": [],
   "source": [
    "alphas = np.logspace(-3, 3, num=100)"
   ]
  },
  {
   "cell_type": "code",
   "execution_count": 7,
   "id": "ac4e38f7",
   "metadata": {},
   "outputs": [
    {
     "data": {
      "text/plain": [
       "[<matplotlib.lines.Line2D at 0x12495d940>]"
      ]
     },
     "execution_count": 7,
     "metadata": {},
     "output_type": "execute_result"
    },
    {
     "data": {
      "image/png": "[encoded data removed]",
      "text/plain": [
       "<Figure size 432x288 with 1 Axes>"
      ]
     },
     "metadata": {
      "needs_background": "light"
     },
     "output_type": "display_data"
    }
   ],
   "source": [
    "plt.plot(alphas, '*')"
   ]
  },
  {
   "cell_type": "code",
   "execution_count": 8,
   "id": "8015adf4",
   "metadata": {},
   "outputs": [
    {
     "data": {
      "text/plain": [
       "RidgeCV(alphas=array([1.00000000e-03, 1.14975700e-03, 1.32194115e-03, 1.51991108e-03,\n",
       "       1.74752840e-03, 2.00923300e-03, 2.31012970e-03, 2.65608778e-03,\n",
       "       3.05385551e-03, 3.51119173e-03, 4.03701726e-03, 4.64158883e-03,\n",
       "       5.33669923e-03, 6.13590727e-03, 7.05480231e-03, 8.11130831e-03,\n",
       "       9.32603347e-03, 1.07226722e-02, 1.23284674e-02, 1.41747416e-02,\n",
       "       1.62975083e-02, 1.87381742e-0...\n",
       "       4.03701726e+01, 4.64158883e+01, 5.33669923e+01, 6.13590727e+01,\n",
       "       7.05480231e+01, 8.11130831e+01, 9.32603347e+01, 1.07226722e+02,\n",
       "       1.23284674e+02, 1.41747416e+02, 1.62975083e+02, 1.87381742e+02,\n",
       "       2.15443469e+02, 2.47707636e+02, 2.84803587e+02, 3.27454916e+02,\n",
       "       3.76493581e+02, 4.32876128e+02, 4.97702356e+02, 5.72236766e+02,\n",
       "       6.57933225e+02, 7.56463328e+02, 8.69749003e+02, 1.00000000e+03]),\n",
       "        cv=5)"
      ]
     },
     "execution_count": 8,
     "metadata": {},
     "output_type": "execute_result"
    }
   ],
   "source": [
    "reg = RidgeCV(alphas=alphas, cv=5)\n",
    "reg.fit(X, y)"
   ]
  },
  {
   "cell_type": "code",
   "execution_count": 9,
   "id": "fa06bcdd",
   "metadata": {},
   "outputs": [
    {
     "data": {
      "text/plain": [
       "0.001"
      ]
     },
     "execution_count": 9,
     "metadata": {},
     "output_type": "execute_result"
    }
   ],
   "source": [
    "reg.alpha_"
   ]
  },
  {
   "cell_type": "code",
   "execution_count": 10,
   "id": "367ad681",
   "metadata": {},
   "outputs": [
    {
     "data": {
      "text/plain": [
       "1.363955365962216"
      ]
     },
     "execution_count": 10,
     "metadata": {},
     "output_type": "execute_result"
    }
   ],
   "source": [
    "reg.intercept_"
   ]
  },
  {
   "cell_type": "code",
   "execution_count": 11,
   "id": "18d0adfb",
   "metadata": {
    "scrolled": true
   },
   "outputs": [
    {
     "data": {
      "text/plain": [
       "array([1.91935049, 2.6563548 ])"
      ]
     },
     "execution_count": 11,
     "metadata": {},
     "output_type": "execute_result"
    }
   ],
   "source": [
    "reg.coef_"
   ]
  },
  {
   "cell_type": "markdown",
   "id": "761527e9",
   "metadata": {},
   "source": [
    "# ========== Lasso Regression =========="
   ]
  },
  {
   "cell_type": "code",
   "execution_count": 12,
   "id": "1d48088a",
   "metadata": {},
   "outputs": [
    {
     "data": {
      "text/plain": [
       "LassoCV(cv=5)"
      ]
     },
     "execution_count": 12,
     "metadata": {},
     "output_type": "execute_result"
    }
   ],
   "source": [
    "reg = LassoCV(n_alphas=100, cv=5)\n",
    "reg.fit(X, y)"
   ]
  },
  {
   "cell_type": "code",
   "execution_count": 13,
   "id": "b1448b57",
   "metadata": {},
   "outputs": [
    {
     "data": {
      "text/plain": [
       "0.0017840000000000006"
      ]
     },
     "execution_count": 13,
     "metadata": {},
     "output_type": "execute_result"
    }
   ],
   "source": [
    "reg.alpha_"
   ]
  },
  {
   "cell_type": "code",
   "execution_count": 14,
   "id": "f79f8780",
   "metadata": {},
   "outputs": [
    {
     "data": {
      "text/plain": [
       "1.374272891314944"
      ]
     },
     "execution_count": 14,
     "metadata": {},
     "output_type": "execute_result"
    }
   ],
   "source": [
    "reg.intercept_"
   ]
  },
  {
   "cell_type": "code",
   "execution_count": 15,
   "id": "1d5904eb",
   "metadata": {
    "scrolled": true
   },
   "outputs": [
    {
     "data": {
      "text/plain": [
       "array([1.91732355, 2.64751178])"
      ]
     },
     "execution_count": 15,
     "metadata": {},
     "output_type": "execute_result"
    }
   ],
   "source": [
    "reg.coef_"
   ]
  },
  {
   "cell_type": "markdown",
   "id": "867d0663",
   "metadata": {},
   "source": [
    "# ========== Elastic Net =========="
   ]
  },
  {
   "cell_type": "code",
   "execution_count": 16,
   "id": "73ca2db2",
   "metadata": {},
   "outputs": [],
   "source": [
    "l1_ratio = [0.01, 0.05, 0.1, 0.5, 0.7, 0.9, 0.95, 0.99, 1]"
   ]
  },
  {
   "cell_type": "code",
   "execution_count": 17,
   "id": "07082fda",
   "metadata": {},
   "outputs": [
    {
     "data": {
      "text/plain": [
       "ElasticNetCV(cv=5, l1_ratio=[0.01, 0.05, 0.1, 0.5, 0.7, 0.9, 0.95, 0.99, 1])"
      ]
     },
     "execution_count": 17,
     "metadata": {},
     "output_type": "execute_result"
    }
   ],
   "source": [
    "reg = ElasticNetCV(l1_ratio=l1_ratio, n_alphas=100, cv=5)\n",
    "reg.fit(X, y)"
   ]
  },
  {
   "cell_type": "code",
   "execution_count": 18,
   "id": "23c9b258",
   "metadata": {},
   "outputs": [
    {
     "data": {
      "text/plain": [
       "1.0"
      ]
     },
     "execution_count": 18,
     "metadata": {},
     "output_type": "execute_result"
    }
   ],
   "source": [
    "reg.l1_ratio_"
   ]
  },
  {
   "cell_type": "code",
   "execution_count": 19,
   "id": "56966209",
   "metadata": {},
   "outputs": [
    {
     "data": {
      "text/plain": [
       "0.0017840000000000006"
      ]
     },
     "execution_count": 19,
     "metadata": {},
     "output_type": "execute_result"
    }
   ],
   "source": [
    "reg.alpha_"
   ]
  },
  {
   "cell_type": "code",
   "execution_count": 20,
   "id": "0de3eb20",
   "metadata": {},
   "outputs": [
    {
     "data": {
      "text/plain": [
       "1.374272891314944"
      ]
     },
     "execution_count": 20,
     "metadata": {},
     "output_type": "execute_result"
    }
   ],
   "source": [
    "reg.intercept_"
   ]
  },
  {
   "cell_type": "code",
   "execution_count": 21,
   "id": "82354698",
   "metadata": {},
   "outputs": [
    {
     "data": {
      "text/plain": [
       "array([1.91732355, 2.64751178])"
      ]
     },
     "execution_count": 21,
     "metadata": {},
     "output_type": "execute_result"
    }
   ],
   "source": [
    "reg.coef_"
   ]
  }
 ],
 "metadata": {
  "kernelspec": {
   "display_name": "Python 3",
   "language": "python",
   "name": "python3"
  },
  "language_info": {
   "codemirror_mode": {
    "name": "ipython",
    "version": 3
   },
   "file_extension": ".py",
   "mimetype": "text/x-python",
   "name": "python",
   "nbconvert_exporter": "python",
   "pygments_lexer": "ipython3",
   "version": "3.8.8"
  }
 },
 "nbformat": 4,
 "nbformat_minor": 5
}
