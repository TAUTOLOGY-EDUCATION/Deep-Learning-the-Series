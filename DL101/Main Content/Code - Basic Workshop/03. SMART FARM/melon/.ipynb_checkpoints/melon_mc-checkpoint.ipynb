{
 "cells": [
  {
   "cell_type": "markdown",
   "id": "5ea7a034",
   "metadata": {},
   "source": [
    "# 1. Import Libraries"
   ]
  },
  {
   "cell_type": "code",
   "execution_count": 1,
   "id": "84e820f1",
   "metadata": {},
   "outputs": [],
   "source": [
    "import numpy as np\n",
    "import pandas as pd\n",
    "import matplotlib.pyplot as plt\n",
    "\n",
    "from sklearn.model_selection import train_test_split\n",
    "from sklearn.preprocessing import OrdinalEncoder, OneHotEncoder\n",
    "from sklearn.linear_model import LinearRegression\n",
    "from sklearn.metrics import (\n",
    "    r2_score, \n",
    "    mean_squared_error, \n",
    "    mean_absolute_error, \n",
    "    mean_absolute_percentage_error\n",
    ")\n",
    "\n",
    "import warnings\n",
    "warnings.filterwarnings('ignore')\n",
    "\n",
    "np.random.seed(12345)"
   ]
  },
  {
   "cell_type": "markdown",
   "id": "cc607e70",
   "metadata": {},
   "source": [
    "# 2. Read Data"
   ]
  },
  {
   "cell_type": "code",
   "execution_count": 2,
   "id": "48a1e2f2",
   "metadata": {},
   "outputs": [
    {
     "data": {
      "text/html": [
       "<div>\n",
       "<style scoped>\n",
       "    .dataframe tbody tr th:only-of-type {\n",
       "        vertical-align: middle;\n",
       "    }\n",
       "\n",
       "    .dataframe tbody tr th {\n",
       "        vertical-align: top;\n",
       "    }\n",
       "\n",
       "    .dataframe thead th {\n",
       "        text-align: right;\n",
       "    }\n",
       "</style>\n",
       "<table border=\"1\" class=\"dataframe\">\n",
       "  <thead>\n",
       "    <tr style=\"text-align: right;\">\n",
       "      <th></th>\n",
       "      <th>SOIL TYPE</th>\n",
       "      <th>REGION</th>\n",
       "      <th>TEMPERATURE</th>\n",
       "      <th>WEATHER CONDITION</th>\n",
       "      <th>WATER REQUIREMENT</th>\n",
       "    </tr>\n",
       "  </thead>\n",
       "  <tbody>\n",
       "    <tr>\n",
       "      <th>0</th>\n",
       "      <td>DRY</td>\n",
       "      <td>DESERT</td>\n",
       "      <td>10-20</td>\n",
       "      <td>NORMAL</td>\n",
       "      <td>6.12</td>\n",
       "    </tr>\n",
       "    <tr>\n",
       "      <th>1</th>\n",
       "      <td>DRY</td>\n",
       "      <td>DESERT</td>\n",
       "      <td>10-20</td>\n",
       "      <td>SUNNY</td>\n",
       "      <td>7.62</td>\n",
       "    </tr>\n",
       "    <tr>\n",
       "      <th>2</th>\n",
       "      <td>DRY</td>\n",
       "      <td>DESERT</td>\n",
       "      <td>10-20</td>\n",
       "      <td>WINDY</td>\n",
       "      <td>7.12</td>\n",
       "    </tr>\n",
       "    <tr>\n",
       "      <th>3</th>\n",
       "      <td>DRY</td>\n",
       "      <td>DESERT</td>\n",
       "      <td>10-20</td>\n",
       "      <td>RAINY</td>\n",
       "      <td>0.50</td>\n",
       "    </tr>\n",
       "    <tr>\n",
       "      <th>4</th>\n",
       "      <td>DRY</td>\n",
       "      <td>DESERT</td>\n",
       "      <td>20-30</td>\n",
       "      <td>NORMAL</td>\n",
       "      <td>7.12</td>\n",
       "    </tr>\n",
       "    <tr>\n",
       "      <th>...</th>\n",
       "      <td>...</td>\n",
       "      <td>...</td>\n",
       "      <td>...</td>\n",
       "      <td>...</td>\n",
       "      <td>...</td>\n",
       "    </tr>\n",
       "    <tr>\n",
       "      <th>187</th>\n",
       "      <td>WET</td>\n",
       "      <td>HUMID</td>\n",
       "      <td>30-40</td>\n",
       "      <td>RAINY</td>\n",
       "      <td>0.10</td>\n",
       "    </tr>\n",
       "    <tr>\n",
       "      <th>188</th>\n",
       "      <td>WET</td>\n",
       "      <td>HUMID</td>\n",
       "      <td>40-50</td>\n",
       "      <td>NORMAL</td>\n",
       "      <td>4.44</td>\n",
       "    </tr>\n",
       "    <tr>\n",
       "      <th>189</th>\n",
       "      <td>WET</td>\n",
       "      <td>HUMID</td>\n",
       "      <td>40-50</td>\n",
       "      <td>SUNNY</td>\n",
       "      <td>6.00</td>\n",
       "    </tr>\n",
       "    <tr>\n",
       "      <th>190</th>\n",
       "      <td>WET</td>\n",
       "      <td>HUMID</td>\n",
       "      <td>40-50</td>\n",
       "      <td>WINDY</td>\n",
       "      <td>5.50</td>\n",
       "    </tr>\n",
       "    <tr>\n",
       "      <th>191</th>\n",
       "      <td>WET</td>\n",
       "      <td>HUMID</td>\n",
       "      <td>40-50</td>\n",
       "      <td>RAINY</td>\n",
       "      <td>0.20</td>\n",
       "    </tr>\n",
       "  </tbody>\n",
       "</table>\n",
       "<p>192 rows × 5 columns</p>\n",
       "</div>"
      ],
      "text/plain": [
       "    SOIL TYPE  REGION TEMPERATURE WEATHER CONDITION  WATER REQUIREMENT\n",
       "0         DRY  DESERT       10-20            NORMAL               6.12\n",
       "1         DRY  DESERT       10-20             SUNNY               7.62\n",
       "2         DRY  DESERT       10-20             WINDY               7.12\n",
       "3         DRY  DESERT       10-20             RAINY               0.50\n",
       "4         DRY  DESERT       20-30            NORMAL               7.12\n",
       "..        ...     ...         ...               ...                ...\n",
       "187       WET   HUMID       30-40             RAINY               0.10\n",
       "188       WET   HUMID       40-50            NORMAL               4.44\n",
       "189       WET   HUMID       40-50             SUNNY               6.00\n",
       "190       WET   HUMID       40-50             WINDY               5.50\n",
       "191       WET   HUMID       40-50             RAINY               0.20\n",
       "\n",
       "[192 rows x 5 columns]"
      ]
     },
     "execution_count": 2,
     "metadata": {},
     "output_type": "execute_result"
    }
   ],
   "source": [
    "data = pd.read_excel('melon_dataset.xlsx')\n",
    "\n",
    "data"
   ]
  },
  {
   "cell_type": "markdown",
   "id": "b8d80b8d",
   "metadata": {},
   "source": [
    "# 3. Clean Data"
   ]
  },
  {
   "cell_type": "markdown",
   "id": "9ece2754",
   "metadata": {},
   "source": [
    "## 3.1. Handle Missing Values"
   ]
  },
  {
   "cell_type": "markdown",
   "id": "a086e3fb",
   "metadata": {},
   "source": [
    "### 3.1.1. Check Missing Values"
   ]
  },
  {
   "cell_type": "code",
   "execution_count": 3,
   "id": "a3e7a12e",
   "metadata": {},
   "outputs": [
    {
     "name": "stdout",
     "output_type": "stream",
     "text": [
      "<class 'pandas.core.frame.DataFrame'>\n",
      "RangeIndex: 192 entries, 0 to 191\n",
      "Data columns (total 5 columns):\n",
      " #   Column             Non-Null Count  Dtype  \n",
      "---  ------             --------------  -----  \n",
      " 0   SOIL TYPE          192 non-null    object \n",
      " 1   REGION             192 non-null    object \n",
      " 2   TEMPERATURE        192 non-null    object \n",
      " 3   WEATHER CONDITION  192 non-null    object \n",
      " 4   WATER REQUIREMENT  192 non-null    float64\n",
      "dtypes: float64(1), object(4)\n",
      "memory usage: 7.6+ KB\n"
     ]
    }
   ],
   "source": [
    "data.info()"
   ]
  },
  {
   "cell_type": "markdown",
   "id": "1b59b570",
   "metadata": {},
   "source": [
    "### 3.1.2. Remove Missing Values (Listwise Deletion)"
   ]
  },
  {
   "cell_type": "code",
   "execution_count": 4,
   "id": "befd6a30",
   "metadata": {},
   "outputs": [],
   "source": [
    "# no NaN to remove\n",
    "# data.dropna(axis=0, inplace=True)"
   ]
  },
  {
   "cell_type": "markdown",
   "id": "3a2ea7d2",
   "metadata": {},
   "source": [
    "## 3.2. Handle Outliers"
   ]
  },
  {
   "cell_type": "markdown",
   "id": "60115f70",
   "metadata": {},
   "source": [
    "### 3.2.1. Check Outliers"
   ]
  },
  {
   "cell_type": "code",
   "execution_count": 5,
   "id": "59fc1023",
   "metadata": {},
   "outputs": [
    {
     "data": {
      "text/html": [
       "<div>\n",
       "<style scoped>\n",
       "    .dataframe tbody tr th:only-of-type {\n",
       "        vertical-align: middle;\n",
       "    }\n",
       "\n",
       "    .dataframe tbody tr th {\n",
       "        vertical-align: top;\n",
       "    }\n",
       "\n",
       "    .dataframe thead th {\n",
       "        text-align: right;\n",
       "    }\n",
       "</style>\n",
       "<table border=\"1\" class=\"dataframe\">\n",
       "  <thead>\n",
       "    <tr style=\"text-align: right;\">\n",
       "      <th></th>\n",
       "      <th>WATER REQUIREMENT</th>\n",
       "    </tr>\n",
       "  </thead>\n",
       "  <tbody>\n",
       "    <tr>\n",
       "      <th>count</th>\n",
       "      <td>192.000000</td>\n",
       "    </tr>\n",
       "    <tr>\n",
       "      <th>mean</th>\n",
       "      <td>7.820208</td>\n",
       "    </tr>\n",
       "    <tr>\n",
       "      <th>std</th>\n",
       "      <td>43.498118</td>\n",
       "    </tr>\n",
       "    <tr>\n",
       "      <th>min</th>\n",
       "      <td>0.100000</td>\n",
       "    </tr>\n",
       "    <tr>\n",
       "      <th>25%</th>\n",
       "      <td>1.360000</td>\n",
       "    </tr>\n",
       "    <tr>\n",
       "      <th>50%</th>\n",
       "      <td>5.380000</td>\n",
       "    </tr>\n",
       "    <tr>\n",
       "      <th>75%</th>\n",
       "      <td>7.030000</td>\n",
       "    </tr>\n",
       "    <tr>\n",
       "      <th>max</th>\n",
       "      <td>606.000000</td>\n",
       "    </tr>\n",
       "  </tbody>\n",
       "</table>\n",
       "</div>"
      ],
      "text/plain": [
       "       WATER REQUIREMENT\n",
       "count         192.000000\n",
       "mean            7.820208\n",
       "std            43.498118\n",
       "min             0.100000\n",
       "25%             1.360000\n",
       "50%             5.380000\n",
       "75%             7.030000\n",
       "max           606.000000"
      ]
     },
     "execution_count": 5,
     "metadata": {},
     "output_type": "execute_result"
    }
   ],
   "source": [
    "data.describe()"
   ]
  },
  {
   "cell_type": "markdown",
   "id": "6c5bce81",
   "metadata": {},
   "source": [
    "### 3.2.2. Remove Outliers"
   ]
  },
  {
   "cell_type": "code",
   "execution_count": 6,
   "id": "ba24b484",
   "metadata": {},
   "outputs": [],
   "source": [
    "_filter = data['WATER REQUIREMENT'] < 15\n",
    "data = data[_filter]"
   ]
  },
  {
   "cell_type": "markdown",
   "id": "4cae4259",
   "metadata": {},
   "source": [
    "# 4. Split Dataset into Training & Test Sets"
   ]
  },
  {
   "cell_type": "code",
   "execution_count": 7,
   "id": "d2762b24",
   "metadata": {},
   "outputs": [],
   "source": [
    "target_name = 'WATER REQUIREMENT'\n",
    "feature_name = list(data.columns.drop(target_name))"
   ]
  },
  {
   "cell_type": "code",
   "execution_count": 8,
   "id": "202583b5",
   "metadata": {},
   "outputs": [],
   "source": [
    "X = data[feature_name]\n",
    "y = data[target_name]"
   ]
  },
  {
   "cell_type": "code",
   "execution_count": 9,
   "id": "aac9a045",
   "metadata": {},
   "outputs": [],
   "source": [
    "X_train, X_test, y_train, y_test = train_test_split(X, y, test_size=0.20, shuffle=True)"
   ]
  },
  {
   "cell_type": "markdown",
   "id": "28fd8901",
   "metadata": {},
   "source": [
    "# 5. Data Preparation"
   ]
  },
  {
   "cell_type": "code",
   "execution_count": 10,
   "id": "355e318b",
   "metadata": {},
   "outputs": [],
   "source": [
    "numerical_feature = []\n",
    "categorical_feature = ['SOIL TYPE', 'REGION', 'TEMPERATURE', 'WEATHER CONDITION']"
   ]
  },
  {
   "cell_type": "code",
   "execution_count": 11,
   "id": "9d600ba9",
   "metadata": {},
   "outputs": [
    {
     "name": "stdout",
     "output_type": "stream",
     "text": [
      "SOIL TYPE : ['DRY' 'HUMID' 'WET']\n",
      "REGION : ['DESERT' 'HUMID' 'SEMI ARID' 'SEMI HUMID']\n",
      "TEMPERATURE : ['10-20' '20-30' '30-40' '40-50']\n",
      "WEATHER CONDITION : ['NORMAL' 'RAINY' 'SUNNY' 'WINDY']\n"
     ]
    }
   ],
   "source": [
    "for feature in categorical_feature:\n",
    "    print(feature, ':', np.unique(X_train[feature]))"
   ]
  },
  {
   "cell_type": "code",
   "execution_count": 12,
   "id": "fc9b67d4",
   "metadata": {},
   "outputs": [],
   "source": [
    "ordinal_feature = ['SOIL TYPE', 'REGION', 'TEMPERATURE']\n",
    "nominal_feature = ['WEATHER CONDITION']"
   ]
  },
  {
   "cell_type": "markdown",
   "id": "49ba1fec",
   "metadata": {},
   "source": [
    "## 5.1. Ordinal Encoding"
   ]
  },
  {
   "cell_type": "markdown",
   "id": "78d4f4e2",
   "metadata": {},
   "source": [
    "### 5.1.1. Training Set"
   ]
  },
  {
   "cell_type": "code",
   "execution_count": 13,
   "id": "fd2c26e7",
   "metadata": {},
   "outputs": [],
   "source": [
    "categories = [\n",
    "    np.array(['DRY', 'HUMID', 'WET'], dtype=object),\n",
    "    np.array(['DESERT', 'SEMI ARID', 'SEMI HUMID', 'HUMID'], dtype=object),\n",
    "    np.array(['10-20', '20-30', '30-40', '40-50'], dtype=object)\n",
    "]"
   ]
  },
  {
   "cell_type": "code",
   "execution_count": 14,
   "id": "9ef0a15a",
   "metadata": {},
   "outputs": [],
   "source": [
    "ordinal_encoder = OrdinalEncoder(categories=categories)\n",
    "X_train[ordinal_feature] = ordinal_encoder.fit_transform(X_train[ordinal_feature])"
   ]
  },
  {
   "cell_type": "markdown",
   "id": "984f9573",
   "metadata": {},
   "source": [
    "### 5.1.2. Test Set"
   ]
  },
  {
   "cell_type": "code",
   "execution_count": 15,
   "id": "93b526eb",
   "metadata": {},
   "outputs": [],
   "source": [
    "X_test[ordinal_feature] = ordinal_encoder.transform(X_test[ordinal_feature])"
   ]
  },
  {
   "cell_type": "markdown",
   "id": "66cb7d68",
   "metadata": {},
   "source": [
    "## 5.2. One Hot Encoding"
   ]
  },
  {
   "cell_type": "markdown",
   "id": "2fc98fd1",
   "metadata": {},
   "source": [
    "### 5.2.1. Training Set"
   ]
  },
  {
   "cell_type": "code",
   "execution_count": 16,
   "id": "a768474a",
   "metadata": {},
   "outputs": [
    {
     "data": {
      "text/plain": [
       "OneHotEncoder(handle_unknown='ignore', sparse=False)"
      ]
     },
     "execution_count": 16,
     "metadata": {},
     "output_type": "execute_result"
    }
   ],
   "source": [
    "one_hot_encoder = OneHotEncoder(sparse=False, handle_unknown='ignore')\n",
    "one_hot_encoder.fit(X_train[nominal_feature])"
   ]
  },
  {
   "cell_type": "code",
   "execution_count": 17,
   "id": "566294b1",
   "metadata": {},
   "outputs": [],
   "source": [
    "one_hot_feature = []\n",
    "for i, feature in enumerate(nominal_feature):\n",
    "    for cate in one_hot_encoder.categories_[i]:\n",
    "        one_hot_feature_name = str(feature) + '_' + str(cate)\n",
    "        one_hot_feature.append(one_hot_feature_name)"
   ]
  },
  {
   "cell_type": "code",
   "execution_count": 18,
   "id": "2ab774d5",
   "metadata": {},
   "outputs": [],
   "source": [
    "X_train[one_hot_feature] = one_hot_encoder.transform(X_train[nominal_feature])\n",
    "X_train.drop(nominal_feature, axis=1, inplace=True)"
   ]
  },
  {
   "cell_type": "markdown",
   "id": "124e5fd1",
   "metadata": {},
   "source": [
    "### 5.2.2. Test Set"
   ]
  },
  {
   "cell_type": "code",
   "execution_count": 19,
   "id": "8a4db1a5",
   "metadata": {},
   "outputs": [],
   "source": [
    "X_test[one_hot_feature] = one_hot_encoder.transform(X_test[nominal_feature])\n",
    "X_test.drop(nominal_feature, axis=1, inplace=True)"
   ]
  },
  {
   "cell_type": "markdown",
   "id": "ac95a8bd",
   "metadata": {},
   "source": [
    "# 6. Model Creation"
   ]
  },
  {
   "cell_type": "markdown",
   "id": "25a110cc",
   "metadata": {},
   "source": [
    "## 6.1. Setting Parameters"
   ]
  },
  {
   "cell_type": "code",
   "execution_count": 20,
   "id": "fd1486a3",
   "metadata": {},
   "outputs": [],
   "source": [
    "reg = LinearRegression()"
   ]
  },
  {
   "cell_type": "markdown",
   "id": "7207846b",
   "metadata": {},
   "source": [
    "## 6.2. Train Model"
   ]
  },
  {
   "cell_type": "code",
   "execution_count": 21,
   "id": "85cd3480",
   "metadata": {},
   "outputs": [
    {
     "data": {
      "text/plain": [
       "LinearRegression()"
      ]
     },
     "execution_count": 21,
     "metadata": {},
     "output_type": "execute_result"
    }
   ],
   "source": [
    "reg.fit(X_train, y_train)"
   ]
  },
  {
   "cell_type": "markdown",
   "id": "b1e218ac",
   "metadata": {},
   "source": [
    "## 6.3. Model's Weight & Bias"
   ]
  },
  {
   "cell_type": "code",
   "execution_count": 22,
   "id": "ab01c8e2",
   "metadata": {},
   "outputs": [
    {
     "data": {
      "text/plain": [
       "array([-0.97670881, -0.55256939,  0.80288061,  0.62126938, -4.32713053,\n",
       "        2.09719471,  1.60866644])"
      ]
     },
     "execution_count": 22,
     "metadata": {},
     "output_type": "execute_result"
    }
   ],
   "source": [
    "reg.coef_"
   ]
  },
  {
   "cell_type": "code",
   "execution_count": 23,
   "id": "3890d9b6",
   "metadata": {
    "scrolled": false
   },
   "outputs": [
    {
     "data": {
      "text/plain": [
       "5.3224867607108175"
      ]
     },
     "execution_count": 23,
     "metadata": {},
     "output_type": "execute_result"
    }
   ],
   "source": [
    "reg.intercept_"
   ]
  },
  {
   "cell_type": "markdown",
   "id": "7773add6",
   "metadata": {},
   "source": [
    "# 7. Prediction"
   ]
  },
  {
   "cell_type": "markdown",
   "id": "de81d999",
   "metadata": {},
   "source": [
    "## 7.1. Training Set"
   ]
  },
  {
   "cell_type": "code",
   "execution_count": 24,
   "id": "1bba38df",
   "metadata": {},
   "outputs": [],
   "source": [
    "y_pred_train = reg.predict(X_train)"
   ]
  },
  {
   "cell_type": "markdown",
   "id": "564e4218",
   "metadata": {},
   "source": [
    "## 7.2. Test Set"
   ]
  },
  {
   "cell_type": "code",
   "execution_count": 25,
   "id": "0cae11fd",
   "metadata": {},
   "outputs": [],
   "source": [
    "y_pred_test = reg.predict(X_test)"
   ]
  },
  {
   "cell_type": "markdown",
   "id": "89f353c1",
   "metadata": {},
   "source": [
    "# 8. Model Evaluation"
   ]
  },
  {
   "cell_type": "markdown",
   "id": "b1a69d56",
   "metadata": {},
   "source": [
    "## 8.1. Training Set"
   ]
  },
  {
   "cell_type": "markdown",
   "id": "032b92a2",
   "metadata": {},
   "source": [
    "### 8.1.1. Scoring"
   ]
  },
  {
   "cell_type": "code",
   "execution_count": 26,
   "id": "09b678ee",
   "metadata": {},
   "outputs": [
    {
     "name": "stdout",
     "output_type": "stream",
     "text": [
      "r2_score =\t\t\t 0.9483447469967474\n",
      "mean_squared_error =\t\t 0.4650100520010436\n",
      "mean_absolute_error =\t\t 0.4824414940988653\n",
      "mean_absolute_percentage_error = 1.4075525120788053\n"
     ]
    }
   ],
   "source": [
    "print('r2_score =\\t\\t\\t', r2_score(y_train, y_pred_train))\n",
    "print('mean_squared_error =\\t\\t', mean_squared_error(y_train, y_pred_train))\n",
    "print('mean_absolute_error =\\t\\t', mean_absolute_error(y_train, y_pred_train))\n",
    "print('mean_absolute_percentage_error =', mean_absolute_percentage_error(y_train, y_pred_train))"
   ]
  },
  {
   "cell_type": "markdown",
   "id": "7506de0d",
   "metadata": {},
   "source": [
    "### 8.1.2. Scatter Plot between Predicted & Actual Values"
   ]
  },
  {
   "cell_type": "code",
   "execution_count": 27,
   "id": "8fa5258d",
   "metadata": {},
   "outputs": [
    {
     "data": {
      "text/plain": [
       "Text(0, 0.5, 'Actual')"
      ]
     },
     "execution_count": 27,
     "metadata": {},
     "output_type": "execute_result"
    },
    {
     "data": {
      "image/png": "[encoded data removed]",
      "text/plain": [
       "<Figure size 432x288 with 1 Axes>"
      ]
     },
     "metadata": {
      "needs_background": "light"
     },
     "output_type": "display_data"
    }
   ],
   "source": [
    "plt.scatter(y_pred_train, y_train)\n",
    "\n",
    "plt.plot(y_pred_train, y_pred_train, color='red')\n",
    "\n",
    "plt.title('Scatter Plot between Predicted & Actual Values')\n",
    "plt.xlabel('Predicted')\n",
    "plt.ylabel('Actual')"
   ]
  },
  {
   "cell_type": "markdown",
   "id": "1a77d5e8",
   "metadata": {},
   "source": [
    "## 8.2. Test Set"
   ]
  },
  {
   "cell_type": "markdown",
   "id": "22e65b36",
   "metadata": {},
   "source": [
    "### 8.2.1. Scoring"
   ]
  },
  {
   "cell_type": "code",
   "execution_count": 28,
   "id": "c6533454",
   "metadata": {},
   "outputs": [
    {
     "name": "stdout",
     "output_type": "stream",
     "text": [
      "r2_score =\t\t\t 0.9537168939227257\n",
      "mean_squared_error =\t\t 0.38018870121009685\n",
      "mean_absolute_error =\t\t 0.43630252282893206\n",
      "mean_absolute_percentage_error = 1.0728912782287938\n"
     ]
    }
   ],
   "source": [
    "print('r2_score =\\t\\t\\t', r2_score(y_test, y_pred_test))\n",
    "print('mean_squared_error =\\t\\t', mean_squared_error(y_test, y_pred_test))\n",
    "print('mean_absolute_error =\\t\\t', mean_absolute_error(y_test, y_pred_test))\n",
    "print('mean_absolute_percentage_error =', mean_absolute_percentage_error(y_test, y_pred_test))"
   ]
  },
  {
   "cell_type": "markdown",
   "id": "ec755fc4",
   "metadata": {},
   "source": [
    "### 8.2.2. Scatter Plot between Predicted & Actual Values"
   ]
  },
  {
   "cell_type": "code",
   "execution_count": 29,
   "id": "8019e76c",
   "metadata": {
    "scrolled": true
   },
   "outputs": [
    {
     "data": {
      "text/plain": [
       "Text(0, 0.5, 'Actual')"
      ]
     },
     "execution_count": 29,
     "metadata": {},
     "output_type": "execute_result"
    },
    {
     "data": {
      "image/png": "[encoded data removed]",
      "text/plain": [
       "<Figure size 432x288 with 1 Axes>"
      ]
     },
     "metadata": {
      "needs_background": "light"
     },
     "output_type": "display_data"
    }
   ],
   "source": [
    "plt.scatter(y_pred_test, y_test)\n",
    "\n",
    "plt.plot(y_pred_test, y_pred_test, color='red')\n",
    "\n",
    "plt.title('Scatter Plot between Predicted & Actual Values')\n",
    "plt.xlabel('Predicted')\n",
    "plt.ylabel('Actual')"
   ]
  },
  {
   "cell_type": "markdown",
   "id": "0747ee18",
   "metadata": {},
   "source": [
    "# 9. Save Model"
   ]
  },
  {
   "cell_type": "code",
   "execution_count": 30,
   "id": "e0931392",
   "metadata": {},
   "outputs": [],
   "source": [
    "import pickle"
   ]
  },
  {
   "cell_type": "code",
   "execution_count": 31,
   "id": "26a60a32",
   "metadata": {},
   "outputs": [],
   "source": [
    "pickle.dump((reg, \n",
    "             ordinal_encoder, \n",
    "             one_hot_encoder, \n",
    "             feature_name, \n",
    "             numerical_feature, \n",
    "             ordinal_feature, \n",
    "             nominal_feature), \n",
    "            open('melon_model.pickle', 'wb'))"
   ]
  }
 ],
 "metadata": {
  "kernelspec": {
   "display_name": "Python 3",
   "language": "python",
   "name": "python3"
  },
  "language_info": {
   "codemirror_mode": {
    "name": "ipython",
    "version": 3
   },
   "file_extension": ".py",
   "mimetype": "text/x-python",
   "name": "python",
   "nbconvert_exporter": "python",
   "pygments_lexer": "ipython3",
   "version": "3.8.8"
  }
 },
 "nbformat": 4,
 "nbformat_minor": 5
}
