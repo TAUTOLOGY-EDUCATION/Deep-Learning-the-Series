{
 "cells": [
  {
   "cell_type": "markdown",
   "id": "254369d5",
   "metadata": {},
   "source": [
    "# 1. Import Libraries"
   ]
  },
  {
   "cell_type": "code",
   "execution_count": 1,
   "id": "15ee3b21",
   "metadata": {},
   "outputs": [],
   "source": [
    "import numpy as np\n",
    "import pandas as pd\n",
    "import matplotlib.pyplot as plt\n",
    "\n",
    "from sklearn.model_selection import train_test_split\n",
    "from sklearn.feature_extraction.text import CountVectorizer\n",
    "from sklearn.preprocessing import OrdinalEncoder, OneHotEncoder\n",
    "from sklearn.linear_model import LinearRegression\n",
    "from sklearn.metrics import r2_score, mean_squared_error, mean_absolute_error, mean_absolute_percentage_error\n",
    "\n",
    "import warnings\n",
    "warnings.filterwarnings('ignore')\n",
    "\n",
    "np.random.seed(12345)"
   ]
  },
  {
   "cell_type": "markdown",
   "id": "6dfa75aa",
   "metadata": {},
   "source": [
    "# 2. Read Data"
   ]
  },
  {
   "cell_type": "code",
   "execution_count": 2,
   "id": "1a392dd5",
   "metadata": {},
   "outputs": [
    {
     "data": {
      "text/html": [
       "<div>\n",
       "<style scoped>\n",
       "    .dataframe tbody tr th:only-of-type {\n",
       "        vertical-align: middle;\n",
       "    }\n",
       "\n",
       "    .dataframe tbody tr th {\n",
       "        vertical-align: top;\n",
       "    }\n",
       "\n",
       "    .dataframe thead th {\n",
       "        text-align: right;\n",
       "    }\n",
       "</style>\n",
       "<table border=\"1\" class=\"dataframe\">\n",
       "  <thead>\n",
       "    <tr style=\"text-align: right;\">\n",
       "      <th></th>\n",
       "      <th>name</th>\n",
       "      <th>year</th>\n",
       "      <th>selling_price</th>\n",
       "      <th>km_driven</th>\n",
       "      <th>fuel</th>\n",
       "      <th>seller_type</th>\n",
       "      <th>transmission</th>\n",
       "      <th>owner</th>\n",
       "    </tr>\n",
       "  </thead>\n",
       "  <tbody>\n",
       "    <tr>\n",
       "      <th>0</th>\n",
       "      <td>Maruti 800 AC</td>\n",
       "      <td>2007</td>\n",
       "      <td>60000</td>\n",
       "      <td>70000</td>\n",
       "      <td>Petrol</td>\n",
       "      <td>Individual</td>\n",
       "      <td>Manual</td>\n",
       "      <td>First Owner</td>\n",
       "    </tr>\n",
       "    <tr>\n",
       "      <th>1</th>\n",
       "      <td>Maruti Wagon R LXI Minor</td>\n",
       "      <td>2007</td>\n",
       "      <td>135000</td>\n",
       "      <td>50000</td>\n",
       "      <td>Petrol</td>\n",
       "      <td>Individual</td>\n",
       "      <td>Manual</td>\n",
       "      <td>First Owner</td>\n",
       "    </tr>\n",
       "    <tr>\n",
       "      <th>2</th>\n",
       "      <td>Hyundai Verna 1.6 SX</td>\n",
       "      <td>2012</td>\n",
       "      <td>600000</td>\n",
       "      <td>100000</td>\n",
       "      <td>Diesel</td>\n",
       "      <td>Individual</td>\n",
       "      <td>Manual</td>\n",
       "      <td>First Owner</td>\n",
       "    </tr>\n",
       "    <tr>\n",
       "      <th>3</th>\n",
       "      <td>Datsun RediGO T Option</td>\n",
       "      <td>2017</td>\n",
       "      <td>250000</td>\n",
       "      <td>46000</td>\n",
       "      <td>Petrol</td>\n",
       "      <td>Individual</td>\n",
       "      <td>Manual</td>\n",
       "      <td>First Owner</td>\n",
       "    </tr>\n",
       "    <tr>\n",
       "      <th>4</th>\n",
       "      <td>Honda Amaze VX i-DTEC</td>\n",
       "      <td>2014</td>\n",
       "      <td>450000</td>\n",
       "      <td>141000</td>\n",
       "      <td>Diesel</td>\n",
       "      <td>Individual</td>\n",
       "      <td>Manual</td>\n",
       "      <td>Second Owner</td>\n",
       "    </tr>\n",
       "    <tr>\n",
       "      <th>...</th>\n",
       "      <td>...</td>\n",
       "      <td>...</td>\n",
       "      <td>...</td>\n",
       "      <td>...</td>\n",
       "      <td>...</td>\n",
       "      <td>...</td>\n",
       "      <td>...</td>\n",
       "      <td>...</td>\n",
       "    </tr>\n",
       "    <tr>\n",
       "      <th>4335</th>\n",
       "      <td>Hyundai i20 Magna 1.4 CRDi (Diesel)</td>\n",
       "      <td>2014</td>\n",
       "      <td>409999</td>\n",
       "      <td>80000</td>\n",
       "      <td>Diesel</td>\n",
       "      <td>Individual</td>\n",
       "      <td>Manual</td>\n",
       "      <td>Second Owner</td>\n",
       "    </tr>\n",
       "    <tr>\n",
       "      <th>4336</th>\n",
       "      <td>Hyundai i20 Magna 1.4 CRDi</td>\n",
       "      <td>2014</td>\n",
       "      <td>409999</td>\n",
       "      <td>80000</td>\n",
       "      <td>Diesel</td>\n",
       "      <td>Individual</td>\n",
       "      <td>Manual</td>\n",
       "      <td>Second Owner</td>\n",
       "    </tr>\n",
       "    <tr>\n",
       "      <th>4337</th>\n",
       "      <td>Maruti 800 AC BSIII</td>\n",
       "      <td>2009</td>\n",
       "      <td>110000</td>\n",
       "      <td>83000</td>\n",
       "      <td>Petrol</td>\n",
       "      <td>Individual</td>\n",
       "      <td>Manual</td>\n",
       "      <td>Second Owner</td>\n",
       "    </tr>\n",
       "    <tr>\n",
       "      <th>4338</th>\n",
       "      <td>Hyundai Creta 1.6 CRDi SX Option</td>\n",
       "      <td>2016</td>\n",
       "      <td>865000</td>\n",
       "      <td>90000</td>\n",
       "      <td>Diesel</td>\n",
       "      <td>Individual</td>\n",
       "      <td>Manual</td>\n",
       "      <td>First Owner</td>\n",
       "    </tr>\n",
       "    <tr>\n",
       "      <th>4339</th>\n",
       "      <td>Renault KWID RXT</td>\n",
       "      <td>2016</td>\n",
       "      <td>225000</td>\n",
       "      <td>40000</td>\n",
       "      <td>Petrol</td>\n",
       "      <td>Individual</td>\n",
       "      <td>Manual</td>\n",
       "      <td>First Owner</td>\n",
       "    </tr>\n",
       "  </tbody>\n",
       "</table>\n",
       "<p>4340 rows × 8 columns</p>\n",
       "</div>"
      ],
      "text/plain": [
       "                                     name  year  selling_price  km_driven  \\\n",
       "0                           Maruti 800 AC  2007          60000      70000   \n",
       "1                Maruti Wagon R LXI Minor  2007         135000      50000   \n",
       "2                    Hyundai Verna 1.6 SX  2012         600000     100000   \n",
       "3                  Datsun RediGO T Option  2017         250000      46000   \n",
       "4                   Honda Amaze VX i-DTEC  2014         450000     141000   \n",
       "...                                   ...   ...            ...        ...   \n",
       "4335  Hyundai i20 Magna 1.4 CRDi (Diesel)  2014         409999      80000   \n",
       "4336           Hyundai i20 Magna 1.4 CRDi  2014         409999      80000   \n",
       "4337                  Maruti 800 AC BSIII  2009         110000      83000   \n",
       "4338     Hyundai Creta 1.6 CRDi SX Option  2016         865000      90000   \n",
       "4339                     Renault KWID RXT  2016         225000      40000   \n",
       "\n",
       "        fuel seller_type transmission         owner  \n",
       "0     Petrol  Individual       Manual   First Owner  \n",
       "1     Petrol  Individual       Manual   First Owner  \n",
       "2     Diesel  Individual       Manual   First Owner  \n",
       "3     Petrol  Individual       Manual   First Owner  \n",
       "4     Diesel  Individual       Manual  Second Owner  \n",
       "...      ...         ...          ...           ...  \n",
       "4335  Diesel  Individual       Manual  Second Owner  \n",
       "4336  Diesel  Individual       Manual  Second Owner  \n",
       "4337  Petrol  Individual       Manual  Second Owner  \n",
       "4338  Diesel  Individual       Manual   First Owner  \n",
       "4339  Petrol  Individual       Manual   First Owner  \n",
       "\n",
       "[4340 rows x 8 columns]"
      ]
     },
     "execution_count": 2,
     "metadata": {},
     "output_type": "execute_result"
    }
   ],
   "source": [
    "data = pd.read_csv('car_price_dataset.csv')\n",
    "\n",
    "data"
   ]
  },
  {
   "cell_type": "markdown",
   "id": "86e42f33",
   "metadata": {},
   "source": [
    "# 3. Clean Data"
   ]
  },
  {
   "cell_type": "markdown",
   "id": "a8e836c9",
   "metadata": {},
   "source": [
    "## 3.1. Handle Missing Values"
   ]
  },
  {
   "cell_type": "markdown",
   "id": "b605aa1e",
   "metadata": {},
   "source": [
    "### 3.1.1. Check Missing Values"
   ]
  },
  {
   "cell_type": "code",
   "execution_count": 3,
   "id": "fa55ce19",
   "metadata": {},
   "outputs": [
    {
     "name": "stdout",
     "output_type": "stream",
     "text": [
      "<class 'pandas.core.frame.DataFrame'>\n",
      "RangeIndex: 4340 entries, 0 to 4339\n",
      "Data columns (total 8 columns):\n",
      " #   Column         Non-Null Count  Dtype \n",
      "---  ------         --------------  ----- \n",
      " 0   name           4340 non-null   object\n",
      " 1   year           4340 non-null   int64 \n",
      " 2   selling_price  4340 non-null   int64 \n",
      " 3   km_driven      4340 non-null   int64 \n",
      " 4   fuel           4340 non-null   object\n",
      " 5   seller_type    4340 non-null   object\n",
      " 6   transmission   4340 non-null   object\n",
      " 7   owner          4340 non-null   object\n",
      "dtypes: int64(3), object(5)\n",
      "memory usage: 271.4+ KB\n"
     ]
    }
   ],
   "source": [
    "data.info()"
   ]
  },
  {
   "cell_type": "markdown",
   "id": "d5f8d044",
   "metadata": {},
   "source": [
    "### 3.1.2. Remove Missing Values"
   ]
  },
  {
   "cell_type": "code",
   "execution_count": 4,
   "id": "574e4016",
   "metadata": {},
   "outputs": [],
   "source": [
    "# no NaN to remove\n",
    "# data.dropna(axis=0, inplace=True)"
   ]
  },
  {
   "cell_type": "markdown",
   "id": "80c7ad44",
   "metadata": {},
   "source": [
    "## 3.2. Handle Outliers"
   ]
  },
  {
   "cell_type": "markdown",
   "id": "757ef138",
   "metadata": {},
   "source": [
    "### 3.2.1. Check Outliers"
   ]
  },
  {
   "cell_type": "code",
   "execution_count": 5,
   "id": "edf9cc3c",
   "metadata": {},
   "outputs": [
    {
     "data": {
      "text/html": [
       "<div>\n",
       "<style scoped>\n",
       "    .dataframe tbody tr th:only-of-type {\n",
       "        vertical-align: middle;\n",
       "    }\n",
       "\n",
       "    .dataframe tbody tr th {\n",
       "        vertical-align: top;\n",
       "    }\n",
       "\n",
       "    .dataframe thead th {\n",
       "        text-align: right;\n",
       "    }\n",
       "</style>\n",
       "<table border=\"1\" class=\"dataframe\">\n",
       "  <thead>\n",
       "    <tr style=\"text-align: right;\">\n",
       "      <th></th>\n",
       "      <th>year</th>\n",
       "      <th>selling_price</th>\n",
       "      <th>km_driven</th>\n",
       "    </tr>\n",
       "  </thead>\n",
       "  <tbody>\n",
       "    <tr>\n",
       "      <th>count</th>\n",
       "      <td>4340.000000</td>\n",
       "      <td>4.340000e+03</td>\n",
       "      <td>4340.000000</td>\n",
       "    </tr>\n",
       "    <tr>\n",
       "      <th>mean</th>\n",
       "      <td>2013.090783</td>\n",
       "      <td>5.041273e+05</td>\n",
       "      <td>66215.777419</td>\n",
       "    </tr>\n",
       "    <tr>\n",
       "      <th>std</th>\n",
       "      <td>4.215344</td>\n",
       "      <td>5.785487e+05</td>\n",
       "      <td>46644.102194</td>\n",
       "    </tr>\n",
       "    <tr>\n",
       "      <th>min</th>\n",
       "      <td>1992.000000</td>\n",
       "      <td>2.000000e+04</td>\n",
       "      <td>1.000000</td>\n",
       "    </tr>\n",
       "    <tr>\n",
       "      <th>25%</th>\n",
       "      <td>2011.000000</td>\n",
       "      <td>2.087498e+05</td>\n",
       "      <td>35000.000000</td>\n",
       "    </tr>\n",
       "    <tr>\n",
       "      <th>50%</th>\n",
       "      <td>2014.000000</td>\n",
       "      <td>3.500000e+05</td>\n",
       "      <td>60000.000000</td>\n",
       "    </tr>\n",
       "    <tr>\n",
       "      <th>75%</th>\n",
       "      <td>2016.000000</td>\n",
       "      <td>6.000000e+05</td>\n",
       "      <td>90000.000000</td>\n",
       "    </tr>\n",
       "    <tr>\n",
       "      <th>max</th>\n",
       "      <td>2020.000000</td>\n",
       "      <td>8.900000e+06</td>\n",
       "      <td>806599.000000</td>\n",
       "    </tr>\n",
       "  </tbody>\n",
       "</table>\n",
       "</div>"
      ],
      "text/plain": [
       "              year  selling_price      km_driven\n",
       "count  4340.000000   4.340000e+03    4340.000000\n",
       "mean   2013.090783   5.041273e+05   66215.777419\n",
       "std       4.215344   5.785487e+05   46644.102194\n",
       "min    1992.000000   2.000000e+04       1.000000\n",
       "25%    2011.000000   2.087498e+05   35000.000000\n",
       "50%    2014.000000   3.500000e+05   60000.000000\n",
       "75%    2016.000000   6.000000e+05   90000.000000\n",
       "max    2020.000000   8.900000e+06  806599.000000"
      ]
     },
     "execution_count": 5,
     "metadata": {},
     "output_type": "execute_result"
    }
   ],
   "source": [
    "data.describe()"
   ]
  },
  {
   "cell_type": "markdown",
   "id": "8382848b",
   "metadata": {},
   "source": [
    "### 3.2.2. Remove Outliers"
   ]
  },
  {
   "cell_type": "code",
   "execution_count": 6,
   "id": "890dfda9",
   "metadata": {},
   "outputs": [],
   "source": [
    "# no outlier to remove"
   ]
  },
  {
   "cell_type": "markdown",
   "id": "b099bde8",
   "metadata": {},
   "source": [
    "# 4. Split Dataset into Training & Test Sets"
   ]
  },
  {
   "cell_type": "code",
   "execution_count": 7,
   "id": "c87a6bb1",
   "metadata": {},
   "outputs": [],
   "source": [
    "target_name = 'selling_price'\n",
    "feature_name = list(data.columns.drop(target_name))"
   ]
  },
  {
   "cell_type": "code",
   "execution_count": 8,
   "id": "767b5284",
   "metadata": {},
   "outputs": [],
   "source": [
    "X = data[feature_name]\n",
    "y = data[target_name]"
   ]
  },
  {
   "cell_type": "code",
   "execution_count": 9,
   "id": "5b34fc7e",
   "metadata": {},
   "outputs": [],
   "source": [
    "X_train, X_test, y_train, y_test = train_test_split(X, y, test_size=0.20, shuffle=True)"
   ]
  },
  {
   "cell_type": "markdown",
   "id": "b08643a0",
   "metadata": {},
   "source": [
    "# 5. Data Preparation"
   ]
  },
  {
   "cell_type": "markdown",
   "id": "3b7f96de",
   "metadata": {},
   "source": [
    "## 5.1. Count Vectorization"
   ]
  },
  {
   "cell_type": "markdown",
   "id": "d6ec84f3",
   "metadata": {},
   "source": [
    "### 5.1.1. Training Set"
   ]
  },
  {
   "cell_type": "code",
   "execution_count": 10,
   "id": "51ae20f4",
   "metadata": {},
   "outputs": [],
   "source": [
    "corpus_train = X_train['name'].tolist()\n",
    "vectorizer = CountVectorizer()\n",
    "vectorizer.fit(corpus_train)\n",
    "cnt_vec_train = vectorizer.transform(corpus_train).toarray()"
   ]
  },
  {
   "cell_type": "code",
   "execution_count": 11,
   "id": "a8a9183c",
   "metadata": {},
   "outputs": [],
   "source": [
    "cnt_vec_feature_name = ['con_' + feature for feature in vectorizer.get_feature_names()]"
   ]
  },
  {
   "cell_type": "code",
   "execution_count": 12,
   "id": "64128abb",
   "metadata": {},
   "outputs": [],
   "source": [
    "X_train[cnt_vec_feature_name] = cnt_vec_train\n",
    "X_train.drop('name', axis=1, inplace=True)"
   ]
  },
  {
   "cell_type": "code",
   "execution_count": 13,
   "id": "149626df",
   "metadata": {},
   "outputs": [
    {
     "data": {
      "text/html": [
       "<div>\n",
       "<style scoped>\n",
       "    .dataframe tbody tr th:only-of-type {\n",
       "        vertical-align: middle;\n",
       "    }\n",
       "\n",
       "    .dataframe tbody tr th {\n",
       "        vertical-align: top;\n",
       "    }\n",
       "\n",
       "    .dataframe thead th {\n",
       "        text-align: right;\n",
       "    }\n",
       "</style>\n",
       "<table border=\"1\" class=\"dataframe\">\n",
       "  <thead>\n",
       "    <tr style=\"text-align: right;\">\n",
       "      <th></th>\n",
       "      <th>con_05</th>\n",
       "      <th>con_0l</th>\n",
       "      <th>con_10</th>\n",
       "      <th>con_100</th>\n",
       "      <th>con_110</th>\n",
       "      <th>con_110ps</th>\n",
       "      <th>con_116</th>\n",
       "      <th>con_140</th>\n",
       "      <th>con_1500</th>\n",
       "      <th>con_16</th>\n",
       "      <th>...</th>\n",
       "      <th>con_xza</th>\n",
       "      <th>con_yaris</th>\n",
       "      <th>con_zdi</th>\n",
       "      <th>con_zen</th>\n",
       "      <th>con_zest</th>\n",
       "      <th>con_zeta</th>\n",
       "      <th>con_zipplus</th>\n",
       "      <th>con_zlx</th>\n",
       "      <th>con_zx</th>\n",
       "      <th>con_zxi</th>\n",
       "    </tr>\n",
       "  </thead>\n",
       "  <tbody>\n",
       "    <tr>\n",
       "      <th>2589</th>\n",
       "      <td>0</td>\n",
       "      <td>0</td>\n",
       "      <td>0</td>\n",
       "      <td>0</td>\n",
       "      <td>0</td>\n",
       "      <td>0</td>\n",
       "      <td>0</td>\n",
       "      <td>0</td>\n",
       "      <td>0</td>\n",
       "      <td>0</td>\n",
       "      <td>...</td>\n",
       "      <td>0</td>\n",
       "      <td>0</td>\n",
       "      <td>0</td>\n",
       "      <td>0</td>\n",
       "      <td>0</td>\n",
       "      <td>0</td>\n",
       "      <td>0</td>\n",
       "      <td>0</td>\n",
       "      <td>0</td>\n",
       "      <td>0</td>\n",
       "    </tr>\n",
       "    <tr>\n",
       "      <th>1701</th>\n",
       "      <td>0</td>\n",
       "      <td>0</td>\n",
       "      <td>0</td>\n",
       "      <td>0</td>\n",
       "      <td>0</td>\n",
       "      <td>0</td>\n",
       "      <td>0</td>\n",
       "      <td>0</td>\n",
       "      <td>0</td>\n",
       "      <td>0</td>\n",
       "      <td>...</td>\n",
       "      <td>0</td>\n",
       "      <td>0</td>\n",
       "      <td>0</td>\n",
       "      <td>0</td>\n",
       "      <td>0</td>\n",
       "      <td>0</td>\n",
       "      <td>0</td>\n",
       "      <td>0</td>\n",
       "      <td>0</td>\n",
       "      <td>0</td>\n",
       "    </tr>\n",
       "    <tr>\n",
       "      <th>3025</th>\n",
       "      <td>0</td>\n",
       "      <td>0</td>\n",
       "      <td>0</td>\n",
       "      <td>0</td>\n",
       "      <td>0</td>\n",
       "      <td>0</td>\n",
       "      <td>0</td>\n",
       "      <td>0</td>\n",
       "      <td>0</td>\n",
       "      <td>0</td>\n",
       "      <td>...</td>\n",
       "      <td>0</td>\n",
       "      <td>0</td>\n",
       "      <td>0</td>\n",
       "      <td>0</td>\n",
       "      <td>0</td>\n",
       "      <td>0</td>\n",
       "      <td>0</td>\n",
       "      <td>0</td>\n",
       "      <td>0</td>\n",
       "      <td>0</td>\n",
       "    </tr>\n",
       "    <tr>\n",
       "      <th>2104</th>\n",
       "      <td>0</td>\n",
       "      <td>0</td>\n",
       "      <td>0</td>\n",
       "      <td>0</td>\n",
       "      <td>0</td>\n",
       "      <td>0</td>\n",
       "      <td>0</td>\n",
       "      <td>0</td>\n",
       "      <td>0</td>\n",
       "      <td>0</td>\n",
       "      <td>...</td>\n",
       "      <td>0</td>\n",
       "      <td>0</td>\n",
       "      <td>0</td>\n",
       "      <td>0</td>\n",
       "      <td>0</td>\n",
       "      <td>0</td>\n",
       "      <td>0</td>\n",
       "      <td>0</td>\n",
       "      <td>0</td>\n",
       "      <td>0</td>\n",
       "    </tr>\n",
       "    <tr>\n",
       "      <th>3398</th>\n",
       "      <td>0</td>\n",
       "      <td>0</td>\n",
       "      <td>0</td>\n",
       "      <td>1</td>\n",
       "      <td>0</td>\n",
       "      <td>0</td>\n",
       "      <td>0</td>\n",
       "      <td>0</td>\n",
       "      <td>0</td>\n",
       "      <td>0</td>\n",
       "      <td>...</td>\n",
       "      <td>0</td>\n",
       "      <td>0</td>\n",
       "      <td>0</td>\n",
       "      <td>0</td>\n",
       "      <td>0</td>\n",
       "      <td>0</td>\n",
       "      <td>0</td>\n",
       "      <td>0</td>\n",
       "      <td>0</td>\n",
       "      <td>0</td>\n",
       "    </tr>\n",
       "    <tr>\n",
       "      <th>...</th>\n",
       "      <td>...</td>\n",
       "      <td>...</td>\n",
       "      <td>...</td>\n",
       "      <td>...</td>\n",
       "      <td>...</td>\n",
       "      <td>...</td>\n",
       "      <td>...</td>\n",
       "      <td>...</td>\n",
       "      <td>...</td>\n",
       "      <td>...</td>\n",
       "      <td>...</td>\n",
       "      <td>...</td>\n",
       "      <td>...</td>\n",
       "      <td>...</td>\n",
       "      <td>...</td>\n",
       "      <td>...</td>\n",
       "      <td>...</td>\n",
       "      <td>...</td>\n",
       "      <td>...</td>\n",
       "      <td>...</td>\n",
       "      <td>...</td>\n",
       "    </tr>\n",
       "    <tr>\n",
       "      <th>4094</th>\n",
       "      <td>0</td>\n",
       "      <td>0</td>\n",
       "      <td>0</td>\n",
       "      <td>0</td>\n",
       "      <td>0</td>\n",
       "      <td>0</td>\n",
       "      <td>0</td>\n",
       "      <td>0</td>\n",
       "      <td>0</td>\n",
       "      <td>0</td>\n",
       "      <td>...</td>\n",
       "      <td>0</td>\n",
       "      <td>0</td>\n",
       "      <td>0</td>\n",
       "      <td>0</td>\n",
       "      <td>0</td>\n",
       "      <td>0</td>\n",
       "      <td>0</td>\n",
       "      <td>0</td>\n",
       "      <td>0</td>\n",
       "      <td>0</td>\n",
       "    </tr>\n",
       "    <tr>\n",
       "      <th>3497</th>\n",
       "      <td>0</td>\n",
       "      <td>0</td>\n",
       "      <td>0</td>\n",
       "      <td>0</td>\n",
       "      <td>0</td>\n",
       "      <td>0</td>\n",
       "      <td>0</td>\n",
       "      <td>0</td>\n",
       "      <td>0</td>\n",
       "      <td>0</td>\n",
       "      <td>...</td>\n",
       "      <td>0</td>\n",
       "      <td>0</td>\n",
       "      <td>0</td>\n",
       "      <td>0</td>\n",
       "      <td>0</td>\n",
       "      <td>0</td>\n",
       "      <td>0</td>\n",
       "      <td>0</td>\n",
       "      <td>0</td>\n",
       "      <td>0</td>\n",
       "    </tr>\n",
       "    <tr>\n",
       "      <th>3492</th>\n",
       "      <td>0</td>\n",
       "      <td>0</td>\n",
       "      <td>0</td>\n",
       "      <td>0</td>\n",
       "      <td>0</td>\n",
       "      <td>0</td>\n",
       "      <td>0</td>\n",
       "      <td>0</td>\n",
       "      <td>0</td>\n",
       "      <td>0</td>\n",
       "      <td>...</td>\n",
       "      <td>0</td>\n",
       "      <td>0</td>\n",
       "      <td>0</td>\n",
       "      <td>0</td>\n",
       "      <td>0</td>\n",
       "      <td>0</td>\n",
       "      <td>0</td>\n",
       "      <td>0</td>\n",
       "      <td>0</td>\n",
       "      <td>0</td>\n",
       "    </tr>\n",
       "    <tr>\n",
       "      <th>2177</th>\n",
       "      <td>0</td>\n",
       "      <td>0</td>\n",
       "      <td>0</td>\n",
       "      <td>0</td>\n",
       "      <td>0</td>\n",
       "      <td>0</td>\n",
       "      <td>0</td>\n",
       "      <td>0</td>\n",
       "      <td>0</td>\n",
       "      <td>0</td>\n",
       "      <td>...</td>\n",
       "      <td>0</td>\n",
       "      <td>0</td>\n",
       "      <td>0</td>\n",
       "      <td>0</td>\n",
       "      <td>0</td>\n",
       "      <td>0</td>\n",
       "      <td>0</td>\n",
       "      <td>0</td>\n",
       "      <td>0</td>\n",
       "      <td>0</td>\n",
       "    </tr>\n",
       "    <tr>\n",
       "      <th>3557</th>\n",
       "      <td>0</td>\n",
       "      <td>0</td>\n",
       "      <td>0</td>\n",
       "      <td>0</td>\n",
       "      <td>0</td>\n",
       "      <td>0</td>\n",
       "      <td>0</td>\n",
       "      <td>0</td>\n",
       "      <td>0</td>\n",
       "      <td>0</td>\n",
       "      <td>...</td>\n",
       "      <td>0</td>\n",
       "      <td>0</td>\n",
       "      <td>0</td>\n",
       "      <td>0</td>\n",
       "      <td>0</td>\n",
       "      <td>0</td>\n",
       "      <td>0</td>\n",
       "      <td>0</td>\n",
       "      <td>0</td>\n",
       "      <td>0</td>\n",
       "    </tr>\n",
       "  </tbody>\n",
       "</table>\n",
       "<p>3472 rows × 661 columns</p>\n",
       "</div>"
      ],
      "text/plain": [
       "      con_05  con_0l  con_10  con_100  con_110  con_110ps  con_116  con_140  \\\n",
       "2589       0       0       0        0        0          0        0        0   \n",
       "1701       0       0       0        0        0          0        0        0   \n",
       "3025       0       0       0        0        0          0        0        0   \n",
       "2104       0       0       0        0        0          0        0        0   \n",
       "3398       0       0       0        1        0          0        0        0   \n",
       "...      ...     ...     ...      ...      ...        ...      ...      ...   \n",
       "4094       0       0       0        0        0          0        0        0   \n",
       "3497       0       0       0        0        0          0        0        0   \n",
       "3492       0       0       0        0        0          0        0        0   \n",
       "2177       0       0       0        0        0          0        0        0   \n",
       "3557       0       0       0        0        0          0        0        0   \n",
       "\n",
       "      con_1500  con_16  ...  con_xza  con_yaris  con_zdi  con_zen  con_zest  \\\n",
       "2589         0       0  ...        0          0        0        0         0   \n",
       "1701         0       0  ...        0          0        0        0         0   \n",
       "3025         0       0  ...        0          0        0        0         0   \n",
       "2104         0       0  ...        0          0        0        0         0   \n",
       "3398         0       0  ...        0          0        0        0         0   \n",
       "...        ...     ...  ...      ...        ...      ...      ...       ...   \n",
       "4094         0       0  ...        0          0        0        0         0   \n",
       "3497         0       0  ...        0          0        0        0         0   \n",
       "3492         0       0  ...        0          0        0        0         0   \n",
       "2177         0       0  ...        0          0        0        0         0   \n",
       "3557         0       0  ...        0          0        0        0         0   \n",
       "\n",
       "      con_zeta  con_zipplus  con_zlx  con_zx  con_zxi  \n",
       "2589         0            0        0       0        0  \n",
       "1701         0            0        0       0        0  \n",
       "3025         0            0        0       0        0  \n",
       "2104         0            0        0       0        0  \n",
       "3398         0            0        0       0        0  \n",
       "...        ...          ...      ...     ...      ...  \n",
       "4094         0            0        0       0        0  \n",
       "3497         0            0        0       0        0  \n",
       "3492         0            0        0       0        0  \n",
       "2177         0            0        0       0        0  \n",
       "3557         0            0        0       0        0  \n",
       "\n",
       "[3472 rows x 661 columns]"
      ]
     },
     "execution_count": 13,
     "metadata": {},
     "output_type": "execute_result"
    }
   ],
   "source": [
    "X_train[cnt_vec_feature_name]"
   ]
  },
  {
   "cell_type": "markdown",
   "id": "55f4f2d2",
   "metadata": {},
   "source": [
    "### 5.1.2. Test Set"
   ]
  },
  {
   "cell_type": "code",
   "execution_count": 14,
   "id": "38323897",
   "metadata": {},
   "outputs": [],
   "source": [
    "corpus_test = X_test['name'].tolist()\n",
    "cnt_vec_test = vectorizer.transform(corpus_test).toarray()"
   ]
  },
  {
   "cell_type": "code",
   "execution_count": 15,
   "id": "9c6dfc0b",
   "metadata": {},
   "outputs": [],
   "source": [
    "X_test[cnt_vec_feature_name] = cnt_vec_test\n",
    "X_test.drop('name', axis=1, inplace=True)"
   ]
  },
  {
   "cell_type": "markdown",
   "id": "6b3f3c27",
   "metadata": {},
   "source": [
    "## ===== Ordinal Encoding & One Hot Encoding ====="
   ]
  },
  {
   "cell_type": "code",
   "execution_count": 16,
   "id": "f18762c2",
   "metadata": {},
   "outputs": [],
   "source": [
    "numerical_feature = ['year', 'km_driven']\n",
    "categorical_feature = ['fuel', 'seller_type', 'transmission', 'owner']\n",
    "numerical_feature.extend(cnt_vec_feature_name)"
   ]
  },
  {
   "cell_type": "code",
   "execution_count": 17,
   "id": "9a3c625f",
   "metadata": {},
   "outputs": [
    {
     "name": "stdout",
     "output_type": "stream",
     "text": [
      "fuel : ['CNG' 'Diesel' 'Electric' 'LPG' 'Petrol']\n",
      "seller_type : ['Dealer' 'Individual' 'Trustmark Dealer']\n",
      "transmission : ['Automatic' 'Manual']\n",
      "owner : ['First Owner' 'Fourth & Above Owner' 'Second Owner' 'Test Drive Car'\n",
      " 'Third Owner']\n"
     ]
    }
   ],
   "source": [
    "for feature in categorical_feature:\n",
    "    print(feature, ':', np.unique(X_train[feature]))"
   ]
  },
  {
   "cell_type": "code",
   "execution_count": 18,
   "id": "062ff270",
   "metadata": {},
   "outputs": [],
   "source": [
    "ordinal_feature = []\n",
    "nominal_feature = list(categorical_feature)"
   ]
  },
  {
   "cell_type": "markdown",
   "id": "76d7dafc",
   "metadata": {},
   "source": [
    "## ## 5.2. Ordinal Encoding"
   ]
  },
  {
   "cell_type": "markdown",
   "id": "fe9c2d7d",
   "metadata": {},
   "source": [
    "## 5.3. One Hot Encoding"
   ]
  },
  {
   "cell_type": "markdown",
   "id": "38a5fd33",
   "metadata": {},
   "source": [
    "### 5.3.1. Training Set"
   ]
  },
  {
   "cell_type": "code",
   "execution_count": 19,
   "id": "af66023d",
   "metadata": {},
   "outputs": [
    {
     "data": {
      "text/plain": [
       "OneHotEncoder(handle_unknown='ignore', sparse=False)"
      ]
     },
     "execution_count": 19,
     "metadata": {},
     "output_type": "execute_result"
    }
   ],
   "source": [
    "one_hot_encoder = OneHotEncoder(sparse=False, handle_unknown='ignore')\n",
    "one_hot_encoder.fit(X_train[nominal_feature])"
   ]
  },
  {
   "cell_type": "code",
   "execution_count": 20,
   "id": "200ec320",
   "metadata": {},
   "outputs": [],
   "source": [
    "one_hot_feature = []\n",
    "for i, feature in enumerate(nominal_feature):\n",
    "    for cate in one_hot_encoder.categories_[i]:\n",
    "        one_hot_feature_name = str(feature) + '_' + str(cate)\n",
    "        one_hot_feature.append(one_hot_feature_name)"
   ]
  },
  {
   "cell_type": "code",
   "execution_count": 21,
   "id": "8fffbfed",
   "metadata": {},
   "outputs": [],
   "source": [
    "X_train[one_hot_feature] = one_hot_encoder.transform(X_train[nominal_feature])\n",
    "X_train.drop(nominal_feature, axis=1, inplace=True)"
   ]
  },
  {
   "cell_type": "markdown",
   "id": "cac949b7",
   "metadata": {},
   "source": [
    "### 5.3.2. Test Set"
   ]
  },
  {
   "cell_type": "code",
   "execution_count": 22,
   "id": "deebe96d",
   "metadata": {},
   "outputs": [],
   "source": [
    "X_test[one_hot_feature] = one_hot_encoder.transform(X_test[nominal_feature])\n",
    "X_test.drop(nominal_feature, axis=1, inplace=True)"
   ]
  },
  {
   "cell_type": "markdown",
   "id": "7cb412c6",
   "metadata": {},
   "source": [
    "# 6. Model Creation"
   ]
  },
  {
   "cell_type": "code",
   "execution_count": 23,
   "id": "d89261c9",
   "metadata": {},
   "outputs": [
    {
     "data": {
      "text/plain": [
       "LinearRegression()"
      ]
     },
     "execution_count": 23,
     "metadata": {},
     "output_type": "execute_result"
    }
   ],
   "source": [
    "reg = LinearRegression()\n",
    "reg.fit(X_train, y_train)"
   ]
  },
  {
   "cell_type": "code",
   "execution_count": 24,
   "id": "0de3eb20",
   "metadata": {},
   "outputs": [
    {
     "data": {
      "text/plain": [
       "-2719966334819.888"
      ]
     },
     "execution_count": 24,
     "metadata": {},
     "output_type": "execute_result"
    }
   ],
   "source": [
    "reg.intercept_"
   ]
  },
  {
   "cell_type": "code",
   "execution_count": 25,
   "id": "82354698",
   "metadata": {},
   "outputs": [
    {
     "data": {
      "text/plain": [
       "array([ 3.37810391e+04, -6.63823755e-01, -1.50353047e+05, -2.75580176e+05,\n",
       "        2.76477693e+04, -9.62338208e+11, -1.73063499e+05,  5.99492100e+04,\n",
       "        3.76872177e+11,  9.88270428e+11,  1.05605413e+12, -4.03914411e+11,\n",
       "       -1.17924287e+12, -7.05205167e+04,  3.06559581e+11, -7.63629253e+11,\n",
       "        7.85920011e+10,  1.12432499e+12, -7.85920043e+10, -1.12432489e+12,\n",
       "        7.67052429e+11,  3.00237230e+11, -7.67052440e+11,  7.85919689e+10,\n",
       "       -7.85920531e+10,  3.01420159e+11,  3.06559112e+11,  1.39653514e+11,\n",
       "        3.06557503e+11,  3.06558204e+11, -2.26690212e+11, -7.17805447e+04,\n",
       "       -2.28215866e+04,  4.16496898e+04,  3.22686062e+05, -6.28743190e+05,\n",
       "        1.67788185e+11,  1.32672999e+11,  1.54467278e+05, -3.72808274e+05,\n",
       "       -3.02734919e+05,  3.06559596e+11,  6.93857819e+10,  6.34887814e+04,\n",
       "       -4.18094122e+10, -4.35294169e+04, -1.23713932e+05, -1.17615992e+11,\n",
       "        4.12444026e+05,  2.25956900e+05,  1.39256100e+05, -8.68979275e+10,\n",
       "        1.47903732e+06,  9.62151805e+10,  1.74054692e+11,  8.73169131e+10,\n",
       "       -3.01461370e+04, -1.19206538e+06,  9.92502529e+04,  2.19539592e+04,\n",
       "        1.14004155e+05,  9.42562026e+10, -1.94344615e+04,  8.73169723e+10,\n",
       "        3.67399050e+10, -1.67485154e+05, -2.43936176e+05,  2.77099134e+04,\n",
       "        2.05721781e+05, -5.89928888e+10,  1.20833498e+04,  3.76487670e+04,\n",
       "        7.96666337e+04,  7.28002666e+10,  2.22824108e+11,  7.27992709e+10,\n",
       "        7.28007533e+10, -9.27861487e+03, -1.95396584e+02,  1.69433758e+11,\n",
       "       -5.00062801e+05,  3.78463998e+04, -5.35211643e+10, -2.64714622e+05,\n",
       "        5.22187168e+03, -2.75168692e+10,  4.03914379e+11,  1.63491654e+05,\n",
       "       -5.35209018e+10, -2.42930107e+05,  1.25470148e+11, -6.16256874e+10,\n",
       "       -7.25143214e+05, -1.52913020e+11,  1.52842086e+05,  1.60511289e+05,\n",
       "       -6.28325798e+04, -1.20467526e+10, -2.56713407e+05,  2.26689975e+11,\n",
       "        4.97344267e+04,  6.23000624e+10,  3.36576772e+04,  4.15053384e+04,\n",
       "       -1.57507750e+05, -7.27990028e+10, -4.60494932e+04,  1.12915736e+05,\n",
       "       -1.48426531e+05, -2.92130703e+05,  2.18516455e+05, -1.18363208e+11,\n",
       "       -1.53819958e+04, -6.16143041e+10, -5.79028765e+04,  4.95648456e+04,\n",
       "       -5.34263319e+04,  3.06556915e+11,  1.44708349e+05,  1.53509153e+05,\n",
       "        9.49645457e+04, -1.76554665e+05,  6.60395907e+04,  6.82677337e+04,\n",
       "       -1.18363359e+11, -1.10734540e+11,  1.17924170e+12,  4.93748189e+09,\n",
       "       -8.22174033e+10, -6.16274925e+10,  1.25470111e+11, -3.93748338e+05,\n",
       "        3.82978220e+10, -8.00898316e+05, -3.69162169e+05, -1.10741505e+11,\n",
       "       -4.35782895e+04,  2.41730496e+04,  3.39921747e+04,  4.68034408e+04,\n",
       "       -1.90539822e+10, -1.90540371e+10, -1.90540190e+10, -4.55272837e+11,\n",
       "       -1.18362917e+11, -6.61404023e+10,  2.05546113e+10, -1.53882438e+06,\n",
       "        7.38472074e+04, -3.36954590e+05, -2.83676044e+06,  1.18363143e+11,\n",
       "       -8.49362619e+04, -5.65375277e+05, -6.46394549e+05,  8.68975225e+10,\n",
       "        5.10704618e+10, -1.33146215e+11, -4.99617849e+05, -1.06397078e+05,\n",
       "        6.68919911e+10,  1.55796269e+05, -9.27266865e+04,  2.46407947e+05,\n",
       "        6.16272030e+10,  2.37178092e+11, -4.01752052e+11,  1.19806978e+04,\n",
       "       -1.25730078e+05, -3.00978640e+04,  1.27050969e+05, -3.85885882e+04,\n",
       "        1.69433988e+11, -7.55072379e+03, -1.20465865e+10, -1.18363178e+11,\n",
       "        5.32694685e+05,  1.81755893e+03, -1.51246611e+05,  2.20436807e+04,\n",
       "       -1.75192284e+10, -1.42463371e+10, -1.75192280e+10, -3.09486546e+05,\n",
       "       -1.12887372e+05, -1.04028369e+10, -1.75192246e+10,  1.57197182e+11,\n",
       "       -5.19380883e+10, -1.66251081e+11,  1.80742586e+10,  3.73001204e+04,\n",
       "        4.21473205e+03,  5.95368426e+04,  4.99797952e+10,  7.72898276e+05,\n",
       "        3.11407018e+04, -7.51140266e+04, -4.04699982e+04, -3.99266931e+10,\n",
       "        5.25808517e+03,  6.40316666e+04,  4.46007535e+04, -8.31391986e+04,\n",
       "       -9.03140663e+11,  9.16542788e+11,  3.29512186e+04, -8.70135315e+04,\n",
       "       -6.19334641e+10, -1.36593444e+05,  1.88024028e+05,  4.38036053e+05,\n",
       "       -6.61405856e+10, -9.26194191e+04, -2.28783987e+04,  7.83416707e+04,\n",
       "        3.82137620e+04,  3.06557817e+11, -1.75191946e+10, -1.75191418e+10,\n",
       "       -1.75191698e+10, -1.75191715e+10, -1.11504401e+05,  1.48764520e+05,\n",
       "        1.96460360e+05, -1.56201034e+03, -5.32184752e+05, -4.93532878e+09,\n",
       "        2.76328046e+05,  9.07872568e+04,  1.69434012e+11,  2.16878517e+05,\n",
       "       -5.94293647e+04, -3.98293189e+04, -1.20829519e+05, -3.05283935e+04,\n",
       "        1.32263196e+06, -1.18363385e+11,  1.69433504e+11,  1.01279799e+04,\n",
       "       -1.10741545e+11, -3.79190173e+04, -2.02855899e+05, -2.21826907e+05,\n",
       "       -4.55273340e+11,  1.57408384e+05,  9.70172140e+10, -3.16433642e+05,\n",
       "       -8.39005065e+10, -4.14248900e+04, -3.14465581e+10,  8.09601664e+04,\n",
       "        1.83025831e+05,  1.64007352e+04, -9.09181399e+04,  1.11904817e+05,\n",
       "       -1.01801678e+11,  1.23130657e+05,  7.53635547e+10,  6.16138306e+10,\n",
       "       -2.32256902e+04, -7.42908497e+04, -1.08483391e+02, -6.61407683e+10,\n",
       "       -2.85825167e+09, -1.63844684e+05, -4.55271903e+11, -4.62216778e+04,\n",
       "       -5.16352216e+04,  3.96227816e+04,  2.19758507e+05,  2.60306414e+05,\n",
       "       -6.44087108e+04, -1.04995116e+05,  1.57197238e+11,  8.83392665e+03,\n",
       "        8.94072434e+04,  1.69433655e+11,  1.17115776e+05,  9.89242626e+04,\n",
       "        3.40171832e+04,  1.21089550e+05,  1.02647881e+05,  8.84823073e+04,\n",
       "        1.66250839e+11, -7.89455505e+04,  9.04633941e+03, -1.20550500e+05,\n",
       "       -4.22443328e+04,  1.37150441e+05,  4.09305469e+05,  2.22740654e+05,\n",
       "        4.38104124e+04, -4.44391574e+03, -9.32094059e+03, -4.74017660e+10,\n",
       "       -5.35211533e+10, -5.35214068e+10, -1.75191459e+10, -5.35212201e+10,\n",
       "        9.99809416e+09,  1.93186570e+10,  1.25470632e+11, -1.00146548e+04,\n",
       "       -5.35211543e+10, -1.32397017e+10,  1.25470690e+11,  2.51635493e+10,\n",
       "        2.49092197e+05,  6.41076514e+05, -1.65500118e+09,  3.03032367e+10,\n",
       "        1.25194617e+05, -1.21437328e+06,  6.08879967e+05, -1.69433761e+11,\n",
       "        1.69433652e+11,  1.69433766e+11, -5.68848440e+09, -1.21094130e+05,\n",
       "       -3.04530627e+05, -1.41448274e+05,  1.10741432e+11,  1.18971251e+05,\n",
       "        8.46884841e+04,  1.25470295e+11,  1.25470223e+11, -6.16277575e+10,\n",
       "       -4.55273075e+11, -2.98254630e+10,  1.32836822e+05, -2.70851818e+10,\n",
       "        2.11409443e+04,  1.10741451e+11, -1.42760802e+10, -7.31327331e+05,\n",
       "       -6.16267474e+10,  2.27127617e+05, -1.20465162e+10, -1.31935877e+05,\n",
       "        7.24058317e+10,  7.24058760e+10,  7.24058147e+10,  7.24058506e+10,\n",
       "       -7.52184477e+03, -8.39003575e+10, -2.59821413e+10,  1.70988374e+10,\n",
       "       -6.61405612e+10,  6.71107548e+11, -6.61408717e+10,  1.92599607e+05,\n",
       "       -5.08486806e+10, -1.01801626e+11,  2.27991463e+02,  3.24900107e+04,\n",
       "       -6.55386087e+04, -1.84387906e+04,  9.26026123e+10, -6.16139448e+10,\n",
       "        1.02200045e+04,  1.78215502e+10, -1.08087070e+05,  2.12747814e+05,\n",
       "       -6.61405326e+10, -1.27768269e+11,  4.04329656e+05,  2.52840944e+10,\n",
       "        2.89451231e+04, -4.19284508e+04,  3.43701036e+04,  1.50513730e+05,\n",
       "        4.36277447e+02, -1.67627831e+05,  6.70589476e+04,  1.65422092e+09,\n",
       "       -2.34462223e+10,  5.23820820e+04,  6.48020792e+04,  2.83011721e+10,\n",
       "        7.65819735e+04,  2.83015992e+10, -6.58805542e+02, -2.83539999e+04,\n",
       "       -1.61279616e+05,  6.16274168e+10, -3.28261141e+05,  1.25470297e+11,\n",
       "       -3.09354850e+10,  1.09919549e+05,  2.59690677e+10,  2.70860422e+10,\n",
       "       -4.36357963e+04,  3.58271374e+10, -6.26758795e+10,  8.12503571e+04,\n",
       "       -4.25668199e+10,  2.37010144e+10,  2.10161430e+05,  4.51707052e+04,\n",
       "       -8.39008660e+10,  4.51949915e+03,  5.97919191e+09, -1.74055258e+11,\n",
       "       -6.35850673e+05,  1.58810290e+05, -2.05542613e+10, -5.97862867e+09,\n",
       "       -8.94529955e+04, -7.91726602e+04,  8.87060451e+04,  1.34499007e+04,\n",
       "        3.47144743e+05, -4.89101056e+05, -8.50025297e+09,  1.25470066e+11,\n",
       "        1.05018360e+05,  2.38760110e+04,  1.25470240e+11,  5.89947589e+04,\n",
       "        8.39005751e+10, -1.37244377e+10,  3.04216084e+05, -5.31271626e+10,\n",
       "       -1.59643633e+05, -1.01801337e+11, -3.51969961e+05,  2.85801235e+09,\n",
       "       -2.75339430e+04, -4.81507065e+04,  6.46301924e+04, -5.82795367e+03,\n",
       "       -1.18363161e+11, -1.45208791e+05, -5.97886841e+09, -6.16141055e+10,\n",
       "       -1.20462192e+10,  1.43359030e+05, -3.11407946e+11,  9.43658569e+03,\n",
       "        3.22860027e+05,  6.31700943e+10,  4.47514678e+04, -1.20467728e+10,\n",
       "        3.98286687e+04,  2.95347829e+05, -3.79235921e+05,  1.50392770e+05,\n",
       "        1.30559045e+05,  1.66905976e+11, -5.98964544e+04, -6.61407627e+10,\n",
       "       -6.16139095e+10,  7.27998039e+10,  7.28002737e+10,  7.28001202e+10,\n",
       "       -8.17152434e+04,  6.62540645e+10, -4.25735307e+10, -3.83429796e+05,\n",
       "       -3.52288122e+10, -1.01801633e+11, -1.39067024e+05,  1.66250765e+11,\n",
       "        2.16435666e+04,  6.61406985e+10, -3.76872000e+11, -1.02459034e+04,\n",
       "       -1.18028203e+05, -2.70865300e+05,  4.04912584e+04,  2.51635493e+10,\n",
       "        5.87628930e+10,  6.23558535e+04, -3.11407946e+11, -1.08786190e+05,\n",
       "       -8.57102645e+04, -5.23739718e+04, -7.21150362e+04,  1.34181896e+05,\n",
       "        6.82821961e+05,  3.76658986e+04, -2.38919790e+05,  3.99891023e+05,\n",
       "        3.33777634e+04, -9.88270055e+11,  5.99603833e+05,  7.67151628e+10,\n",
       "        1.25470167e+11, -6.14392352e+04, -1.18363379e+11,  9.40703978e+10,\n",
       "        1.69433579e+11, -6.61405449e+10, -6.16273881e+10,  2.59690677e+10,\n",
       "        3.20156737e+10, -1.93001190e+11,  1.08418712e+11, -9.28536680e+03,\n",
       "        1.66257064e+05,  1.14196044e+05, -1.95947343e+09,  6.22047702e+04,\n",
       "       -1.20376654e+10,  5.17107121e+04, -3.06559649e+11,  5.58076168e+10,\n",
       "        5.65123176e+04,  6.56041200e+04,  1.01801534e+11,  5.71292309e+04,\n",
       "       -6.70302980e+03,  5.58076439e+10,  1.23546971e+05,  1.69433952e+11,\n",
       "       -1.28573524e+05,  4.87549873e+10, -1.18363306e+11,  2.38987996e+05,\n",
       "       -1.50021401e+11,  1.84362126e+05,  1.24829344e+04,  3.55722714e+04,\n",
       "        2.37010144e+10,  9.32731332e+03, -2.38894998e+05,  8.66768922e+04,\n",
       "       -2.81217245e+05, -3.08730090e+04,  3.46052169e+05,  7.86856805e+04,\n",
       "        2.05757702e+05,  1.25470276e+11, -8.39007648e+10, -1.01801444e+11,\n",
       "        6.31167964e+09, -3.79634181e+04, -1.95010369e+05,  8.87597679e+04,\n",
       "       -2.56042733e+05,  1.79197450e+05, -9.68752744e+10, -9.68752923e+10,\n",
       "       -9.68754539e+10, -9.68751946e+10, -1.25470417e+11, -1.18363436e+11,\n",
       "       -1.74569869e+04,  2.29190449e+04, -3.06954684e+09, -4.59150994e+03,\n",
       "       -3.74237229e+04,  1.81173781e+06,  2.00637466e+04, -8.39004243e+10,\n",
       "       -1.84309793e+05, -6.16274212e+10,  4.55391012e+05, -4.17984121e+10,\n",
       "        1.25470051e+11,  1.25470139e+11,  1.83479492e+05,  6.19335189e+10,\n",
       "        1.09843978e+10, -7.72285509e+04,  4.55273309e+11, -8.39002819e+10,\n",
       "       -1.52240207e+05,  1.60510773e+05,  1.89277351e+05, -6.61407065e+10,\n",
       "       -1.26182247e+05,  1.69434224e+11, -1.41273687e+05, -1.32540243e+11,\n",
       "       -2.32207890e+05,  3.80415522e+03,  1.54173679e+05, -1.65251395e+05,\n",
       "        1.65473651e+09, -3.22457506e+04,  4.18095824e+10,  1.06974304e+05,\n",
       "        4.17983792e+10,  6.18417575e+04,  2.78214729e+04, -1.20467847e+10,\n",
       "        1.25470037e+11,  1.69434136e+11, -4.41083924e+10,  1.69433801e+11,\n",
       "        9.41635723e+04, -1.80742607e+10, -1.09191696e+05, -6.90172612e+04,\n",
       "       -3.82978520e+10,  2.78889297e+05, -1.44127696e+05, -1.83916365e+05,\n",
       "       -7.99843555e+09,  1.20465696e+10,  2.54613893e+10,  1.11623059e+05,\n",
       "        1.02805635e+04,  7.22401268e+04, -6.63754342e+04,  1.12029062e+05,\n",
       "        1.70943222e+05,  5.54147454e+04, -8.79741772e+10, -8.79738749e+10,\n",
       "       -8.79742217e+10, -8.79745977e+10, -8.79740508e+10, -8.79746810e+10,\n",
       "       -2.36113679e+05, -4.03914252e+11,  2.51635493e+10,  6.07354671e+04,\n",
       "       -2.53157727e+04, -6.12350337e+05,  5.68860097e+09, -2.62010266e+10,\n",
       "       -2.52263743e+10,  1.47705086e+10,  1.47682020e+10,  1.69433630e+11,\n",
       "        8.67377687e+10, -2.52263743e+10,  1.66035173e+05,  1.25469710e+11,\n",
       "       -5.19877157e+09,  2.16067956e+05, -2.35744436e+04, -4.17767861e+04,\n",
       "        6.31167964e+09,  1.37245797e+10,  1.40152836e+05,  1.13793973e+06,\n",
       "       -1.17740864e+06,  1.87148682e+05,  1.94942849e+05,  1.72531591e+05,\n",
       "        2.01808459e+05,  2.90898055e+05,  9.15576322e+04,  2.63477179e+10,\n",
       "        2.63471670e+10,  4.98102097e+04, -3.78210899e+04, -4.41082112e+10,\n",
       "        4.03731155e+05,  1.80366898e+05, -4.55273115e+11,  9.79991982e+04,\n",
       "       -4.50670399e+04,  1.25470194e+11,  9.88985239e+04,  2.29185792e+05,\n",
       "        1.45035778e+05,  2.67227105e+05,  1.14580518e+05,  2.04077958e+11,\n",
       "        2.04077958e+11,  2.04076704e+11,  2.04078003e+11,  2.04077880e+11,\n",
       "        1.11773211e+12,  1.11773209e+12,  1.11773217e+12,  3.80396095e+11,\n",
       "        3.80395830e+11,  1.01769296e+12,  1.01769295e+12,  1.01769294e+12,\n",
       "        1.01769314e+12,  1.01769292e+12])"
      ]
     },
     "execution_count": 25,
     "metadata": {},
     "output_type": "execute_result"
    }
   ],
   "source": [
    "reg.coef_"
   ]
  },
  {
   "cell_type": "markdown",
   "id": "0a9c06f6",
   "metadata": {},
   "source": [
    "# 7. Prediction"
   ]
  },
  {
   "cell_type": "markdown",
   "id": "7c783f64",
   "metadata": {},
   "source": [
    "## 7.1. Training Set"
   ]
  },
  {
   "cell_type": "code",
   "execution_count": 26,
   "id": "d37c1efb",
   "metadata": {},
   "outputs": [],
   "source": [
    "y_pred_train = reg.predict(X_train)"
   ]
  },
  {
   "cell_type": "markdown",
   "id": "7b8637af",
   "metadata": {},
   "source": [
    "## 7.2. Test Set"
   ]
  },
  {
   "cell_type": "code",
   "execution_count": 27,
   "id": "4aa6a126",
   "metadata": {},
   "outputs": [],
   "source": [
    "y_pred_test = reg.predict(X_test)"
   ]
  },
  {
   "cell_type": "markdown",
   "id": "b3a3ed67",
   "metadata": {},
   "source": [
    "# 8. Model Evaluation"
   ]
  },
  {
   "cell_type": "markdown",
   "id": "f23a1fe3",
   "metadata": {},
   "source": [
    "## 8.1. Training Set"
   ]
  },
  {
   "cell_type": "markdown",
   "id": "495fa7eb",
   "metadata": {},
   "source": [
    "### 8.1.1. Scoring"
   ]
  },
  {
   "cell_type": "code",
   "execution_count": 28,
   "id": "cd9435b9",
   "metadata": {},
   "outputs": [
    {
     "name": "stdout",
     "output_type": "stream",
     "text": [
      "r2_score =\t\t\t 0.9631796077371723\n",
      "mean_squared_error =\t\t 12901772688.643972\n",
      "mean_absolute_error =\t\t 71640.90582837927\n",
      "mean_absolute_percentage_error = 0.25298609258924565\n"
     ]
    }
   ],
   "source": [
    "print('r2_score =\\t\\t\\t', r2_score(y_train, y_pred_train))\n",
    "print('mean_squared_error =\\t\\t', mean_squared_error(y_train, y_pred_train))\n",
    "print('mean_absolute_error =\\t\\t', mean_absolute_error(y_train, y_pred_train))\n",
    "print('mean_absolute_percentage_error =', mean_absolute_percentage_error(y_train, y_pred_train))"
   ]
  },
  {
   "cell_type": "markdown",
   "id": "19045164",
   "metadata": {},
   "source": [
    "### 8.1.2. Scatter Plot between Predicted & Actual Values"
   ]
  },
  {
   "cell_type": "code",
   "execution_count": 29,
   "id": "3327350f",
   "metadata": {},
   "outputs": [
    {
     "data": {
      "text/plain": [
       "Text(0, 0.5, 'Actual')"
      ]
     },
     "execution_count": 29,
     "metadata": {},
     "output_type": "execute_result"
    },
    {
     "data": {
      "image/png": "[encoded data removed]",
      "text/plain": [
       "<Figure size 432x288 with 1 Axes>"
      ]
     },
     "metadata": {
      "needs_background": "light"
     },
     "output_type": "display_data"
    }
   ],
   "source": [
    "plt.scatter(y_pred_train, y_train)\n",
    "\n",
    "a, b = np.polyfit(y_pred_train, y_train, 1)\n",
    "plt.plot(y_pred_train, a*y_pred_train + b, color='red')\n",
    "\n",
    "plt.title('Scatter Plot between Predicted & Actual Values')\n",
    "plt.xlabel('Predicted')\n",
    "plt.ylabel('Actual')"
   ]
  },
  {
   "cell_type": "markdown",
   "id": "5e775742",
   "metadata": {},
   "source": [
    "## 8.2. Test Set"
   ]
  },
  {
   "cell_type": "markdown",
   "id": "030ae25f",
   "metadata": {},
   "source": [
    "### 8.2.1. Scoring"
   ]
  },
  {
   "cell_type": "code",
   "execution_count": 30,
   "id": "19a1e8a3",
   "metadata": {},
   "outputs": [
    {
     "name": "stdout",
     "output_type": "stream",
     "text": [
      "r2_score =\t\t\t -7972536954.626769\n",
      "mean_squared_error =\t\t 2.1653965074852246e+21\n",
      "mean_absolute_error =\t\t 4055692080.7471457\n",
      "mean_absolute_percentage_error = 9303.816340758718\n"
     ]
    }
   ],
   "source": [
    "print('r2_score =\\t\\t\\t', r2_score(y_test, y_pred_test))\n",
    "print('mean_squared_error =\\t\\t', mean_squared_error(y_test, y_pred_test))\n",
    "print('mean_absolute_error =\\t\\t', mean_absolute_error(y_test, y_pred_test))\n",
    "print('mean_absolute_percentage_error =', mean_absolute_percentage_error(y_test, y_pred_test))"
   ]
  },
  {
   "cell_type": "markdown",
   "id": "08c3d5cb",
   "metadata": {},
   "source": [
    "### 8.2.2. Scatter Plot between Predicted & Actual Values"
   ]
  },
  {
   "cell_type": "code",
   "execution_count": 31,
   "id": "84be8bff",
   "metadata": {
    "scrolled": true
   },
   "outputs": [
    {
     "data": {
      "text/plain": [
       "Text(0, 0.5, 'Actual')"
      ]
     },
     "execution_count": 31,
     "metadata": {},
     "output_type": "execute_result"
    },
    {
     "data": {
      "image/png": "[encoded data removed]",
      "text/plain": [
       "<Figure size 432x288 with 1 Axes>"
      ]
     },
     "metadata": {
      "needs_background": "light"
     },
     "output_type": "display_data"
    }
   ],
   "source": [
    "plt.scatter(y_pred_test, y_test)\n",
    "\n",
    "plt.plot(y_pred_test, y_pred_test, color='red')\n",
    "\n",
    "plt.title('Scatter Plot between Predicted & Actual Values')\n",
    "plt.xlabel('Predicted')\n",
    "plt.ylabel('Actual')"
   ]
  },
  {
   "cell_type": "markdown",
   "id": "61229e2e",
   "metadata": {},
   "source": [
    "# 9. Save Model"
   ]
  },
  {
   "cell_type": "code",
   "execution_count": 32,
   "id": "ff0f745b",
   "metadata": {},
   "outputs": [],
   "source": [
    "import pickle"
   ]
  },
  {
   "cell_type": "code",
   "execution_count": 33,
   "id": "899698b8",
   "metadata": {},
   "outputs": [],
   "source": [
    "pickle.dump((reg, \n",
    "             vectorizer, \n",
    "             one_hot_encoder, \n",
    "             feature_name, \n",
    "             numerical_feature, \n",
    "             ordinal_feature, \n",
    "             nominal_feature), \n",
    "            open('car_price_normaleq.pickle', 'wb'))"
   ]
  }
 ],
 "metadata": {
  "kernelspec": {
   "display_name": "Python 3",
   "language": "python",
   "name": "python3"
  },
  "language_info": {
   "codemirror_mode": {
    "name": "ipython",
    "version": 3
   },
   "file_extension": ".py",
   "mimetype": "text/x-python",
   "name": "python",
   "nbconvert_exporter": "python",
   "pygments_lexer": "ipython3",
   "version": "3.8.8"
  }
 },
 "nbformat": 4,
 "nbformat_minor": 5
}
