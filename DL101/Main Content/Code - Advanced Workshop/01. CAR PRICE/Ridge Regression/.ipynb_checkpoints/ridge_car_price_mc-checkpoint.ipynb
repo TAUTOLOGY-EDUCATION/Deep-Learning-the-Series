{
 "cells": [
  {
   "cell_type": "markdown",
   "id": "254369d5",
   "metadata": {},
   "source": [
    "# 1. Import Libraries"
   ]
  },
  {
   "cell_type": "code",
   "execution_count": 1,
   "id": "15ee3b21",
   "metadata": {},
   "outputs": [],
   "source": [
    "import numpy as np\n",
    "import pandas as pd\n",
    "import matplotlib.pyplot as plt\n",
    "\n",
    "from sklearn.model_selection import train_test_split\n",
    "from sklearn.feature_extraction.text import CountVectorizer\n",
    "from sklearn.preprocessing import (\n",
    "    OrdinalEncoder, \n",
    "    OneHotEncoder, \n",
    "    StandardScaler, \n",
    "    MinMaxScaler\n",
    ")\n",
    "from sklearn.linear_model import RidgeCV\n",
    "from sklearn.metrics import (\n",
    "    r2_score, \n",
    "    mean_squared_error, \n",
    "    mean_absolute_error, \n",
    "    mean_absolute_percentage_error\n",
    ")\n",
    "\n",
    "import warnings\n",
    "warnings.filterwarnings('ignore')\n",
    "\n",
    "np.random.seed(12345)"
   ]
  },
  {
   "cell_type": "markdown",
   "id": "6dfa75aa",
   "metadata": {},
   "source": [
    "# 2. Read Data"
   ]
  },
  {
   "cell_type": "code",
   "execution_count": 2,
   "id": "1a392dd5",
   "metadata": {},
   "outputs": [
    {
     "data": {
      "text/html": [
       "<div>\n",
       "<style scoped>\n",
       "    .dataframe tbody tr th:only-of-type {\n",
       "        vertical-align: middle;\n",
       "    }\n",
       "\n",
       "    .dataframe tbody tr th {\n",
       "        vertical-align: top;\n",
       "    }\n",
       "\n",
       "    .dataframe thead th {\n",
       "        text-align: right;\n",
       "    }\n",
       "</style>\n",
       "<table border=\"1\" class=\"dataframe\">\n",
       "  <thead>\n",
       "    <tr style=\"text-align: right;\">\n",
       "      <th></th>\n",
       "      <th>name</th>\n",
       "      <th>year</th>\n",
       "      <th>selling_price</th>\n",
       "      <th>km_driven</th>\n",
       "      <th>fuel</th>\n",
       "      <th>seller_type</th>\n",
       "      <th>transmission</th>\n",
       "      <th>owner</th>\n",
       "    </tr>\n",
       "  </thead>\n",
       "  <tbody>\n",
       "    <tr>\n",
       "      <th>0</th>\n",
       "      <td>Maruti 800 AC</td>\n",
       "      <td>2007</td>\n",
       "      <td>60000</td>\n",
       "      <td>70000</td>\n",
       "      <td>Petrol</td>\n",
       "      <td>Individual</td>\n",
       "      <td>Manual</td>\n",
       "      <td>First Owner</td>\n",
       "    </tr>\n",
       "    <tr>\n",
       "      <th>1</th>\n",
       "      <td>Maruti Wagon R LXI Minor</td>\n",
       "      <td>2007</td>\n",
       "      <td>135000</td>\n",
       "      <td>50000</td>\n",
       "      <td>Petrol</td>\n",
       "      <td>Individual</td>\n",
       "      <td>Manual</td>\n",
       "      <td>First Owner</td>\n",
       "    </tr>\n",
       "    <tr>\n",
       "      <th>2</th>\n",
       "      <td>Hyundai Verna 1.6 SX</td>\n",
       "      <td>2012</td>\n",
       "      <td>600000</td>\n",
       "      <td>100000</td>\n",
       "      <td>Diesel</td>\n",
       "      <td>Individual</td>\n",
       "      <td>Manual</td>\n",
       "      <td>First Owner</td>\n",
       "    </tr>\n",
       "    <tr>\n",
       "      <th>3</th>\n",
       "      <td>Datsun RediGO T Option</td>\n",
       "      <td>2017</td>\n",
       "      <td>250000</td>\n",
       "      <td>46000</td>\n",
       "      <td>Petrol</td>\n",
       "      <td>Individual</td>\n",
       "      <td>Manual</td>\n",
       "      <td>First Owner</td>\n",
       "    </tr>\n",
       "    <tr>\n",
       "      <th>4</th>\n",
       "      <td>Honda Amaze VX i-DTEC</td>\n",
       "      <td>2014</td>\n",
       "      <td>450000</td>\n",
       "      <td>141000</td>\n",
       "      <td>Diesel</td>\n",
       "      <td>Individual</td>\n",
       "      <td>Manual</td>\n",
       "      <td>Second Owner</td>\n",
       "    </tr>\n",
       "    <tr>\n",
       "      <th>...</th>\n",
       "      <td>...</td>\n",
       "      <td>...</td>\n",
       "      <td>...</td>\n",
       "      <td>...</td>\n",
       "      <td>...</td>\n",
       "      <td>...</td>\n",
       "      <td>...</td>\n",
       "      <td>...</td>\n",
       "    </tr>\n",
       "    <tr>\n",
       "      <th>4335</th>\n",
       "      <td>Hyundai i20 Magna 1.4 CRDi (Diesel)</td>\n",
       "      <td>2014</td>\n",
       "      <td>409999</td>\n",
       "      <td>80000</td>\n",
       "      <td>Diesel</td>\n",
       "      <td>Individual</td>\n",
       "      <td>Manual</td>\n",
       "      <td>Second Owner</td>\n",
       "    </tr>\n",
       "    <tr>\n",
       "      <th>4336</th>\n",
       "      <td>Hyundai i20 Magna 1.4 CRDi</td>\n",
       "      <td>2014</td>\n",
       "      <td>409999</td>\n",
       "      <td>80000</td>\n",
       "      <td>Diesel</td>\n",
       "      <td>Individual</td>\n",
       "      <td>Manual</td>\n",
       "      <td>Second Owner</td>\n",
       "    </tr>\n",
       "    <tr>\n",
       "      <th>4337</th>\n",
       "      <td>Maruti 800 AC BSIII</td>\n",
       "      <td>2009</td>\n",
       "      <td>110000</td>\n",
       "      <td>83000</td>\n",
       "      <td>Petrol</td>\n",
       "      <td>Individual</td>\n",
       "      <td>Manual</td>\n",
       "      <td>Second Owner</td>\n",
       "    </tr>\n",
       "    <tr>\n",
       "      <th>4338</th>\n",
       "      <td>Hyundai Creta 1.6 CRDi SX Option</td>\n",
       "      <td>2016</td>\n",
       "      <td>865000</td>\n",
       "      <td>90000</td>\n",
       "      <td>Diesel</td>\n",
       "      <td>Individual</td>\n",
       "      <td>Manual</td>\n",
       "      <td>First Owner</td>\n",
       "    </tr>\n",
       "    <tr>\n",
       "      <th>4339</th>\n",
       "      <td>Renault KWID RXT</td>\n",
       "      <td>2016</td>\n",
       "      <td>225000</td>\n",
       "      <td>40000</td>\n",
       "      <td>Petrol</td>\n",
       "      <td>Individual</td>\n",
       "      <td>Manual</td>\n",
       "      <td>First Owner</td>\n",
       "    </tr>\n",
       "  </tbody>\n",
       "</table>\n",
       "<p>4340 rows × 8 columns</p>\n",
       "</div>"
      ],
      "text/plain": [
       "                                     name  year  selling_price  km_driven  \\\n",
       "0                           Maruti 800 AC  2007          60000      70000   \n",
       "1                Maruti Wagon R LXI Minor  2007         135000      50000   \n",
       "2                    Hyundai Verna 1.6 SX  2012         600000     100000   \n",
       "3                  Datsun RediGO T Option  2017         250000      46000   \n",
       "4                   Honda Amaze VX i-DTEC  2014         450000     141000   \n",
       "...                                   ...   ...            ...        ...   \n",
       "4335  Hyundai i20 Magna 1.4 CRDi (Diesel)  2014         409999      80000   \n",
       "4336           Hyundai i20 Magna 1.4 CRDi  2014         409999      80000   \n",
       "4337                  Maruti 800 AC BSIII  2009         110000      83000   \n",
       "4338     Hyundai Creta 1.6 CRDi SX Option  2016         865000      90000   \n",
       "4339                     Renault KWID RXT  2016         225000      40000   \n",
       "\n",
       "        fuel seller_type transmission         owner  \n",
       "0     Petrol  Individual       Manual   First Owner  \n",
       "1     Petrol  Individual       Manual   First Owner  \n",
       "2     Diesel  Individual       Manual   First Owner  \n",
       "3     Petrol  Individual       Manual   First Owner  \n",
       "4     Diesel  Individual       Manual  Second Owner  \n",
       "...      ...         ...          ...           ...  \n",
       "4335  Diesel  Individual       Manual  Second Owner  \n",
       "4336  Diesel  Individual       Manual  Second Owner  \n",
       "4337  Petrol  Individual       Manual  Second Owner  \n",
       "4338  Diesel  Individual       Manual   First Owner  \n",
       "4339  Petrol  Individual       Manual   First Owner  \n",
       "\n",
       "[4340 rows x 8 columns]"
      ]
     },
     "execution_count": 2,
     "metadata": {},
     "output_type": "execute_result"
    }
   ],
   "source": [
    "data = pd.read_csv('car_price_dataset.csv')\n",
    "\n",
    "data"
   ]
  },
  {
   "cell_type": "markdown",
   "id": "bc4794b7",
   "metadata": {},
   "source": [
    "# 3. Clean Data"
   ]
  },
  {
   "cell_type": "markdown",
   "id": "a8e836c9",
   "metadata": {},
   "source": [
    "## 3.1. Handle Missing Values"
   ]
  },
  {
   "cell_type": "markdown",
   "id": "b605aa1e",
   "metadata": {},
   "source": [
    "### 3.1.1. Check Missing Values"
   ]
  },
  {
   "cell_type": "code",
   "execution_count": 3,
   "id": "fa55ce19",
   "metadata": {},
   "outputs": [
    {
     "name": "stdout",
     "output_type": "stream",
     "text": [
      "<class 'pandas.core.frame.DataFrame'>\n",
      "RangeIndex: 4340 entries, 0 to 4339\n",
      "Data columns (total 8 columns):\n",
      " #   Column         Non-Null Count  Dtype \n",
      "---  ------         --------------  ----- \n",
      " 0   name           4340 non-null   object\n",
      " 1   year           4340 non-null   int64 \n",
      " 2   selling_price  4340 non-null   int64 \n",
      " 3   km_driven      4340 non-null   int64 \n",
      " 4   fuel           4340 non-null   object\n",
      " 5   seller_type    4340 non-null   object\n",
      " 6   transmission   4340 non-null   object\n",
      " 7   owner          4340 non-null   object\n",
      "dtypes: int64(3), object(5)\n",
      "memory usage: 271.4+ KB\n"
     ]
    }
   ],
   "source": [
    "data.info()"
   ]
  },
  {
   "cell_type": "markdown",
   "id": "d5f8d044",
   "metadata": {},
   "source": [
    "### 3.1.2. Remove Missing Values"
   ]
  },
  {
   "cell_type": "code",
   "execution_count": 4,
   "id": "574e4016",
   "metadata": {},
   "outputs": [],
   "source": [
    "# no NaN to remove\n",
    "# data.dropna(axis=0, inplace=True)"
   ]
  },
  {
   "cell_type": "markdown",
   "id": "80c7ad44",
   "metadata": {},
   "source": [
    "## 3.2. Handle Outliers"
   ]
  },
  {
   "cell_type": "markdown",
   "id": "757ef138",
   "metadata": {},
   "source": [
    "### 3.2.1. Check Outliers"
   ]
  },
  {
   "cell_type": "code",
   "execution_count": 5,
   "id": "edf9cc3c",
   "metadata": {},
   "outputs": [
    {
     "data": {
      "text/html": [
       "<div>\n",
       "<style scoped>\n",
       "    .dataframe tbody tr th:only-of-type {\n",
       "        vertical-align: middle;\n",
       "    }\n",
       "\n",
       "    .dataframe tbody tr th {\n",
       "        vertical-align: top;\n",
       "    }\n",
       "\n",
       "    .dataframe thead th {\n",
       "        text-align: right;\n",
       "    }\n",
       "</style>\n",
       "<table border=\"1\" class=\"dataframe\">\n",
       "  <thead>\n",
       "    <tr style=\"text-align: right;\">\n",
       "      <th></th>\n",
       "      <th>year</th>\n",
       "      <th>selling_price</th>\n",
       "      <th>km_driven</th>\n",
       "    </tr>\n",
       "  </thead>\n",
       "  <tbody>\n",
       "    <tr>\n",
       "      <th>count</th>\n",
       "      <td>4340.000000</td>\n",
       "      <td>4.340000e+03</td>\n",
       "      <td>4340.000000</td>\n",
       "    </tr>\n",
       "    <tr>\n",
       "      <th>mean</th>\n",
       "      <td>2013.090783</td>\n",
       "      <td>5.041273e+05</td>\n",
       "      <td>66215.777419</td>\n",
       "    </tr>\n",
       "    <tr>\n",
       "      <th>std</th>\n",
       "      <td>4.215344</td>\n",
       "      <td>5.785487e+05</td>\n",
       "      <td>46644.102194</td>\n",
       "    </tr>\n",
       "    <tr>\n",
       "      <th>min</th>\n",
       "      <td>1992.000000</td>\n",
       "      <td>2.000000e+04</td>\n",
       "      <td>1.000000</td>\n",
       "    </tr>\n",
       "    <tr>\n",
       "      <th>25%</th>\n",
       "      <td>2011.000000</td>\n",
       "      <td>2.087498e+05</td>\n",
       "      <td>35000.000000</td>\n",
       "    </tr>\n",
       "    <tr>\n",
       "      <th>50%</th>\n",
       "      <td>2014.000000</td>\n",
       "      <td>3.500000e+05</td>\n",
       "      <td>60000.000000</td>\n",
       "    </tr>\n",
       "    <tr>\n",
       "      <th>75%</th>\n",
       "      <td>2016.000000</td>\n",
       "      <td>6.000000e+05</td>\n",
       "      <td>90000.000000</td>\n",
       "    </tr>\n",
       "    <tr>\n",
       "      <th>max</th>\n",
       "      <td>2020.000000</td>\n",
       "      <td>8.900000e+06</td>\n",
       "      <td>806599.000000</td>\n",
       "    </tr>\n",
       "  </tbody>\n",
       "</table>\n",
       "</div>"
      ],
      "text/plain": [
       "              year  selling_price      km_driven\n",
       "count  4340.000000   4.340000e+03    4340.000000\n",
       "mean   2013.090783   5.041273e+05   66215.777419\n",
       "std       4.215344   5.785487e+05   46644.102194\n",
       "min    1992.000000   2.000000e+04       1.000000\n",
       "25%    2011.000000   2.087498e+05   35000.000000\n",
       "50%    2014.000000   3.500000e+05   60000.000000\n",
       "75%    2016.000000   6.000000e+05   90000.000000\n",
       "max    2020.000000   8.900000e+06  806599.000000"
      ]
     },
     "execution_count": 5,
     "metadata": {},
     "output_type": "execute_result"
    }
   ],
   "source": [
    "data.describe()"
   ]
  },
  {
   "cell_type": "markdown",
   "id": "8382848b",
   "metadata": {},
   "source": [
    "### 3.2.2. Remove Outliers"
   ]
  },
  {
   "cell_type": "code",
   "execution_count": 6,
   "id": "890dfda9",
   "metadata": {},
   "outputs": [],
   "source": [
    "# no outlier to remove"
   ]
  },
  {
   "cell_type": "markdown",
   "id": "b099bde8",
   "metadata": {},
   "source": [
    "# 4. Split Dataset into Training & Test Sets"
   ]
  },
  {
   "cell_type": "code",
   "execution_count": 7,
   "id": "c87a6bb1",
   "metadata": {},
   "outputs": [],
   "source": [
    "target_name = 'selling_price'\n",
    "feature_name = list(data.columns.drop(target_name))"
   ]
  },
  {
   "cell_type": "code",
   "execution_count": 8,
   "id": "767b5284",
   "metadata": {},
   "outputs": [],
   "source": [
    "X = data[feature_name]\n",
    "y = data[target_name]"
   ]
  },
  {
   "cell_type": "code",
   "execution_count": 9,
   "id": "5b34fc7e",
   "metadata": {},
   "outputs": [],
   "source": [
    "X_train, X_test, y_train, y_test = train_test_split(X, y, test_size=0.20, shuffle=True)"
   ]
  },
  {
   "cell_type": "markdown",
   "id": "b08643a0",
   "metadata": {},
   "source": [
    "# 5. Data Preparation"
   ]
  },
  {
   "cell_type": "markdown",
   "id": "3b7f96de",
   "metadata": {},
   "source": [
    "## 5.1. Count Vectorization"
   ]
  },
  {
   "cell_type": "markdown",
   "id": "d6ec84f3",
   "metadata": {},
   "source": [
    "### 5.1.1. Training Set"
   ]
  },
  {
   "cell_type": "code",
   "execution_count": 10,
   "id": "51ae20f4",
   "metadata": {},
   "outputs": [],
   "source": [
    "corpus_train = X_train['name'].tolist()\n",
    "vectorizer = CountVectorizer()\n",
    "vectorizer.fit(corpus_train)\n",
    "cnt_vec_train = vectorizer.transform(corpus_train).toarray()"
   ]
  },
  {
   "cell_type": "code",
   "execution_count": 11,
   "id": "a8a9183c",
   "metadata": {},
   "outputs": [],
   "source": [
    "cnt_vec_feature_name = ['con_' + feature for feature in vectorizer.get_feature_names()]"
   ]
  },
  {
   "cell_type": "code",
   "execution_count": 12,
   "id": "64128abb",
   "metadata": {},
   "outputs": [],
   "source": [
    "X_train[cnt_vec_feature_name] = cnt_vec_train\n",
    "X_train.drop('name', axis=1, inplace=True)"
   ]
  },
  {
   "cell_type": "markdown",
   "id": "55f4f2d2",
   "metadata": {},
   "source": [
    "### 5.1.2. Test Set"
   ]
  },
  {
   "cell_type": "code",
   "execution_count": 13,
   "id": "38323897",
   "metadata": {},
   "outputs": [],
   "source": [
    "corpus_test = X_test['name'].tolist()\n",
    "cnt_vec_test = vectorizer.transform(corpus_test).toarray()"
   ]
  },
  {
   "cell_type": "code",
   "execution_count": 14,
   "id": "9c6dfc0b",
   "metadata": {},
   "outputs": [],
   "source": [
    "X_test[cnt_vec_feature_name] = cnt_vec_test\n",
    "X_test.drop('name', axis=1, inplace=True)"
   ]
  },
  {
   "cell_type": "markdown",
   "id": "6b3f3c27",
   "metadata": {},
   "source": [
    "## ===== Ordinal Encoding & One Hot Encoding ====="
   ]
  },
  {
   "cell_type": "code",
   "execution_count": 15,
   "id": "f18762c2",
   "metadata": {},
   "outputs": [],
   "source": [
    "numerical_feature = ['year', 'km_driven']\n",
    "categorical_feature = ['fuel', 'seller_type', 'transmission', 'owner']\n",
    "numerical_feature.extend(cnt_vec_feature_name)"
   ]
  },
  {
   "cell_type": "code",
   "execution_count": 16,
   "id": "9a3c625f",
   "metadata": {},
   "outputs": [
    {
     "name": "stdout",
     "output_type": "stream",
     "text": [
      "fuel : ['CNG' 'Diesel' 'Electric' 'LPG' 'Petrol']\n",
      "seller_type : ['Dealer' 'Individual' 'Trustmark Dealer']\n",
      "transmission : ['Automatic' 'Manual']\n",
      "owner : ['First Owner' 'Fourth & Above Owner' 'Second Owner' 'Test Drive Car'\n",
      " 'Third Owner']\n"
     ]
    }
   ],
   "source": [
    "for feature in categorical_feature:\n",
    "    print(feature, ':', np.unique(X_train[feature]))"
   ]
  },
  {
   "cell_type": "code",
   "execution_count": 17,
   "id": "062ff270",
   "metadata": {},
   "outputs": [],
   "source": [
    "ordinal_feature = []\n",
    "nominal_feature = list(categorical_feature)"
   ]
  },
  {
   "cell_type": "markdown",
   "id": "76d7dafc",
   "metadata": {},
   "source": [
    "## ## 5.2. Ordinal Encoding"
   ]
  },
  {
   "cell_type": "markdown",
   "id": "fe9c2d7d",
   "metadata": {},
   "source": [
    "## 5.3. One Hot Encoding"
   ]
  },
  {
   "cell_type": "markdown",
   "id": "38a5fd33",
   "metadata": {},
   "source": [
    "### 5.3.1. Training Set"
   ]
  },
  {
   "cell_type": "code",
   "execution_count": 18,
   "id": "af66023d",
   "metadata": {},
   "outputs": [
    {
     "data": {
      "text/plain": [
       "OneHotEncoder(handle_unknown='ignore', sparse=False)"
      ]
     },
     "execution_count": 18,
     "metadata": {},
     "output_type": "execute_result"
    }
   ],
   "source": [
    "one_hot_encoder = OneHotEncoder(sparse=False, handle_unknown='ignore')\n",
    "one_hot_encoder.fit(X_train[nominal_feature])"
   ]
  },
  {
   "cell_type": "code",
   "execution_count": 19,
   "id": "200ec320",
   "metadata": {},
   "outputs": [],
   "source": [
    "one_hot_feature = []\n",
    "for i, feature in enumerate(nominal_feature):\n",
    "    for cate in one_hot_encoder.categories_[i]:\n",
    "        one_hot_feature_name = str(feature) + '_' + str(cate)\n",
    "        one_hot_feature.append(one_hot_feature_name)"
   ]
  },
  {
   "cell_type": "code",
   "execution_count": 20,
   "id": "8fffbfed",
   "metadata": {},
   "outputs": [],
   "source": [
    "X_train[one_hot_feature] = one_hot_encoder.transform(X_train[nominal_feature])\n",
    "X_train.drop(nominal_feature, axis=1, inplace=True)"
   ]
  },
  {
   "cell_type": "markdown",
   "id": "cac949b7",
   "metadata": {},
   "source": [
    "### 5.3.2. Test Set"
   ]
  },
  {
   "cell_type": "code",
   "execution_count": 21,
   "id": "deebe96d",
   "metadata": {},
   "outputs": [],
   "source": [
    "X_test[one_hot_feature] = one_hot_encoder.transform(X_test[nominal_feature])\n",
    "X_test.drop(nominal_feature, axis=1, inplace=True)"
   ]
  },
  {
   "cell_type": "markdown",
   "id": "8ecf9b01",
   "metadata": {},
   "source": [
    "## 5.4. Feature Scaling"
   ]
  },
  {
   "cell_type": "markdown",
   "id": "d1e89336",
   "metadata": {},
   "source": [
    "### 5.4.1. Training Set"
   ]
  },
  {
   "cell_type": "code",
   "execution_count": 22,
   "id": "606111fb",
   "metadata": {},
   "outputs": [],
   "source": [
    "scaler = StandardScaler()\n",
    "X_train_scaled = scaler.fit_transform(X_train)"
   ]
  },
  {
   "cell_type": "markdown",
   "id": "6f72523d",
   "metadata": {},
   "source": [
    "### 5.4.2. Test Set"
   ]
  },
  {
   "cell_type": "code",
   "execution_count": 23,
   "id": "17bab058",
   "metadata": {},
   "outputs": [],
   "source": [
    "X_test_scaled = scaler.transform(X_test)"
   ]
  },
  {
   "cell_type": "markdown",
   "id": "7cb412c6",
   "metadata": {},
   "source": [
    "# 6. Model Creation"
   ]
  },
  {
   "cell_type": "markdown",
   "id": "ce263424",
   "metadata": {},
   "source": [
    "## 6.1. Setting Parameters"
   ]
  },
  {
   "cell_type": "code",
   "execution_count": 24,
   "id": "5e18cf0d",
   "metadata": {},
   "outputs": [],
   "source": [
    "alphas = np.logspace(-10, 3, num=100)"
   ]
  },
  {
   "cell_type": "code",
   "execution_count": 25,
   "id": "d89261c9",
   "metadata": {},
   "outputs": [],
   "source": [
    "reg = RidgeCV(alphas=alphas, cv=5)"
   ]
  },
  {
   "cell_type": "markdown",
   "id": "dc97073d",
   "metadata": {},
   "source": [
    "## 6.2. Train Model"
   ]
  },
  {
   "cell_type": "code",
   "execution_count": 26,
   "id": "71295a1e",
   "metadata": {},
   "outputs": [
    {
     "data": {
      "text/plain": [
       "RidgeCV(alphas=array([1.00000000e-10, 1.35304777e-10, 1.83073828e-10, 2.47707636e-10,\n",
       "       3.35160265e-10, 4.53487851e-10, 6.13590727e-10, 8.30217568e-10,\n",
       "       1.12332403e-09, 1.51991108e-09, 2.05651231e-09, 2.78255940e-09,\n",
       "       3.76493581e-09, 5.09413801e-09, 6.89261210e-09, 9.32603347e-09,\n",
       "       1.26185688e-08, 1.70735265e-08, 2.31012970e-08, 3.12571585e-08,\n",
       "       4.22924287e-08, 5.72236766e-0...\n",
       "       9.54548457e-01, 1.29154967e+00, 1.74752840e+00, 2.36448941e+00,\n",
       "       3.19926714e+00, 4.32876128e+00, 5.85702082e+00, 7.92482898e+00,\n",
       "       1.07226722e+01, 1.45082878e+01, 1.96304065e+01, 2.65608778e+01,\n",
       "       3.59381366e+01, 4.86260158e+01, 6.57933225e+01, 8.90215085e+01,\n",
       "       1.20450354e+02, 1.62975083e+02, 2.20513074e+02, 2.98364724e+02,\n",
       "       4.03701726e+02, 5.46227722e+02, 7.39072203e+02, 1.00000000e+03]),\n",
       "        cv=5)"
      ]
     },
     "execution_count": 26,
     "metadata": {},
     "output_type": "execute_result"
    }
   ],
   "source": [
    "reg.fit(X_train_scaled, y_train)"
   ]
  },
  {
   "cell_type": "code",
   "execution_count": 27,
   "id": "f028070e",
   "metadata": {},
   "outputs": [
    {
     "data": {
      "text/plain": [
       "162.97508346206467"
      ]
     },
     "execution_count": 27,
     "metadata": {},
     "output_type": "execute_result"
    }
   ],
   "source": [
    "reg.alpha_"
   ]
  },
  {
   "cell_type": "markdown",
   "id": "767d8c1e",
   "metadata": {},
   "source": [
    "## 6.3. Model's Weight & Bias"
   ]
  },
  {
   "cell_type": "code",
   "execution_count": 28,
   "id": "b3e94c62",
   "metadata": {},
   "outputs": [
    {
     "data": {
      "text/plain": [
       "array([ 1.22850405e+05, -3.26523430e+04, -5.03073062e+03, -1.05649254e+04,\n",
       "       -1.41303076e+03, -3.26856829e+03, -8.30570796e+02,  4.42356798e+03,\n",
       "        9.73089448e+02,  2.87829820e+03,  1.22777949e+03, -1.44275712e+03,\n",
       "       -5.47886302e+03, -2.29739522e+03,  2.97940662e+04,  1.35006446e+03,\n",
       "        1.48711387e+03,  1.87274549e+03, -4.87481499e+03,  1.87274549e+03,\n",
       "        1.50857375e+04,  1.23573360e+04, -1.17922208e+04,  3.62529978e+03,\n",
       "       -3.00415312e+03,  2.08960824e+03, -2.65449578e+02,  3.01394437e+04,\n",
       "       -1.49515779e+04, -1.23572441e+04, -1.81207581e+03, -5.44236764e+03,\n",
       "        2.06014434e+02,  1.80181123e+03,  3.06522380e+04,  4.19956092e+03,\n",
       "        6.86853667e+02,  4.58001814e+04,  7.47403076e+03, -1.16475599e+04,\n",
       "        3.11490309e+03,  1.74794944e+04,  4.83496345e+04,  2.42545413e+03,\n",
       "        3.10562089e+03, -4.28437550e+02, -2.79750457e+03,  1.23573360e+04,\n",
       "        2.68873429e+04,  2.45036076e+04,  1.77449396e+04, -2.06952320e+02,\n",
       "        3.79353674e+04, -2.93648755e+03, -3.29756506e+03, -1.44412034e+03,\n",
       "       -7.85466727e+02, -3.26071152e+04,  1.66312510e+03,  4.07123941e+02,\n",
       "        1.12147296e+03,  4.00396336e+03,  1.43591863e+01, -6.18189897e+02,\n",
       "        1.30847146e+04, -1.91823563e+04, -6.12360833e+03,  3.70467072e+03,\n",
       "        9.90096583e+03,  3.16280383e+03,  1.49193856e+03, -5.98451775e+01,\n",
       "        3.56281520e+03,  3.13433484e+04,  2.20222498e+04, -2.98220744e+03,\n",
       "        3.21455384e+04, -1.67902083e+03, -1.60631299e+02, -2.46605605e+03,\n",
       "        1.70329188e+03, -1.70231926e+03, -2.64307875e+03, -7.51376116e+03,\n",
       "       -3.88619144e+02,  3.38170453e+03,  9.36363611e+02,  6.17101792e+03,\n",
       "        7.46354359e+03, -2.32087206e+04,  2.60354707e+02,  2.68054504e+04,\n",
       "       -1.24581188e+04,  1.78230698e+03,  2.81885219e+03,  5.64062738e+02,\n",
       "       -7.24369852e+02, -2.97225241e+02, -2.47476788e+04, -1.81207581e+03,\n",
       "       -9.25395668e+02, -1.85067805e+03,  1.34541199e+03, -3.25965528e+03,\n",
       "       -2.47288881e+04,  4.80681214e+04, -4.37965382e+02,  3.25209163e+03,\n",
       "       -6.15319236e+03, -3.64186835e+03,  4.55473295e+03, -8.43580448e+02,\n",
       "       -2.44244688e+02, -5.72462604e+03, -1.08229780e+03,  2.39868129e+03,\n",
       "       -3.68076598e+03, -2.16067846e+04,  1.94553580e+03,  3.48351708e+03,\n",
       "        7.47315796e+02,  2.05879434e+03,  1.41521062e+03,  1.55622042e+03,\n",
       "       -1.84378637e+04,  5.28184710e+04, -5.47886302e+03,  1.91715390e+04,\n",
       "        4.24087739e+04, -7.59024541e+03, -2.23709306e+03,  1.04630000e+04,\n",
       "        5.61393168e+03, -1.53011040e+04,  5.35005787e+03, -4.12687979e+03,\n",
       "       -4.65651217e+02,  1.62678788e+03,  4.18072303e+03,  1.38127423e+04,\n",
       "       -6.37953171e+02, -4.60938682e+03, -2.89787700e+03,  1.09218572e+04,\n",
       "        6.18017612e+03,  9.33995817e+03,  1.59062133e+03, -4.29564462e+04,\n",
       "       -2.55473369e+03, -1.23978647e+04, -2.97677676e+04, -1.76830065e+04,\n",
       "        8.82768515e+03,  3.80630561e+03, -5.55764603e+03, -2.80054722e+01,\n",
       "       -2.41530825e+02,  4.57767932e+04, -1.87547218e+04, -4.29610247e+03,\n",
       "       -9.44954387e+03,  3.12528565e+03, -3.76105836e+03,  1.86537004e+03,\n",
       "        7.76364950e+03,  5.60095224e+04,  2.04791495e+03, -7.88376236e+02,\n",
       "        7.15161350e+02, -3.13393998e+03,  5.34752000e+03, -5.70131800e+03,\n",
       "        2.24087976e+04, -2.97712874e+03, -7.75519787e+02,  2.38454224e+03,\n",
       "        3.05281023e+04, -1.26788280e+03, -8.45778218e+03, -1.81184741e+03,\n",
       "       -3.69419150e+03,  6.79411252e+03, -3.09449080e+03, -7.51432144e+03,\n",
       "       -2.12055804e+03,  1.24521234e+04, -1.02953509e+03, -3.84319609e+03,\n",
       "       -2.93038214e+02, -1.32411795e+04, -2.31704977e+02,  4.27717459e+02,\n",
       "        4.91724713e+02, -1.84141818e+03,  2.40488784e+02,  8.98760880e+03,\n",
       "       -1.65096895e+03, -7.35581940e+03, -9.77730162e+03,  2.68067762e+04,\n",
       "       -1.11927438e+03, -4.57350217e+02, -1.58853497e+03, -6.17963744e+03,\n",
       "        1.22777949e+03,  1.35006446e+03,  4.38710716e+03, -5.29580402e+03,\n",
       "        2.24147329e+03, -4.79204337e+03,  3.15591436e+03,  7.44336404e+03,\n",
       "        5.99533750e+03, -5.80320902e+03,  4.97907636e+02,  1.00399224e+03,\n",
       "        6.55682489e+03, -2.35155529e+04, -1.92815425e+03,  4.59404508e+00,\n",
       "       -4.31305617e+02, -1.61283113e+02, -4.06896976e+03,  7.99170764e+03,\n",
       "        2.42417087e+03,  4.61279060e+03, -2.19573064e+04,  1.91715390e+04,\n",
       "        3.02389739e+03,  7.23344572e+02,  8.85878386e+03,  1.52769227e+03,\n",
       "       -1.97004456e+03, -8.61204402e+02, -9.89821578e+02, -2.82589744e+03,\n",
       "        6.44058552e+04, -2.78484869e+03, -2.54946774e+04, -9.25221793e+03,\n",
       "        1.08535900e+03,  1.59338646e+04, -3.43864535e+03, -1.07441991e+04,\n",
       "       -1.85453179e+04,  3.84351052e+03,  1.52653536e+03, -8.05556644e+03,\n",
       "        2.65092248e+03, -1.18585273e+03, -1.63108277e+03,  5.68034632e+03,\n",
       "        1.10170375e+04,  3.39606648e+02, -3.45577931e+03,  2.42077973e+03,\n",
       "       -1.99986516e+03,  3.68211148e+03,  1.35353417e+03, -6.29046761e+03,\n",
       "       -8.28564630e+03, -2.32826647e+04, -1.18341332e+03, -2.20481514e+03,\n",
       "       -2.11516516e+03, -6.03087203e+03,  8.05483356e+04, -5.01591330e+03,\n",
       "       -3.41012744e+03, -8.94499991e+02,  3.91616087e+03,  2.58505495e+03,\n",
       "       -2.62940668e+03, -3.57516917e+03, -7.73916731e+02,  5.70619911e+02,\n",
       "        2.38615856e+03, -4.93490705e+03,  4.30946804e+03, -5.41174031e+01,\n",
       "        2.85063359e+02,  5.10135762e+03,  6.58253063e+02,  1.54190039e+03,\n",
       "       -7.95327312e+03, -1.67499086e+03,  8.84180518e+02, -4.18084217e+03,\n",
       "       -7.49273077e+02, -1.11197635e+02,  5.08947418e+03,  1.04231476e+03,\n",
       "       -9.00087149e+02, -1.04036207e+03, -1.19098984e+03,  3.24270785e+03,\n",
       "       -2.48884039e+03, -6.88550306e+03,  1.18376402e+03, -3.46462364e+03,\n",
       "        3.38170453e+03, -3.00840374e+01,  1.36497981e+04, -7.53596541e+02,\n",
       "       -2.71432174e+03,  8.41277710e+03,  2.12928851e+04,  2.40488784e+02,\n",
       "        2.69369906e+03,  2.34601567e+03, -1.57708749e+04,  4.03079903e+03,\n",
       "        2.20302735e+03, -1.63644585e+04,  1.87040198e+04, -1.02771317e+04,\n",
       "       -1.05603866e+04,  9.78559239e+03,  1.86023290e+03, -3.23604092e+03,\n",
       "       -5.36751594e+03, -2.18760366e+03, -6.88677194e+02, -2.60489909e+03,\n",
       "        2.54730144e+03, -6.51219257e+03, -1.51200164e+04, -5.53983295e+03,\n",
       "        1.81244451e+04,  1.24521234e+04,  1.09117946e+03,  7.39628979e+03,\n",
       "        1.13442760e+03, -3.83465953e+03,  1.15511237e+04, -8.31224344e+03,\n",
       "        1.37279528e+04,  6.50463790e+03,  9.45786854e+03, -9.19934931e+03,\n",
       "       -2.58725726e+03, -6.20867848e+02, -2.20724215e+03, -1.05917614e+03,\n",
       "       -4.63815400e+02,  5.37337599e+03,  6.79411252e+03,  2.82974831e+03,\n",
       "        2.06748958e+03, -3.26856829e+03, -2.00934861e+04,  1.63456580e+03,\n",
       "        2.64591521e+04, -8.84602148e+03, -6.29086169e+03, -2.91273964e+02,\n",
       "       -4.07242576e+03, -4.37353741e+03,  2.95863717e+04, -3.21215710e+03,\n",
       "       -3.90841255e+03,  8.39865888e+03, -7.26344546e+03,  2.47845739e+03,\n",
       "        4.07812389e+03, -4.38021962e+03,  7.30484693e+03, -4.41932993e+01,\n",
       "       -1.41765260e+02, -1.43083860e+03, -1.78183039e+03,  1.92725859e+03,\n",
       "       -5.04662553e+03, -1.66671118e+03,  9.85836094e+02,  1.13543023e+04,\n",
       "        1.43441253e+04, -2.20145626e+03, -5.37985792e+03, -1.18307832e+03,\n",
       "        1.07007270e+03,  5.65531402e+03, -1.46588871e+04, -2.23046265e+02,\n",
       "       -4.23490617e+03,  4.39149173e+02, -3.96807093e+03, -3.73961685e+03,\n",
       "        3.16280383e+03, -1.25006228e+04, -2.93038214e+02,  7.39628979e+03,\n",
       "       -5.89349741e+02, -2.41530825e+02,  5.28184710e+04,  2.42929009e+03,\n",
       "        8.41277710e+03,  1.58968566e+03,  8.10376213e+03,  1.42062323e+03,\n",
       "       -1.16843173e+04, -6.38182912e+02,  5.80798711e+03, -3.36400390e+03,\n",
       "       -1.95229580e+03,  2.90407717e+03,  1.59062133e+03,  5.46046811e+03,\n",
       "       -7.93848426e+02, -6.63535850e+03,  1.45113643e+03,  2.07264425e+03,\n",
       "        6.41856252e+03, -9.87328853e+02, -2.86864202e+02, -1.91859504e+04,\n",
       "        2.72935866e+03, -5.63434870e+03,  2.80747002e+03,  1.87196641e+03,\n",
       "       -4.36372547e+02, -6.49521767e+01,  2.93320354e+03, -2.86864202e+02,\n",
       "       -1.84273575e+03,  8.02861502e+03, -1.48164276e+04, -2.11516516e+03,\n",
       "       -1.38571087e+03, -1.20273737e+03,  1.07343291e+04, -1.10345519e+03,\n",
       "        3.25678554e+02, -2.01703752e+03,  3.76117603e+03, -4.28971266e+03,\n",
       "        4.07372527e+03,  4.58047528e+03,  4.27960510e+04,  1.18061633e+03,\n",
       "        2.64379728e+03, -1.85067805e+03,  8.53411071e+03, -3.13447376e+03,\n",
       "        3.67312275e+03,  1.27470432e+04, -2.69518534e+03,  6.68378596e+01,\n",
       "        7.32098320e+02,  3.01394437e+04, -8.89938137e+03, -3.65430001e+03,\n",
       "       -2.52993543e+03,  4.47613033e+03,  3.12828075e+04,  4.17080974e+02,\n",
       "       -7.24921221e+03, -9.44954387e+03, -5.38249700e+03, -2.98352978e+03,\n",
       "        8.99077380e+03,  5.77330458e+02, -2.74830531e+03, -1.11493329e+04,\n",
       "        8.56273613e+02, -8.31024050e+03,  9.73089448e+02,  7.21178456e+02,\n",
       "       -7.45615056e+03, -8.76722210e+03,  6.58447712e+02,  2.40488784e+02,\n",
       "        2.16723891e+04, -2.63994785e+02,  4.27960510e+04, -2.76522193e+03,\n",
       "       -4.06229149e+03, -4.37637658e+03, -1.40777379e+03,  5.93274474e+03,\n",
       "        2.37622487e+04,  2.94206090e+03, -9.11091771e+03,  6.20897878e+03,\n",
       "        1.79704292e+03,  2.87829820e+03,  9.38117929e+03, -1.34200857e+03,\n",
       "       -1.12912626e+04, -2.25847345e+03, -8.22936646e+03,  1.35353417e+03,\n",
       "       -1.49917593e+04,  2.73584473e+03,  3.14850325e+03, -2.93038214e+02,\n",
       "        2.35731071e+04,  2.08960824e+03, -5.05020805e+03, -1.03864083e+03,\n",
       "        1.13450581e+04,  8.24439965e+02, -2.93648755e+03,  3.87271366e+02,\n",
       "        2.41962125e+04,  9.14512933e+02, -1.45613791e+04,  5.96766112e+03,\n",
       "        5.90319716e+03, -6.34538688e+02, -3.03171273e+03,  2.83364848e+02,\n",
       "       -3.74562896e+03,  5.92808839e+03,  2.24082107e+03,  3.22885837e+03,\n",
       "       -3.82195268e+03, -1.34200857e+03, -7.92698318e+03,  8.09230303e+03,\n",
       "        4.58400638e+04,  3.33943103e+03, -9.11367405e+03, -1.37093583e+02,\n",
       "        1.58968566e+03, -9.87432934e+02, -4.19061564e+03,  4.50961855e+03,\n",
       "       -6.39453861e+03, -6.11453167e+02,  1.38926592e+04, -4.65782021e+02,\n",
       "        1.29242267e+03, -4.45855095e+03, -5.31119204e+03,  1.86505684e+03,\n",
       "        9.02415353e+03, -2.37310006e+03, -5.38752035e+03,  1.53772790e+04,\n",
       "       -8.00912836e+03,  3.17960431e+03,  5.59948710e+02,  2.22232068e+01,\n",
       "       -3.31531218e+03,  2.96731904e+03, -2.16840706e+04, -2.38779310e+03,\n",
       "        1.00127105e+03, -7.66830003e+02,  1.30847146e+04, -5.11827668e+02,\n",
       "       -2.95564304e+03,  6.02078318e+04, -2.27039132e+03,  1.17498021e+04,\n",
       "       -6.18698677e+03, -1.48714666e+03,  5.22667928e+03, -1.58914625e+02,\n",
       "       -9.97834647e+03, -1.70794220e+03,  1.66657243e+04,  2.24147329e+03,\n",
       "       -3.00840374e+01, -1.34563052e+03,  3.39276588e+04,  4.51639616e+03,\n",
       "       -4.89427657e+03,  5.25203810e+03, -1.49964673e+03,  1.95827215e+01,\n",
       "       -3.51152048e+03,  1.18274446e+04, -2.88731787e+03,  6.86853667e+02,\n",
       "       -2.75542458e+03,  3.06573392e+02,  2.57073681e+03, -3.12128484e+03,\n",
       "        1.66469131e+04, -1.06006665e+03,  3.10562089e+03,  8.45556849e+02,\n",
       "       -1.58914625e+02,  7.23171801e+02, -1.07814268e+04, -4.06042030e+03,\n",
       "       -5.26895913e+03,  8.42500304e+03, -7.72308168e+03,  2.92439433e+03,\n",
       "        3.77589379e+03, -2.31704977e+02, -3.39182677e+02, -1.03203506e+04,\n",
       "        5.61393168e+03,  7.45383211e+03, -6.44597586e+03, -7.59383879e+03,\n",
       "        1.43441253e+04, -2.95611743e+02,  1.40922948e+04,  1.21163071e+04,\n",
       "       -7.41042826e+02,  7.20342304e+03, -1.37425291e+03,  1.60637998e+04,\n",
       "        2.80782386e+03, -6.47706489e+03,  1.85901843e+04,  2.02707460e+04,\n",
       "        4.72681667e+03, -1.73010647e+03,  1.01374231e+04, -1.15753539e+04,\n",
       "       -1.25561459e+04,  2.76659356e+03,  2.40488784e+02,  4.21164870e+03,\n",
       "       -1.33799477e+01,  3.84572230e+02,  1.86023290e+03, -1.72776598e+03,\n",
       "        4.58001814e+04,  3.22936189e+04, -5.58134839e+03, -1.00635525e+04,\n",
       "       -1.45848367e+03,  4.58001814e+04, -3.31147522e+03, -1.41647521e+04,\n",
       "        8.39865888e+03,  5.87974024e+03, -6.19010359e+02, -8.67434036e+03,\n",
       "        9.02415353e+03,  1.03364429e+03,  2.76463531e+02,  6.36684187e+04,\n",
       "       -2.99779993e+04,  3.57120165e+02, -1.04566959e+02,  1.99535780e+03,\n",
       "        2.13523596e+03,  4.36672334e+03, -2.69888017e+03,  9.12204890e+03,\n",
       "        4.87314659e+03, -2.59735085e+03, -8.51225769e+02, -4.00008135e+02,\n",
       "        1.35379497e+04, -6.88323920e+02,  5.87251728e+01,  2.94440514e+03,\n",
       "        5.17466945e+03, -1.59559923e+02,  2.22901361e+02,  5.82115469e+03,\n",
       "        1.77613578e+03,  1.38293083e+04,  4.47428909e+03, -7.31926978e+02,\n",
       "        2.08471456e+04, -1.95593764e+04,  2.97038184e+03, -2.04506716e+04,\n",
       "        1.85261875e+03, -5.81644175e+03,  1.15670830e+04,  4.07214169e+04,\n",
       "       -4.07214169e+04,  7.76761301e+03, -1.02502113e+03, -6.06153715e+03,\n",
       "        1.27012126e+04, -6.67334865e+03])"
      ]
     },
     "execution_count": 28,
     "metadata": {},
     "output_type": "execute_result"
    }
   ],
   "source": [
    "reg.coef_"
   ]
  },
  {
   "cell_type": "code",
   "execution_count": 29,
   "id": "0de3eb20",
   "metadata": {
    "scrolled": false
   },
   "outputs": [
    {
     "data": {
      "text/plain": [
       "503395.9000576068"
      ]
     },
     "execution_count": 29,
     "metadata": {},
     "output_type": "execute_result"
    }
   ],
   "source": [
    "reg.intercept_"
   ]
  },
  {
   "cell_type": "markdown",
   "id": "0a9c06f6",
   "metadata": {},
   "source": [
    "# 7. Prediction"
   ]
  },
  {
   "cell_type": "markdown",
   "id": "7c783f64",
   "metadata": {},
   "source": [
    "## 7.1. Training Set"
   ]
  },
  {
   "cell_type": "code",
   "execution_count": 30,
   "id": "d37c1efb",
   "metadata": {},
   "outputs": [],
   "source": [
    "y_pred_train = reg.predict(X_train_scaled)"
   ]
  },
  {
   "cell_type": "markdown",
   "id": "7b8637af",
   "metadata": {},
   "source": [
    "## 7.2. Test Set"
   ]
  },
  {
   "cell_type": "code",
   "execution_count": 31,
   "id": "4aa6a126",
   "metadata": {},
   "outputs": [],
   "source": [
    "y_pred_test = reg.predict(X_test_scaled)"
   ]
  },
  {
   "cell_type": "markdown",
   "id": "b3a3ed67",
   "metadata": {},
   "source": [
    "# 8. Model Evaluation"
   ]
  },
  {
   "cell_type": "markdown",
   "id": "f23a1fe3",
   "metadata": {},
   "source": [
    "## 8.1. Training Set"
   ]
  },
  {
   "cell_type": "markdown",
   "id": "495fa7eb",
   "metadata": {},
   "source": [
    "### 8.1.1. Scoring"
   ]
  },
  {
   "cell_type": "code",
   "execution_count": 32,
   "id": "cd9435b9",
   "metadata": {},
   "outputs": [
    {
     "name": "stdout",
     "output_type": "stream",
     "text": [
      "r2_score =\t\t\t 0.9603656424004293\n",
      "mean_squared_error =\t\t 13887779053.520031\n",
      "mean_absolute_error =\t\t 73176.32695402476\n",
      "mean_absolute_percentage_error = 0.2469719142750561\n"
     ]
    }
   ],
   "source": [
    "print('r2_score =\\t\\t\\t', r2_score(y_train, y_pred_train))\n",
    "print('mean_squared_error =\\t\\t', mean_squared_error(y_train, y_pred_train))\n",
    "print('mean_absolute_error =\\t\\t', mean_absolute_error(y_train, y_pred_train))\n",
    "print('mean_absolute_percentage_error =', mean_absolute_percentage_error(y_train, y_pred_train))"
   ]
  },
  {
   "cell_type": "markdown",
   "id": "19045164",
   "metadata": {},
   "source": [
    "### 8.1.2. Scatter Plot between Predicted & Actual Values"
   ]
  },
  {
   "cell_type": "code",
   "execution_count": 33,
   "id": "3327350f",
   "metadata": {},
   "outputs": [
    {
     "data": {
      "text/plain": [
       "Text(0, 0.5, 'Actual')"
      ]
     },
     "execution_count": 33,
     "metadata": {},
     "output_type": "execute_result"
    },
    {
     "data": {
      "image/png": "[encoded data removed]",
      "text/plain": [
       "<Figure size 432x288 with 1 Axes>"
      ]
     },
     "metadata": {
      "needs_background": "light"
     },
     "output_type": "display_data"
    }
   ],
   "source": [
    "plt.scatter(y_pred_train, y_train)\n",
    "\n",
    "plt.plot(y_pred_train, y_pred_train, color='red')\n",
    "\n",
    "plt.title('Scatter Plot between Predicted & Actual Values')\n",
    "plt.xlabel('Predicted')\n",
    "plt.ylabel('Actual')"
   ]
  },
  {
   "cell_type": "markdown",
   "id": "5e775742",
   "metadata": {},
   "source": [
    "## 8.2. Test Set"
   ]
  },
  {
   "cell_type": "markdown",
   "id": "030ae25f",
   "metadata": {},
   "source": [
    "### 8.2.1. Scoring"
   ]
  },
  {
   "cell_type": "code",
   "execution_count": 34,
   "id": "19a1e8a3",
   "metadata": {},
   "outputs": [
    {
     "name": "stdout",
     "output_type": "stream",
     "text": [
      "r2_score =\t\t\t 0.8701379145514552\n",
      "mean_squared_error =\t\t 35271445946.26965\n",
      "mean_absolute_error =\t\t 104379.25140700304\n",
      "mean_absolute_percentage_error = 0.30523701998743114\n"
     ]
    }
   ],
   "source": [
    "print('r2_score =\\t\\t\\t', r2_score(y_test, y_pred_test))\n",
    "print('mean_squared_error =\\t\\t', mean_squared_error(y_test, y_pred_test))\n",
    "print('mean_absolute_error =\\t\\t', mean_absolute_error(y_test, y_pred_test))\n",
    "print('mean_absolute_percentage_error =', mean_absolute_percentage_error(y_test, y_pred_test))"
   ]
  },
  {
   "cell_type": "markdown",
   "id": "08c3d5cb",
   "metadata": {},
   "source": [
    "### 8.2.2. Scatter Plot between Predicted & Actual Values"
   ]
  },
  {
   "cell_type": "code",
   "execution_count": 35,
   "id": "84be8bff",
   "metadata": {
    "scrolled": true
   },
   "outputs": [
    {
     "data": {
      "text/plain": [
       "Text(0, 0.5, 'Actual')"
      ]
     },
     "execution_count": 35,
     "metadata": {},
     "output_type": "execute_result"
    },
    {
     "data": {
      "image/png": "[encoded data removed]",
      "text/plain": [
       "<Figure size 432x288 with 1 Axes>"
      ]
     },
     "metadata": {
      "needs_background": "light"
     },
     "output_type": "display_data"
    }
   ],
   "source": [
    "plt.scatter(y_pred_test, y_test)\n",
    "\n",
    "plt.plot(y_pred_test, y_pred_test, color='red')\n",
    "\n",
    "plt.title('Scatter Plot between Predicted & Actual Values')\n",
    "plt.xlabel('Predicted')\n",
    "plt.ylabel('Actual')"
   ]
  },
  {
   "cell_type": "markdown",
   "id": "61229e2e",
   "metadata": {},
   "source": [
    "# 9. Save Model"
   ]
  },
  {
   "cell_type": "code",
   "execution_count": 36,
   "id": "ff0f745b",
   "metadata": {},
   "outputs": [],
   "source": [
    "import pickle"
   ]
  },
  {
   "cell_type": "code",
   "execution_count": 37,
   "id": "899698b8",
   "metadata": {},
   "outputs": [],
   "source": [
    "pickle.dump((reg, \n",
    "             vectorizer, \n",
    "             one_hot_encoder, \n",
    "             scaler, \n",
    "             feature_name, \n",
    "             numerical_feature, \n",
    "             ordinal_feature, \n",
    "             nominal_feature), \n",
    "            open('car_price_ridge.pickle', 'wb'))"
   ]
  }
 ],
 "metadata": {
  "kernelspec": {
   "display_name": "Python 3",
   "language": "python",
   "name": "python3"
  },
  "language_info": {
   "codemirror_mode": {
    "name": "ipython",
    "version": 3
   },
   "file_extension": ".py",
   "mimetype": "text/x-python",
   "name": "python",
   "nbconvert_exporter": "python",
   "pygments_lexer": "ipython3",
   "version": "3.8.8"
  }
 },
 "nbformat": 4,
 "nbformat_minor": 5
}
