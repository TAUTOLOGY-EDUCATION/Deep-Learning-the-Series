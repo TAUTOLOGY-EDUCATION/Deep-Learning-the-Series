{
 "cells": [
  {
   "cell_type": "markdown",
   "id": "254369d5",
   "metadata": {},
   "source": [
    "# 1. Import Libraries"
   ]
  },
  {
   "cell_type": "code",
   "execution_count": 1,
   "id": "15ee3b21",
   "metadata": {},
   "outputs": [],
   "source": [
    "import numpy as np\n",
    "import pandas as pd\n",
    "import matplotlib.pyplot as plt\n",
    "\n",
    "from sklearn.model_selection import train_test_split\n",
    "from sklearn.feature_extraction.text import CountVectorizer\n",
    "from sklearn.preprocessing import (\n",
    "    OrdinalEncoder, \n",
    "    OneHotEncoder, \n",
    "    StandardScaler, \n",
    "    MinMaxScaler\n",
    ")\n",
    "from sklearn.linear_model import ElasticNetCV\n",
    "from sklearn.metrics import (\n",
    "    r2_score, \n",
    "    mean_squared_error, \n",
    "    mean_absolute_error, \n",
    "    mean_absolute_percentage_error\n",
    ")\n",
    "\n",
    "import warnings\n",
    "warnings.filterwarnings('ignore')\n",
    "\n",
    "np.random.seed(12345)"
   ]
  },
  {
   "cell_type": "markdown",
   "id": "6dfa75aa",
   "metadata": {},
   "source": [
    "# 2. Read Data"
   ]
  },
  {
   "cell_type": "code",
   "execution_count": 2,
   "id": "1a392dd5",
   "metadata": {},
   "outputs": [
    {
     "data": {
      "text/html": [
       "<div>\n",
       "<style scoped>\n",
       "    .dataframe tbody tr th:only-of-type {\n",
       "        vertical-align: middle;\n",
       "    }\n",
       "\n",
       "    .dataframe tbody tr th {\n",
       "        vertical-align: top;\n",
       "    }\n",
       "\n",
       "    .dataframe thead th {\n",
       "        text-align: right;\n",
       "    }\n",
       "</style>\n",
       "<table border=\"1\" class=\"dataframe\">\n",
       "  <thead>\n",
       "    <tr style=\"text-align: right;\">\n",
       "      <th></th>\n",
       "      <th>name</th>\n",
       "      <th>year</th>\n",
       "      <th>selling_price</th>\n",
       "      <th>km_driven</th>\n",
       "      <th>fuel</th>\n",
       "      <th>seller_type</th>\n",
       "      <th>transmission</th>\n",
       "      <th>owner</th>\n",
       "    </tr>\n",
       "  </thead>\n",
       "  <tbody>\n",
       "    <tr>\n",
       "      <th>0</th>\n",
       "      <td>Maruti 800 AC</td>\n",
       "      <td>2007</td>\n",
       "      <td>60000</td>\n",
       "      <td>70000</td>\n",
       "      <td>Petrol</td>\n",
       "      <td>Individual</td>\n",
       "      <td>Manual</td>\n",
       "      <td>First Owner</td>\n",
       "    </tr>\n",
       "    <tr>\n",
       "      <th>1</th>\n",
       "      <td>Maruti Wagon R LXI Minor</td>\n",
       "      <td>2007</td>\n",
       "      <td>135000</td>\n",
       "      <td>50000</td>\n",
       "      <td>Petrol</td>\n",
       "      <td>Individual</td>\n",
       "      <td>Manual</td>\n",
       "      <td>First Owner</td>\n",
       "    </tr>\n",
       "    <tr>\n",
       "      <th>2</th>\n",
       "      <td>Hyundai Verna 1.6 SX</td>\n",
       "      <td>2012</td>\n",
       "      <td>600000</td>\n",
       "      <td>100000</td>\n",
       "      <td>Diesel</td>\n",
       "      <td>Individual</td>\n",
       "      <td>Manual</td>\n",
       "      <td>First Owner</td>\n",
       "    </tr>\n",
       "    <tr>\n",
       "      <th>3</th>\n",
       "      <td>Datsun RediGO T Option</td>\n",
       "      <td>2017</td>\n",
       "      <td>250000</td>\n",
       "      <td>46000</td>\n",
       "      <td>Petrol</td>\n",
       "      <td>Individual</td>\n",
       "      <td>Manual</td>\n",
       "      <td>First Owner</td>\n",
       "    </tr>\n",
       "    <tr>\n",
       "      <th>4</th>\n",
       "      <td>Honda Amaze VX i-DTEC</td>\n",
       "      <td>2014</td>\n",
       "      <td>450000</td>\n",
       "      <td>141000</td>\n",
       "      <td>Diesel</td>\n",
       "      <td>Individual</td>\n",
       "      <td>Manual</td>\n",
       "      <td>Second Owner</td>\n",
       "    </tr>\n",
       "    <tr>\n",
       "      <th>...</th>\n",
       "      <td>...</td>\n",
       "      <td>...</td>\n",
       "      <td>...</td>\n",
       "      <td>...</td>\n",
       "      <td>...</td>\n",
       "      <td>...</td>\n",
       "      <td>...</td>\n",
       "      <td>...</td>\n",
       "    </tr>\n",
       "    <tr>\n",
       "      <th>4335</th>\n",
       "      <td>Hyundai i20 Magna 1.4 CRDi (Diesel)</td>\n",
       "      <td>2014</td>\n",
       "      <td>409999</td>\n",
       "      <td>80000</td>\n",
       "      <td>Diesel</td>\n",
       "      <td>Individual</td>\n",
       "      <td>Manual</td>\n",
       "      <td>Second Owner</td>\n",
       "    </tr>\n",
       "    <tr>\n",
       "      <th>4336</th>\n",
       "      <td>Hyundai i20 Magna 1.4 CRDi</td>\n",
       "      <td>2014</td>\n",
       "      <td>409999</td>\n",
       "      <td>80000</td>\n",
       "      <td>Diesel</td>\n",
       "      <td>Individual</td>\n",
       "      <td>Manual</td>\n",
       "      <td>Second Owner</td>\n",
       "    </tr>\n",
       "    <tr>\n",
       "      <th>4337</th>\n",
       "      <td>Maruti 800 AC BSIII</td>\n",
       "      <td>2009</td>\n",
       "      <td>110000</td>\n",
       "      <td>83000</td>\n",
       "      <td>Petrol</td>\n",
       "      <td>Individual</td>\n",
       "      <td>Manual</td>\n",
       "      <td>Second Owner</td>\n",
       "    </tr>\n",
       "    <tr>\n",
       "      <th>4338</th>\n",
       "      <td>Hyundai Creta 1.6 CRDi SX Option</td>\n",
       "      <td>2016</td>\n",
       "      <td>865000</td>\n",
       "      <td>90000</td>\n",
       "      <td>Diesel</td>\n",
       "      <td>Individual</td>\n",
       "      <td>Manual</td>\n",
       "      <td>First Owner</td>\n",
       "    </tr>\n",
       "    <tr>\n",
       "      <th>4339</th>\n",
       "      <td>Renault KWID RXT</td>\n",
       "      <td>2016</td>\n",
       "      <td>225000</td>\n",
       "      <td>40000</td>\n",
       "      <td>Petrol</td>\n",
       "      <td>Individual</td>\n",
       "      <td>Manual</td>\n",
       "      <td>First Owner</td>\n",
       "    </tr>\n",
       "  </tbody>\n",
       "</table>\n",
       "<p>4340 rows × 8 columns</p>\n",
       "</div>"
      ],
      "text/plain": [
       "                                     name  year  selling_price  km_driven  \\\n",
       "0                           Maruti 800 AC  2007          60000      70000   \n",
       "1                Maruti Wagon R LXI Minor  2007         135000      50000   \n",
       "2                    Hyundai Verna 1.6 SX  2012         600000     100000   \n",
       "3                  Datsun RediGO T Option  2017         250000      46000   \n",
       "4                   Honda Amaze VX i-DTEC  2014         450000     141000   \n",
       "...                                   ...   ...            ...        ...   \n",
       "4335  Hyundai i20 Magna 1.4 CRDi (Diesel)  2014         409999      80000   \n",
       "4336           Hyundai i20 Magna 1.4 CRDi  2014         409999      80000   \n",
       "4337                  Maruti 800 AC BSIII  2009         110000      83000   \n",
       "4338     Hyundai Creta 1.6 CRDi SX Option  2016         865000      90000   \n",
       "4339                     Renault KWID RXT  2016         225000      40000   \n",
       "\n",
       "        fuel seller_type transmission         owner  \n",
       "0     Petrol  Individual       Manual   First Owner  \n",
       "1     Petrol  Individual       Manual   First Owner  \n",
       "2     Diesel  Individual       Manual   First Owner  \n",
       "3     Petrol  Individual       Manual   First Owner  \n",
       "4     Diesel  Individual       Manual  Second Owner  \n",
       "...      ...         ...          ...           ...  \n",
       "4335  Diesel  Individual       Manual  Second Owner  \n",
       "4336  Diesel  Individual       Manual  Second Owner  \n",
       "4337  Petrol  Individual       Manual  Second Owner  \n",
       "4338  Diesel  Individual       Manual   First Owner  \n",
       "4339  Petrol  Individual       Manual   First Owner  \n",
       "\n",
       "[4340 rows x 8 columns]"
      ]
     },
     "execution_count": 2,
     "metadata": {},
     "output_type": "execute_result"
    }
   ],
   "source": [
    "data = pd.read_csv('car_price_dataset.csv')\n",
    "\n",
    "data"
   ]
  },
  {
   "cell_type": "markdown",
   "id": "430aa8f7",
   "metadata": {},
   "source": [
    "# 3. Clean Data"
   ]
  },
  {
   "cell_type": "markdown",
   "id": "a8e836c9",
   "metadata": {},
   "source": [
    "## 3.1. Handle Missing Values"
   ]
  },
  {
   "cell_type": "markdown",
   "id": "b605aa1e",
   "metadata": {},
   "source": [
    "### 3.1.1. Check Missing Values"
   ]
  },
  {
   "cell_type": "code",
   "execution_count": 3,
   "id": "fa55ce19",
   "metadata": {},
   "outputs": [
    {
     "name": "stdout",
     "output_type": "stream",
     "text": [
      "<class 'pandas.core.frame.DataFrame'>\n",
      "RangeIndex: 4340 entries, 0 to 4339\n",
      "Data columns (total 8 columns):\n",
      " #   Column         Non-Null Count  Dtype \n",
      "---  ------         --------------  ----- \n",
      " 0   name           4340 non-null   object\n",
      " 1   year           4340 non-null   int64 \n",
      " 2   selling_price  4340 non-null   int64 \n",
      " 3   km_driven      4340 non-null   int64 \n",
      " 4   fuel           4340 non-null   object\n",
      " 5   seller_type    4340 non-null   object\n",
      " 6   transmission   4340 non-null   object\n",
      " 7   owner          4340 non-null   object\n",
      "dtypes: int64(3), object(5)\n",
      "memory usage: 271.4+ KB\n"
     ]
    }
   ],
   "source": [
    "data.info()"
   ]
  },
  {
   "cell_type": "markdown",
   "id": "d5f8d044",
   "metadata": {},
   "source": [
    "### 3.1.2. Remove Missing Values"
   ]
  },
  {
   "cell_type": "code",
   "execution_count": 4,
   "id": "574e4016",
   "metadata": {},
   "outputs": [],
   "source": [
    "# no NaN to remove\n",
    "# data.dropna(axis=0, inplace=True)"
   ]
  },
  {
   "cell_type": "markdown",
   "id": "80c7ad44",
   "metadata": {},
   "source": [
    "## 3.2. Handle Outliers"
   ]
  },
  {
   "cell_type": "markdown",
   "id": "757ef138",
   "metadata": {},
   "source": [
    "### 3.2.1. Check Outliers"
   ]
  },
  {
   "cell_type": "code",
   "execution_count": 5,
   "id": "edf9cc3c",
   "metadata": {},
   "outputs": [
    {
     "data": {
      "text/html": [
       "<div>\n",
       "<style scoped>\n",
       "    .dataframe tbody tr th:only-of-type {\n",
       "        vertical-align: middle;\n",
       "    }\n",
       "\n",
       "    .dataframe tbody tr th {\n",
       "        vertical-align: top;\n",
       "    }\n",
       "\n",
       "    .dataframe thead th {\n",
       "        text-align: right;\n",
       "    }\n",
       "</style>\n",
       "<table border=\"1\" class=\"dataframe\">\n",
       "  <thead>\n",
       "    <tr style=\"text-align: right;\">\n",
       "      <th></th>\n",
       "      <th>year</th>\n",
       "      <th>selling_price</th>\n",
       "      <th>km_driven</th>\n",
       "    </tr>\n",
       "  </thead>\n",
       "  <tbody>\n",
       "    <tr>\n",
       "      <th>count</th>\n",
       "      <td>4340.000000</td>\n",
       "      <td>4.340000e+03</td>\n",
       "      <td>4340.000000</td>\n",
       "    </tr>\n",
       "    <tr>\n",
       "      <th>mean</th>\n",
       "      <td>2013.090783</td>\n",
       "      <td>5.041273e+05</td>\n",
       "      <td>66215.777419</td>\n",
       "    </tr>\n",
       "    <tr>\n",
       "      <th>std</th>\n",
       "      <td>4.215344</td>\n",
       "      <td>5.785487e+05</td>\n",
       "      <td>46644.102194</td>\n",
       "    </tr>\n",
       "    <tr>\n",
       "      <th>min</th>\n",
       "      <td>1992.000000</td>\n",
       "      <td>2.000000e+04</td>\n",
       "      <td>1.000000</td>\n",
       "    </tr>\n",
       "    <tr>\n",
       "      <th>25%</th>\n",
       "      <td>2011.000000</td>\n",
       "      <td>2.087498e+05</td>\n",
       "      <td>35000.000000</td>\n",
       "    </tr>\n",
       "    <tr>\n",
       "      <th>50%</th>\n",
       "      <td>2014.000000</td>\n",
       "      <td>3.500000e+05</td>\n",
       "      <td>60000.000000</td>\n",
       "    </tr>\n",
       "    <tr>\n",
       "      <th>75%</th>\n",
       "      <td>2016.000000</td>\n",
       "      <td>6.000000e+05</td>\n",
       "      <td>90000.000000</td>\n",
       "    </tr>\n",
       "    <tr>\n",
       "      <th>max</th>\n",
       "      <td>2020.000000</td>\n",
       "      <td>8.900000e+06</td>\n",
       "      <td>806599.000000</td>\n",
       "    </tr>\n",
       "  </tbody>\n",
       "</table>\n",
       "</div>"
      ],
      "text/plain": [
       "              year  selling_price      km_driven\n",
       "count  4340.000000   4.340000e+03    4340.000000\n",
       "mean   2013.090783   5.041273e+05   66215.777419\n",
       "std       4.215344   5.785487e+05   46644.102194\n",
       "min    1992.000000   2.000000e+04       1.000000\n",
       "25%    2011.000000   2.087498e+05   35000.000000\n",
       "50%    2014.000000   3.500000e+05   60000.000000\n",
       "75%    2016.000000   6.000000e+05   90000.000000\n",
       "max    2020.000000   8.900000e+06  806599.000000"
      ]
     },
     "execution_count": 5,
     "metadata": {},
     "output_type": "execute_result"
    }
   ],
   "source": [
    "data.describe()"
   ]
  },
  {
   "cell_type": "markdown",
   "id": "8382848b",
   "metadata": {},
   "source": [
    "## 3.2.2. Remove Outliers"
   ]
  },
  {
   "cell_type": "code",
   "execution_count": 6,
   "id": "890dfda9",
   "metadata": {},
   "outputs": [],
   "source": [
    "# no outlier to remove"
   ]
  },
  {
   "cell_type": "markdown",
   "id": "b099bde8",
   "metadata": {},
   "source": [
    "# 4. Split Dataset into Training & Test Sets"
   ]
  },
  {
   "cell_type": "code",
   "execution_count": 7,
   "id": "c87a6bb1",
   "metadata": {},
   "outputs": [],
   "source": [
    "target_name = 'selling_price'\n",
    "feature_name = list(data.columns.drop(target_name))"
   ]
  },
  {
   "cell_type": "code",
   "execution_count": 8,
   "id": "767b5284",
   "metadata": {},
   "outputs": [],
   "source": [
    "X = data[feature_name]\n",
    "y = data[target_name]"
   ]
  },
  {
   "cell_type": "code",
   "execution_count": 9,
   "id": "5b34fc7e",
   "metadata": {},
   "outputs": [],
   "source": [
    "X_train, X_test, y_train, y_test = train_test_split(X, y, test_size=0.20, shuffle=True)"
   ]
  },
  {
   "cell_type": "markdown",
   "id": "b08643a0",
   "metadata": {},
   "source": [
    "# 5. Data Preparation"
   ]
  },
  {
   "cell_type": "markdown",
   "id": "3b7f96de",
   "metadata": {},
   "source": [
    "## 5.1. Count Vectorization"
   ]
  },
  {
   "cell_type": "markdown",
   "id": "d6ec84f3",
   "metadata": {},
   "source": [
    "### 5.1.1. Training Set"
   ]
  },
  {
   "cell_type": "code",
   "execution_count": 10,
   "id": "51ae20f4",
   "metadata": {},
   "outputs": [],
   "source": [
    "corpus_train = X_train['name'].tolist()\n",
    "vectorizer = CountVectorizer()\n",
    "vectorizer.fit(corpus_train)\n",
    "cnt_vec_train = vectorizer.transform(corpus_train).toarray()"
   ]
  },
  {
   "cell_type": "code",
   "execution_count": 11,
   "id": "a8a9183c",
   "metadata": {},
   "outputs": [],
   "source": [
    "cnt_vec_feature_name = ['con_' + feature for feature in vectorizer.get_feature_names()]"
   ]
  },
  {
   "cell_type": "code",
   "execution_count": 12,
   "id": "64128abb",
   "metadata": {},
   "outputs": [],
   "source": [
    "X_train[cnt_vec_feature_name] = cnt_vec_train\n",
    "X_train.drop('name', axis=1, inplace=True)"
   ]
  },
  {
   "cell_type": "markdown",
   "id": "55f4f2d2",
   "metadata": {},
   "source": [
    "### 5.1.2. Test Set"
   ]
  },
  {
   "cell_type": "code",
   "execution_count": 13,
   "id": "38323897",
   "metadata": {},
   "outputs": [],
   "source": [
    "corpus_test = X_test['name'].tolist()\n",
    "cnt_vec_test = vectorizer.transform(corpus_test).toarray()"
   ]
  },
  {
   "cell_type": "code",
   "execution_count": 14,
   "id": "9c6dfc0b",
   "metadata": {},
   "outputs": [],
   "source": [
    "X_test[cnt_vec_feature_name] = cnt_vec_test\n",
    "X_test.drop('name', axis=1, inplace=True)"
   ]
  },
  {
   "cell_type": "markdown",
   "id": "6b3f3c27",
   "metadata": {},
   "source": [
    "## ===== Ordinal Encoding & One Hot Encoding ====="
   ]
  },
  {
   "cell_type": "code",
   "execution_count": 15,
   "id": "f18762c2",
   "metadata": {},
   "outputs": [],
   "source": [
    "numerical_feature = ['year', 'km_driven']\n",
    "categorical_feature = ['fuel', 'seller_type', 'transmission', 'owner']\n",
    "numerical_feature.extend(cnt_vec_feature_name)"
   ]
  },
  {
   "cell_type": "code",
   "execution_count": 16,
   "id": "9a3c625f",
   "metadata": {},
   "outputs": [
    {
     "name": "stdout",
     "output_type": "stream",
     "text": [
      "fuel : ['CNG' 'Diesel' 'Electric' 'LPG' 'Petrol']\n",
      "seller_type : ['Dealer' 'Individual' 'Trustmark Dealer']\n",
      "transmission : ['Automatic' 'Manual']\n",
      "owner : ['First Owner' 'Fourth & Above Owner' 'Second Owner' 'Test Drive Car'\n",
      " 'Third Owner']\n"
     ]
    }
   ],
   "source": [
    "for feature in categorical_feature:\n",
    "    print(feature, ':', np.unique(X_train[feature]))"
   ]
  },
  {
   "cell_type": "code",
   "execution_count": 17,
   "id": "062ff270",
   "metadata": {},
   "outputs": [],
   "source": [
    "ordinal_feature = []\n",
    "nominal_feature = list(categorical_feature)"
   ]
  },
  {
   "cell_type": "markdown",
   "id": "76d7dafc",
   "metadata": {},
   "source": [
    "## ## 5.2. Ordinal Encoding"
   ]
  },
  {
   "cell_type": "markdown",
   "id": "fe9c2d7d",
   "metadata": {},
   "source": [
    "## 5.3. One Hot Encoding"
   ]
  },
  {
   "cell_type": "markdown",
   "id": "38a5fd33",
   "metadata": {},
   "source": [
    "### 5.3.1. Training Set"
   ]
  },
  {
   "cell_type": "code",
   "execution_count": 18,
   "id": "af66023d",
   "metadata": {},
   "outputs": [
    {
     "data": {
      "text/plain": [
       "OneHotEncoder(handle_unknown='ignore', sparse=False)"
      ]
     },
     "execution_count": 18,
     "metadata": {},
     "output_type": "execute_result"
    }
   ],
   "source": [
    "one_hot_encoder = OneHotEncoder(sparse=False, handle_unknown='ignore')\n",
    "one_hot_encoder.fit(X_train[nominal_feature])"
   ]
  },
  {
   "cell_type": "code",
   "execution_count": 19,
   "id": "200ec320",
   "metadata": {},
   "outputs": [],
   "source": [
    "one_hot_feature = []\n",
    "for i, feature in enumerate(nominal_feature):\n",
    "    for cate in one_hot_encoder.categories_[i]:\n",
    "        one_hot_feature_name = str(feature) + '_' + str(cate)\n",
    "        one_hot_feature.append(one_hot_feature_name)"
   ]
  },
  {
   "cell_type": "code",
   "execution_count": 20,
   "id": "8fffbfed",
   "metadata": {},
   "outputs": [],
   "source": [
    "X_train[one_hot_feature] = one_hot_encoder.transform(X_train[nominal_feature])\n",
    "X_train.drop(nominal_feature, axis=1, inplace=True)"
   ]
  },
  {
   "cell_type": "markdown",
   "id": "cac949b7",
   "metadata": {},
   "source": [
    "### 5.3.2. Test Set"
   ]
  },
  {
   "cell_type": "code",
   "execution_count": 21,
   "id": "deebe96d",
   "metadata": {},
   "outputs": [],
   "source": [
    "X_test[one_hot_feature] = one_hot_encoder.transform(X_test[nominal_feature])\n",
    "X_test.drop(nominal_feature, axis=1, inplace=True)"
   ]
  },
  {
   "cell_type": "markdown",
   "id": "8ecf9b01",
   "metadata": {},
   "source": [
    "## 5.4. Feature Scaling"
   ]
  },
  {
   "cell_type": "markdown",
   "id": "d1e89336",
   "metadata": {},
   "source": [
    "### 5.4.1. Training Set"
   ]
  },
  {
   "cell_type": "code",
   "execution_count": 22,
   "id": "606111fb",
   "metadata": {},
   "outputs": [],
   "source": [
    "scaler = StandardScaler()\n",
    "X_train_scaled = scaler.fit_transform(X_train)"
   ]
  },
  {
   "cell_type": "markdown",
   "id": "6f72523d",
   "metadata": {},
   "source": [
    "### 5.4.2. Test Set"
   ]
  },
  {
   "cell_type": "code",
   "execution_count": 23,
   "id": "17bab058",
   "metadata": {},
   "outputs": [],
   "source": [
    "X_test_scaled = scaler.transform(X_test)"
   ]
  },
  {
   "cell_type": "markdown",
   "id": "7cb412c6",
   "metadata": {},
   "source": [
    "# 6. Model Creation"
   ]
  },
  {
   "cell_type": "markdown",
   "id": "e462cb14",
   "metadata": {},
   "source": [
    "## 6.1. Setting Parameters"
   ]
  },
  {
   "cell_type": "code",
   "execution_count": 24,
   "id": "5e18cf0d",
   "metadata": {},
   "outputs": [],
   "source": [
    "l1_ratio = [0.01, 0.05, 0.1, 0.5, 0.7, 0.9, 0.95, 0.99, 1]"
   ]
  },
  {
   "cell_type": "code",
   "execution_count": 25,
   "id": "d89261c9",
   "metadata": {},
   "outputs": [],
   "source": [
    "reg = ElasticNetCV(l1_ratio=l1_ratio, n_alphas=100, cv=5)"
   ]
  },
  {
   "cell_type": "markdown",
   "id": "c7c21452",
   "metadata": {},
   "source": [
    "## 6.2. Train Model"
   ]
  },
  {
   "cell_type": "code",
   "execution_count": 26,
   "id": "c566859b",
   "metadata": {},
   "outputs": [
    {
     "data": {
      "text/plain": [
       "ElasticNetCV(cv=5, l1_ratio=[0.01, 0.05, 0.1, 0.5, 0.7, 0.9, 0.95, 0.99, 1])"
      ]
     },
     "execution_count": 26,
     "metadata": {},
     "output_type": "execute_result"
    }
   ],
   "source": [
    "reg.fit(X_train_scaled, y_train)"
   ]
  },
  {
   "cell_type": "code",
   "execution_count": 27,
   "id": "56679cfe",
   "metadata": {},
   "outputs": [
    {
     "data": {
      "text/plain": [
       "1.0"
      ]
     },
     "execution_count": 27,
     "metadata": {},
     "output_type": "execute_result"
    }
   ],
   "source": [
    "reg.l1_ratio_"
   ]
  },
  {
   "cell_type": "code",
   "execution_count": 28,
   "id": "7fe58b35",
   "metadata": {},
   "outputs": [
    {
     "data": {
      "text/plain": [
       "2534.2233086058495"
      ]
     },
     "execution_count": 28,
     "metadata": {},
     "output_type": "execute_result"
    }
   ],
   "source": [
    "reg.alpha_"
   ]
  },
  {
   "cell_type": "markdown",
   "id": "e26d33bb",
   "metadata": {},
   "source": [
    "## 6.3. Model's Weight & Bias"
   ]
  },
  {
   "cell_type": "code",
   "execution_count": 29,
   "id": "b74656e4",
   "metadata": {},
   "outputs": [
    {
     "data": {
      "text/plain": [
       "array([ 1.38400269e+05, -3.06099251e+04, -4.23440271e+02, -4.77755251e+03,\n",
       "       -0.00000000e+00, -2.87796626e+03,  0.00000000e+00,  1.30366426e+03,\n",
       "        0.00000000e+00,  2.93677899e+03,  0.00000000e+00, -0.00000000e+00,\n",
       "       -4.66147827e+03, -4.03934732e+02,  1.23345646e+04,  0.00000000e+00,\n",
       "       -0.00000000e+00,  4.38197943e+02, -1.02697492e+02,  3.93586322e+01,\n",
       "        0.00000000e+00,  0.00000000e+00,  0.00000000e+00, -0.00000000e+00,\n",
       "       -0.00000000e+00, -0.00000000e+00, -0.00000000e+00,  6.32669260e+04,\n",
       "       -1.11169657e+04, -7.73387908e+03, -0.00000000e+00, -3.93172033e+03,\n",
       "       -0.00000000e+00, -0.00000000e+00,  1.79010017e+04,  0.00000000e+00,\n",
       "        3.41949213e+01,  1.09541935e+05,  2.40132354e+03, -1.93820421e+03,\n",
       "        0.00000000e+00,  2.12424968e+04,  7.14374266e+04,  0.00000000e+00,\n",
       "        2.65190155e+03,  0.00000000e+00, -0.00000000e+00,  0.00000000e+00,\n",
       "        1.88510531e+04,  5.60297590e+03,  9.97629504e+03,  1.86499085e+03,\n",
       "        4.65681277e+04, -4.71987398e+03, -0.00000000e+00, -0.00000000e+00,\n",
       "       -0.00000000e+00, -2.78783432e+04,  0.00000000e+00,  0.00000000e+00,\n",
       "        0.00000000e+00,  0.00000000e+00,  0.00000000e+00,  0.00000000e+00,\n",
       "        0.00000000e+00, -1.40839116e+04, -0.00000000e+00,  0.00000000e+00,\n",
       "        5.85997570e+03,  3.28331942e+03,  0.00000000e+00, -0.00000000e+00,\n",
       "        6.75720815e+02,  1.38111728e+04,  0.00000000e+00, -1.64128105e+03,\n",
       "        2.52857618e+04, -0.00000000e+00,  0.00000000e+00, -0.00000000e+00,\n",
       "        9.97325828e+02, -0.00000000e+00,  0.00000000e+00, -3.23585789e+03,\n",
       "       -2.53565369e+02,  5.12100623e+03,  0.00000000e+00,  5.11655489e+03,\n",
       "        1.31617326e+04, -2.29601512e+04,  0.00000000e+00,  2.74298036e+04,\n",
       "       -6.29046398e+03,  0.00000000e+00, -0.00000000e+00,  0.00000000e+00,\n",
       "       -0.00000000e+00,  0.00000000e+00, -1.44922592e+04, -0.00000000e+00,\n",
       "       -0.00000000e+00,  0.00000000e+00,  4.13160883e+02,  0.00000000e+00,\n",
       "       -0.00000000e+00,  8.73509892e+04, -0.00000000e+00,  0.00000000e+00,\n",
       "       -0.00000000e+00, -4.50954487e+02,  2.99789423e+03, -0.00000000e+00,\n",
       "        0.00000000e+00, -0.00000000e+00, -0.00000000e+00,  0.00000000e+00,\n",
       "       -0.00000000e+00, -1.76554284e+04,  3.44628334e+02,  1.27790193e+03,\n",
       "        0.00000000e+00,  0.00000000e+00, -0.00000000e+00,  1.59040807e+03,\n",
       "       -1.96647745e+04,  1.21558310e+05, -2.68975281e+02,  4.95729042e+03,\n",
       "        4.49531056e+04,  0.00000000e+00, -0.00000000e+00,  1.25513660e+04,\n",
       "        7.85035975e+03, -9.66095257e+03,  4.83946484e+03, -4.88151187e+02,\n",
       "       -0.00000000e+00,  0.00000000e+00,  0.00000000e+00,  8.35428420e+03,\n",
       "        0.00000000e+00, -0.00000000e+00, -0.00000000e+00,  1.33157862e+04,\n",
       "        3.49254703e+03,  5.50062381e+03,  2.71688249e+02, -4.41852952e+04,\n",
       "       -2.13215114e+03, -9.10046762e+03, -2.27414273e+04, -1.32949277e+04,\n",
       "        7.93774076e+03,  1.17563821e+04, -0.00000000e+00,  0.00000000e+00,\n",
       "        4.97724053e+01,  0.00000000e+00, -4.13142594e+03, -0.00000000e+00,\n",
       "       -1.32422995e+03, -0.00000000e+00, -3.32510346e+02,  0.00000000e+00,\n",
       "        1.49135265e+04,  4.21405115e+04,  0.00000000e+00,  0.00000000e+00,\n",
       "        0.00000000e+00, -1.77027703e+02,  1.02329777e+03, -0.00000000e+00,\n",
       "        1.94759369e+04,  0.00000000e+00, -0.00000000e+00,  1.52574855e+03,\n",
       "        3.10575655e+04, -6.46073221e+02, -0.00000000e+00, -0.00000000e+00,\n",
       "       -0.00000000e+00,  0.00000000e+00, -0.00000000e+00, -4.25214136e+03,\n",
       "       -0.00000000e+00,  3.70632997e+03, -0.00000000e+00, -1.32654184e+03,\n",
       "        0.00000000e+00, -1.83029783e+04, -0.00000000e+00,  0.00000000e+00,\n",
       "        0.00000000e+00, -0.00000000e+00,  0.00000000e+00,  4.14369399e+03,\n",
       "        0.00000000e+00, -0.00000000e+00, -0.00000000e+00,  2.88693108e+04,\n",
       "       -0.00000000e+00, -0.00000000e+00, -0.00000000e+00, -4.25656792e+03,\n",
       "        0.00000000e+00,  0.00000000e+00,  2.30421322e+03, -1.37773853e+03,\n",
       "        2.69164486e+03, -0.00000000e+00, -0.00000000e+00, -0.00000000e+00,\n",
       "        1.48777713e+03, -3.36599296e+01,  2.92470480e+01, -0.00000000e+00,\n",
       "        0.00000000e+00, -1.64594018e+04,  0.00000000e+00,  0.00000000e+00,\n",
       "        0.00000000e+00,  0.00000000e+00, -0.00000000e+00,  1.25495841e+04,\n",
       "        0.00000000e+00,  0.00000000e+00, -1.27981418e+04,  2.95058198e+04,\n",
       "       -0.00000000e+00, -0.00000000e+00,  5.92415685e+03, -0.00000000e+00,\n",
       "       -0.00000000e+00, -0.00000000e+00, -0.00000000e+00, -0.00000000e+00,\n",
       "        7.10081388e+04, -0.00000000e+00, -3.03894588e+04, -0.00000000e+00,\n",
       "        0.00000000e+00,  1.42483343e+04, -0.00000000e+00, -4.12371398e+03,\n",
       "       -4.65732700e+03,  6.75075045e+02,  0.00000000e+00, -5.64747698e+03,\n",
       "        6.87146196e+02, -0.00000000e+00, -0.00000000e+00,  0.00000000e+00,\n",
       "        1.36188246e+04, -0.00000000e+00, -1.62762565e+03,  0.00000000e+00,\n",
       "       -0.00000000e+00,  6.21324474e+02,  3.10231535e+03, -3.98239109e+03,\n",
       "       -5.66700388e+02, -1.34593738e+04, -0.00000000e+00, -0.00000000e+00,\n",
       "       -6.41519664e+01, -0.00000000e+00,  9.81987992e+04, -0.00000000e+00,\n",
       "       -4.80572419e+03,  0.00000000e+00,  0.00000000e+00,  4.51232438e+02,\n",
       "       -4.92019581e+02, -0.00000000e+00, -0.00000000e+00,  0.00000000e+00,\n",
       "       -0.00000000e+00, -0.00000000e+00,  0.00000000e+00,  0.00000000e+00,\n",
       "       -0.00000000e+00,  0.00000000e+00, -0.00000000e+00, -0.00000000e+00,\n",
       "       -0.00000000e+00, -0.00000000e+00, -0.00000000e+00, -2.29681541e+03,\n",
       "       -0.00000000e+00, -0.00000000e+00,  6.72394331e+03,  1.67686396e+03,\n",
       "       -8.44180977e+02, -0.00000000e+00, -0.00000000e+00,  7.79474617e+03,\n",
       "        0.00000000e+00, -0.00000000e+00,  0.00000000e+00, -0.00000000e+00,\n",
       "        4.76395160e+02, -0.00000000e+00,  1.44364767e+04, -3.98876132e+02,\n",
       "       -0.00000000e+00,  2.34447780e+04,  2.38748161e+04,  0.00000000e+00,\n",
       "        0.00000000e+00,  0.00000000e+00, -0.00000000e+00,  2.15213610e+03,\n",
       "        0.00000000e+00, -1.47687600e+04,  2.06508543e+04, -0.00000000e+00,\n",
       "       -1.74290233e+04,  8.76075353e+02,  3.70585744e+03, -5.29253080e+02,\n",
       "       -2.83244500e+03, -0.00000000e+00,  0.00000000e+00, -0.00000000e+00,\n",
       "        0.00000000e+00, -0.00000000e+00, -9.38989006e+03, -1.30889945e+03,\n",
       "        4.09726986e+04,  2.71906113e+02, -0.00000000e+00,  1.22575587e+04,\n",
       "       -0.00000000e+00, -4.79897856e+03,  4.84354297e+04, -1.08418224e+03,\n",
       "        7.94093321e+03,  2.01550686e+03,  7.74731811e+03, -5.51341322e+03,\n",
       "       -0.00000000e+00, -0.00000000e+00, -0.00000000e+00, -0.00000000e+00,\n",
       "       -0.00000000e+00,  3.99961151e+03,  0.00000000e+00,  0.00000000e+00,\n",
       "        7.96014808e+02, -2.25214232e+03, -2.65362449e+04,  0.00000000e+00,\n",
       "        7.45768335e+04, -3.99817209e+02, -2.14881382e+03,  0.00000000e+00,\n",
       "       -0.00000000e+00, -0.00000000e+00,  2.20421330e+04, -0.00000000e+00,\n",
       "       -0.00000000e+00,  0.00000000e+00, -4.50459908e+03,  0.00000000e+00,\n",
       "        0.00000000e+00, -1.30912027e+03,  3.61377735e+03, -0.00000000e+00,\n",
       "        0.00000000e+00,  0.00000000e+00, -0.00000000e+00,  2.28870406e+02,\n",
       "       -5.82464204e+02, -0.00000000e+00,  8.09740943e+02,  0.00000000e+00,\n",
       "        1.68077460e+04, -0.00000000e+00, -4.08457329e+03,  0.00000000e+00,\n",
       "        0.00000000e+00,  5.74420514e+03, -4.86838542e+03,  0.00000000e+00,\n",
       "       -9.52856302e+02,  0.00000000e+00, -5.44089070e+02, -0.00000000e+00,\n",
       "        6.56039463e+02, -0.00000000e+00,  0.00000000e+00,  4.54427802e-01,\n",
       "       -0.00000000e+00,  3.76755527e+02,  3.43301598e+04, -0.00000000e+00,\n",
       "        1.47845751e+02,  0.00000000e+00,  0.00000000e+00,  0.00000000e+00,\n",
       "       -8.29995555e+03, -0.00000000e+00,  1.61005779e+04, -0.00000000e+00,\n",
       "        0.00000000e+00,  1.02218098e+03,  2.62928396e+01,  0.00000000e+00,\n",
       "       -0.00000000e+00, -3.82549967e+03, -0.00000000e+00,  0.00000000e+00,\n",
       "        0.00000000e+00, -0.00000000e+00,  0.00000000e+00, -1.48934738e+04,\n",
       "        0.00000000e+00, -0.00000000e+00,  2.34696048e+03,  0.00000000e+00,\n",
       "        0.00000000e+00, -0.00000000e+00,  3.56800947e+02,  0.00000000e+00,\n",
       "       -0.00000000e+00,  6.84143037e+03, -8.66610907e+03, -9.41282422e+00,\n",
       "        0.00000000e+00,  0.00000000e+00,  7.49923884e+03, -6.35194692e+02,\n",
       "       -0.00000000e+00, -0.00000000e+00,  0.00000000e+00, -0.00000000e+00,\n",
       "        1.30724438e+03,  5.26021574e+02,  7.30288777e+04,  0.00000000e+00,\n",
       "        0.00000000e+00,  0.00000000e+00,  3.59039240e+03, -0.00000000e+00,\n",
       "        0.00000000e+00,  0.00000000e+00, -3.69441213e+01,  0.00000000e+00,\n",
       "       -0.00000000e+00,  1.10131586e+02, -1.30610744e+02, -1.94446040e+03,\n",
       "       -2.53657114e+03,  0.00000000e+00,  2.06525016e+04,  0.00000000e+00,\n",
       "       -2.72930206e+03, -1.26274601e+02, -5.40189052e+03,  0.00000000e+00,\n",
       "        0.00000000e+00,  0.00000000e+00, -4.53075606e+02, -4.09865541e+03,\n",
       "       -0.00000000e+00, -0.00000000e+00,  0.00000000e+00, -0.00000000e+00,\n",
       "       -0.00000000e+00, -7.21269086e+03,  0.00000000e+00,  0.00000000e+00,\n",
       "        0.00000000e+00,  0.00000000e+00,  3.90280098e+01, -0.00000000e+00,\n",
       "        0.00000000e+00, -0.00000000e+00,  0.00000000e+00,  5.08422132e+03,\n",
       "        2.22958089e+04,  2.07038179e+03, -4.72044007e+03,  3.82212521e+03,\n",
       "        1.08789573e+03,  3.94183249e+02,  7.18745248e+03, -0.00000000e+00,\n",
       "        0.00000000e+00, -0.00000000e+00, -5.74153767e+03,  7.04095935e+01,\n",
       "       -7.89951765e+03,  0.00000000e+00,  1.18332585e+04,  0.00000000e+00,\n",
       "        0.00000000e+00, -0.00000000e+00, -0.00000000e+00,  0.00000000e+00,\n",
       "        0.00000000e+00,  0.00000000e+00, -1.34149747e+01,  0.00000000e+00,\n",
       "        3.47694607e+04, -0.00000000e+00, -0.00000000e+00,  0.00000000e+00,\n",
       "        4.36927224e+03, -0.00000000e+00,  0.00000000e+00,  0.00000000e+00,\n",
       "       -0.00000000e+00,  0.00000000e+00,  0.00000000e+00,  0.00000000e+00,\n",
       "       -6.37285101e+02, -0.00000000e+00, -5.91529765e+03,  2.16595339e+03,\n",
       "        7.20334816e+04,  0.00000000e+00, -5.12346330e+02,  0.00000000e+00,\n",
       "        0.00000000e+00, -0.00000000e+00, -1.31910242e+03,  0.00000000e+00,\n",
       "       -0.00000000e+00, -0.00000000e+00,  1.19811119e+04,  0.00000000e+00,\n",
       "       -0.00000000e+00, -0.00000000e+00, -1.62530810e+03,  0.00000000e+00,\n",
       "        7.68210877e+03, -0.00000000e+00, -0.00000000e+00,  1.83981070e+04,\n",
       "       -2.02135090e+03, -0.00000000e+00,  0.00000000e+00,  0.00000000e+00,\n",
       "       -0.00000000e+00,  3.84465515e+03, -2.42293802e+04,  1.08016870e+03,\n",
       "        0.00000000e+00, -0.00000000e+00,  1.31031403e+03,  0.00000000e+00,\n",
       "        0.00000000e+00,  6.11194316e+04, -0.00000000e+00,  3.17346765e+03,\n",
       "       -0.00000000e+00,  2.60787316e+03,  3.36236486e+03,  0.00000000e+00,\n",
       "       -6.64209986e+03, -0.00000000e+00,  7.13355571e+03,  5.25466486e+02,\n",
       "       -0.00000000e+00, -0.00000000e+00,  1.52935279e+04,  2.56144818e+03,\n",
       "       -0.00000000e+00,  0.00000000e+00, -0.00000000e+00, -0.00000000e+00,\n",
       "        0.00000000e+00,  1.61346746e+04, -0.00000000e+00,  2.77323640e+01,\n",
       "       -0.00000000e+00,  0.00000000e+00,  0.00000000e+00, -5.19411340e+02,\n",
       "        6.20220290e+03, -0.00000000e+00,  4.19485273e+02,  0.00000000e+00,\n",
       "        0.00000000e+00, -0.00000000e+00, -3.52131007e+03, -0.00000000e+00,\n",
       "       -1.01119026e+03,  4.52010617e+03, -5.57850189e+03,  0.00000000e+00,\n",
       "        0.00000000e+00, -0.00000000e+00, -0.00000000e+00, -1.00590357e+04,\n",
       "        1.48817424e+03,  5.92593165e+03, -0.00000000e+00, -0.00000000e+00,\n",
       "        9.94260339e+03,  0.00000000e+00,  3.42079354e+04,  9.37598660e+03,\n",
       "       -0.00000000e+00,  5.39191866e+03, -0.00000000e+00,  1.50057749e+04,\n",
       "        3.34308461e+02, -8.01905697e+03,  2.23225100e+04,  1.99764135e+04,\n",
       "        2.56269415e+03,  2.45937816e+03,  8.04200193e+03, -0.00000000e+00,\n",
       "       -8.83635322e+03,  2.15499872e+03,  0.00000000e+00,  7.74093374e+02,\n",
       "       -0.00000000e+00,  8.32364358e+02,  3.99465164e+02, -0.00000000e+00,\n",
       "        1.95686477e+04,  3.82047285e+04,  0.00000000e+00, -8.09449019e+03,\n",
       "       -0.00000000e+00,  6.94054057e-01, -4.01704165e+03, -1.14153621e+03,\n",
       "        0.00000000e+00,  0.00000000e+00, -0.00000000e+00, -0.00000000e+00,\n",
       "        1.78298686e+02,  0.00000000e+00, -0.00000000e+00,  7.97386926e+04,\n",
       "       -2.68656015e+04, -0.00000000e+00, -0.00000000e+00, -0.00000000e+00,\n",
       "        0.00000000e+00,  0.00000000e+00, -0.00000000e+00,  5.67212395e+03,\n",
       "        1.12273481e+04, -0.00000000e+00, -0.00000000e+00,  0.00000000e+00,\n",
       "        9.95553544e+03, -0.00000000e+00,  0.00000000e+00,  4.76063508e+03,\n",
       "        2.42957547e+03,  0.00000000e+00,  0.00000000e+00,  3.12861213e+03,\n",
       "        1.43070361e+01,  1.16096302e+04,  0.00000000e+00, -0.00000000e+00,\n",
       "        3.28864697e+04, -1.50502162e+04,  0.00000000e+00, -0.00000000e+00,\n",
       "        0.00000000e+00, -4.37254346e+03,  1.26936704e+04,  5.11354889e+04,\n",
       "       -2.21827518e-08,  1.05108765e+04,  0.00000000e+00, -0.00000000e+00,\n",
       "        1.13657319e+04, -4.90299801e+02])"
      ]
     },
     "execution_count": 29,
     "metadata": {},
     "output_type": "execute_result"
    }
   ],
   "source": [
    "reg.coef_"
   ]
  },
  {
   "cell_type": "code",
   "execution_count": 30,
   "id": "0de3eb20",
   "metadata": {
    "scrolled": false
   },
   "outputs": [
    {
     "data": {
      "text/plain": [
       "503395.9000576072"
      ]
     },
     "execution_count": 30,
     "metadata": {},
     "output_type": "execute_result"
    }
   ],
   "source": [
    "reg.intercept_"
   ]
  },
  {
   "cell_type": "markdown",
   "id": "0a9c06f6",
   "metadata": {},
   "source": [
    "# 7. Prediction"
   ]
  },
  {
   "cell_type": "markdown",
   "id": "7c783f64",
   "metadata": {},
   "source": [
    "## 7.1. Training Set"
   ]
  },
  {
   "cell_type": "code",
   "execution_count": 31,
   "id": "d37c1efb",
   "metadata": {},
   "outputs": [],
   "source": [
    "y_pred_train = reg.predict(X_train_scaled)"
   ]
  },
  {
   "cell_type": "markdown",
   "id": "7b8637af",
   "metadata": {},
   "source": [
    "## 7.2. Test Set"
   ]
  },
  {
   "cell_type": "code",
   "execution_count": 32,
   "id": "4aa6a126",
   "metadata": {},
   "outputs": [],
   "source": [
    "y_pred_test = reg.predict(X_test_scaled)"
   ]
  },
  {
   "cell_type": "markdown",
   "id": "b3a3ed67",
   "metadata": {},
   "source": [
    "# 8. Model Evaluation"
   ]
  },
  {
   "cell_type": "markdown",
   "id": "f23a1fe3",
   "metadata": {},
   "source": [
    "## 8.1. Training Set"
   ]
  },
  {
   "cell_type": "markdown",
   "id": "495fa7eb",
   "metadata": {},
   "source": [
    "### 8.1.1. Scoring"
   ]
  },
  {
   "cell_type": "code",
   "execution_count": 33,
   "id": "cd9435b9",
   "metadata": {},
   "outputs": [
    {
     "name": "stdout",
     "output_type": "stream",
     "text": [
      "r2_score =\t\t\t 0.9527172137751547\n",
      "mean_squared_error =\t\t 16567769175.41322\n",
      "mean_absolute_error =\t\t 83752.5497252709\n",
      "mean_absolute_percentage_error = 0.2901110229539789\n"
     ]
    }
   ],
   "source": [
    "print('r2_score =\\t\\t\\t', r2_score(y_train, y_pred_train))\n",
    "print('mean_squared_error =\\t\\t', mean_squared_error(y_train, y_pred_train))\n",
    "print('mean_absolute_error =\\t\\t', mean_absolute_error(y_train, y_pred_train))\n",
    "print('mean_absolute_percentage_error =', mean_absolute_percentage_error(y_train, y_pred_train))"
   ]
  },
  {
   "cell_type": "markdown",
   "id": "19045164",
   "metadata": {},
   "source": [
    "### 8.1.2. Scatter Plot between Predicted & Actual Values"
   ]
  },
  {
   "cell_type": "code",
   "execution_count": 34,
   "id": "3327350f",
   "metadata": {},
   "outputs": [
    {
     "data": {
      "text/plain": [
       "Text(0, 0.5, 'Actual')"
      ]
     },
     "execution_count": 34,
     "metadata": {},
     "output_type": "execute_result"
    },
    {
     "data": {
      "image/png": "[encoded data removed]",
      "text/plain": [
       "<Figure size 432x288 with 1 Axes>"
      ]
     },
     "metadata": {
      "needs_background": "light"
     },
     "output_type": "display_data"
    }
   ],
   "source": [
    "plt.scatter(y_pred_train, y_train)\n",
    "\n",
    "plt.plot(y_pred_train, y_pred_train, color='red')\n",
    "\n",
    "plt.title('Scatter Plot between Predicted & Actual Values')\n",
    "plt.xlabel('Predicted')\n",
    "plt.ylabel('Actual')"
   ]
  },
  {
   "cell_type": "markdown",
   "id": "5e775742",
   "metadata": {},
   "source": [
    "## 8.2. Test Set"
   ]
  },
  {
   "cell_type": "markdown",
   "id": "030ae25f",
   "metadata": {},
   "source": [
    "### 8.2.1. Scoring"
   ]
  },
  {
   "cell_type": "code",
   "execution_count": 35,
   "id": "19a1e8a3",
   "metadata": {},
   "outputs": [
    {
     "name": "stdout",
     "output_type": "stream",
     "text": [
      "r2_score =\t\t\t 0.8612126945386482\n",
      "mean_squared_error =\t\t 37695597800.546005\n",
      "mean_absolute_error =\t\t 108623.56057876891\n",
      "mean_absolute_percentage_error = 0.3183594029536058\n"
     ]
    }
   ],
   "source": [
    "print('r2_score =\\t\\t\\t', r2_score(y_test, y_pred_test))\n",
    "print('mean_squared_error =\\t\\t', mean_squared_error(y_test, y_pred_test))\n",
    "print('mean_absolute_error =\\t\\t', mean_absolute_error(y_test, y_pred_test))\n",
    "print('mean_absolute_percentage_error =', mean_absolute_percentage_error(y_test, y_pred_test))"
   ]
  },
  {
   "cell_type": "markdown",
   "id": "08c3d5cb",
   "metadata": {},
   "source": [
    "### 8.2.2. Scatter Plot between Predicted & Actual Values"
   ]
  },
  {
   "cell_type": "code",
   "execution_count": 36,
   "id": "84be8bff",
   "metadata": {
    "scrolled": true
   },
   "outputs": [
    {
     "data": {
      "text/plain": [
       "Text(0, 0.5, 'Actual')"
      ]
     },
     "execution_count": 36,
     "metadata": {},
     "output_type": "execute_result"
    },
    {
     "data": {
      "image/png": "[encoded data removed]",
      "text/plain": [
       "<Figure size 432x288 with 1 Axes>"
      ]
     },
     "metadata": {
      "needs_background": "light"
     },
     "output_type": "display_data"
    }
   ],
   "source": [
    "plt.scatter(y_pred_test, y_test)\n",
    "\n",
    "plt.plot(y_pred_test, y_pred_test, color='red')\n",
    "\n",
    "plt.title('Scatter Plot between Predicted & Actual Values')\n",
    "plt.xlabel('Predicted')\n",
    "plt.ylabel('Actual')"
   ]
  },
  {
   "cell_type": "markdown",
   "id": "61229e2e",
   "metadata": {},
   "source": [
    "# 9. Save Model"
   ]
  },
  {
   "cell_type": "code",
   "execution_count": 37,
   "id": "ff0f745b",
   "metadata": {},
   "outputs": [],
   "source": [
    "import pickle"
   ]
  },
  {
   "cell_type": "code",
   "execution_count": 38,
   "id": "899698b8",
   "metadata": {},
   "outputs": [],
   "source": [
    "pickle.dump((reg, \n",
    "             vectorizer, \n",
    "             one_hot_encoder, \n",
    "             scaler, \n",
    "             feature_name, \n",
    "             numerical_feature, \n",
    "             ordinal_feature, \n",
    "             nominal_feature), \n",
    "            open('car_price_elasticnet.pickle', 'wb'))"
   ]
  }
 ],
 "metadata": {
  "kernelspec": {
   "display_name": "Python 3",
   "language": "python",
   "name": "python3"
  },
  "language_info": {
   "codemirror_mode": {
    "name": "ipython",
    "version": 3
   },
   "file_extension": ".py",
   "mimetype": "text/x-python",
   "name": "python",
   "nbconvert_exporter": "python",
   "pygments_lexer": "ipython3",
   "version": "3.8.8"
  }
 },
 "nbformat": 4,
 "nbformat_minor": 5
}
