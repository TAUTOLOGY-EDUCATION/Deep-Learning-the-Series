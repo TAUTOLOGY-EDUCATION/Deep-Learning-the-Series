{
 "cells": [
  {
   "cell_type": "code",
   "execution_count": 1,
   "id": "a1683d2c",
   "metadata": {},
   "outputs": [],
   "source": [
    "import numpy as np\n",
    "import pandas as pd\n",
    "import pickle"
   ]
  },
  {
   "cell_type": "code",
   "execution_count": 2,
   "id": "0a9bae52",
   "metadata": {},
   "outputs": [],
   "source": [
    "saved_model = pickle.load(open('car_price_elasticnet.pickle', 'rb'))"
   ]
  },
  {
   "cell_type": "code",
   "execution_count": 3,
   "id": "9e0dfa4f",
   "metadata": {},
   "outputs": [],
   "source": [
    "reg = saved_model[0]\n",
    "vectorizer = saved_model[1]\n",
    "one_hot_encoder = saved_model[2]\n",
    "scaler = saved_model[3]\n",
    "feature_name = saved_model[4]\n",
    "numerical_feature = saved_model[5]\n",
    "ordinal_feature = saved_model[6]\n",
    "nominal_feature = saved_model[7]"
   ]
  },
  {
   "cell_type": "code",
   "execution_count": 4,
   "id": "6c121779",
   "metadata": {},
   "outputs": [
    {
     "data": {
      "text/plain": [
       "['name', 'year', 'km_driven', 'fuel', 'seller_type', 'transmission', 'owner']"
      ]
     },
     "execution_count": 4,
     "metadata": {},
     "output_type": "execute_result"
    }
   ],
   "source": [
    "feature_name"
   ]
  },
  {
   "cell_type": "code",
   "execution_count": 5,
   "id": "3195c9b2",
   "metadata": {},
   "outputs": [],
   "source": [
    "name = 'Maruti Celerio VXI AT'\n",
    "year = 2017\n",
    "km_driven = 32670\n",
    "fuel = 'Petrol'\n",
    "seller_type = 'Dealer'\n",
    "transmission = 'Automatic'\n",
    "owner = 'First Owner'"
   ]
  },
  {
   "cell_type": "code",
   "execution_count": 6,
   "id": "1bd30606",
   "metadata": {},
   "outputs": [
    {
     "data": {
      "text/html": [
       "<div>\n",
       "<style scoped>\n",
       "    .dataframe tbody tr th:only-of-type {\n",
       "        vertical-align: middle;\n",
       "    }\n",
       "\n",
       "    .dataframe tbody tr th {\n",
       "        vertical-align: top;\n",
       "    }\n",
       "\n",
       "    .dataframe thead th {\n",
       "        text-align: right;\n",
       "    }\n",
       "</style>\n",
       "<table border=\"1\" class=\"dataframe\">\n",
       "  <thead>\n",
       "    <tr style=\"text-align: right;\">\n",
       "      <th></th>\n",
       "      <th>name</th>\n",
       "      <th>year</th>\n",
       "      <th>km_driven</th>\n",
       "      <th>fuel</th>\n",
       "      <th>seller_type</th>\n",
       "      <th>transmission</th>\n",
       "      <th>owner</th>\n",
       "    </tr>\n",
       "  </thead>\n",
       "  <tbody>\n",
       "    <tr>\n",
       "      <th>0</th>\n",
       "      <td>Maruti Celerio VXI AT</td>\n",
       "      <td>2017</td>\n",
       "      <td>32670</td>\n",
       "      <td>Petrol</td>\n",
       "      <td>Dealer</td>\n",
       "      <td>Automatic</td>\n",
       "      <td>First Owner</td>\n",
       "    </tr>\n",
       "  </tbody>\n",
       "</table>\n",
       "</div>"
      ],
      "text/plain": [
       "                    name  year km_driven    fuel seller_type transmission  \\\n",
       "0  Maruti Celerio VXI AT  2017     32670  Petrol      Dealer    Automatic   \n",
       "\n",
       "         owner  \n",
       "0  First Owner  "
      ]
     },
     "execution_count": 6,
     "metadata": {},
     "output_type": "execute_result"
    }
   ],
   "source": [
    "incoming_data = pd.DataFrame(np.array([[name, year, km_driven, fuel, seller_type, \n",
    "                                        transmission, owner]]), \n",
    "                             columns=feature_name)\n",
    "\n",
    "incoming_data"
   ]
  },
  {
   "cell_type": "markdown",
   "id": "0e0944eb",
   "metadata": {},
   "source": [
    "### Count Vectorization"
   ]
  },
  {
   "cell_type": "code",
   "execution_count": 7,
   "id": "aa21b899",
   "metadata": {},
   "outputs": [],
   "source": [
    "corpus_incoming = incoming_data['name'].tolist()\n",
    "cnt_vec_incoming = vectorizer.transform(corpus_incoming).toarray()"
   ]
  },
  {
   "cell_type": "code",
   "execution_count": 8,
   "id": "1a375b99",
   "metadata": {},
   "outputs": [],
   "source": [
    "cnt_vec_feature_name = ['con_' + feature for feature in vectorizer.get_feature_names()]"
   ]
  },
  {
   "cell_type": "code",
   "execution_count": 9,
   "id": "02da42bd",
   "metadata": {},
   "outputs": [],
   "source": [
    "incoming_data[cnt_vec_feature_name] = cnt_vec_incoming\n",
    "incoming_data.drop('name', axis=1, inplace=True)"
   ]
  },
  {
   "cell_type": "markdown",
   "id": "6a6007bf",
   "metadata": {},
   "source": [
    "### ===== Ordinal Encoding & One Hot Encoding ====="
   ]
  },
  {
   "cell_type": "code",
   "execution_count": 10,
   "id": "3bf72572",
   "metadata": {},
   "outputs": [],
   "source": [
    "# print('numerical_feature :', numerical_feature)\n",
    "# print('ordinal_feature :', ordinal_feature)\n",
    "# print('nominal_feature :', nominal_feature)"
   ]
  },
  {
   "cell_type": "markdown",
   "id": "8936b2f6",
   "metadata": {},
   "source": [
    "### ### Ordinal Encoding"
   ]
  },
  {
   "cell_type": "markdown",
   "id": "d7337b50",
   "metadata": {},
   "source": [
    "### One Hot Encoding"
   ]
  },
  {
   "cell_type": "code",
   "execution_count": 11,
   "id": "ff009620",
   "metadata": {},
   "outputs": [],
   "source": [
    "one_hot_feature = []\n",
    "for i, feature in enumerate(nominal_feature):\n",
    "    for cate in one_hot_encoder.categories_[i]:\n",
    "        one_hot_feature_name = str(feature) + '_' + str(cate)\n",
    "        one_hot_feature.append(one_hot_feature_name)\n",
    "        \n",
    "incoming_data[one_hot_feature] = one_hot_encoder.transform(incoming_data[nominal_feature])\n",
    "incoming_data.drop(nominal_feature, axis=1, inplace=True)"
   ]
  },
  {
   "cell_type": "code",
   "execution_count": 12,
   "id": "14c81fb2",
   "metadata": {
    "scrolled": true
   },
   "outputs": [
    {
     "data": {
      "text/html": [
       "<div>\n",
       "<style scoped>\n",
       "    .dataframe tbody tr th:only-of-type {\n",
       "        vertical-align: middle;\n",
       "    }\n",
       "\n",
       "    .dataframe tbody tr th {\n",
       "        vertical-align: top;\n",
       "    }\n",
       "\n",
       "    .dataframe thead th {\n",
       "        text-align: right;\n",
       "    }\n",
       "</style>\n",
       "<table border=\"1\" class=\"dataframe\">\n",
       "  <thead>\n",
       "    <tr style=\"text-align: right;\">\n",
       "      <th></th>\n",
       "      <th>year</th>\n",
       "      <th>km_driven</th>\n",
       "      <th>con_05</th>\n",
       "      <th>con_0l</th>\n",
       "      <th>con_10</th>\n",
       "      <th>con_100</th>\n",
       "      <th>con_110</th>\n",
       "      <th>con_110ps</th>\n",
       "      <th>con_116</th>\n",
       "      <th>con_140</th>\n",
       "      <th>...</th>\n",
       "      <th>seller_type_Dealer</th>\n",
       "      <th>seller_type_Individual</th>\n",
       "      <th>seller_type_Trustmark Dealer</th>\n",
       "      <th>transmission_Automatic</th>\n",
       "      <th>transmission_Manual</th>\n",
       "      <th>owner_First Owner</th>\n",
       "      <th>owner_Fourth &amp; Above Owner</th>\n",
       "      <th>owner_Second Owner</th>\n",
       "      <th>owner_Test Drive Car</th>\n",
       "      <th>owner_Third Owner</th>\n",
       "    </tr>\n",
       "  </thead>\n",
       "  <tbody>\n",
       "    <tr>\n",
       "      <th>0</th>\n",
       "      <td>2017</td>\n",
       "      <td>32670</td>\n",
       "      <td>0</td>\n",
       "      <td>0</td>\n",
       "      <td>0</td>\n",
       "      <td>0</td>\n",
       "      <td>0</td>\n",
       "      <td>0</td>\n",
       "      <td>0</td>\n",
       "      <td>0</td>\n",
       "      <td>...</td>\n",
       "      <td>1.0</td>\n",
       "      <td>0.0</td>\n",
       "      <td>0.0</td>\n",
       "      <td>1.0</td>\n",
       "      <td>0.0</td>\n",
       "      <td>1.0</td>\n",
       "      <td>0.0</td>\n",
       "      <td>0.0</td>\n",
       "      <td>0.0</td>\n",
       "      <td>0.0</td>\n",
       "    </tr>\n",
       "  </tbody>\n",
       "</table>\n",
       "<p>1 rows × 678 columns</p>\n",
       "</div>"
      ],
      "text/plain": [
       "   year km_driven  con_05  con_0l  con_10  con_100  con_110  con_110ps  \\\n",
       "0  2017     32670       0       0       0        0        0          0   \n",
       "\n",
       "   con_116  con_140  ...  seller_type_Dealer  seller_type_Individual  \\\n",
       "0        0        0  ...                 1.0                     0.0   \n",
       "\n",
       "   seller_type_Trustmark Dealer  transmission_Automatic  transmission_Manual  \\\n",
       "0                           0.0                     1.0                  0.0   \n",
       "\n",
       "   owner_First Owner  owner_Fourth & Above Owner  owner_Second Owner  \\\n",
       "0                1.0                         0.0                 0.0   \n",
       "\n",
       "   owner_Test Drive Car  owner_Third Owner  \n",
       "0                   0.0                0.0  \n",
       "\n",
       "[1 rows x 678 columns]"
      ]
     },
     "execution_count": 12,
     "metadata": {},
     "output_type": "execute_result"
    }
   ],
   "source": [
    "incoming_data"
   ]
  },
  {
   "cell_type": "markdown",
   "id": "3671e13a",
   "metadata": {},
   "source": [
    "### Feature Scaling"
   ]
  },
  {
   "cell_type": "code",
   "execution_count": 13,
   "id": "4888a0d9",
   "metadata": {},
   "outputs": [],
   "source": [
    "incoming_data_scaled = scaler.transform(incoming_data)"
   ]
  },
  {
   "cell_type": "markdown",
   "id": "2a3d0b4a",
   "metadata": {},
   "source": [
    "### Prediction"
   ]
  },
  {
   "cell_type": "code",
   "execution_count": 14,
   "id": "4f7c0ee4",
   "metadata": {},
   "outputs": [],
   "source": [
    "predicted_target = reg.predict(incoming_data_scaled)"
   ]
  },
  {
   "cell_type": "code",
   "execution_count": 15,
   "id": "07ab7220",
   "metadata": {},
   "outputs": [
    {
     "data": {
      "text/plain": [
       "array([576624.14357994])"
      ]
     },
     "execution_count": 15,
     "metadata": {},
     "output_type": "execute_result"
    }
   ],
   "source": [
    "predicted_target"
   ]
  }
 ],
 "metadata": {
  "kernelspec": {
   "display_name": "Python 3",
   "language": "python",
   "name": "python3"
  },
  "language_info": {
   "codemirror_mode": {
    "name": "ipython",
    "version": 3
   },
   "file_extension": ".py",
   "mimetype": "text/x-python",
   "name": "python",
   "nbconvert_exporter": "python",
   "pygments_lexer": "ipython3",
   "version": "3.8.8"
  }
 },
 "nbformat": 4,
 "nbformat_minor": 5
}
