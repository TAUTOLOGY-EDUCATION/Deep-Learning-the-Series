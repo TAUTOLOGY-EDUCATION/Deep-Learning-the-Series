{
 "cells": [
  {
   "cell_type": "code",
   "execution_count": 1,
   "id": "c77cf87b",
   "metadata": {},
   "outputs": [],
   "source": [
    "### 1. import libraries\n",
    "\n",
    "import numpy as np\n",
    "import pandas as pd\n",
    "import seaborn as sns\n",
    "import matplotlib.pyplot as plt\n",
    "\n",
    "from sklearn.model_selection import train_test_split\n",
    "from sklearn.preprocessing import OrdinalEncoder, OneHotEncoder\n",
    "from sklearn.linear_model import LinearRegression\n",
    "from sklearn.metrics import r2_score, mean_squared_error, mean_absolute_error, mean_absolute_percentage_error\n",
    "\n",
    "import warnings\n",
    "warnings.filterwarnings('ignore')\n",
    "\n",
    "np.random.seed(12345)\n",
    "\n",
    "\n",
    "### 2. read data\n",
    "\n",
    "data = pd.read_excel('rice_dataset.xlsx')\n",
    "\n",
    "\n",
    "### 3. clean data\n",
    "\n",
    "### 3.1. handle missing values\n",
    "### ### no NaN to remove\n",
    "\n",
    "### 3.2. handle outliers\n",
    "### ### no outlier to remove\n",
    "\n",
    "\n",
    "### 4. split Dataset into training & test sets\n",
    "\n",
    "target_name = 'WATER REQUIREMENT'\n",
    "feature_name = list(data.columns.drop(target_name))\n",
    "\n",
    "X = data[feature_name]\n",
    "y = data[target_name]\n",
    "\n",
    "X_train, X_test, y_train, y_test = train_test_split(X, y, test_size=0.20, shuffle=True)\n",
    "\n",
    "\n",
    "### 5. data preparation\n",
    "\n",
    "numerical_feature = []\n",
    "categorical_feature = ['SOIL TYPE', 'REGION', 'TEMPERATURE', 'WEATHER CONDITION']\n",
    "ordinal_feature = ['SOIL TYPE', 'REGION', 'TEMPERATURE']\n",
    "nominal_feature = ['WEATHER CONDITION']\n",
    "\n",
    "### 5.1. ordinal encoding\n",
    "\n",
    "categories = [\n",
    "    np.array(['DRY', 'HUMID', 'WET'], dtype=object),\n",
    "    np.array(['DESERT', 'SEMI ARID', 'SEMI HUMID', 'HUMID'], dtype=object),\n",
    "    np.array(['10-20', '20-30', '30-40', '40-50'], dtype=object)\n",
    "]\n",
    "\n",
    "ordinal_encoder = OrdinalEncoder(categories=categories)\n",
    "X_train[ordinal_feature] = ordinal_encoder.fit_transform(X_train[ordinal_feature])\n",
    "\n",
    "X_test[ordinal_feature] = ordinal_encoder.transform(X_test[ordinal_feature])\n",
    "\n",
    "### 5.2. one hot encoding\n",
    "\n",
    "one_hot_encoder = OneHotEncoder(sparse=False, handle_unknown='ignore')\n",
    "one_hot_encoder.fit(X_train[nominal_feature])\n",
    "\n",
    "one_hot_feature = []\n",
    "for i, feature in enumerate(nominal_feature):\n",
    "    for cate in one_hot_encoder.categories_[i]:\n",
    "        one_hot_feature_name = str(feature) + '_' + str(cate)\n",
    "        one_hot_feature.append(one_hot_feature_name)\n",
    "        \n",
    "X_train[one_hot_feature] = one_hot_encoder.transform(X_train[nominal_feature])\n",
    "X_train.drop(nominal_feature, axis=1, inplace=True)\n",
    "\n",
    "X_test[one_hot_feature] = one_hot_encoder.transform(X_test[nominal_feature])\n",
    "X_test.drop(nominal_feature, axis=1, inplace=True)\n",
    "\n",
    "\n",
    "### 6. model creation\n",
    "\n",
    "reg = LinearRegression()\n",
    "reg.fit(X_train, y_train)\n",
    "\n",
    "\n",
    "### 7. prediction\n",
    "\n",
    "y_pred_train = reg.predict(X_train)\n",
    "\n",
    "y_pred_test = reg.predict(X_test)"
   ]
  },
  {
   "cell_type": "markdown",
   "id": "e64e42f8",
   "metadata": {},
   "source": [
    "### Check Assumption : Linear Relationship (Scatter Plot)"
   ]
  },
  {
   "cell_type": "code",
   "execution_count": 2,
   "id": "770314d4",
   "metadata": {},
   "outputs": [
    {
     "data": {
      "text/plain": [
       "Text(0, 0.5, 'y')"
      ]
     },
     "execution_count": 2,
     "metadata": {},
     "output_type": "execute_result"
    },
    {
     "data": {
      "image/png": "[encoded data removed]",
      "text/plain": [
       "<Figure size 432x288 with 1 Axes>"
      ]
     },
     "metadata": {
      "needs_background": "light"
     },
     "output_type": "display_data"
    }
   ],
   "source": [
    "plt.scatter(y_pred_train, y_train)\n",
    "plt.plot(y_pred_train, y_pred_train, color='red')\n",
    "plt.xlabel('y_pred')\n",
    "plt.ylabel('y')"
   ]
  },
  {
   "cell_type": "markdown",
   "id": "9d3df60d",
   "metadata": {},
   "source": [
    "### Check Assumption : Normality of Residuals"
   ]
  },
  {
   "cell_type": "code",
   "execution_count": 3,
   "id": "076fc552",
   "metadata": {},
   "outputs": [],
   "source": [
    "residual_train = y_train - y_pred_train"
   ]
  },
  {
   "cell_type": "code",
   "execution_count": 4,
   "id": "b2418d40",
   "metadata": {},
   "outputs": [
    {
     "data": {
      "text/plain": [
       "Text(0, 0.5, 'Frequency')"
      ]
     },
     "execution_count": 4,
     "metadata": {},
     "output_type": "execute_result"
    },
    {
     "data": {
      "image/png": "[encoded data removed]",
      "text/plain": [
       "<Figure size 432x288 with 1 Axes>"
      ]
     },
     "metadata": {
      "needs_background": "light"
     },
     "output_type": "display_data"
    }
   ],
   "source": [
    "plt.hist(residual_train)\n",
    "plt.xlabel('Residual')\n",
    "plt.ylabel('Frequency')"
   ]
  },
  {
   "cell_type": "markdown",
   "id": "5104725c",
   "metadata": {},
   "source": [
    "### Check Assumption : Homoscedasticity"
   ]
  },
  {
   "cell_type": "code",
   "execution_count": 5,
   "id": "686bc43c",
   "metadata": {
    "scrolled": true
   },
   "outputs": [
    {
     "data": {
      "text/plain": [
       "[<matplotlib.lines.Line2D at 0x1203f12b0>]"
      ]
     },
     "execution_count": 5,
     "metadata": {},
     "output_type": "execute_result"
    },
    {
     "data": {
      "image/png": "[encoded data removed]",
      "text/plain": [
       "<Figure size 432x288 with 1 Axes>"
      ]
     },
     "metadata": {
      "needs_background": "light"
     },
     "output_type": "display_data"
    }
   ],
   "source": [
    "plt.scatter(y_pred_train, residual_train)\n",
    "plt.xlabel('y_pred')\n",
    "plt.ylabel('Residual')\n",
    "plt.plot(y_pred_train, np.zeros([y_train.shape[0]]), color='red')"
   ]
  },
  {
   "cell_type": "code",
   "execution_count": null,
   "id": "75372102",
   "metadata": {},
   "outputs": [],
   "source": []
  }
 ],
 "metadata": {
  "kernelspec": {
   "display_name": "Python 3",
   "language": "python",
   "name": "python3"
  },
  "language_info": {
   "codemirror_mode": {
    "name": "ipython",
    "version": 3
   },
   "file_extension": ".py",
   "mimetype": "text/x-python",
   "name": "python",
   "nbconvert_exporter": "python",
   "pygments_lexer": "ipython3",
   "version": "3.8.8"
  }
 },
 "nbformat": 4,
 "nbformat_minor": 5
}
