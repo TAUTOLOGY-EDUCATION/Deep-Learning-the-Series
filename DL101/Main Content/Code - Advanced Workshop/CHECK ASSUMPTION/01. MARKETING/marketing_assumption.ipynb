{
 "cells": [
  {
   "cell_type": "code",
   "execution_count": 1,
   "id": "2f51eef5",
   "metadata": {},
   "outputs": [],
   "source": [
    "### 1. import libraries\n",
    "\n",
    "import numpy as np\n",
    "import pandas as pd\n",
    "import matplotlib.pyplot as plt\n",
    "\n",
    "from sklearn.model_selection import train_test_split\n",
    "from sklearn.preprocessing import OrdinalEncoder, OneHotEncoder\n",
    "from sklearn.linear_model import LinearRegression\n",
    "from sklearn.metrics import r2_score, mean_squared_error, mean_absolute_error, mean_absolute_percentage_error\n",
    "\n",
    "import warnings\n",
    "warnings.filterwarnings('ignore')\n",
    "\n",
    "np.random.seed(12345)\n",
    "\n",
    "\n",
    "### 2. read data\n",
    "\n",
    "data = pd.read_csv('ad_dataset.csv')\n",
    "\n",
    "\n",
    "### 3. clean data\n",
    "\n",
    "### 3.1. handle missing values\n",
    "### ### no NaN to remove\n",
    "\n",
    "### 3.2. handle outliers\n",
    "### ### no outlier to remove\n",
    "\n",
    "\n",
    "### 4. split dataset into training & test sets\n",
    "\n",
    "target_name = 'revenue'\n",
    "feature_name = list(data.columns.drop(target_name))\n",
    "\n",
    "X = data[feature_name]\n",
    "y = data[target_name]\n",
    "\n",
    "X_train, X_test, y_train, y_test = train_test_split(X, y, test_size=0.20, shuffle=True)\n",
    "\n",
    "### 5. data preparation\n",
    "\n",
    "\n",
    "### 6. model creation\n",
    "\n",
    "reg = LinearRegression()\n",
    "reg.fit(X_train, y_train)\n",
    "\n",
    "\n",
    "### 7. prediction\n",
    "\n",
    "y_pred_train = reg.predict(X_train)\n",
    "\n",
    "y_pred_test = reg.predict(X_test)"
   ]
  },
  {
   "cell_type": "markdown",
   "id": "776feaaf",
   "metadata": {},
   "source": [
    "### Check Assumption : Linear Relationship (Scatter Plot)"
   ]
  },
  {
   "cell_type": "code",
   "execution_count": 2,
   "id": "60e50b8e",
   "metadata": {
    "scrolled": true
   },
   "outputs": [
    {
     "data": {
      "text/plain": [
       "Text(0, 0.5, 'y')"
      ]
     },
     "execution_count": 2,
     "metadata": {},
     "output_type": "execute_result"
    },
    {
     "data": {
      "image/png": "[encoded data removed]",
      "text/plain": [
       "<Figure size 432x288 with 1 Axes>"
      ]
     },
     "metadata": {
      "needs_background": "light"
     },
     "output_type": "display_data"
    }
   ],
   "source": [
    "plt.scatter(y_pred_train, y_train)\n",
    "plt.plot(y_pred_train, y_pred_train, color='red')\n",
    "plt.xlabel('y_pred')\n",
    "plt.ylabel('y')"
   ]
  },
  {
   "cell_type": "markdown",
   "id": "9d3df60d",
   "metadata": {},
   "source": [
    "### Check Assumption : Normality of Residuals"
   ]
  },
  {
   "cell_type": "code",
   "execution_count": 3,
   "id": "076fc552",
   "metadata": {},
   "outputs": [],
   "source": [
    "residual_train = y_train - y_pred_train"
   ]
  },
  {
   "cell_type": "code",
   "execution_count": 4,
   "id": "b2418d40",
   "metadata": {},
   "outputs": [
    {
     "data": {
      "text/plain": [
       "Text(0, 0.5, 'Frequency')"
      ]
     },
     "execution_count": 4,
     "metadata": {},
     "output_type": "execute_result"
    },
    {
     "data": {
      "image/png": "[encoded data removed]",
      "text/plain": [
       "<Figure size 432x288 with 1 Axes>"
      ]
     },
     "metadata": {
      "needs_background": "light"
     },
     "output_type": "display_data"
    }
   ],
   "source": [
    "plt.hist(residual_train)\n",
    "plt.xlabel('Residual')\n",
    "plt.ylabel('Frequency')"
   ]
  },
  {
   "cell_type": "markdown",
   "id": "5104725c",
   "metadata": {},
   "source": [
    "### Check Assumption : Homoscedasticity"
   ]
  },
  {
   "cell_type": "code",
   "execution_count": 5,
   "id": "686bc43c",
   "metadata": {
    "scrolled": true
   },
   "outputs": [
    {
     "data": {
      "text/plain": [
       "[<matplotlib.lines.Line2D at 0x1253dba60>]"
      ]
     },
     "execution_count": 5,
     "metadata": {},
     "output_type": "execute_result"
    },
    {
     "data": {
      "image/png": "[encoded data removed]",
      "text/plain": [
       "<Figure size 432x288 with 1 Axes>"
      ]
     },
     "metadata": {
      "needs_background": "light"
     },
     "output_type": "display_data"
    }
   ],
   "source": [
    "plt.scatter(y_pred_train, residual_train)\n",
    "plt.xlabel('y_pred')\n",
    "plt.ylabel('Residual')\n",
    "plt.plot(y_pred_train, np.zeros([y_train.shape[0]]), color='red')"
   ]
  },
  {
   "cell_type": "code",
   "execution_count": null,
   "id": "ebce7e35",
   "metadata": {},
   "outputs": [],
   "source": []
  }
 ],
 "metadata": {
  "kernelspec": {
   "display_name": "Python 3",
   "language": "python",
   "name": "python3"
  },
  "language_info": {
   "codemirror_mode": {
    "name": "ipython",
    "version": 3
   },
   "file_extension": ".py",
   "mimetype": "text/x-python",
   "name": "python",
   "nbconvert_exporter": "python",
   "pygments_lexer": "ipython3",
   "version": "3.8.8"
  }
 },
 "nbformat": 4,
 "nbformat_minor": 5
}
