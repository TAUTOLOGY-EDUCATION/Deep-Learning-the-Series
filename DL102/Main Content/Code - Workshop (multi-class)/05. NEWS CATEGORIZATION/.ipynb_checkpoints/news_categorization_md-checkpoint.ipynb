{
 "cells": [
  {
   "cell_type": "code",
   "execution_count": 1,
   "id": "c69b7523",
   "metadata": {},
   "outputs": [],
   "source": [
    "import numpy as np\n",
    "import pandas as pd\n",
    "import pickle"
   ]
  },
  {
   "cell_type": "code",
   "execution_count": 2,
   "id": "61d85db5",
   "metadata": {},
   "outputs": [],
   "source": [
    "saved_model = pickle.load(open('news_categorization_model.pickle', 'rb'))"
   ]
  },
  {
   "cell_type": "code",
   "execution_count": 3,
   "id": "1e1c243e",
   "metadata": {},
   "outputs": [],
   "source": [
    "clf = saved_model[0]\n",
    "title_vectorizer = saved_model[1]\n",
    "text_vectorizer = saved_model[2]\n",
    "one_hot_encoder = saved_model[3]\n",
    "scaler = saved_model[4]\n",
    "feature_name = saved_model[5]\n",
    "numerical_feature = saved_model[6]\n",
    "ordinal_feature = saved_model[7]\n",
    "nominal_feature = saved_model[8]"
   ]
  },
  {
   "cell_type": "code",
   "execution_count": 4,
   "id": "545cc276",
   "metadata": {},
   "outputs": [
    {
     "data": {
      "text/plain": [
       "['title', 'body_text']"
      ]
     },
     "execution_count": 4,
     "metadata": {},
     "output_type": "execute_result"
    }
   ],
   "source": [
    "feature_name"
   ]
  },
  {
   "cell_type": "code",
   "execution_count": 5,
   "id": "e6a5dd36",
   "metadata": {},
   "outputs": [],
   "source": [
    "title = 'กรีนพีซ แฉรัฐหมกเม็ดรายชื่อเกษตรกร'\n",
    "body_text = '''กรุงเทพฯ-7 ก.ย.47  ผอ.กรีนพีซ ตั้งข้อสังเกต รายชื่อเกษตรกรผู้รับเมล็ดพันธุ์มะละกอจากสำนักวิจัยฯ ขอนแก่น อาจไม่ใช่เอกสารตัวจริง เนื่องจากลงรายมือชื่อไม่เหมือนกัน   \n",
    " \"ในรายชื่อของเอกสาร  คนที่ไปซื้อต้องเขียนชื่อที่อยู่และเซ็นชื่อด้วยลายมือของตนเอง  แต่เท่าที่รู้ตอนนี้ซึ่งผมยังไม่ยืนยัน  รายชื่อที่ส่งให้คณะกรรมการสิทธิฯ เป็นรายชื่อที่คัดมาแล้ว เพราะเป็นลายมือของคนคนเดียว มันไม่ได้เป็นเอกสารตัวจริง\"  นายจิรากรณ์ คชเสนี  ผอ.กรีนพีซ เอเชียตะวันออกเฉียงใต้ระบุ   \n",
    "ก่อนหน้านี้ รัฐมนตรีว่าการกระทรวงเกษตรและสหกรณ์  ให้สัมภาษณ์ว่า ยินดีเปิดเผยรายชื่อเกษตรกรที่ได้รับแจกเมล็ดพันธุ์มะละกอแขกดำพันธุ์ท่าพระ จำนวน 2,300 กว่ารายชื่อ ตามที่กรรมการสิทธิมนุษยชนแห่งชาติร้องขอ เพื่อแสดงความบริสุทธิ์ใจให้ตรวจสอบว่า มีมะละกอปนเปื้อนจีเอ็มโอหลุดรอดจากแปลงทดลองหรือไม่   \n",
    "นายจิรากรณ์  กล่าวว่า  อยากให้กรมวิชาการเกษตรและกระทรวงเกษตรและสหกรณ์ยอมรับความจริงเรื่องการปนเปื้อนของมะละกอจีเอ็มโอที่สถานีวิจัยฯ ท่าพระ จ.ขอนแก่น  และแสดงความรับผิดชอบโดยเปิดเผยข้อมูลรวมทั้งรายชื่อผู้ซื้อเมล็ดพันธุ์และกล้ามะละกอที่เป็นจริง   \n",
    "นอกจากนี้นายจิรากรณ์ยังเรียกร้องให้มีการติดตามไปตรวจสอบและทำลายมะละกอที่ปนเปื้อนจีเอ็มโอในไร่นาเกษตรกรที่ซื้อเมล็ดพันธุ์โดยจ่ายค่าชดเชยให้เกษตรกรด้วย  รวมทั้งเปิดเผยสัญญาบันทึกความเข้าใจ (เอ็มโอยู) ที่กรมวิชาการเกษตรทำกับมหาวิทยาลัยคอร์แนลหรือบริษัทข้ามชาติอื่นๆ ด้วย     \n",
    "  รายงานโดย : มุทิตา เชื้อชั่ง\n",
    "ศูนย์ข่าวประชาไท [color] \n",
    "'''"
   ]
  },
  {
   "cell_type": "code",
   "execution_count": 6,
   "id": "7fbadf47",
   "metadata": {},
   "outputs": [
    {
     "data": {
      "text/html": [
       "<div>\n",
       "<style scoped>\n",
       "    .dataframe tbody tr th:only-of-type {\n",
       "        vertical-align: middle;\n",
       "    }\n",
       "\n",
       "    .dataframe tbody tr th {\n",
       "        vertical-align: top;\n",
       "    }\n",
       "\n",
       "    .dataframe thead th {\n",
       "        text-align: right;\n",
       "    }\n",
       "</style>\n",
       "<table border=\"1\" class=\"dataframe\">\n",
       "  <thead>\n",
       "    <tr style=\"text-align: right;\">\n",
       "      <th></th>\n",
       "      <th>title</th>\n",
       "      <th>body_text</th>\n",
       "    </tr>\n",
       "  </thead>\n",
       "  <tbody>\n",
       "    <tr>\n",
       "      <th>0</th>\n",
       "      <td>กรีนพีซ แฉรัฐหมกเม็ดรายชื่อเกษตรกร</td>\n",
       "      <td>กรุงเทพฯ-7 ก.ย.47  ผอ.กรีนพีซ ตั้งข้อสังเกต รา...</td>\n",
       "    </tr>\n",
       "  </tbody>\n",
       "</table>\n",
       "</div>"
      ],
      "text/plain": [
       "                                title  \\\n",
       "0  กรีนพีซ แฉรัฐหมกเม็ดรายชื่อเกษตรกร   \n",
       "\n",
       "                                           body_text  \n",
       "0  กรุงเทพฯ-7 ก.ย.47  ผอ.กรีนพีซ ตั้งข้อสังเกต รา...  "
      ]
     },
     "execution_count": 6,
     "metadata": {},
     "output_type": "execute_result"
    }
   ],
   "source": [
    "incoming_data = pd.DataFrame(np.array([[title, body_text]]), columns=feature_name)\n",
    "\n",
    "incoming_data"
   ]
  },
  {
   "cell_type": "markdown",
   "id": "885528bf",
   "metadata": {},
   "source": [
    "### title - Count Vectorization"
   ]
  },
  {
   "cell_type": "code",
   "execution_count": 7,
   "id": "08d264c2",
   "metadata": {},
   "outputs": [],
   "source": [
    "title_corpus_incoming = incoming_data['title'].tolist()\n",
    "title_cnt_vec_incoming = title_vectorizer.transform(title_corpus_incoming).toarray()"
   ]
  },
  {
   "cell_type": "code",
   "execution_count": 8,
   "id": "164ba1ff",
   "metadata": {},
   "outputs": [],
   "source": [
    "title_cnt_vec_feature_name = [\n",
    "    \"cnt_title_\" + feature for feature in title_vectorizer.get_feature_names()\n",
    "]"
   ]
  },
  {
   "cell_type": "code",
   "execution_count": 9,
   "id": "132d4610",
   "metadata": {},
   "outputs": [],
   "source": [
    "incoming_data[title_cnt_vec_feature_name] = title_cnt_vec_incoming\n",
    "incoming_data.drop('title', axis=1, inplace=True)"
   ]
  },
  {
   "cell_type": "markdown",
   "id": "bdde945f",
   "metadata": {},
   "source": [
    "### text - Count Vectorization"
   ]
  },
  {
   "cell_type": "code",
   "execution_count": 10,
   "id": "5e6febb0",
   "metadata": {},
   "outputs": [],
   "source": [
    "text_corpus_incoming = incoming_data['body_text'].tolist()\n",
    "text_cnt_vec_incoming = text_vectorizer.transform(text_corpus_incoming).toarray()"
   ]
  },
  {
   "cell_type": "code",
   "execution_count": 11,
   "id": "f967337e",
   "metadata": {},
   "outputs": [],
   "source": [
    "text_cnt_vec_feature_name = [\n",
    "    \"cnt_text_\" + feature for feature in text_vectorizer.get_feature_names()\n",
    "]"
   ]
  },
  {
   "cell_type": "code",
   "execution_count": 12,
   "id": "df3d75bd",
   "metadata": {},
   "outputs": [],
   "source": [
    "incoming_data[text_cnt_vec_feature_name] = text_cnt_vec_incoming\n",
    "incoming_data.drop('body_text', axis=1, inplace=True)"
   ]
  },
  {
   "cell_type": "markdown",
   "id": "0d5e1f2d",
   "metadata": {},
   "source": [
    "### ===== Ordinal Encoding & One Hot Encoding ====="
   ]
  },
  {
   "cell_type": "code",
   "execution_count": 13,
   "id": "9058fc35",
   "metadata": {},
   "outputs": [],
   "source": [
    "# print('numerical_feature :', numerical_feature)\n",
    "# print('ordinal_feature :', ordinal_feature)\n",
    "# print('nominal_feature :', nominal_feature)"
   ]
  },
  {
   "cell_type": "markdown",
   "id": "26268ee6",
   "metadata": {},
   "source": [
    "### ### Ordinal Encoding"
   ]
  },
  {
   "cell_type": "markdown",
   "id": "34c22a7d",
   "metadata": {},
   "source": [
    "### One Hot Encoding"
   ]
  },
  {
   "cell_type": "code",
   "execution_count": 14,
   "id": "b0bb5ceb",
   "metadata": {},
   "outputs": [],
   "source": [
    "one_hot_feature = []\n",
    "for i, feature in enumerate(nominal_feature):\n",
    "    for cate in one_hot_encoder.categories_[i]:\n",
    "        one_hot_feature_name = str(feature) + '_' + str(cate)\n",
    "        one_hot_feature.append(one_hot_feature_name)\n",
    "        \n",
    "incoming_data[one_hot_feature] = one_hot_encoder.transform(incoming_data[nominal_feature])\n",
    "incoming_data.drop(nominal_feature, axis=1, inplace=True)"
   ]
  },
  {
   "cell_type": "code",
   "execution_count": 15,
   "id": "b92d9f2a",
   "metadata": {},
   "outputs": [
    {
     "data": {
      "text/html": [
       "<div>\n",
       "<style scoped>\n",
       "    .dataframe tbody tr th:only-of-type {\n",
       "        vertical-align: middle;\n",
       "    }\n",
       "\n",
       "    .dataframe tbody tr th {\n",
       "        vertical-align: top;\n",
       "    }\n",
       "\n",
       "    .dataframe thead th {\n",
       "        text-align: right;\n",
       "    }\n",
       "</style>\n",
       "<table border=\"1\" class=\"dataframe\">\n",
       "  <thead>\n",
       "    <tr style=\"text-align: right;\">\n",
       "      <th></th>\n",
       "      <th>cnt_title_</th>\n",
       "      <th>cnt_title_</th>\n",
       "      <th>cnt_title_!</th>\n",
       "      <th>cnt_title_\"</th>\n",
       "      <th>cnt_title_\"สม</th>\n",
       "      <th>cnt_title_#</th>\n",
       "      <th>cnt_title_%</th>\n",
       "      <th>cnt_title_'</th>\n",
       "      <th>cnt_title_(</th>\n",
       "      <th>cnt_title_)</th>\n",
       "      <th>...</th>\n",
       "      <th>cnt_text_ไหม</th>\n",
       "      <th>cnt_text_ไหว</th>\n",
       "      <th>cnt_text_ไอ</th>\n",
       "      <th>cnt_text_ๆ</th>\n",
       "      <th>cnt_text_์</th>\n",
       "      <th>cnt_text_๒</th>\n",
       "      <th>cnt_text_๕</th>\n",
       "      <th>cnt_text_’</th>\n",
       "      <th>cnt_text_“</th>\n",
       "      <th>cnt_text_”</th>\n",
       "    </tr>\n",
       "  </thead>\n",
       "  <tbody>\n",
       "    <tr>\n",
       "      <th>0</th>\n",
       "      <td>1</td>\n",
       "      <td>0</td>\n",
       "      <td>0</td>\n",
       "      <td>0</td>\n",
       "      <td>0</td>\n",
       "      <td>0</td>\n",
       "      <td>0</td>\n",
       "      <td>0</td>\n",
       "      <td>0</td>\n",
       "      <td>0</td>\n",
       "      <td>...</td>\n",
       "      <td>0</td>\n",
       "      <td>0</td>\n",
       "      <td>0</td>\n",
       "      <td>1</td>\n",
       "      <td>3</td>\n",
       "      <td>0</td>\n",
       "      <td>0</td>\n",
       "      <td>0</td>\n",
       "      <td>0</td>\n",
       "      <td>0</td>\n",
       "    </tr>\n",
       "  </tbody>\n",
       "</table>\n",
       "<p>1 rows × 2000 columns</p>\n",
       "</div>"
      ],
      "text/plain": [
       "   cnt_title_   cnt_title_    cnt_title_!  cnt_title_\"  cnt_title_\"สม  \\\n",
       "0            1             0            0            0              0   \n",
       "\n",
       "   cnt_title_#  cnt_title_%  cnt_title_'  cnt_title_(  cnt_title_)  ...  \\\n",
       "0            0            0            0            0            0  ...   \n",
       "\n",
       "   cnt_text_ไหม  cnt_text_ไหว  cnt_text_ไอ  cnt_text_ๆ  cnt_text_์  \\\n",
       "0             0             0            0           1           3   \n",
       "\n",
       "   cnt_text_๒  cnt_text_๕  cnt_text_’  cnt_text_“  cnt_text_”  \n",
       "0           0           0           0           0           0  \n",
       "\n",
       "[1 rows x 2000 columns]"
      ]
     },
     "execution_count": 15,
     "metadata": {},
     "output_type": "execute_result"
    }
   ],
   "source": [
    "incoming_data"
   ]
  },
  {
   "cell_type": "markdown",
   "id": "51b86b73",
   "metadata": {},
   "source": [
    "### Feature Scaling"
   ]
  },
  {
   "cell_type": "code",
   "execution_count": 16,
   "id": "96fc88eb",
   "metadata": {},
   "outputs": [],
   "source": [
    "incoming_data_scaled = scaler.transform(incoming_data)"
   ]
  },
  {
   "cell_type": "markdown",
   "id": "8d270546",
   "metadata": {},
   "source": [
    "### Prediction"
   ]
  },
  {
   "cell_type": "code",
   "execution_count": 17,
   "id": "da873824",
   "metadata": {},
   "outputs": [],
   "source": [
    "predicted_target = clf.predict(incoming_data_scaled)"
   ]
  },
  {
   "cell_type": "code",
   "execution_count": 18,
   "id": "d9593b86",
   "metadata": {},
   "outputs": [
    {
     "data": {
      "text/plain": [
       "array(['environment'], dtype=object)"
      ]
     },
     "execution_count": 18,
     "metadata": {},
     "output_type": "execute_result"
    }
   ],
   "source": [
    "predicted_target"
   ]
  },
  {
   "cell_type": "code",
   "execution_count": null,
   "id": "ca63866c",
   "metadata": {},
   "outputs": [],
   "source": []
  }
 ],
 "metadata": {
  "kernelspec": {
   "display_name": "Python 3",
   "language": "python",
   "name": "python3"
  },
  "language_info": {
   "codemirror_mode": {
    "name": "ipython",
    "version": 3
   },
   "file_extension": ".py",
   "mimetype": "text/x-python",
   "name": "python",
   "nbconvert_exporter": "python",
   "pygments_lexer": "ipython3",
   "version": "3.8.8"
  }
 },
 "nbformat": 4,
 "nbformat_minor": 5
}
