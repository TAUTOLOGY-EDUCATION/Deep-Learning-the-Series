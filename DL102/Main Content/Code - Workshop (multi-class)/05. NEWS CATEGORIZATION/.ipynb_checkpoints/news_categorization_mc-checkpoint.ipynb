{
 "cells": [
  {
   "cell_type": "markdown",
   "id": "8d947407-5187-43ab-973d-f392d0db65e1",
   "metadata": {},
   "source": [
    "# 1. Import Libraries"
   ]
  },
  {
   "cell_type": "code",
   "execution_count": 1,
   "id": "d0ffb59a",
   "metadata": {},
   "outputs": [],
   "source": [
    "import numpy as np\n",
    "import pandas as pd\n",
    "import matplotlib.pyplot as plt\n",
    "\n",
    "from sklearn.model_selection import train_test_split\n",
    "from sklearn.feature_extraction.text import CountVectorizer\n",
    "from sklearn.preprocessing import OrdinalEncoder, OneHotEncoder, StandardScaler, MinMaxScaler\n",
    "from sklearn.linear_model import LogisticRegression, LogisticRegressionCV\n",
    "from sklearn.metrics import plot_confusion_matrix, classification_report\n",
    "\n",
    "import warnings\n",
    "warnings.filterwarnings('ignore')\n",
    "\n",
    "np.random.seed(12345)"
   ]
  },
  {
   "cell_type": "markdown",
   "id": "34449bf5-5736-40bd-9c49-14d28208637b",
   "metadata": {},
   "source": [
    "# 2. Read Data"
   ]
  },
  {
   "cell_type": "code",
   "execution_count": 2,
   "id": "b7957ad9-e354-45fd-9726-6f76a762a579",
   "metadata": {},
   "outputs": [
    {
     "data": {
      "text/html": [
       "<div>\n",
       "<style scoped>\n",
       "    .dataframe tbody tr th:only-of-type {\n",
       "        vertical-align: middle;\n",
       "    }\n",
       "\n",
       "    .dataframe tbody tr th {\n",
       "        vertical-align: top;\n",
       "    }\n",
       "\n",
       "    .dataframe thead th {\n",
       "        text-align: right;\n",
       "    }\n",
       "</style>\n",
       "<table border=\"1\" class=\"dataframe\">\n",
       "  <thead>\n",
       "    <tr style=\"text-align: right;\">\n",
       "      <th></th>\n",
       "      <th>title</th>\n",
       "      <th>body_text</th>\n",
       "      <th>labels</th>\n",
       "    </tr>\n",
       "  </thead>\n",
       "  <tbody>\n",
       "    <tr>\n",
       "      <th>0</th>\n",
       "      <td>นักวิจัยหนุน  \"แม้ว\"  เปิด  \"จีเอ็มโอ\"</td>\n",
       "      <td>ประชาไท --- 23 ส.ค.2547  นักวิจัยฯ ชี้นโยบายจี...</td>\n",
       "      <td>environment</td>\n",
       "    </tr>\n",
       "    <tr>\n",
       "      <th>1</th>\n",
       "      <td>ภาคประชาชนต้านเปิดเสรีจีเอ็มโอ</td>\n",
       "      <td>ประชาไท- 23 ส.ค.2547   นักวิชาการ ภาคประชาชน จ...</td>\n",
       "      <td>environment</td>\n",
       "    </tr>\n",
       "    <tr>\n",
       "      <th>2</th>\n",
       "      <td>จุฬาฯ ห่วงจีเอ็มโอลามข้าวไทย</td>\n",
       "      <td>นโยบายที่อนุญาตให้ปลูกร่วมกับพืชอื่นได้นั้นถื...</td>\n",
       "      <td>environment</td>\n",
       "    </tr>\n",
       "    <tr>\n",
       "      <th>3</th>\n",
       "      <td>ฟองสบู่การเมืองแตก ทักษิณหมดกึ๋น ชนชั้นกลางหมด...</td>\n",
       "      <td>ประชาไท -- 23 ส.ค. 47  ขาประจำทักษิณ ฟันธง ฟอง...</td>\n",
       "      <td>politics</td>\n",
       "    </tr>\n",
       "    <tr>\n",
       "      <th>4</th>\n",
       "      <td>กอต.เสนอเลิกถนนคลองลาน-อุ้มผาง</td>\n",
       "      <td>ประชาไท-23 ส.ค.47  คณะกรรมการอนุรักษ์ ผืนป่าตะ...</td>\n",
       "      <td>environment</td>\n",
       "    </tr>\n",
       "    <tr>\n",
       "      <th>...</th>\n",
       "      <td>...</td>\n",
       "      <td>...</td>\n",
       "      <td>...</td>\n",
       "    </tr>\n",
       "    <tr>\n",
       "      <th>35315</th>\n",
       "      <td>เกษียร เตชะพีระ : ทำไมประเทศกูถึงมี “ลัทธิชังช...</td>\n",
       "      <td>\\n\\n“พูดให้ถึงที่สุด คนที่ถูกกล่าวหาว่าเป็นพวก...</td>\n",
       "      <td>politics</td>\n",
       "    </tr>\n",
       "    <tr>\n",
       "      <th>35316</th>\n",
       "      <td>EU แจงพร้อมร่วม หากไทยชวนมาสังเกตการณ์เลือกตั้...</td>\n",
       "      <td>สหภาพยุโรปยันไม่ได้เตรียมการลงพื้นที่สังเกตการ...</td>\n",
       "      <td>politics</td>\n",
       "    </tr>\n",
       "    <tr>\n",
       "      <th>35317</th>\n",
       "      <td>ใบตองแห้ง: Elite เสื่อมหนีตรวจสอบ</td>\n",
       "      <td>ดูเหมือนผมจะเป็นเสียงข้างน้อยในข้างน้อย ที่เห็...</td>\n",
       "      <td>politics</td>\n",
       "    </tr>\n",
       "    <tr>\n",
       "      <th>35318</th>\n",
       "      <td>ใบตองแห้ง: ตู่หน้าบางสังคมโง่</td>\n",
       "      <td>ลุงตู่ของคนชั้นกลางในเมืองเนี่ย เป็นคนมีเสน่ห์...</td>\n",
       "      <td>politics</td>\n",
       "    </tr>\n",
       "    <tr>\n",
       "      <th>35319</th>\n",
       "      <td>ใบตองแห้ง: แตกแบงก์พันเป็น 1,200</td>\n",
       "      <td>จำเลยคดีกบฏที่ยังไม่ไปรายงานตัว ชี้ว่าพรรคเพื่...</td>\n",
       "      <td>politics</td>\n",
       "    </tr>\n",
       "  </tbody>\n",
       "</table>\n",
       "<p>35320 rows × 3 columns</p>\n",
       "</div>"
      ],
      "text/plain": [
       "                                                   title  \\\n",
       "0                 นักวิจัยหนุน  \"แม้ว\"  เปิด  \"จีเอ็มโอ\"   \n",
       "1                         ภาคประชาชนต้านเปิดเสรีจีเอ็มโอ   \n",
       "2                           จุฬาฯ ห่วงจีเอ็มโอลามข้าวไทย   \n",
       "3      ฟองสบู่การเมืองแตก ทักษิณหมดกึ๋น ชนชั้นกลางหมด...   \n",
       "4                         กอต.เสนอเลิกถนนคลองลาน-อุ้มผาง   \n",
       "...                                                  ...   \n",
       "35315  เกษียร เตชะพีระ : ทำไมประเทศกูถึงมี “ลัทธิชังช...   \n",
       "35316  EU แจงพร้อมร่วม หากไทยชวนมาสังเกตการณ์เลือกตั้...   \n",
       "35317                 ใบตองแห้ง: Elite เสื่อมหนีตรวจสอบ    \n",
       "35318                      ใบตองแห้ง: ตู่หน้าบางสังคมโง่   \n",
       "35319                 ใบตองแห้ง: แตกแบงก์พันเป็น 1,200     \n",
       "\n",
       "                                               body_text       labels  \n",
       "0      ประชาไท --- 23 ส.ค.2547  นักวิจัยฯ ชี้นโยบายจี...  environment  \n",
       "1      ประชาไท- 23 ส.ค.2547   นักวิชาการ ภาคประชาชน จ...  environment  \n",
       "2       นโยบายที่อนุญาตให้ปลูกร่วมกับพืชอื่นได้นั้นถื...  environment  \n",
       "3      ประชาไท -- 23 ส.ค. 47  ขาประจำทักษิณ ฟันธง ฟอง...     politics  \n",
       "4      ประชาไท-23 ส.ค.47  คณะกรรมการอนุรักษ์ ผืนป่าตะ...  environment  \n",
       "...                                                  ...          ...  \n",
       "35315  \\n\\n“พูดให้ถึงที่สุด คนที่ถูกกล่าวหาว่าเป็นพวก...     politics  \n",
       "35316  สหภาพยุโรปยันไม่ได้เตรียมการลงพื้นที่สังเกตการ...     politics  \n",
       "35317  ดูเหมือนผมจะเป็นเสียงข้างน้อยในข้างน้อย ที่เห็...     politics  \n",
       "35318  ลุงตู่ของคนชั้นกลางในเมืองเนี่ย เป็นคนมีเสน่ห์...     politics  \n",
       "35319  จำเลยคดีกบฏที่ยังไม่ไปรายงานตัว ชี้ว่าพรรคเพื่...     politics  \n",
       "\n",
       "[35320 rows x 3 columns]"
      ]
     },
     "execution_count": 2,
     "metadata": {},
     "output_type": "execute_result"
    }
   ],
   "source": [
    "data = pd.read_excel('news_dataset.xlsx')\n",
    "\n",
    "data"
   ]
  },
  {
   "cell_type": "markdown",
   "id": "d97b0fb7-141b-4732-812f-ce6f763e7d8b",
   "metadata": {},
   "source": [
    "# 3. Clean Data"
   ]
  },
  {
   "cell_type": "markdown",
   "id": "51bb865e-7841-44c1-a07e-c15e0b532183",
   "metadata": {},
   "source": [
    "## 3.1. Handle Missing Values"
   ]
  },
  {
   "cell_type": "markdown",
   "id": "8ccbf046-2082-471e-ac1f-30d3dd9abc73",
   "metadata": {},
   "source": [
    "### 3.1.1. Check Missing Values"
   ]
  },
  {
   "cell_type": "code",
   "execution_count": 3,
   "id": "e2dd8ff8-ec04-45e8-ab6a-ea856f710da7",
   "metadata": {},
   "outputs": [
    {
     "name": "stdout",
     "output_type": "stream",
     "text": [
      "<class 'pandas.core.frame.DataFrame'>\n",
      "RangeIndex: 35320 entries, 0 to 35319\n",
      "Data columns (total 3 columns):\n",
      " #   Column     Non-Null Count  Dtype \n",
      "---  ------     --------------  ----- \n",
      " 0   title      35320 non-null  object\n",
      " 1   body_text  35318 non-null  object\n",
      " 2   labels     35320 non-null  object\n",
      "dtypes: object(3)\n",
      "memory usage: 827.9+ KB\n"
     ]
    }
   ],
   "source": [
    "data.info()"
   ]
  },
  {
   "cell_type": "markdown",
   "id": "d558cd18-0079-4a93-9203-bf7188b9384c",
   "metadata": {},
   "source": [
    "### 3.1.2. Remove Missing Values"
   ]
  },
  {
   "cell_type": "code",
   "execution_count": 4,
   "id": "c02c9bbe-5131-47a4-9c2b-70b0d187fc08",
   "metadata": {},
   "outputs": [],
   "source": [
    "data.dropna(axis=0, inplace=True)"
   ]
  },
  {
   "cell_type": "markdown",
   "id": "65b38cdd-c0fe-4e7f-bcc4-90792d642609",
   "metadata": {},
   "source": [
    "## ### 3.2. Handle Outliers"
   ]
  },
  {
   "cell_type": "markdown",
   "id": "59daab08-371b-4873-a1eb-615918f4cddd",
   "metadata": {},
   "source": [
    "# 4. Split Dataset into Training & Test Sets"
   ]
  },
  {
   "cell_type": "code",
   "execution_count": 5,
   "id": "4c56d8a1-ffea-4943-9b7e-4e1c60260e70",
   "metadata": {},
   "outputs": [],
   "source": [
    "target_name = 'labels'\n",
    "feature_name = list(data.columns.drop(target_name))"
   ]
  },
  {
   "cell_type": "code",
   "execution_count": 6,
   "id": "2c4632e6-a3ad-4112-a4af-174caad4aaec",
   "metadata": {},
   "outputs": [],
   "source": [
    "X = data[feature_name]\n",
    "y = data[target_name]"
   ]
  },
  {
   "cell_type": "code",
   "execution_count": 7,
   "id": "5dc06316-c2c3-4b19-ad0e-d13c4690b1bf",
   "metadata": {},
   "outputs": [],
   "source": [
    "X_train, X_test, y_train, y_test = train_test_split(X, y, test_size=0.20, shuffle=True)"
   ]
  },
  {
   "cell_type": "code",
   "execution_count": 8,
   "id": "dc515ddf-31e4-4e8b-aeaa-80cbcc191c34",
   "metadata": {},
   "outputs": [
    {
     "data": {
      "text/plain": [
       "['title', 'body_text']"
      ]
     },
     "execution_count": 8,
     "metadata": {},
     "output_type": "execute_result"
    }
   ],
   "source": [
    "feature_name"
   ]
  },
  {
   "cell_type": "markdown",
   "id": "e2d7c32d-a811-4f13-a6bf-7678f24d8d4e",
   "metadata": {},
   "source": [
    "# 5. Data Preparation"
   ]
  },
  {
   "cell_type": "markdown",
   "id": "c6c4b9fc-0976-4636-88d0-1da5c727fab8",
   "metadata": {},
   "source": [
    "## 5.1. Count Vectorization"
   ]
  },
  {
   "cell_type": "code",
   "execution_count": 9,
   "id": "f5f4d23b",
   "metadata": {},
   "outputs": [],
   "source": [
    "# !pip install pythainlp"
   ]
  },
  {
   "cell_type": "code",
   "execution_count": 10,
   "id": "22eef642",
   "metadata": {},
   "outputs": [],
   "source": [
    "# tokenize thai word\n",
    "from pythainlp.tokenize import syllable_tokenize"
   ]
  },
  {
   "cell_type": "markdown",
   "id": "4f727a24-3608-4323-8b0d-18ef60870bd0",
   "metadata": {},
   "source": [
    "### 5.1.1. title"
   ]
  },
  {
   "cell_type": "markdown",
   "id": "adebc38d-d608-4eb5-8cdb-b4c3dbe480f9",
   "metadata": {},
   "source": [
    "#### 5.1.1.1. Training Set"
   ]
  },
  {
   "cell_type": "code",
   "execution_count": 11,
   "id": "f7c7d281-eaee-4448-a3eb-918016224a5f",
   "metadata": {},
   "outputs": [],
   "source": [
    "corpus_train = X_train['title'].tolist()\n",
    "title_vectorizer = CountVectorizer(max_features=1000, tokenizer=syllable_tokenize)\n",
    "title_vectorizer.fit(corpus_train)\n",
    "title_cnt_vec_train = title_vectorizer.transform(corpus_train).toarray()"
   ]
  },
  {
   "cell_type": "code",
   "execution_count": 12,
   "id": "8740b803-667c-42ff-bc82-10b910e34649",
   "metadata": {},
   "outputs": [],
   "source": [
    "title_cnt_vec_feature_name = [\n",
    "    'cnt_title_' + feature for feature in title_vectorizer.get_feature_names()\n",
    "]"
   ]
  },
  {
   "cell_type": "code",
   "execution_count": 13,
   "id": "15c99a79-0185-4309-aa09-db3d909e77d1",
   "metadata": {},
   "outputs": [],
   "source": [
    "X_train[title_cnt_vec_feature_name] = title_cnt_vec_train\n",
    "X_train.drop('title', axis=1, inplace=True)"
   ]
  },
  {
   "cell_type": "markdown",
   "id": "f7f9977b-7af2-4ca0-9a38-93a232ca8243",
   "metadata": {},
   "source": [
    "#### 5.1.1.2. Test Set"
   ]
  },
  {
   "cell_type": "code",
   "execution_count": 14,
   "id": "0c010815-0612-4307-8433-a1f6b8fac0ee",
   "metadata": {},
   "outputs": [],
   "source": [
    "corpus_test = X_test['title'].tolist()\n",
    "title_cnt_vec_test = title_vectorizer.transform(corpus_test).toarray()"
   ]
  },
  {
   "cell_type": "code",
   "execution_count": 15,
   "id": "8c71b87e-1f5e-4941-bee3-c9e0beae7f1c",
   "metadata": {},
   "outputs": [],
   "source": [
    "X_test[title_cnt_vec_feature_name] = title_cnt_vec_test\n",
    "X_test.drop('title', axis=1, inplace=True)"
   ]
  },
  {
   "cell_type": "markdown",
   "id": "3911a1b2-753a-4e74-b932-3857ca9a59c4",
   "metadata": {
    "tags": []
   },
   "source": [
    "### 5.1.2 text"
   ]
  },
  {
   "cell_type": "markdown",
   "id": "45e0c320-1569-4105-9a75-288ba0883ac1",
   "metadata": {},
   "source": [
    "#### 5.1.2.1. Training Set"
   ]
  },
  {
   "cell_type": "code",
   "execution_count": 16,
   "id": "7747c992-2a97-4416-ab0f-1ea453993dd0",
   "metadata": {},
   "outputs": [],
   "source": [
    "corpus_train = X_train['body_text'].tolist()\n",
    "text_vectorizer = CountVectorizer(max_features=1000, tokenizer=syllable_tokenize)\n",
    "text_vectorizer.fit(corpus_train)\n",
    "text_cnt_vec_train = text_vectorizer.transform(corpus_train).toarray()"
   ]
  },
  {
   "cell_type": "code",
   "execution_count": 17,
   "id": "de433fef-e8c6-4ef1-a491-8575609f6424",
   "metadata": {},
   "outputs": [],
   "source": [
    "text_cnt_vec_feature_name = [\n",
    "    'cnt_text_' + feature for feature in text_vectorizer.get_feature_names()\n",
    "]"
   ]
  },
  {
   "cell_type": "code",
   "execution_count": 18,
   "id": "266fcbf4-d761-4484-bb0e-5f5d1ef7248a",
   "metadata": {},
   "outputs": [],
   "source": [
    "X_train[text_cnt_vec_feature_name] = text_cnt_vec_train\n",
    "X_train.drop('body_text', axis=1, inplace=True)"
   ]
  },
  {
   "cell_type": "markdown",
   "id": "76debd6d-7d8a-4b57-926c-3858b389ad2e",
   "metadata": {},
   "source": [
    "#### 5.1.2.2. Test Set"
   ]
  },
  {
   "cell_type": "code",
   "execution_count": 19,
   "id": "c049f65f-cb9e-4c2b-8720-782f28de3ce0",
   "metadata": {},
   "outputs": [],
   "source": [
    "corpus_test = X_test['body_text'].tolist()\n",
    "text_cnt_vec_test = text_vectorizer.transform(corpus_test).toarray()"
   ]
  },
  {
   "cell_type": "code",
   "execution_count": 20,
   "id": "65609a90-1e7e-4185-856c-1fcbce9b494f",
   "metadata": {},
   "outputs": [],
   "source": [
    "X_test[text_cnt_vec_feature_name] = text_cnt_vec_test\n",
    "X_test.drop('body_text', axis=1, inplace=True)"
   ]
  },
  {
   "cell_type": "markdown",
   "id": "b886da22-b7ad-4f6a-9c46-002e3c7307ff",
   "metadata": {},
   "source": [
    "## ===== Ordinal Encoding & One Hot Encoding ====="
   ]
  },
  {
   "cell_type": "code",
   "execution_count": 21,
   "id": "6a3cfde8-d94c-45bb-9571-130add8713a3",
   "metadata": {},
   "outputs": [],
   "source": [
    "numerical_feature = []\n",
    "categorical_feature = []\n",
    "numerical_feature.extend(title_cnt_vec_feature_name)\n",
    "numerical_feature.extend(text_cnt_vec_feature_name)"
   ]
  },
  {
   "cell_type": "code",
   "execution_count": 22,
   "id": "fbfa2b2e-5789-4ed1-a6fc-f91637ee1711",
   "metadata": {},
   "outputs": [],
   "source": [
    "for feature in categorical_feature:\n",
    "    print(feature, \":\", np.unique(X_train[feature]))"
   ]
  },
  {
   "cell_type": "code",
   "execution_count": 23,
   "id": "314d8154-4c87-49dd-9df7-c61050714a43",
   "metadata": {},
   "outputs": [],
   "source": [
    "ordinal_feature = []\n",
    "nominal_feature = list(categorical_feature)"
   ]
  },
  {
   "cell_type": "markdown",
   "id": "fda8f119-d7cb-43fb-8b61-3fe329069c2f",
   "metadata": {},
   "source": [
    "## ## 5.2. Ordinal Encoding"
   ]
  },
  {
   "cell_type": "markdown",
   "id": "4ae75569-a499-43d3-b668-6a3c0c4114ca",
   "metadata": {},
   "source": [
    "## 5.3. One Hot Encoding"
   ]
  },
  {
   "cell_type": "markdown",
   "id": "46278eb7-e889-44d2-a5e1-1aa6db64e8c2",
   "metadata": {},
   "source": [
    "### 5.3.1. Training Set"
   ]
  },
  {
   "cell_type": "code",
   "execution_count": 24,
   "id": "733a20c3-7c45-4df4-984f-c05eb66c4074",
   "metadata": {},
   "outputs": [
    {
     "data": {
      "text/plain": [
       "OneHotEncoder(handle_unknown='ignore', sparse=False)"
      ]
     },
     "execution_count": 24,
     "metadata": {},
     "output_type": "execute_result"
    }
   ],
   "source": [
    "one_hot_encoder = OneHotEncoder(sparse=False, handle_unknown='ignore')\n",
    "one_hot_encoder.fit(X_train[nominal_feature])"
   ]
  },
  {
   "cell_type": "code",
   "execution_count": 25,
   "id": "7419cc26-5a4e-44e6-997e-f4c08a4c3262",
   "metadata": {},
   "outputs": [],
   "source": [
    "one_hot_feature = []\n",
    "for i, feature in enumerate(nominal_feature):\n",
    "    for cate in one_hot_encoder.categories_[i]:\n",
    "        one_hot_feature_name = str(feature) + \"_\" + str(cate)\n",
    "        one_hot_feature.append(one_hot_feature_name)"
   ]
  },
  {
   "cell_type": "code",
   "execution_count": 26,
   "id": "39594cda-c1ef-4b15-9cdd-62e064f1c7c7",
   "metadata": {},
   "outputs": [],
   "source": [
    "X_train[one_hot_feature] = one_hot_encoder.transform(X_train[nominal_feature])\n",
    "X_train.drop(nominal_feature, axis=1, inplace=True)"
   ]
  },
  {
   "cell_type": "markdown",
   "id": "ce740a29-8168-4733-bd52-be88ee634742",
   "metadata": {},
   "source": [
    "### 5.3.2. Test Set"
   ]
  },
  {
   "cell_type": "code",
   "execution_count": 27,
   "id": "81b4c632-fa68-4957-aa48-27a05c36e328",
   "metadata": {},
   "outputs": [],
   "source": [
    "X_test[one_hot_feature] = one_hot_encoder.transform(X_test[nominal_feature])\n",
    "X_test.drop(nominal_feature, axis=1, inplace=True)"
   ]
  },
  {
   "cell_type": "markdown",
   "id": "68a5197f-992c-4cb0-994a-da62d177bf5c",
   "metadata": {},
   "source": [
    "## 5.4. Feature Scaling"
   ]
  },
  {
   "cell_type": "markdown",
   "id": "e3e48052-9d6e-4289-9408-4926dcf120c2",
   "metadata": {},
   "source": [
    "### 5.4.1. Training Set"
   ]
  },
  {
   "cell_type": "code",
   "execution_count": 28,
   "id": "8955cb3f-b32b-4381-b7c7-19bf49489738",
   "metadata": {},
   "outputs": [],
   "source": [
    "scaler = StandardScaler()\n",
    "X_train_scaled = scaler.fit_transform(X_train)"
   ]
  },
  {
   "cell_type": "markdown",
   "id": "66d1a24d-cd75-440f-96e3-f534831c9c30",
   "metadata": {},
   "source": [
    "### 5.4.2. Test Set"
   ]
  },
  {
   "cell_type": "code",
   "execution_count": 29,
   "id": "f5990d0d-5225-49f7-b551-a8ab8ba52cea",
   "metadata": {},
   "outputs": [],
   "source": [
    "X_test_scaled = scaler.transform(X_test)"
   ]
  },
  {
   "cell_type": "markdown",
   "id": "52be921a-eede-4e66-ab3e-c4f6dbb2c8fb",
   "metadata": {},
   "source": [
    "# 6. Model Creation"
   ]
  },
  {
   "cell_type": "code",
   "execution_count": 30,
   "id": "3082fd2e",
   "metadata": {},
   "outputs": [],
   "source": [
    "##### logistic regression #####\n",
    "# clf = LogisticRegression(penalty='none')\n",
    "# clf.fit(X_train_scaled, y_train)\n",
    "\n",
    "\n",
    "##### logistic regression with l2 regularization #####\n",
    "# alphas = np.logspace(-3, 3, num=100)\n",
    "# clf = LogisticRegressionCV(penalty='l2', Cs=alphas, cv=5)\n",
    "# clf.fit(X_train_scaled, y_train)\n",
    "\n",
    "\n",
    "##### logistic regression with l1 regularization #####\n",
    "# alphas = np.logspace(-3, 3, num=100)\n",
    "# clf = LogisticRegressionCV(penalty='l1', solver='saga', Cs=alphas, cv=5)\n",
    "# clf.fit(X_train_scaled, y_train)\n",
    "\n",
    "\n",
    "##### logistic regression with elastic net regularization #####\n",
    "# alphas = np.logspace(-3, 3, num=100)\n",
    "# l1_ratios = [0.01, 0.05, 0.1, 0.5, 0.7, 0.9, 0.95, 0.99, 1]\n",
    "# clf = LogisticRegressionCV(penalty='elasticnet', solver='saga', \n",
    "#                            l1_ratios=l1_ratios, Cs=alphas, cv=5)\n",
    "# clf.fit(X_train_scaled, y_train)\n",
    "\n",
    "\n",
    "##### logistic regression + balanced class weight #####\n",
    "# clf = LogisticRegression(penalty='none', class_weight='balanced')\n",
    "# clf.fit(X_train_scaled, y_train)\n",
    "\n",
    "\n",
    "##### logistic regression with l2 regularization + balanced class weight #####\n",
    "# alphas = np.logspace(-3, 3, num=100)\n",
    "# clf = LogisticRegressionCV(penalty='l2', Cs=alphas, cv=5, class_weight='balanced')\n",
    "# clf.fit(X_train_scaled, y_train)\n",
    "\n",
    "\n",
    "##### logistic regression with l1 regularization + balanced class weight #####\n",
    "# alphas = np.logspace(-3, 3, num=100)\n",
    "# clf = LogisticRegressionCV(penalty='l1', solver='saga', Cs=alphas, cv=5, class_weight='balanced')\n",
    "# clf.fit(X_train_scaled, y_train)\n",
    "\n",
    "\n",
    "##### logistic regression with elastic net regularization + balanced class weight #####\n",
    "# alphas = np.logspace(-3, 3, num=100)\n",
    "# l1_ratios = [0.01, 0.05, 0.1, 0.5, 0.7, 0.9, 0.95, 0.99, 1]\n",
    "# clf = LogisticRegressionCV(penalty='elasticnet', solver='saga', \n",
    "#                            l1_ratios=l1_ratios, Cs=alphas, cv=5, class_weight='balanced')\n",
    "# clf.fit(X_train_scaled, y_train)"
   ]
  },
  {
   "cell_type": "code",
   "execution_count": 31,
   "id": "f409ba5a-7a18-4509-bf22-69a2ded14a1d",
   "metadata": {},
   "outputs": [
    {
     "data": {
      "text/plain": [
       "LogisticRegression(class_weight='balanced', penalty='none')"
      ]
     },
     "execution_count": 31,
     "metadata": {},
     "output_type": "execute_result"
    }
   ],
   "source": [
    "clf = LogisticRegression(penalty='none', class_weight='balanced')\n",
    "clf.fit(X_train_scaled, y_train)"
   ]
  },
  {
   "cell_type": "code",
   "execution_count": 32,
   "id": "7ff164e3-ddc0-4024-9e70-9900916da4ed",
   "metadata": {},
   "outputs": [
    {
     "data": {
      "text/plain": [
       "array([-7.67558718, -6.78109784, -8.10082189, -3.02721738, -4.69113228,\n",
       "       -7.65423218, -2.70804974, -6.38924028, 63.94584251, -4.3780359 ,\n",
       "       -6.34676681, -6.19366104])"
      ]
     },
     "execution_count": 32,
     "metadata": {},
     "output_type": "execute_result"
    }
   ],
   "source": [
    "clf.intercept_"
   ]
  },
  {
   "cell_type": "code",
   "execution_count": 33,
   "id": "abbd7692-f81e-4232-acc4-6b3d0f3218e8",
   "metadata": {},
   "outputs": [
    {
     "data": {
      "text/plain": [
       "array([[ 0.61860018,  0.42592553,  1.29290513, ...,  1.25332944,\n",
       "         0.34991037,  0.55833695],\n",
       "       [ 0.85353076, -0.43282777, -0.11706828, ...,  0.13643133,\n",
       "         0.31191213, -0.01655208],\n",
       "       [-0.1305173 ,  0.64102033,  0.4866207 , ..., -0.28866778,\n",
       "        -0.15968494, -0.08631458],\n",
       "       ...,\n",
       "       [ 0.49510899, -1.4248853 ,  0.01426156, ...,  0.62922713,\n",
       "         1.10119972,  0.6768463 ],\n",
       "       [-0.23184318, -0.95061502, -0.53566939, ..., -0.29491958,\n",
       "        -0.2470919 ,  0.29378509],\n",
       "       [ 1.13416287,  0.63028033, -1.33199603, ..., -0.23812772,\n",
       "         0.36948956,  0.57698819]])"
      ]
     },
     "execution_count": 33,
     "metadata": {},
     "output_type": "execute_result"
    }
   ],
   "source": [
    "clf.coef_"
   ]
  },
  {
   "cell_type": "markdown",
   "id": "264fe241-e6e6-4375-9633-8dff1851897f",
   "metadata": {},
   "source": [
    "# 7. Prediction"
   ]
  },
  {
   "cell_type": "markdown",
   "id": "cb224734-69d2-4c0e-86c4-67d47f64a010",
   "metadata": {},
   "source": [
    "## 7.1. Training Set"
   ]
  },
  {
   "cell_type": "code",
   "execution_count": 34,
   "id": "bfac7233-9faf-4c66-8176-9425be1b809d",
   "metadata": {},
   "outputs": [],
   "source": [
    "y_pred_train = clf.predict(X_train_scaled)"
   ]
  },
  {
   "cell_type": "markdown",
   "id": "330f3ba3-6ffe-4c58-bf7d-4938ecef5eb4",
   "metadata": {},
   "source": [
    "## 7.2. Test Set"
   ]
  },
  {
   "cell_type": "code",
   "execution_count": 35,
   "id": "a8865bf0-c748-4b16-8300-cb581f796b4c",
   "metadata": {},
   "outputs": [],
   "source": [
    "y_pred_test = clf.predict(X_test_scaled)"
   ]
  },
  {
   "cell_type": "markdown",
   "id": "995237b0-b5fd-4840-b566-e8134f2c6e44",
   "metadata": {},
   "source": [
    "# 8. Model Evaluation"
   ]
  },
  {
   "cell_type": "markdown",
   "id": "195a97c4-5024-4048-bb93-0aca45c49230",
   "metadata": {},
   "source": [
    "## 8.1. Training Set"
   ]
  },
  {
   "cell_type": "markdown",
   "id": "ff4d2561-9e20-4982-bda3-3b84fb652b4b",
   "metadata": {},
   "source": [
    "### 8.1.1. Confusion Matrix"
   ]
  },
  {
   "cell_type": "code",
   "execution_count": 36,
   "id": "21438ceb-8a32-4b47-a482-44729a81bca2",
   "metadata": {},
   "outputs": [
    {
     "data": {
      "image/png": "[encoded data removed]",
      "text/plain": [
       "<Figure size 432x432 with 2 Axes>"
      ]
     },
     "metadata": {
      "needs_background": "light"
     },
     "output_type": "display_data"
    }
   ],
   "source": [
    "fig, ax = plt.subplots(figsize=(6, 6))\n",
    "plot_confusion_matrix(clf, X_train_scaled, y_train, ax=ax)\n",
    "plt.xticks(rotation=90)\n",
    "plt.show()"
   ]
  },
  {
   "cell_type": "markdown",
   "id": "eea7d073-ad93-42ce-8ac6-494151aaabf7",
   "metadata": {},
   "source": [
    "### 8.1.2. Scoring"
   ]
  },
  {
   "cell_type": "code",
   "execution_count": 37,
   "id": "5e2253cd-3462-4dd2-87ce-4c50c6adaeec",
   "metadata": {},
   "outputs": [],
   "source": [
    "report = classification_report(y_train, y_pred_train, output_dict=True)"
   ]
  },
  {
   "cell_type": "code",
   "execution_count": 38,
   "id": "19627385-8fc9-4aa5-a55b-406415075db8",
   "metadata": {},
   "outputs": [
    {
     "name": "stdout",
     "output_type": "stream",
     "text": [
      "accuracy = 0.9973809018192115\n"
     ]
    }
   ],
   "source": [
    "print('accuracy =', report['accuracy'])"
   ]
  },
  {
   "cell_type": "code",
   "execution_count": 39,
   "id": "a089e7c8-24df-445c-809e-8672ed381d0f",
   "metadata": {},
   "outputs": [
    {
     "data": {
      "text/html": [
       "<div>\n",
       "<style scoped>\n",
       "    .dataframe tbody tr th:only-of-type {\n",
       "        vertical-align: middle;\n",
       "    }\n",
       "\n",
       "    .dataframe tbody tr th {\n",
       "        vertical-align: top;\n",
       "    }\n",
       "\n",
       "    .dataframe thead th {\n",
       "        text-align: right;\n",
       "    }\n",
       "</style>\n",
       "<table border=\"1\" class=\"dataframe\">\n",
       "  <thead>\n",
       "    <tr style=\"text-align: right;\">\n",
       "      <th></th>\n",
       "      <th>precision</th>\n",
       "      <th>recall</th>\n",
       "      <th>f1-score</th>\n",
       "      <th>support</th>\n",
       "    </tr>\n",
       "  </thead>\n",
       "  <tbody>\n",
       "    <tr>\n",
       "      <th>culture</th>\n",
       "      <td>1.000000</td>\n",
       "      <td>1.000000</td>\n",
       "      <td>1.000000</td>\n",
       "      <td>429.000000</td>\n",
       "    </tr>\n",
       "    <tr>\n",
       "      <th>economy</th>\n",
       "      <td>1.000000</td>\n",
       "      <td>1.000000</td>\n",
       "      <td>1.000000</td>\n",
       "      <td>438.000000</td>\n",
       "    </tr>\n",
       "    <tr>\n",
       "      <th>education</th>\n",
       "      <td>1.000000</td>\n",
       "      <td>1.000000</td>\n",
       "      <td>1.000000</td>\n",
       "      <td>187.000000</td>\n",
       "    </tr>\n",
       "    <tr>\n",
       "      <th>environment</th>\n",
       "      <td>0.999716</td>\n",
       "      <td>0.999716</td>\n",
       "      <td>0.999716</td>\n",
       "      <td>3527.000000</td>\n",
       "    </tr>\n",
       "    <tr>\n",
       "      <th>human_rights</th>\n",
       "      <td>1.000000</td>\n",
       "      <td>1.000000</td>\n",
       "      <td>1.000000</td>\n",
       "      <td>603.000000</td>\n",
       "    </tr>\n",
       "    <tr>\n",
       "      <th>ict</th>\n",
       "      <td>1.000000</td>\n",
       "      <td>1.000000</td>\n",
       "      <td>1.000000</td>\n",
       "      <td>202.000000</td>\n",
       "    </tr>\n",
       "    <tr>\n",
       "      <th>international</th>\n",
       "      <td>0.955406</td>\n",
       "      <td>1.000000</td>\n",
       "      <td>0.977195</td>\n",
       "      <td>1564.000000</td>\n",
       "    </tr>\n",
       "    <tr>\n",
       "      <th>labor</th>\n",
       "      <td>1.000000</td>\n",
       "      <td>1.000000</td>\n",
       "      <td>1.000000</td>\n",
       "      <td>205.000000</td>\n",
       "    </tr>\n",
       "    <tr>\n",
       "      <th>politics</th>\n",
       "      <td>1.000000</td>\n",
       "      <td>0.996262</td>\n",
       "      <td>0.998127</td>\n",
       "      <td>19528.000000</td>\n",
       "    </tr>\n",
       "    <tr>\n",
       "      <th>quality_of_life</th>\n",
       "      <td>1.000000</td>\n",
       "      <td>1.000000</td>\n",
       "      <td>1.000000</td>\n",
       "      <td>868.000000</td>\n",
       "    </tr>\n",
       "    <tr>\n",
       "      <th>social</th>\n",
       "      <td>1.000000</td>\n",
       "      <td>1.000000</td>\n",
       "      <td>1.000000</td>\n",
       "      <td>263.000000</td>\n",
       "    </tr>\n",
       "    <tr>\n",
       "      <th>stability</th>\n",
       "      <td>1.000000</td>\n",
       "      <td>1.000000</td>\n",
       "      <td>1.000000</td>\n",
       "      <td>440.000000</td>\n",
       "    </tr>\n",
       "    <tr>\n",
       "      <th>accuracy</th>\n",
       "      <td>0.997381</td>\n",
       "      <td>0.997381</td>\n",
       "      <td>0.997381</td>\n",
       "      <td>0.997381</td>\n",
       "    </tr>\n",
       "    <tr>\n",
       "      <th>macro avg</th>\n",
       "      <td>0.996260</td>\n",
       "      <td>0.999665</td>\n",
       "      <td>0.997920</td>\n",
       "      <td>28254.000000</td>\n",
       "    </tr>\n",
       "    <tr>\n",
       "      <th>weighted avg</th>\n",
       "      <td>0.997496</td>\n",
       "      <td>0.997381</td>\n",
       "      <td>0.997408</td>\n",
       "      <td>28254.000000</td>\n",
       "    </tr>\n",
       "  </tbody>\n",
       "</table>\n",
       "</div>"
      ],
      "text/plain": [
       "                 precision    recall  f1-score       support\n",
       "culture           1.000000  1.000000  1.000000    429.000000\n",
       "economy           1.000000  1.000000  1.000000    438.000000\n",
       "education         1.000000  1.000000  1.000000    187.000000\n",
       "environment       0.999716  0.999716  0.999716   3527.000000\n",
       "human_rights      1.000000  1.000000  1.000000    603.000000\n",
       "ict               1.000000  1.000000  1.000000    202.000000\n",
       "international     0.955406  1.000000  0.977195   1564.000000\n",
       "labor             1.000000  1.000000  1.000000    205.000000\n",
       "politics          1.000000  0.996262  0.998127  19528.000000\n",
       "quality_of_life   1.000000  1.000000  1.000000    868.000000\n",
       "social            1.000000  1.000000  1.000000    263.000000\n",
       "stability         1.000000  1.000000  1.000000    440.000000\n",
       "accuracy          0.997381  0.997381  0.997381      0.997381\n",
       "macro avg         0.996260  0.999665  0.997920  28254.000000\n",
       "weighted avg      0.997496  0.997381  0.997408  28254.000000"
      ]
     },
     "execution_count": 39,
     "metadata": {},
     "output_type": "execute_result"
    }
   ],
   "source": [
    "pd.DataFrame.from_dict(report).T"
   ]
  },
  {
   "cell_type": "markdown",
   "id": "bad533a7-aebe-4c59-a93f-166916fcddaa",
   "metadata": {},
   "source": [
    "## 8.2. Test Set"
   ]
  },
  {
   "cell_type": "markdown",
   "id": "41fbde08-ac4a-4d1a-8f96-002de592cd2a",
   "metadata": {},
   "source": [
    "### 8.2.1. Confusion Matrix"
   ]
  },
  {
   "cell_type": "code",
   "execution_count": 40,
   "id": "ffa0ecb7-41ae-4faf-a0c9-745249ae3351",
   "metadata": {},
   "outputs": [
    {
     "data": {
      "image/png": "[encoded data removed]",
      "text/plain": [
       "<Figure size 432x432 with 2 Axes>"
      ]
     },
     "metadata": {
      "needs_background": "light"
     },
     "output_type": "display_data"
    }
   ],
   "source": [
    "fig, ax = plt.subplots(figsize=(6, 6))\n",
    "plot_confusion_matrix(clf, X_test_scaled, y_test, ax=ax)\n",
    "plt.xticks(rotation=90)\n",
    "plt.show()"
   ]
  },
  {
   "cell_type": "markdown",
   "id": "0fc95f97-1bdf-47d5-bbf1-98a5faeb6c08",
   "metadata": {},
   "source": [
    "### 8.2.2. Scoring"
   ]
  },
  {
   "cell_type": "code",
   "execution_count": 41,
   "id": "041454d6-3176-487d-abf3-bbb2121aea1f",
   "metadata": {},
   "outputs": [],
   "source": [
    "report = classification_report(y_test, y_pred_test, output_dict=True)"
   ]
  },
  {
   "cell_type": "code",
   "execution_count": 42,
   "id": "7ed9003a-edb8-46c4-afe5-9663542d3bf3",
   "metadata": {},
   "outputs": [
    {
     "name": "stdout",
     "output_type": "stream",
     "text": [
      "accuracy = 0.8062004530011325\n"
     ]
    }
   ],
   "source": [
    "print('accuracy =', report['accuracy'])"
   ]
  },
  {
   "cell_type": "code",
   "execution_count": 43,
   "id": "aac0ce0e-a07f-49b0-824a-02c8addbc3f5",
   "metadata": {},
   "outputs": [
    {
     "data": {
      "text/html": [
       "<div>\n",
       "<style scoped>\n",
       "    .dataframe tbody tr th:only-of-type {\n",
       "        vertical-align: middle;\n",
       "    }\n",
       "\n",
       "    .dataframe tbody tr th {\n",
       "        vertical-align: top;\n",
       "    }\n",
       "\n",
       "    .dataframe thead th {\n",
       "        text-align: right;\n",
       "    }\n",
       "</style>\n",
       "<table border=\"1\" class=\"dataframe\">\n",
       "  <thead>\n",
       "    <tr style=\"text-align: right;\">\n",
       "      <th></th>\n",
       "      <th>precision</th>\n",
       "      <th>recall</th>\n",
       "      <th>f1-score</th>\n",
       "      <th>support</th>\n",
       "    </tr>\n",
       "  </thead>\n",
       "  <tbody>\n",
       "    <tr>\n",
       "      <th>culture</th>\n",
       "      <td>0.390476</td>\n",
       "      <td>0.512500</td>\n",
       "      <td>0.443243</td>\n",
       "      <td>80.0000</td>\n",
       "    </tr>\n",
       "    <tr>\n",
       "      <th>economy</th>\n",
       "      <td>0.540323</td>\n",
       "      <td>0.563025</td>\n",
       "      <td>0.551440</td>\n",
       "      <td>119.0000</td>\n",
       "    </tr>\n",
       "    <tr>\n",
       "      <th>education</th>\n",
       "      <td>0.562500</td>\n",
       "      <td>0.465517</td>\n",
       "      <td>0.509434</td>\n",
       "      <td>58.0000</td>\n",
       "    </tr>\n",
       "    <tr>\n",
       "      <th>environment</th>\n",
       "      <td>0.854423</td>\n",
       "      <td>0.860203</td>\n",
       "      <td>0.857303</td>\n",
       "      <td>887.0000</td>\n",
       "    </tr>\n",
       "    <tr>\n",
       "      <th>human_rights</th>\n",
       "      <td>0.413978</td>\n",
       "      <td>0.490446</td>\n",
       "      <td>0.448980</td>\n",
       "      <td>157.0000</td>\n",
       "    </tr>\n",
       "    <tr>\n",
       "      <th>ict</th>\n",
       "      <td>0.550000</td>\n",
       "      <td>0.468085</td>\n",
       "      <td>0.505747</td>\n",
       "      <td>47.0000</td>\n",
       "    </tr>\n",
       "    <tr>\n",
       "      <th>international</th>\n",
       "      <td>0.598272</td>\n",
       "      <td>0.672330</td>\n",
       "      <td>0.633143</td>\n",
       "      <td>412.0000</td>\n",
       "    </tr>\n",
       "    <tr>\n",
       "      <th>labor</th>\n",
       "      <td>0.511111</td>\n",
       "      <td>0.425926</td>\n",
       "      <td>0.464646</td>\n",
       "      <td>54.0000</td>\n",
       "    </tr>\n",
       "    <tr>\n",
       "      <th>politics</th>\n",
       "      <td>0.892063</td>\n",
       "      <td>0.875935</td>\n",
       "      <td>0.883926</td>\n",
       "      <td>4812.0000</td>\n",
       "    </tr>\n",
       "    <tr>\n",
       "      <th>quality_of_life</th>\n",
       "      <td>0.504202</td>\n",
       "      <td>0.510638</td>\n",
       "      <td>0.507400</td>\n",
       "      <td>235.0000</td>\n",
       "    </tr>\n",
       "    <tr>\n",
       "      <th>social</th>\n",
       "      <td>0.184211</td>\n",
       "      <td>0.181818</td>\n",
       "      <td>0.183007</td>\n",
       "      <td>77.0000</td>\n",
       "    </tr>\n",
       "    <tr>\n",
       "      <th>stability</th>\n",
       "      <td>0.404959</td>\n",
       "      <td>0.388889</td>\n",
       "      <td>0.396761</td>\n",
       "      <td>126.0000</td>\n",
       "    </tr>\n",
       "    <tr>\n",
       "      <th>accuracy</th>\n",
       "      <td>0.806200</td>\n",
       "      <td>0.806200</td>\n",
       "      <td>0.806200</td>\n",
       "      <td>0.8062</td>\n",
       "    </tr>\n",
       "    <tr>\n",
       "      <th>macro avg</th>\n",
       "      <td>0.533877</td>\n",
       "      <td>0.534609</td>\n",
       "      <td>0.532086</td>\n",
       "      <td>7064.0000</td>\n",
       "    </tr>\n",
       "    <tr>\n",
       "      <th>weighted avg</th>\n",
       "      <td>0.810769</td>\n",
       "      <td>0.806200</td>\n",
       "      <td>0.808046</td>\n",
       "      <td>7064.0000</td>\n",
       "    </tr>\n",
       "  </tbody>\n",
       "</table>\n",
       "</div>"
      ],
      "text/plain": [
       "                 precision    recall  f1-score    support\n",
       "culture           0.390476  0.512500  0.443243    80.0000\n",
       "economy           0.540323  0.563025  0.551440   119.0000\n",
       "education         0.562500  0.465517  0.509434    58.0000\n",
       "environment       0.854423  0.860203  0.857303   887.0000\n",
       "human_rights      0.413978  0.490446  0.448980   157.0000\n",
       "ict               0.550000  0.468085  0.505747    47.0000\n",
       "international     0.598272  0.672330  0.633143   412.0000\n",
       "labor             0.511111  0.425926  0.464646    54.0000\n",
       "politics          0.892063  0.875935  0.883926  4812.0000\n",
       "quality_of_life   0.504202  0.510638  0.507400   235.0000\n",
       "social            0.184211  0.181818  0.183007    77.0000\n",
       "stability         0.404959  0.388889  0.396761   126.0000\n",
       "accuracy          0.806200  0.806200  0.806200     0.8062\n",
       "macro avg         0.533877  0.534609  0.532086  7064.0000\n",
       "weighted avg      0.810769  0.806200  0.808046  7064.0000"
      ]
     },
     "execution_count": 43,
     "metadata": {},
     "output_type": "execute_result"
    }
   ],
   "source": [
    "pd.DataFrame.from_dict(report).T"
   ]
  },
  {
   "cell_type": "markdown",
   "id": "0652f368",
   "metadata": {},
   "source": [
    "# 9. Save Model"
   ]
  },
  {
   "cell_type": "code",
   "execution_count": 44,
   "id": "6cfaa562-faa3-4dfd-ae78-18311dc0493e",
   "metadata": {},
   "outputs": [],
   "source": [
    "import pickle"
   ]
  },
  {
   "cell_type": "code",
   "execution_count": 45,
   "id": "77b64b68-e00d-4016-acf7-b4889f52d6e8",
   "metadata": {},
   "outputs": [],
   "source": [
    "pickle.dump((clf, \n",
    "             title_vectorizer, \n",
    "             text_vectorizer, \n",
    "             one_hot_encoder, \n",
    "             scaler, \n",
    "             feature_name, \n",
    "             numerical_feature, \n",
    "             ordinal_feature, \n",
    "             nominal_feature), \n",
    "             open('news_categorization_model.pickle', 'wb'))"
   ]
  },
  {
   "cell_type": "code",
   "execution_count": null,
   "id": "1ca11e02-635d-426a-9b8b-137a80da90df",
   "metadata": {},
   "outputs": [],
   "source": []
  }
 ],
 "metadata": {
  "kernelspec": {
   "display_name": "Python 3",
   "language": "python",
   "name": "python3"
  },
  "language_info": {
   "codemirror_mode": {
    "name": "ipython",
    "version": 3
   },
   "file_extension": ".py",
   "mimetype": "text/x-python",
   "name": "python",
   "nbconvert_exporter": "python",
   "pygments_lexer": "ipython3",
   "version": "3.8.8"
  }
 },
 "nbformat": 4,
 "nbformat_minor": 5
}
