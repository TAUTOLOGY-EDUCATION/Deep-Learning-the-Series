{
 "cells": [
  {
   "cell_type": "markdown",
   "id": "6f555b47",
   "metadata": {},
   "source": [
    "# 1. Import Libraries"
   ]
  },
  {
   "cell_type": "code",
   "execution_count": 1,
   "id": "01d109c1",
   "metadata": {},
   "outputs": [],
   "source": [
    "# !pip install opencv-python"
   ]
  },
  {
   "cell_type": "code",
   "execution_count": 2,
   "id": "faa7fa2c",
   "metadata": {},
   "outputs": [],
   "source": [
    "import numpy as np\n",
    "import pandas as pd\n",
    "import matplotlib.pyplot as plt\n",
    "\n",
    "from glob import glob\n",
    "from PIL import Image\n",
    "import cv2\n",
    "from tqdm.auto import tqdm\n",
    "from sklearn.model_selection import train_test_split\n",
    "from sklearn.preprocessing import (\n",
    "    OrdinalEncoder, \n",
    "    OneHotEncoder, \n",
    "    StandardScaler, \n",
    "    MinMaxScaler\n",
    ")\n",
    "from sklearn.linear_model import LogisticRegression, LogisticRegressionCV\n",
    "from sklearn.metrics import plot_confusion_matrix, classification_report\n",
    "\n",
    "import warnings\n",
    "warnings.filterwarnings('ignore')\n",
    "\n",
    "np.random.seed(12345)"
   ]
  },
  {
   "cell_type": "markdown",
   "id": "a6cd7e08",
   "metadata": {},
   "source": [
    "# 2. Read Data"
   ]
  },
  {
   "cell_type": "code",
   "execution_count": 3,
   "id": "d0ccccc3",
   "metadata": {},
   "outputs": [],
   "source": [
    "classes = ['freshapples', 'freshbanana', 'freshoranges', \n",
    "           'rottenapples', 'rottenbanana', 'rottenoranges']"
   ]
  },
  {
   "cell_type": "code",
   "execution_count": 4,
   "id": "c8d0d00a",
   "metadata": {},
   "outputs": [
    {
     "data": {
      "application/vnd.jupyter.widget-view+json": {
       "model_id": "d995b0010f724e6a9b6ded1f9138c46d",
       "version_major": 2,
       "version_minor": 0
      },
      "text/plain": [
       "  0%|          | 0/6 [00:00<?, ?it/s]"
      ]
     },
     "metadata": {},
     "output_type": "display_data"
    },
    {
     "data": {
      "application/vnd.jupyter.widget-view+json": {
       "model_id": "5718dbcc9d2d446e8da32d8094fc708f",
       "version_major": 2,
       "version_minor": 0
      },
      "text/plain": [
       "  0%|          | 0/2088 [00:00<?, ?it/s]"
      ]
     },
     "metadata": {},
     "output_type": "display_data"
    },
    {
     "data": {
      "application/vnd.jupyter.widget-view+json": {
       "model_id": "8bd0a169d67e42c4a6cf8eaba06c885c",
       "version_major": 2,
       "version_minor": 0
      },
      "text/plain": [
       "  0%|          | 0/1962 [00:00<?, ?it/s]"
      ]
     },
     "metadata": {},
     "output_type": "display_data"
    },
    {
     "data": {
      "application/vnd.jupyter.widget-view+json": {
       "model_id": "695a53d1109a44a1826c93cbf8894f2f",
       "version_major": 2,
       "version_minor": 0
      },
      "text/plain": [
       "  0%|          | 0/1854 [00:00<?, ?it/s]"
      ]
     },
     "metadata": {},
     "output_type": "display_data"
    },
    {
     "data": {
      "application/vnd.jupyter.widget-view+json": {
       "model_id": "56b8bc62ec0c4cc8bca4fc01ceaf688d",
       "version_major": 2,
       "version_minor": 0
      },
      "text/plain": [
       "  0%|          | 0/2342 [00:00<?, ?it/s]"
      ]
     },
     "metadata": {},
     "output_type": "display_data"
    },
    {
     "data": {
      "application/vnd.jupyter.widget-view+json": {
       "model_id": "d95a63e44b8f46dda70cdc837efdbed6",
       "version_major": 2,
       "version_minor": 0
      },
      "text/plain": [
       "  0%|          | 0/2754 [00:00<?, ?it/s]"
      ]
     },
     "metadata": {},
     "output_type": "display_data"
    },
    {
     "data": {
      "application/vnd.jupyter.widget-view+json": {
       "model_id": "7ef0bafd31ab47879ab7e4b4241b30d3",
       "version_major": 2,
       "version_minor": 0
      },
      "text/plain": [
       "  0%|          | 0/1998 [00:00<?, ?it/s]"
      ]
     },
     "metadata": {},
     "output_type": "display_data"
    }
   ],
   "source": [
    "X = np.empty([0, 32*32*3])\n",
    "y = np.empty([0, 1])\n",
    "\n",
    "for _class in tqdm(classes):\n",
    "    img_path = glob('dataset/' + _class + '/*')\n",
    "    for path in tqdm(img_path):\n",
    "        img = Image.open(path)\n",
    "        img = img.resize((32, 32))\n",
    "        img = np.array(img)\n",
    "        if img.shape[2] == 4:\n",
    "            img = cv2.cvtColor(img, cv2.COLOR_BGRA2BGR)\n",
    "        img = img.reshape(1, -1)\n",
    "        X = np.vstack([X, img])\n",
    "        y = np.vstack([y, _class])"
   ]
  },
  {
   "cell_type": "markdown",
   "id": "3a504f65",
   "metadata": {},
   "source": [
    "# ### 3. Clean Data"
   ]
  },
  {
   "cell_type": "markdown",
   "id": "8e6989b2",
   "metadata": {},
   "source": [
    "# 4. Split Dataset into Traning & Test Sets"
   ]
  },
  {
   "cell_type": "code",
   "execution_count": 5,
   "id": "d3a84240",
   "metadata": {},
   "outputs": [],
   "source": [
    "X_train, X_test, y_train, y_test = train_test_split(X, y, test_size=0.20, shuffle=True)"
   ]
  },
  {
   "cell_type": "markdown",
   "id": "7cdf805b",
   "metadata": {},
   "source": [
    "# ### 5. Data Preparation"
   ]
  },
  {
   "cell_type": "markdown",
   "id": "07f5ae63",
   "metadata": {},
   "source": [
    "## ### 5.1. Ordinal Encoding"
   ]
  },
  {
   "cell_type": "markdown",
   "id": "6cbb8fb5",
   "metadata": {},
   "source": [
    "## ### 5.2. One Hot Encoding"
   ]
  },
  {
   "cell_type": "markdown",
   "id": "6aeaeb0a",
   "metadata": {},
   "source": [
    "## 5.3. Feature Scaling"
   ]
  },
  {
   "cell_type": "markdown",
   "id": "6bd90e8d",
   "metadata": {},
   "source": [
    "### 5.3.1. Training Set"
   ]
  },
  {
   "cell_type": "code",
   "execution_count": 6,
   "id": "bd4efdd2",
   "metadata": {},
   "outputs": [],
   "source": [
    "scaler = MinMaxScaler()\n",
    "X_train_scaled = scaler.fit_transform(X_train)"
   ]
  },
  {
   "cell_type": "markdown",
   "id": "f370ec47",
   "metadata": {},
   "source": [
    "### 5.3.2. Test Set"
   ]
  },
  {
   "cell_type": "code",
   "execution_count": 7,
   "id": "72df8ec8",
   "metadata": {},
   "outputs": [],
   "source": [
    "X_test_scaled = scaler.transform(X_test)"
   ]
  },
  {
   "cell_type": "markdown",
   "id": "f7298f01",
   "metadata": {},
   "source": [
    "# 6. Model Creation"
   ]
  },
  {
   "cell_type": "code",
   "execution_count": 8,
   "id": "cb5e8e44",
   "metadata": {},
   "outputs": [],
   "source": [
    "##### logistic regression #####\n",
    "# clf = LogisticRegression(penalty='none')\n",
    "# clf.fit(X_train_scaled, y_train)\n",
    "\n",
    "\n",
    "##### logistic regression with l2 regularization #####\n",
    "# alphas = np.logspace(-3, 3, num=100)\n",
    "# clf = LogisticRegressionCV(penalty='l2', Cs=alphas, cv=5)\n",
    "# clf.fit(X_train_scaled, y_train)\n",
    "\n",
    "\n",
    "##### logistic regression with l1 regularization #####\n",
    "# alphas = np.logspace(-3, 3, num=100)\n",
    "# clf = LogisticRegressionCV(penalty='l1', solver='saga', Cs=alphas, cv=5)\n",
    "# clf.fit(X_train_scaled, y_train)\n",
    "\n",
    "\n",
    "##### logistic regression with elastic net regularization #####\n",
    "# alphas = np.logspace(-3, 3, num=100)\n",
    "# l1_ratios = [0.01, 0.05, 0.1, 0.5, 0.7, 0.9, 0.95, 0.99, 1]\n",
    "# clf = LogisticRegressionCV(penalty='elasticnet', solver='saga', \n",
    "#                            l1_ratios=l1_ratios, Cs=alphas, cv=5)\n",
    "# clf.fit(X_train_scaled, y_train)\n",
    "\n",
    "\n",
    "##### logistic regression + balanced class weight #####\n",
    "# clf = LogisticRegression(penalty='none', class_weight='balanced')\n",
    "# clf.fit(X_train_scaled, y_train)\n",
    "\n",
    "\n",
    "##### logistic regression with l2 regularization + balanced class weight #####\n",
    "# alphas = np.logspace(-3, 3, num=100)\n",
    "# clf = LogisticRegressionCV(penalty='l2', Cs=alphas, cv=5, class_weight='balanced')\n",
    "# clf.fit(X_train_scaled, y_train)\n",
    "\n",
    "\n",
    "##### logistic regression with l1 regularization + balanced class weight #####\n",
    "# alphas = np.logspace(-3, 3, num=100)\n",
    "# clf = LogisticRegressionCV(penalty='l1', solver='saga', Cs=alphas, cv=5, class_weight='balanced')\n",
    "# clf.fit(X_train_scaled, y_train)\n",
    "\n",
    "\n",
    "##### logistic regression with elastic net regularization + balanced class weight #####\n",
    "# alphas = np.logspace(-3, 3, num=100)\n",
    "# l1_ratios = [0.01, 0.05, 0.1, 0.5, 0.7, 0.9, 0.95, 0.99, 1]\n",
    "# clf = LogisticRegressionCV(penalty='elasticnet', solver='saga', \n",
    "#                            l1_ratios=l1_ratios, Cs=alphas, cv=5, class_weight='balanced')\n",
    "# clf.fit(X_train_scaled, y_train)"
   ]
  },
  {
   "cell_type": "markdown",
   "id": "3667dbb8",
   "metadata": {},
   "source": [
    "## 6.1. Setting Parameters"
   ]
  },
  {
   "cell_type": "code",
   "execution_count": 9,
   "id": "230b06c5",
   "metadata": {},
   "outputs": [],
   "source": [
    "clf = LogisticRegression(penalty='none', class_weight='balanced')"
   ]
  },
  {
   "cell_type": "markdown",
   "id": "cfc2cf09",
   "metadata": {},
   "source": [
    "## 6.2. Train Model"
   ]
  },
  {
   "cell_type": "code",
   "execution_count": 10,
   "id": "fe9bac5f",
   "metadata": {},
   "outputs": [
    {
     "data": {
      "text/plain": [
       "LogisticRegression(class_weight='balanced', penalty='none')"
      ]
     },
     "execution_count": 10,
     "metadata": {},
     "output_type": "execute_result"
    }
   ],
   "source": [
    "clf.fit(X_train_scaled, y_train)"
   ]
  },
  {
   "cell_type": "markdown",
   "id": "d9ec83e4",
   "metadata": {},
   "source": [
    "## 6.3. Model's Weight & Bias"
   ]
  },
  {
   "cell_type": "code",
   "execution_count": 11,
   "id": "ce9b369a",
   "metadata": {},
   "outputs": [
    {
     "data": {
      "text/plain": [
       "array([[-0.03229292, -0.02991332, -0.03437828, ..., -0.01594043,\n",
       "        -0.00801819, -0.00914297],\n",
       "       [ 0.0527228 ,  0.05989674,  0.05328787, ..., -0.01106724,\n",
       "         0.00147206, -0.00968525],\n",
       "       [ 0.00719476,  0.01163837,  0.03835891, ..., -0.01588917,\n",
       "        -0.00684946,  0.02792536],\n",
       "       [ 0.00678349,  0.00675829,  0.00479473, ...,  0.04835327,\n",
       "         0.04176391,  0.04962849],\n",
       "       [-0.07965631, -0.09543326, -0.11350885, ..., -0.05341252,\n",
       "        -0.07396659, -0.10219718],\n",
       "       [ 0.04524817,  0.04705317,  0.05144561, ...,  0.04795609,\n",
       "         0.04559827,  0.04347156]])"
      ]
     },
     "execution_count": 11,
     "metadata": {},
     "output_type": "execute_result"
    }
   ],
   "source": [
    "clf.coef_"
   ]
  },
  {
   "cell_type": "code",
   "execution_count": 12,
   "id": "4a9fbc09",
   "metadata": {},
   "outputs": [
    {
     "data": {
      "text/plain": [
       "array([ 0.04861519, -0.71187496, -0.17163912, -0.08139537,  0.69762457,\n",
       "        0.21866969])"
      ]
     },
     "execution_count": 12,
     "metadata": {},
     "output_type": "execute_result"
    }
   ],
   "source": [
    "clf.intercept_"
   ]
  },
  {
   "cell_type": "markdown",
   "id": "982f5065",
   "metadata": {},
   "source": [
    "# 7. Prediction"
   ]
  },
  {
   "cell_type": "markdown",
   "id": "3371e2e7",
   "metadata": {},
   "source": [
    "## 7.1. Training Set"
   ]
  },
  {
   "cell_type": "code",
   "execution_count": 13,
   "id": "1fcaad0d",
   "metadata": {},
   "outputs": [],
   "source": [
    "y_pred_train = clf.predict(X_train_scaled)"
   ]
  },
  {
   "cell_type": "markdown",
   "id": "95a112f5",
   "metadata": {},
   "source": [
    "## 7.2. Test Set"
   ]
  },
  {
   "cell_type": "code",
   "execution_count": 14,
   "id": "7158701f",
   "metadata": {},
   "outputs": [],
   "source": [
    "y_pred_test = clf.predict(X_test_scaled)"
   ]
  },
  {
   "cell_type": "markdown",
   "id": "72a16acb",
   "metadata": {},
   "source": [
    "# 8. Model Evaluation"
   ]
  },
  {
   "cell_type": "markdown",
   "id": "7f9d943a",
   "metadata": {},
   "source": [
    "## 8.1. Training Set"
   ]
  },
  {
   "cell_type": "markdown",
   "id": "55f96f40",
   "metadata": {},
   "source": [
    "### 8.1.1. Confusion Matrix"
   ]
  },
  {
   "cell_type": "code",
   "execution_count": 15,
   "id": "8eb5f70b",
   "metadata": {},
   "outputs": [
    {
     "data": {
      "image/png": "[encoded data removed]",
      "text/plain": [
       "<Figure size 432x432 with 2 Axes>"
      ]
     },
     "metadata": {
      "needs_background": "light"
     },
     "output_type": "display_data"
    }
   ],
   "source": [
    "fig, ax = plt.subplots(figsize=(6, 6))\n",
    "plot_confusion_matrix(clf, X_train_scaled, y_train, ax=ax)\n",
    "plt.xticks(rotation=90)\n",
    "plt.show()"
   ]
  },
  {
   "cell_type": "markdown",
   "id": "6fb54b57",
   "metadata": {},
   "source": [
    "### 8.1.2. Scoring"
   ]
  },
  {
   "cell_type": "code",
   "execution_count": 16,
   "id": "527a7b37",
   "metadata": {},
   "outputs": [],
   "source": [
    "report = classification_report(y_train, y_pred_train, output_dict=True)"
   ]
  },
  {
   "cell_type": "code",
   "execution_count": 17,
   "id": "dfa3133a",
   "metadata": {},
   "outputs": [
    {
     "name": "stdout",
     "output_type": "stream",
     "text": [
      "accuracy = 0.7722638969032506\n"
     ]
    }
   ],
   "source": [
    "print('accuracy =', report['accuracy'])"
   ]
  },
  {
   "cell_type": "code",
   "execution_count": 18,
   "id": "042c261e",
   "metadata": {},
   "outputs": [
    {
     "data": {
      "text/html": [
       "<div>\n",
       "<style scoped>\n",
       "    .dataframe tbody tr th:only-of-type {\n",
       "        vertical-align: middle;\n",
       "    }\n",
       "\n",
       "    .dataframe tbody tr th {\n",
       "        vertical-align: top;\n",
       "    }\n",
       "\n",
       "    .dataframe thead th {\n",
       "        text-align: right;\n",
       "    }\n",
       "</style>\n",
       "<table border=\"1\" class=\"dataframe\">\n",
       "  <thead>\n",
       "    <tr style=\"text-align: right;\">\n",
       "      <th></th>\n",
       "      <th>precision</th>\n",
       "      <th>recall</th>\n",
       "      <th>f1-score</th>\n",
       "      <th>support</th>\n",
       "    </tr>\n",
       "  </thead>\n",
       "  <tbody>\n",
       "    <tr>\n",
       "      <th>freshapples</th>\n",
       "      <td>0.678251</td>\n",
       "      <td>0.720667</td>\n",
       "      <td>0.698816</td>\n",
       "      <td>1679.000000</td>\n",
       "    </tr>\n",
       "    <tr>\n",
       "      <th>freshbanana</th>\n",
       "      <td>0.824713</td>\n",
       "      <td>0.910533</td>\n",
       "      <td>0.865501</td>\n",
       "      <td>1576.000000</td>\n",
       "    </tr>\n",
       "    <tr>\n",
       "      <th>freshoranges</th>\n",
       "      <td>0.793889</td>\n",
       "      <td>0.892857</td>\n",
       "      <td>0.840469</td>\n",
       "      <td>1484.000000</td>\n",
       "    </tr>\n",
       "    <tr>\n",
       "      <th>rottenapples</th>\n",
       "      <td>0.710633</td>\n",
       "      <td>0.656468</td>\n",
       "      <td>0.682478</td>\n",
       "      <td>1863.000000</td>\n",
       "    </tr>\n",
       "    <tr>\n",
       "      <th>rottenbanana</th>\n",
       "      <td>0.881710</td>\n",
       "      <td>0.860853</td>\n",
       "      <td>0.871157</td>\n",
       "      <td>2156.000000</td>\n",
       "    </tr>\n",
       "    <tr>\n",
       "      <th>rottenoranges</th>\n",
       "      <td>0.711385</td>\n",
       "      <td>0.598171</td>\n",
       "      <td>0.649884</td>\n",
       "      <td>1640.000000</td>\n",
       "    </tr>\n",
       "    <tr>\n",
       "      <th>accuracy</th>\n",
       "      <td>0.772264</td>\n",
       "      <td>0.772264</td>\n",
       "      <td>0.772264</td>\n",
       "      <td>0.772264</td>\n",
       "    </tr>\n",
       "    <tr>\n",
       "      <th>macro avg</th>\n",
       "      <td>0.766763</td>\n",
       "      <td>0.773258</td>\n",
       "      <td>0.768051</td>\n",
       "      <td>10398.000000</td>\n",
       "    </tr>\n",
       "    <tr>\n",
       "      <th>weighted avg</th>\n",
       "      <td>0.770168</td>\n",
       "      <td>0.772264</td>\n",
       "      <td>0.769386</td>\n",
       "      <td>10398.000000</td>\n",
       "    </tr>\n",
       "  </tbody>\n",
       "</table>\n",
       "</div>"
      ],
      "text/plain": [
       "               precision    recall  f1-score       support\n",
       "freshapples     0.678251  0.720667  0.698816   1679.000000\n",
       "freshbanana     0.824713  0.910533  0.865501   1576.000000\n",
       "freshoranges    0.793889  0.892857  0.840469   1484.000000\n",
       "rottenapples    0.710633  0.656468  0.682478   1863.000000\n",
       "rottenbanana    0.881710  0.860853  0.871157   2156.000000\n",
       "rottenoranges   0.711385  0.598171  0.649884   1640.000000\n",
       "accuracy        0.772264  0.772264  0.772264      0.772264\n",
       "macro avg       0.766763  0.773258  0.768051  10398.000000\n",
       "weighted avg    0.770168  0.772264  0.769386  10398.000000"
      ]
     },
     "execution_count": 18,
     "metadata": {},
     "output_type": "execute_result"
    }
   ],
   "source": [
    "pd.DataFrame.from_dict(report).T"
   ]
  },
  {
   "cell_type": "markdown",
   "id": "9533f763",
   "metadata": {},
   "source": [
    "## 8.2. Test Set"
   ]
  },
  {
   "cell_type": "markdown",
   "id": "ef10b301",
   "metadata": {},
   "source": [
    "### 8.2.1. Confusion Matrix"
   ]
  },
  {
   "cell_type": "code",
   "execution_count": 19,
   "id": "aa27890a",
   "metadata": {},
   "outputs": [
    {
     "data": {
      "image/png": "[encoded data removed]",
      "text/plain": [
       "<Figure size 432x432 with 2 Axes>"
      ]
     },
     "metadata": {
      "needs_background": "light"
     },
     "output_type": "display_data"
    }
   ],
   "source": [
    "fig, ax = plt.subplots(figsize=(6, 6))\n",
    "plot_confusion_matrix(clf, X_test_scaled, y_test, ax=ax)\n",
    "plt.xticks(rotation=90)\n",
    "plt.show()"
   ]
  },
  {
   "cell_type": "markdown",
   "id": "cefece92",
   "metadata": {},
   "source": [
    "### 8.2.2. Scoring"
   ]
  },
  {
   "cell_type": "code",
   "execution_count": 20,
   "id": "9f72a11f",
   "metadata": {},
   "outputs": [],
   "source": [
    "report = classification_report(y_test, y_pred_test, output_dict=True)"
   ]
  },
  {
   "cell_type": "code",
   "execution_count": 21,
   "id": "d11d9541",
   "metadata": {},
   "outputs": [
    {
     "name": "stdout",
     "output_type": "stream",
     "text": [
      "accuracy = 0.7588461538461538\n"
     ]
    }
   ],
   "source": [
    "print('accuracy =', report['accuracy'])"
   ]
  },
  {
   "cell_type": "code",
   "execution_count": 22,
   "id": "a60bb854",
   "metadata": {},
   "outputs": [
    {
     "data": {
      "text/html": [
       "<div>\n",
       "<style scoped>\n",
       "    .dataframe tbody tr th:only-of-type {\n",
       "        vertical-align: middle;\n",
       "    }\n",
       "\n",
       "    .dataframe tbody tr th {\n",
       "        vertical-align: top;\n",
       "    }\n",
       "\n",
       "    .dataframe thead th {\n",
       "        text-align: right;\n",
       "    }\n",
       "</style>\n",
       "<table border=\"1\" class=\"dataframe\">\n",
       "  <thead>\n",
       "    <tr style=\"text-align: right;\">\n",
       "      <th></th>\n",
       "      <th>precision</th>\n",
       "      <th>recall</th>\n",
       "      <th>f1-score</th>\n",
       "      <th>support</th>\n",
       "    </tr>\n",
       "  </thead>\n",
       "  <tbody>\n",
       "    <tr>\n",
       "      <th>freshapples</th>\n",
       "      <td>0.647856</td>\n",
       "      <td>0.701711</td>\n",
       "      <td>0.673709</td>\n",
       "      <td>409.000000</td>\n",
       "    </tr>\n",
       "    <tr>\n",
       "      <th>freshbanana</th>\n",
       "      <td>0.817536</td>\n",
       "      <td>0.893782</td>\n",
       "      <td>0.853960</td>\n",
       "      <td>386.000000</td>\n",
       "    </tr>\n",
       "    <tr>\n",
       "      <th>freshoranges</th>\n",
       "      <td>0.763593</td>\n",
       "      <td>0.872973</td>\n",
       "      <td>0.814628</td>\n",
       "      <td>370.000000</td>\n",
       "    </tr>\n",
       "    <tr>\n",
       "      <th>rottenapples</th>\n",
       "      <td>0.718072</td>\n",
       "      <td>0.622129</td>\n",
       "      <td>0.666667</td>\n",
       "      <td>479.000000</td>\n",
       "    </tr>\n",
       "    <tr>\n",
       "      <th>rottenbanana</th>\n",
       "      <td>0.877551</td>\n",
       "      <td>0.862876</td>\n",
       "      <td>0.870152</td>\n",
       "      <td>598.000000</td>\n",
       "    </tr>\n",
       "    <tr>\n",
       "      <th>rottenoranges</th>\n",
       "      <td>0.660194</td>\n",
       "      <td>0.569832</td>\n",
       "      <td>0.611694</td>\n",
       "      <td>358.000000</td>\n",
       "    </tr>\n",
       "    <tr>\n",
       "      <th>accuracy</th>\n",
       "      <td>0.758846</td>\n",
       "      <td>0.758846</td>\n",
       "      <td>0.758846</td>\n",
       "      <td>0.758846</td>\n",
       "    </tr>\n",
       "    <tr>\n",
       "      <th>macro avg</th>\n",
       "      <td>0.747467</td>\n",
       "      <td>0.753884</td>\n",
       "      <td>0.748468</td>\n",
       "      <td>2600.000000</td>\n",
       "    </tr>\n",
       "    <tr>\n",
       "      <th>weighted avg</th>\n",
       "      <td>0.756982</td>\n",
       "      <td>0.758846</td>\n",
       "      <td>0.755869</td>\n",
       "      <td>2600.000000</td>\n",
       "    </tr>\n",
       "  </tbody>\n",
       "</table>\n",
       "</div>"
      ],
      "text/plain": [
       "               precision    recall  f1-score      support\n",
       "freshapples     0.647856  0.701711  0.673709   409.000000\n",
       "freshbanana     0.817536  0.893782  0.853960   386.000000\n",
       "freshoranges    0.763593  0.872973  0.814628   370.000000\n",
       "rottenapples    0.718072  0.622129  0.666667   479.000000\n",
       "rottenbanana    0.877551  0.862876  0.870152   598.000000\n",
       "rottenoranges   0.660194  0.569832  0.611694   358.000000\n",
       "accuracy        0.758846  0.758846  0.758846     0.758846\n",
       "macro avg       0.747467  0.753884  0.748468  2600.000000\n",
       "weighted avg    0.756982  0.758846  0.755869  2600.000000"
      ]
     },
     "execution_count": 22,
     "metadata": {},
     "output_type": "execute_result"
    }
   ],
   "source": [
    "pd.DataFrame.from_dict(report).T"
   ]
  },
  {
   "cell_type": "markdown",
   "id": "6b1cb541",
   "metadata": {},
   "source": [
    "# 9. Save Model"
   ]
  },
  {
   "cell_type": "code",
   "execution_count": 23,
   "id": "0291e4e9",
   "metadata": {},
   "outputs": [],
   "source": [
    "import pickle"
   ]
  },
  {
   "cell_type": "code",
   "execution_count": 24,
   "id": "2bf44e70",
   "metadata": {},
   "outputs": [],
   "source": [
    "pickle.dump((clf, scaler), open('fruit_industry_model.pickle', 'wb'))"
   ]
  },
  {
   "cell_type": "code",
   "execution_count": null,
   "id": "9028adee",
   "metadata": {},
   "outputs": [],
   "source": []
  }
 ],
 "metadata": {
  "kernelspec": {
   "display_name": "Python 3",
   "language": "python",
   "name": "python3"
  },
  "language_info": {
   "codemirror_mode": {
    "name": "ipython",
    "version": 3
   },
   "file_extension": ".py",
   "mimetype": "text/x-python",
   "name": "python",
   "nbconvert_exporter": "python",
   "pygments_lexer": "ipython3",
   "version": "3.8.8"
  }
 },
 "nbformat": 4,
 "nbformat_minor": 5
}
