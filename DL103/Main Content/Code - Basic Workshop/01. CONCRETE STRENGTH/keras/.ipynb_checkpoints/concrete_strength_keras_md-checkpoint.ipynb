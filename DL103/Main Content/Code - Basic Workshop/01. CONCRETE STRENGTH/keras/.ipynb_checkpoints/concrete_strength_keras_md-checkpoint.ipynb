{
 "cells": [
  {
   "cell_type": "code",
   "execution_count": 1,
   "id": "40cb4a78",
   "metadata": {},
   "outputs": [],
   "source": [
    "import numpy as np\n",
    "import pandas as pd\n",
    "import pickle\n",
    "\n",
    "import warnings\n",
    "warnings.filterwarnings('ignore')"
   ]
  },
  {
   "cell_type": "code",
   "execution_count": 2,
   "id": "1f4581a5",
   "metadata": {},
   "outputs": [],
   "source": [
    "import os\n",
    "import sys\n",
    "\n",
    "lib_path = os.path.abspath(\"../../../lib\")\n",
    "sys.path.append(lib_path)\n",
    "\n",
    "from easy_keras import KerasMLPRegressor, load_model"
   ]
  },
  {
   "cell_type": "code",
   "execution_count": 3,
   "id": "e3bc16e8",
   "metadata": {},
   "outputs": [],
   "source": [
    "reg = load_model(KerasMLPRegressor, 'concrete_strength_model')"
   ]
  },
  {
   "cell_type": "code",
   "execution_count": 4,
   "id": "3a5c4044",
   "metadata": {},
   "outputs": [],
   "source": [
    "saved_env = pickle.load(open('concrete_strength_env.pickle', 'rb'))"
   ]
  },
  {
   "cell_type": "code",
   "execution_count": 5,
   "id": "c7d39860",
   "metadata": {},
   "outputs": [],
   "source": [
    "scaler = saved_env[0]\n",
    "feature_name = saved_env[1]"
   ]
  },
  {
   "cell_type": "code",
   "execution_count": 6,
   "id": "cddcdac4",
   "metadata": {},
   "outputs": [
    {
     "data": {
      "text/plain": [
       "['Cement (component 1)(kg in a m^3 mixture)',\n",
       " 'Blast Furnace Slag (component 2)(kg in a m^3 mixture)',\n",
       " 'Fly Ash (component 3)(kg in a m^3 mixture)',\n",
       " 'Water  (component 4)(kg in a m^3 mixture)',\n",
       " 'Superplasticizer (component 5)(kg in a m^3 mixture)',\n",
       " 'Coarse Aggregate  (component 6)(kg in a m^3 mixture)',\n",
       " 'Fine Aggregate (component 7)(kg in a m^3 mixture)',\n",
       " 'Age (day)']"
      ]
     },
     "execution_count": 6,
     "metadata": {},
     "output_type": "execute_result"
    }
   ],
   "source": [
    "feature_name"
   ]
  },
  {
   "cell_type": "code",
   "execution_count": 7,
   "id": "8f7cfdc1",
   "metadata": {},
   "outputs": [],
   "source": [
    "Cement = 425\n",
    "Blast_Furnace_Slag = 106.3\n",
    "Fly_Ash = 0\n",
    "Water = 153.5\n",
    "Superplasticizer = 16.5\n",
    "Coarse_Aggregate = 852.1\n",
    "Fine_Aggregate = 887.1\n",
    "Age = 3"
   ]
  },
  {
   "cell_type": "code",
   "execution_count": 8,
   "id": "a1231f77",
   "metadata": {},
   "outputs": [
    {
     "data": {
      "text/html": [
       "<div>\n",
       "<style scoped>\n",
       "    .dataframe tbody tr th:only-of-type {\n",
       "        vertical-align: middle;\n",
       "    }\n",
       "\n",
       "    .dataframe tbody tr th {\n",
       "        vertical-align: top;\n",
       "    }\n",
       "\n",
       "    .dataframe thead th {\n",
       "        text-align: right;\n",
       "    }\n",
       "</style>\n",
       "<table border=\"1\" class=\"dataframe\">\n",
       "  <thead>\n",
       "    <tr style=\"text-align: right;\">\n",
       "      <th></th>\n",
       "      <th>Cement (component 1)(kg in a m^3 mixture)</th>\n",
       "      <th>Blast Furnace Slag (component 2)(kg in a m^3 mixture)</th>\n",
       "      <th>Fly Ash (component 3)(kg in a m^3 mixture)</th>\n",
       "      <th>Water  (component 4)(kg in a m^3 mixture)</th>\n",
       "      <th>Superplasticizer (component 5)(kg in a m^3 mixture)</th>\n",
       "      <th>Coarse Aggregate  (component 6)(kg in a m^3 mixture)</th>\n",
       "      <th>Fine Aggregate (component 7)(kg in a m^3 mixture)</th>\n",
       "      <th>Age (day)</th>\n",
       "    </tr>\n",
       "  </thead>\n",
       "  <tbody>\n",
       "    <tr>\n",
       "      <th>0</th>\n",
       "      <td>425.0</td>\n",
       "      <td>106.3</td>\n",
       "      <td>0.0</td>\n",
       "      <td>153.5</td>\n",
       "      <td>16.5</td>\n",
       "      <td>852.1</td>\n",
       "      <td>887.1</td>\n",
       "      <td>3.0</td>\n",
       "    </tr>\n",
       "  </tbody>\n",
       "</table>\n",
       "</div>"
      ],
      "text/plain": [
       "   Cement (component 1)(kg in a m^3 mixture)  \\\n",
       "0                                      425.0   \n",
       "\n",
       "   Blast Furnace Slag (component 2)(kg in a m^3 mixture)  \\\n",
       "0                                              106.3       \n",
       "\n",
       "   Fly Ash (component 3)(kg in a m^3 mixture)  \\\n",
       "0                                         0.0   \n",
       "\n",
       "   Water  (component 4)(kg in a m^3 mixture)  \\\n",
       "0                                      153.5   \n",
       "\n",
       "   Superplasticizer (component 5)(kg in a m^3 mixture)  \\\n",
       "0                                               16.5     \n",
       "\n",
       "   Coarse Aggregate  (component 6)(kg in a m^3 mixture)  \\\n",
       "0                                              852.1      \n",
       "\n",
       "   Fine Aggregate (component 7)(kg in a m^3 mixture)  Age (day)  \n",
       "0                                              887.1        3.0  "
      ]
     },
     "execution_count": 8,
     "metadata": {},
     "output_type": "execute_result"
    }
   ],
   "source": [
    "incoming_data = pd.DataFrame(np.array([[Cement, Blast_Furnace_Slag, Fly_Ash, \n",
    "                                        Water, Superplasticizer, Coarse_Aggregate, \n",
    "                                        Fine_Aggregate, Age]]), \n",
    "                             columns=feature_name)\n",
    "\n",
    "incoming_data"
   ]
  },
  {
   "cell_type": "markdown",
   "id": "1bb2a1fe",
   "metadata": {},
   "source": [
    "### Feature Scaling"
   ]
  },
  {
   "cell_type": "code",
   "execution_count": 9,
   "id": "bcbe499a",
   "metadata": {},
   "outputs": [],
   "source": [
    "incoming_data_scaled = scaler.transform(incoming_data)"
   ]
  },
  {
   "cell_type": "markdown",
   "id": "5b3beefd",
   "metadata": {},
   "source": [
    "### Prediction"
   ]
  },
  {
   "cell_type": "code",
   "execution_count": 10,
   "id": "837c1809",
   "metadata": {},
   "outputs": [],
   "source": [
    "predicted_target = reg.predict(incoming_data_scaled)"
   ]
  },
  {
   "cell_type": "code",
   "execution_count": 11,
   "id": "e787c806",
   "metadata": {},
   "outputs": [
    {
     "data": {
      "text/plain": [
       "array([[37.719967]], dtype=float32)"
      ]
     },
     "execution_count": 11,
     "metadata": {},
     "output_type": "execute_result"
    }
   ],
   "source": [
    "predicted_target"
   ]
  },
  {
   "cell_type": "code",
   "execution_count": null,
   "id": "55de4510",
   "metadata": {},
   "outputs": [],
   "source": []
  }
 ],
 "metadata": {
  "kernelspec": {
   "display_name": "Python 3",
   "language": "python",
   "name": "python3"
  },
  "language_info": {
   "codemirror_mode": {
    "name": "ipython",
    "version": 3
   },
   "file_extension": ".py",
   "mimetype": "text/x-python",
   "name": "python",
   "nbconvert_exporter": "python",
   "pygments_lexer": "ipython3",
   "version": "3.8.8"
  }
 },
 "nbformat": 4,
 "nbformat_minor": 5
}
