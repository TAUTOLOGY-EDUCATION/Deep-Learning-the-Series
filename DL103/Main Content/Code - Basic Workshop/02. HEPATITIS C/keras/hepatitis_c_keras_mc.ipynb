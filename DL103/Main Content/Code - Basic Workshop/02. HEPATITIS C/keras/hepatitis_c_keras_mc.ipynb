{
 "cells": [
  {
   "cell_type": "markdown",
   "id": "95ac1ca4",
   "metadata": {},
   "source": [
    "# 1. Import Libraries"
   ]
  },
  {
   "cell_type": "code",
   "execution_count": 1,
   "id": "e3abbb44",
   "metadata": {},
   "outputs": [],
   "source": [
    "import numpy as np\n",
    "import pandas as pd\n",
    "import matplotlib.pyplot as plt\n",
    "import random\n",
    "\n",
    "from sklearn.model_selection import train_test_split\n",
    "from sklearn.preprocessing import (\n",
    "    OrdinalEncoder, \n",
    "    OneHotEncoder, \n",
    "    StandardScaler, \n",
    "    MinMaxScaler\n",
    ")\n",
    "import tensorflow as tf\n",
    "from sklearn.metrics import confusion_matrix, classification_report\n",
    "\n",
    "import warnings\n",
    "warnings.filterwarnings('ignore')"
   ]
  },
  {
   "cell_type": "code",
   "execution_count": 2,
   "id": "159f5918",
   "metadata": {},
   "outputs": [],
   "source": [
    "import os\n",
    "import sys\n",
    "\n",
    "lib_path = os.path.abspath('../../../lib')\n",
    "sys.path.append(lib_path)\n",
    "\n",
    "from easy_keras import KerasMLPClassifier, make_confusion_matrix"
   ]
  },
  {
   "cell_type": "code",
   "execution_count": 3,
   "id": "4e77e493",
   "metadata": {},
   "outputs": [],
   "source": [
    "seed = 12345\n",
    "\n",
    "random.seed(seed)\n",
    "np.random.seed(seed)\n",
    "tf.random.set_seed(seed)"
   ]
  },
  {
   "cell_type": "markdown",
   "id": "56ee6131",
   "metadata": {},
   "source": [
    "# 2. Read Data"
   ]
  },
  {
   "cell_type": "code",
   "execution_count": 4,
   "id": "028ae532",
   "metadata": {},
   "outputs": [
    {
     "data": {
      "text/html": [
       "<div>\n",
       "<style scoped>\n",
       "    .dataframe tbody tr th:only-of-type {\n",
       "        vertical-align: middle;\n",
       "    }\n",
       "\n",
       "    .dataframe tbody tr th {\n",
       "        vertical-align: top;\n",
       "    }\n",
       "\n",
       "    .dataframe thead th {\n",
       "        text-align: right;\n",
       "    }\n",
       "</style>\n",
       "<table border=\"1\" class=\"dataframe\">\n",
       "  <thead>\n",
       "    <tr style=\"text-align: right;\">\n",
       "      <th></th>\n",
       "      <th>Age</th>\n",
       "      <th>Sex</th>\n",
       "      <th>ALB</th>\n",
       "      <th>ALP</th>\n",
       "      <th>ALT</th>\n",
       "      <th>AST</th>\n",
       "      <th>BIL</th>\n",
       "      <th>CHE</th>\n",
       "      <th>CHOL</th>\n",
       "      <th>CREA</th>\n",
       "      <th>GGT</th>\n",
       "      <th>PROT</th>\n",
       "      <th>label</th>\n",
       "    </tr>\n",
       "  </thead>\n",
       "  <tbody>\n",
       "    <tr>\n",
       "      <th>0</th>\n",
       "      <td>32</td>\n",
       "      <td>m</td>\n",
       "      <td>38.5</td>\n",
       "      <td>52.5</td>\n",
       "      <td>7.7</td>\n",
       "      <td>22.1</td>\n",
       "      <td>7.5</td>\n",
       "      <td>6.93</td>\n",
       "      <td>3.23</td>\n",
       "      <td>106.0</td>\n",
       "      <td>12.1</td>\n",
       "      <td>69.0</td>\n",
       "      <td>False</td>\n",
       "    </tr>\n",
       "    <tr>\n",
       "      <th>1</th>\n",
       "      <td>32</td>\n",
       "      <td>m</td>\n",
       "      <td>38.5</td>\n",
       "      <td>70.3</td>\n",
       "      <td>18.0</td>\n",
       "      <td>24.7</td>\n",
       "      <td>3.9</td>\n",
       "      <td>11.17</td>\n",
       "      <td>4.80</td>\n",
       "      <td>74.0</td>\n",
       "      <td>15.6</td>\n",
       "      <td>76.5</td>\n",
       "      <td>False</td>\n",
       "    </tr>\n",
       "    <tr>\n",
       "      <th>2</th>\n",
       "      <td>32</td>\n",
       "      <td>m</td>\n",
       "      <td>46.9</td>\n",
       "      <td>74.7</td>\n",
       "      <td>36.2</td>\n",
       "      <td>52.6</td>\n",
       "      <td>6.1</td>\n",
       "      <td>8.84</td>\n",
       "      <td>5.20</td>\n",
       "      <td>86.0</td>\n",
       "      <td>33.2</td>\n",
       "      <td>79.3</td>\n",
       "      <td>False</td>\n",
       "    </tr>\n",
       "    <tr>\n",
       "      <th>3</th>\n",
       "      <td>32</td>\n",
       "      <td>m</td>\n",
       "      <td>43.2</td>\n",
       "      <td>52.0</td>\n",
       "      <td>30.6</td>\n",
       "      <td>22.6</td>\n",
       "      <td>18.9</td>\n",
       "      <td>7.33</td>\n",
       "      <td>4.74</td>\n",
       "      <td>80.0</td>\n",
       "      <td>33.8</td>\n",
       "      <td>75.7</td>\n",
       "      <td>False</td>\n",
       "    </tr>\n",
       "    <tr>\n",
       "      <th>4</th>\n",
       "      <td>32</td>\n",
       "      <td>m</td>\n",
       "      <td>39.2</td>\n",
       "      <td>74.1</td>\n",
       "      <td>32.6</td>\n",
       "      <td>24.8</td>\n",
       "      <td>9.6</td>\n",
       "      <td>9.15</td>\n",
       "      <td>4.32</td>\n",
       "      <td>76.0</td>\n",
       "      <td>29.9</td>\n",
       "      <td>68.7</td>\n",
       "      <td>False</td>\n",
       "    </tr>\n",
       "    <tr>\n",
       "      <th>...</th>\n",
       "      <td>...</td>\n",
       "      <td>...</td>\n",
       "      <td>...</td>\n",
       "      <td>...</td>\n",
       "      <td>...</td>\n",
       "      <td>...</td>\n",
       "      <td>...</td>\n",
       "      <td>...</td>\n",
       "      <td>...</td>\n",
       "      <td>...</td>\n",
       "      <td>...</td>\n",
       "      <td>...</td>\n",
       "      <td>...</td>\n",
       "    </tr>\n",
       "    <tr>\n",
       "      <th>603</th>\n",
       "      <td>62</td>\n",
       "      <td>f</td>\n",
       "      <td>32.0</td>\n",
       "      <td>416.6</td>\n",
       "      <td>5.9</td>\n",
       "      <td>110.3</td>\n",
       "      <td>50.0</td>\n",
       "      <td>5.57</td>\n",
       "      <td>6.30</td>\n",
       "      <td>55.7</td>\n",
       "      <td>650.9</td>\n",
       "      <td>68.5</td>\n",
       "      <td>True</td>\n",
       "    </tr>\n",
       "    <tr>\n",
       "      <th>604</th>\n",
       "      <td>64</td>\n",
       "      <td>f</td>\n",
       "      <td>24.0</td>\n",
       "      <td>102.8</td>\n",
       "      <td>2.9</td>\n",
       "      <td>44.4</td>\n",
       "      <td>20.0</td>\n",
       "      <td>1.54</td>\n",
       "      <td>3.02</td>\n",
       "      <td>63.0</td>\n",
       "      <td>35.9</td>\n",
       "      <td>71.3</td>\n",
       "      <td>True</td>\n",
       "    </tr>\n",
       "    <tr>\n",
       "      <th>605</th>\n",
       "      <td>64</td>\n",
       "      <td>f</td>\n",
       "      <td>29.0</td>\n",
       "      <td>87.3</td>\n",
       "      <td>3.5</td>\n",
       "      <td>99.0</td>\n",
       "      <td>48.0</td>\n",
       "      <td>1.66</td>\n",
       "      <td>3.63</td>\n",
       "      <td>66.7</td>\n",
       "      <td>64.2</td>\n",
       "      <td>82.0</td>\n",
       "      <td>True</td>\n",
       "    </tr>\n",
       "    <tr>\n",
       "      <th>606</th>\n",
       "      <td>46</td>\n",
       "      <td>f</td>\n",
       "      <td>33.0</td>\n",
       "      <td>NaN</td>\n",
       "      <td>39.0</td>\n",
       "      <td>62.0</td>\n",
       "      <td>20.0</td>\n",
       "      <td>3.56</td>\n",
       "      <td>4.20</td>\n",
       "      <td>52.0</td>\n",
       "      <td>50.0</td>\n",
       "      <td>71.0</td>\n",
       "      <td>True</td>\n",
       "    </tr>\n",
       "    <tr>\n",
       "      <th>607</th>\n",
       "      <td>59</td>\n",
       "      <td>f</td>\n",
       "      <td>36.0</td>\n",
       "      <td>NaN</td>\n",
       "      <td>100.0</td>\n",
       "      <td>80.0</td>\n",
       "      <td>12.0</td>\n",
       "      <td>9.07</td>\n",
       "      <td>5.30</td>\n",
       "      <td>67.0</td>\n",
       "      <td>34.0</td>\n",
       "      <td>68.0</td>\n",
       "      <td>True</td>\n",
       "    </tr>\n",
       "  </tbody>\n",
       "</table>\n",
       "<p>608 rows × 13 columns</p>\n",
       "</div>"
      ],
      "text/plain": [
       "     Age Sex   ALB    ALP    ALT    AST   BIL    CHE  CHOL   CREA    GGT  \\\n",
       "0     32   m  38.5   52.5    7.7   22.1   7.5   6.93  3.23  106.0   12.1   \n",
       "1     32   m  38.5   70.3   18.0   24.7   3.9  11.17  4.80   74.0   15.6   \n",
       "2     32   m  46.9   74.7   36.2   52.6   6.1   8.84  5.20   86.0   33.2   \n",
       "3     32   m  43.2   52.0   30.6   22.6  18.9   7.33  4.74   80.0   33.8   \n",
       "4     32   m  39.2   74.1   32.6   24.8   9.6   9.15  4.32   76.0   29.9   \n",
       "..   ...  ..   ...    ...    ...    ...   ...    ...   ...    ...    ...   \n",
       "603   62   f  32.0  416.6    5.9  110.3  50.0   5.57  6.30   55.7  650.9   \n",
       "604   64   f  24.0  102.8    2.9   44.4  20.0   1.54  3.02   63.0   35.9   \n",
       "605   64   f  29.0   87.3    3.5   99.0  48.0   1.66  3.63   66.7   64.2   \n",
       "606   46   f  33.0    NaN   39.0   62.0  20.0   3.56  4.20   52.0   50.0   \n",
       "607   59   f  36.0    NaN  100.0   80.0  12.0   9.07  5.30   67.0   34.0   \n",
       "\n",
       "     PROT  label  \n",
       "0    69.0  False  \n",
       "1    76.5  False  \n",
       "2    79.3  False  \n",
       "3    75.7  False  \n",
       "4    68.7  False  \n",
       "..    ...    ...  \n",
       "603  68.5   True  \n",
       "604  71.3   True  \n",
       "605  82.0   True  \n",
       "606  71.0   True  \n",
       "607  68.0   True  \n",
       "\n",
       "[608 rows x 13 columns]"
      ]
     },
     "execution_count": 4,
     "metadata": {},
     "output_type": "execute_result"
    }
   ],
   "source": [
    "data = pd.read_csv('../hepatitis_c_dataset.csv')\n",
    "\n",
    "data"
   ]
  },
  {
   "cell_type": "markdown",
   "id": "5588d531",
   "metadata": {},
   "source": [
    "# 3. Clean Data"
   ]
  },
  {
   "cell_type": "markdown",
   "id": "cb186980",
   "metadata": {},
   "source": [
    "## 3.1. Handle Missing Values"
   ]
  },
  {
   "cell_type": "markdown",
   "id": "e7b2eef2",
   "metadata": {},
   "source": [
    "### 3.1.1. Check Missing Values"
   ]
  },
  {
   "cell_type": "code",
   "execution_count": 5,
   "id": "7819915f",
   "metadata": {},
   "outputs": [
    {
     "name": "stdout",
     "output_type": "stream",
     "text": [
      "<class 'pandas.core.frame.DataFrame'>\n",
      "RangeIndex: 608 entries, 0 to 607\n",
      "Data columns (total 13 columns):\n",
      " #   Column  Non-Null Count  Dtype  \n",
      "---  ------  --------------  -----  \n",
      " 0   Age     608 non-null    int64  \n",
      " 1   Sex     608 non-null    object \n",
      " 2   ALB     607 non-null    float64\n",
      " 3   ALP     590 non-null    float64\n",
      " 4   ALT     607 non-null    float64\n",
      " 5   AST     608 non-null    float64\n",
      " 6   BIL     608 non-null    float64\n",
      " 7   CHE     608 non-null    float64\n",
      " 8   CHOL    598 non-null    float64\n",
      " 9   CREA    608 non-null    float64\n",
      " 10  GGT     608 non-null    float64\n",
      " 11  PROT    607 non-null    float64\n",
      " 12  label   608 non-null    bool   \n",
      "dtypes: bool(1), float64(10), int64(1), object(1)\n",
      "memory usage: 57.7+ KB\n"
     ]
    }
   ],
   "source": [
    "data.info()"
   ]
  },
  {
   "cell_type": "markdown",
   "id": "23da7d0c",
   "metadata": {},
   "source": [
    "### 3.1.2. Remove Missing Values"
   ]
  },
  {
   "cell_type": "code",
   "execution_count": 6,
   "id": "c92c4b14",
   "metadata": {},
   "outputs": [],
   "source": [
    "data.dropna(axis=0, inplace=True)"
   ]
  },
  {
   "cell_type": "markdown",
   "id": "22ab442b",
   "metadata": {},
   "source": [
    "## 3.2. Handle Outliers"
   ]
  },
  {
   "cell_type": "markdown",
   "id": "197b9338",
   "metadata": {},
   "source": [
    "### 3.2.1. Check Outliers"
   ]
  },
  {
   "cell_type": "code",
   "execution_count": 7,
   "id": "bc6f73e2",
   "metadata": {},
   "outputs": [
    {
     "data": {
      "text/html": [
       "<div>\n",
       "<style scoped>\n",
       "    .dataframe tbody tr th:only-of-type {\n",
       "        vertical-align: middle;\n",
       "    }\n",
       "\n",
       "    .dataframe tbody tr th {\n",
       "        vertical-align: top;\n",
       "    }\n",
       "\n",
       "    .dataframe thead th {\n",
       "        text-align: right;\n",
       "    }\n",
       "</style>\n",
       "<table border=\"1\" class=\"dataframe\">\n",
       "  <thead>\n",
       "    <tr style=\"text-align: right;\">\n",
       "      <th></th>\n",
       "      <th>Age</th>\n",
       "      <th>ALB</th>\n",
       "      <th>ALP</th>\n",
       "      <th>ALT</th>\n",
       "      <th>AST</th>\n",
       "      <th>BIL</th>\n",
       "      <th>CHE</th>\n",
       "      <th>CHOL</th>\n",
       "      <th>CREA</th>\n",
       "      <th>GGT</th>\n",
       "      <th>PROT</th>\n",
       "    </tr>\n",
       "  </thead>\n",
       "  <tbody>\n",
       "    <tr>\n",
       "      <th>count</th>\n",
       "      <td>582.000000</td>\n",
       "      <td>582.000000</td>\n",
       "      <td>582.000000</td>\n",
       "      <td>582.000000</td>\n",
       "      <td>582.000000</td>\n",
       "      <td>582.00000</td>\n",
       "      <td>582.000000</td>\n",
       "      <td>582.000000</td>\n",
       "      <td>582.000000</td>\n",
       "      <td>582.000000</td>\n",
       "      <td>582.000000</td>\n",
       "    </tr>\n",
       "    <tr>\n",
       "      <th>mean</th>\n",
       "      <td>47.295533</td>\n",
       "      <td>41.831443</td>\n",
       "      <td>67.651890</td>\n",
       "      <td>25.666838</td>\n",
       "      <td>33.325086</td>\n",
       "      <td>11.09433</td>\n",
       "      <td>8.212337</td>\n",
       "      <td>5.402646</td>\n",
       "      <td>81.909107</td>\n",
       "      <td>36.835567</td>\n",
       "      <td>72.106357</td>\n",
       "    </tr>\n",
       "    <tr>\n",
       "      <th>std</th>\n",
       "      <td>9.863890</td>\n",
       "      <td>5.369272</td>\n",
       "      <td>25.148941</td>\n",
       "      <td>14.920906</td>\n",
       "      <td>32.357234</td>\n",
       "      <td>17.49429</td>\n",
       "      <td>2.151660</td>\n",
       "      <td>1.114920</td>\n",
       "      <td>50.669976</td>\n",
       "      <td>51.409352</td>\n",
       "      <td>4.857867</td>\n",
       "    </tr>\n",
       "    <tr>\n",
       "      <th>min</th>\n",
       "      <td>23.000000</td>\n",
       "      <td>23.000000</td>\n",
       "      <td>11.300000</td>\n",
       "      <td>0.900000</td>\n",
       "      <td>12.000000</td>\n",
       "      <td>1.80000</td>\n",
       "      <td>1.420000</td>\n",
       "      <td>1.430000</td>\n",
       "      <td>8.000000</td>\n",
       "      <td>4.500000</td>\n",
       "      <td>51.000000</td>\n",
       "    </tr>\n",
       "    <tr>\n",
       "      <th>25%</th>\n",
       "      <td>39.000000</td>\n",
       "      <td>39.000000</td>\n",
       "      <td>52.500000</td>\n",
       "      <td>16.325000</td>\n",
       "      <td>21.425000</td>\n",
       "      <td>5.30000</td>\n",
       "      <td>6.950000</td>\n",
       "      <td>4.630000</td>\n",
       "      <td>68.000000</td>\n",
       "      <td>15.450000</td>\n",
       "      <td>69.300000</td>\n",
       "    </tr>\n",
       "    <tr>\n",
       "      <th>50%</th>\n",
       "      <td>47.000000</td>\n",
       "      <td>41.950000</td>\n",
       "      <td>66.000000</td>\n",
       "      <td>22.500000</td>\n",
       "      <td>25.600000</td>\n",
       "      <td>7.15000</td>\n",
       "      <td>8.265000</td>\n",
       "      <td>5.310000</td>\n",
       "      <td>77.000000</td>\n",
       "      <td>22.650000</td>\n",
       "      <td>72.100000</td>\n",
       "    </tr>\n",
       "    <tr>\n",
       "      <th>75%</th>\n",
       "      <td>54.000000</td>\n",
       "      <td>45.175000</td>\n",
       "      <td>79.300000</td>\n",
       "      <td>31.750000</td>\n",
       "      <td>31.600000</td>\n",
       "      <td>11.00000</td>\n",
       "      <td>9.565000</td>\n",
       "      <td>6.087500</td>\n",
       "      <td>89.000000</td>\n",
       "      <td>36.200000</td>\n",
       "      <td>75.200000</td>\n",
       "    </tr>\n",
       "    <tr>\n",
       "      <th>max</th>\n",
       "      <td>77.000000</td>\n",
       "      <td>82.200000</td>\n",
       "      <td>416.600000</td>\n",
       "      <td>118.100000</td>\n",
       "      <td>324.000000</td>\n",
       "      <td>209.00000</td>\n",
       "      <td>16.410000</td>\n",
       "      <td>9.670000</td>\n",
       "      <td>1079.100000</td>\n",
       "      <td>650.900000</td>\n",
       "      <td>86.500000</td>\n",
       "    </tr>\n",
       "  </tbody>\n",
       "</table>\n",
       "</div>"
      ],
      "text/plain": [
       "              Age         ALB         ALP         ALT         AST        BIL  \\\n",
       "count  582.000000  582.000000  582.000000  582.000000  582.000000  582.00000   \n",
       "mean    47.295533   41.831443   67.651890   25.666838   33.325086   11.09433   \n",
       "std      9.863890    5.369272   25.148941   14.920906   32.357234   17.49429   \n",
       "min     23.000000   23.000000   11.300000    0.900000   12.000000    1.80000   \n",
       "25%     39.000000   39.000000   52.500000   16.325000   21.425000    5.30000   \n",
       "50%     47.000000   41.950000   66.000000   22.500000   25.600000    7.15000   \n",
       "75%     54.000000   45.175000   79.300000   31.750000   31.600000   11.00000   \n",
       "max     77.000000   82.200000  416.600000  118.100000  324.000000  209.00000   \n",
       "\n",
       "              CHE        CHOL         CREA         GGT        PROT  \n",
       "count  582.000000  582.000000   582.000000  582.000000  582.000000  \n",
       "mean     8.212337    5.402646    81.909107   36.835567   72.106357  \n",
       "std      2.151660    1.114920    50.669976   51.409352    4.857867  \n",
       "min      1.420000    1.430000     8.000000    4.500000   51.000000  \n",
       "25%      6.950000    4.630000    68.000000   15.450000   69.300000  \n",
       "50%      8.265000    5.310000    77.000000   22.650000   72.100000  \n",
       "75%      9.565000    6.087500    89.000000   36.200000   75.200000  \n",
       "max     16.410000    9.670000  1079.100000  650.900000   86.500000  "
      ]
     },
     "execution_count": 7,
     "metadata": {},
     "output_type": "execute_result"
    }
   ],
   "source": [
    "data.describe()"
   ]
  },
  {
   "cell_type": "markdown",
   "id": "23dc874d",
   "metadata": {},
   "source": [
    "### 3.2.2. Remove Outliers"
   ]
  },
  {
   "cell_type": "code",
   "execution_count": 8,
   "id": "fe760f9c",
   "metadata": {},
   "outputs": [],
   "source": [
    "# no outlier to remove"
   ]
  },
  {
   "cell_type": "markdown",
   "id": "8c975064",
   "metadata": {},
   "source": [
    "# 4. Split Dataset into Training & Test Sets"
   ]
  },
  {
   "cell_type": "code",
   "execution_count": 9,
   "id": "26d8fa5d",
   "metadata": {},
   "outputs": [],
   "source": [
    "target_name = 'label'\n",
    "feature_name = list(data.columns.drop(target_name))"
   ]
  },
  {
   "cell_type": "code",
   "execution_count": 10,
   "id": "9118fb90",
   "metadata": {},
   "outputs": [],
   "source": [
    "X = data[feature_name]\n",
    "y = data[target_name]"
   ]
  },
  {
   "cell_type": "code",
   "execution_count": 11,
   "id": "cbe4f06e",
   "metadata": {},
   "outputs": [],
   "source": [
    "X_train, X_test, y_train, y_test = train_test_split(X, y, test_size=0.20, shuffle=True)"
   ]
  },
  {
   "cell_type": "markdown",
   "id": "d342c1ae",
   "metadata": {},
   "source": [
    "# 5. Data Preparation"
   ]
  },
  {
   "cell_type": "code",
   "execution_count": 12,
   "id": "0f1d21ec",
   "metadata": {},
   "outputs": [],
   "source": [
    "numerical_feature = list(feature_name)\n",
    "numerical_feature.remove('Sex')\n",
    "ordinal_feature = []\n",
    "nominal_feature = ['Sex']"
   ]
  },
  {
   "cell_type": "markdown",
   "id": "8e54512c",
   "metadata": {},
   "source": [
    "## ### 5.1. Ordinal Encoding"
   ]
  },
  {
   "cell_type": "markdown",
   "id": "399d3290",
   "metadata": {},
   "source": [
    "## 5.2. One Hot Encoding"
   ]
  },
  {
   "cell_type": "markdown",
   "id": "489f9779",
   "metadata": {},
   "source": [
    "### 5.2.1. Training Set"
   ]
  },
  {
   "cell_type": "code",
   "execution_count": 13,
   "id": "5b0e5155",
   "metadata": {},
   "outputs": [
    {
     "data": {
      "text/plain": [
       "OneHotEncoder(handle_unknown='ignore', sparse=False)"
      ]
     },
     "execution_count": 13,
     "metadata": {},
     "output_type": "execute_result"
    }
   ],
   "source": [
    "one_hot_encoder = OneHotEncoder(sparse=False, handle_unknown='ignore')\n",
    "one_hot_encoder.fit(X_train[nominal_feature])"
   ]
  },
  {
   "cell_type": "code",
   "execution_count": 14,
   "id": "d1ec97c8",
   "metadata": {},
   "outputs": [],
   "source": [
    "one_hot_feature = []\n",
    "for i, feature in enumerate(nominal_feature):\n",
    "    for cate in one_hot_encoder.categories_[i]:\n",
    "        one_hot_feature_name = str(feature) + '_' + str(cate)\n",
    "        one_hot_feature.append(one_hot_feature_name)"
   ]
  },
  {
   "cell_type": "code",
   "execution_count": 15,
   "id": "1ca1a3c6",
   "metadata": {},
   "outputs": [],
   "source": [
    "X_train[one_hot_feature] = one_hot_encoder.transform(X_train[nominal_feature])\n",
    "X_train.drop(nominal_feature, axis=1, inplace=True)"
   ]
  },
  {
   "cell_type": "markdown",
   "id": "663bcc11",
   "metadata": {},
   "source": [
    "### 5.2.2. Test Set"
   ]
  },
  {
   "cell_type": "code",
   "execution_count": 16,
   "id": "c8bddeaa",
   "metadata": {},
   "outputs": [],
   "source": [
    "X_test[one_hot_feature] = one_hot_encoder.transform(X_test[nominal_feature])\n",
    "X_test.drop(nominal_feature, axis=1, inplace=True)"
   ]
  },
  {
   "cell_type": "markdown",
   "id": "242bef9e",
   "metadata": {},
   "source": [
    "## 5.3. Feature Scaling"
   ]
  },
  {
   "cell_type": "markdown",
   "id": "f5ed7b2c",
   "metadata": {},
   "source": [
    "### 5.3.1. Training Set"
   ]
  },
  {
   "cell_type": "code",
   "execution_count": 17,
   "id": "695ad482",
   "metadata": {},
   "outputs": [],
   "source": [
    "scaler = StandardScaler()\n",
    "X_train_scaled = scaler.fit_transform(X_train)"
   ]
  },
  {
   "cell_type": "markdown",
   "id": "4e212e0a",
   "metadata": {},
   "source": [
    "### 5.3.2. Test Set"
   ]
  },
  {
   "cell_type": "code",
   "execution_count": 18,
   "id": "4e0c62f9",
   "metadata": {},
   "outputs": [],
   "source": [
    "X_test_scaled = scaler.transform(X_test)"
   ]
  },
  {
   "cell_type": "markdown",
   "id": "1b27e99f",
   "metadata": {},
   "source": [
    "# 6. Model Creation"
   ]
  },
  {
   "cell_type": "markdown",
   "id": "8f8d82ed",
   "metadata": {},
   "source": [
    "## 6.1. Setting Parameters"
   ]
  },
  {
   "cell_type": "code",
   "execution_count": 19,
   "id": "9efc9366",
   "metadata": {},
   "outputs": [],
   "source": [
    "classes = np.unique(y_train)"
   ]
  },
  {
   "cell_type": "code",
   "execution_count": 20,
   "id": "da8a5755",
   "metadata": {},
   "outputs": [],
   "source": [
    "clf = KerasMLPClassifier(\n",
    "    input_dim=X_train_scaled.shape[1],\n",
    "    hidden_layer_sizes=(50, 10, 10),\n",
    "    activation_function='relu',\n",
    "    classes=classes,\n",
    "    learning_rate_init=0.5,\n",
    "    epochs=100\n",
    ")"
   ]
  },
  {
   "cell_type": "markdown",
   "id": "d2804ab8",
   "metadata": {},
   "source": [
    "## 6.2. Train Model"
   ]
  },
  {
   "cell_type": "code",
   "execution_count": 21,
   "id": "5132ea2b",
   "metadata": {},
   "outputs": [
    {
     "data": {
      "application/vnd.jupyter.widget-view+json": {
       "model_id": "0ba1abb3c8d84ec287f5b0f66f98bd4a",
       "version_major": 2,
       "version_minor": 0
      },
      "text/plain": [
       "Training:   0%|           0/100 ETA: ?s,  ?epochs/s"
      ]
     },
     "metadata": {},
     "output_type": "display_data"
    },
    {
     "data": {
      "text/plain": [
       "{'loss': [0.6743027567863464,\n",
       "  0.4802471101284027,\n",
       "  0.40145638585090637,\n",
       "  0.35854673385620117,\n",
       "  0.33082282543182373,\n",
       "  0.3095133602619171,\n",
       "  0.2926642894744873,\n",
       "  0.27716875076293945,\n",
       "  0.26245686411857605,\n",
       "  0.24840818345546722,\n",
       "  0.2341645061969757,\n",
       "  0.21909300982952118,\n",
       "  0.2031620293855667,\n",
       "  0.18549227714538574,\n",
       "  0.16705422103405,\n",
       "  0.14913716912269592,\n",
       "  0.13321185111999512,\n",
       "  0.11911800503730774,\n",
       "  0.10668416321277618,\n",
       "  0.09607189893722534,\n",
       "  0.08681941032409668,\n",
       "  0.07880806922912598,\n",
       "  0.07215322554111481,\n",
       "  0.06655062735080719,\n",
       "  0.061771973967552185,\n",
       "  0.05755128711462021,\n",
       "  0.053888145834207535,\n",
       "  0.050809238106012344,\n",
       "  0.04810815304517746,\n",
       "  0.04569578543305397,\n",
       "  0.04353684186935425,\n",
       "  0.041672173887491226,\n",
       "  0.040004946291446686,\n",
       "  0.03850744664669037,\n",
       "  0.03714580461382866,\n",
       "  0.03590741008520126,\n",
       "  0.03477492555975914,\n",
       "  0.03373485431075096,\n",
       "  0.03276391699910164,\n",
       "  0.03187265992164612,\n",
       "  0.03103206679224968,\n",
       "  0.030249932780861855,\n",
       "  0.029503555968403816,\n",
       "  0.028794018551707268,\n",
       "  0.028114991262555122,\n",
       "  0.027466436848044395,\n",
       "  0.026857702061533928,\n",
       "  0.026291482150554657,\n",
       "  0.025756333023309708,\n",
       "  0.025222571566700935,\n",
       "  0.02471589669585228,\n",
       "  0.024224506691098213,\n",
       "  0.023744696751236916,\n",
       "  0.023278329521417618,\n",
       "  0.02281929925084114,\n",
       "  0.02237863466143608,\n",
       "  0.021947981789708138,\n",
       "  0.021532388404011726,\n",
       "  0.021120278164744377,\n",
       "  0.020730365067720413,\n",
       "  0.020344465970993042,\n",
       "  0.019965926185250282,\n",
       "  0.019609233364462852,\n",
       "  0.01926274225115776,\n",
       "  0.01891031116247177,\n",
       "  0.018580865114927292,\n",
       "  0.018259894102811813,\n",
       "  0.017939478158950806,\n",
       "  0.017632625997066498,\n",
       "  0.017349308356642723,\n",
       "  0.01705605536699295,\n",
       "  0.016786979511380196,\n",
       "  0.01652149297297001,\n",
       "  0.01629578322172165,\n",
       "  0.0160392876714468,\n",
       "  0.015789860859513283,\n",
       "  0.015568120405077934,\n",
       "  0.015336176380515099,\n",
       "  0.015121988020837307,\n",
       "  0.014900119975209236,\n",
       "  0.014690767973661423,\n",
       "  0.014494230039417744,\n",
       "  0.0142748411744833,\n",
       "  0.014109482057392597,\n",
       "  0.013891927897930145,\n",
       "  0.013714478351175785,\n",
       "  0.013544845394790173,\n",
       "  0.013344244100153446,\n",
       "  0.013190357014536858,\n",
       "  0.012990494258701801,\n",
       "  0.01283798087388277,\n",
       "  0.01265161857008934,\n",
       "  0.012516855262219906,\n",
       "  0.01233970932662487,\n",
       "  0.012207059189677238,\n",
       "  0.012030916288495064,\n",
       "  0.011898103170096874,\n",
       "  0.011751980520784855,\n",
       "  0.011632641777396202,\n",
       "  0.011494028382003307]}"
      ]
     },
     "execution_count": 21,
     "metadata": {},
     "output_type": "execute_result"
    }
   ],
   "source": [
    "clf.fit(X_train_scaled, y_train)"
   ]
  },
  {
   "cell_type": "markdown",
   "id": "36523dd0",
   "metadata": {},
   "source": [
    "## 6.3. Loss Curve"
   ]
  },
  {
   "cell_type": "code",
   "execution_count": 22,
   "id": "ee4c083c",
   "metadata": {},
   "outputs": [
    {
     "data": {
      "text/plain": [
       "<matplotlib.legend.Legend at 0x14b2a4e50>"
      ]
     },
     "execution_count": 22,
     "metadata": {},
     "output_type": "execute_result"
    },
    {
     "data": {
      "image/png": "[encoded data removed]",
      "text/plain": [
       "<Figure size 432x288 with 1 Axes>"
      ]
     },
     "metadata": {
      "needs_background": "light"
     },
     "output_type": "display_data"
    }
   ],
   "source": [
    "plt.plot(clf.loss_curve_, label='training_loss')\n",
    "plt.xlabel('epoch')\n",
    "plt.ylabel('loss')\n",
    "plt.legend()"
   ]
  },
  {
   "cell_type": "markdown",
   "id": "b118159c",
   "metadata": {},
   "source": [
    "## 6.4. Model's Weight & Bias"
   ]
  },
  {
   "cell_type": "code",
   "execution_count": 23,
   "id": "fc64a90f",
   "metadata": {},
   "outputs": [
    {
     "name": "stdout",
     "output_type": "stream",
     "text": [
      "(13, 50)\n",
      "(50, 10)\n",
      "(10, 10)\n",
      "(10, 2)\n"
     ]
    }
   ],
   "source": [
    "for coef in clf.coefs_:\n",
    "    print(coef.shape)"
   ]
  },
  {
   "cell_type": "code",
   "execution_count": 24,
   "id": "9d8b62c9",
   "metadata": {},
   "outputs": [
    {
     "name": "stdout",
     "output_type": "stream",
     "text": [
      "(50,)\n",
      "(10,)\n",
      "(10,)\n",
      "(2,)\n"
     ]
    }
   ],
   "source": [
    "for intercept in clf.intercepts_:\n",
    "    print(intercept.shape)"
   ]
  },
  {
   "cell_type": "markdown",
   "id": "fa439de7",
   "metadata": {},
   "source": [
    "# 7. Prediction"
   ]
  },
  {
   "cell_type": "markdown",
   "id": "624fd4ac",
   "metadata": {},
   "source": [
    "## 7.1. Training Set"
   ]
  },
  {
   "cell_type": "code",
   "execution_count": 25,
   "id": "a6a781d1",
   "metadata": {},
   "outputs": [],
   "source": [
    "y_pred_train = clf.predict(X_train_scaled)"
   ]
  },
  {
   "cell_type": "markdown",
   "id": "7c2fca72",
   "metadata": {},
   "source": [
    "## 7.2. Test Set"
   ]
  },
  {
   "cell_type": "code",
   "execution_count": 26,
   "id": "97f7491c",
   "metadata": {},
   "outputs": [],
   "source": [
    "y_pred_test = clf.predict(X_test_scaled)"
   ]
  },
  {
   "cell_type": "markdown",
   "id": "c8775555",
   "metadata": {},
   "source": [
    "# 8. Model Evaluation"
   ]
  },
  {
   "cell_type": "markdown",
   "id": "0ac04f22",
   "metadata": {},
   "source": [
    "## 8.1. Training Set"
   ]
  },
  {
   "cell_type": "markdown",
   "id": "c0a35501",
   "metadata": {},
   "source": [
    "### 8.1.1. Confusion Matrix"
   ]
  },
  {
   "cell_type": "code",
   "execution_count": 27,
   "id": "9da3bc04",
   "metadata": {},
   "outputs": [
    {
     "data": {
      "image/png": "[encoded data removed]",
      "text/plain": [
       "<Figure size 432x288 with 2 Axes>"
      ]
     },
     "metadata": {
      "needs_background": "light"
     },
     "output_type": "display_data"
    }
   ],
   "source": [
    "cm = confusion_matrix(y_train, y_pred_train)\n",
    "make_confusion_matrix(\n",
    "    cm,\n",
    "    cmap='viridis',\n",
    "    categories=classes,\n",
    "    sum_stats=False,\n",
    "    percent=False,\n",
    ")"
   ]
  },
  {
   "cell_type": "markdown",
   "id": "6788d878",
   "metadata": {},
   "source": [
    "### 8.1.2. Scoring"
   ]
  },
  {
   "cell_type": "code",
   "execution_count": 28,
   "id": "30665352",
   "metadata": {},
   "outputs": [],
   "source": [
    "report = classification_report(y_train, y_pred_train, output_dict=True)"
   ]
  },
  {
   "cell_type": "code",
   "execution_count": 29,
   "id": "24fb9ad3",
   "metadata": {},
   "outputs": [
    {
     "data": {
      "text/html": [
       "<div>\n",
       "<style scoped>\n",
       "    .dataframe tbody tr th:only-of-type {\n",
       "        vertical-align: middle;\n",
       "    }\n",
       "\n",
       "    .dataframe tbody tr th {\n",
       "        vertical-align: top;\n",
       "    }\n",
       "\n",
       "    .dataframe thead th {\n",
       "        text-align: right;\n",
       "    }\n",
       "</style>\n",
       "<table border=\"1\" class=\"dataframe\">\n",
       "  <thead>\n",
       "    <tr style=\"text-align: right;\">\n",
       "      <th></th>\n",
       "      <th>precision</th>\n",
       "      <th>recall</th>\n",
       "      <th>f1-score</th>\n",
       "      <th>support</th>\n",
       "    </tr>\n",
       "  </thead>\n",
       "  <tbody>\n",
       "    <tr>\n",
       "      <th>False</th>\n",
       "      <td>1.000000</td>\n",
       "      <td>0.997619</td>\n",
       "      <td>0.998808</td>\n",
       "      <td>420.000000</td>\n",
       "    </tr>\n",
       "    <tr>\n",
       "      <th>True</th>\n",
       "      <td>0.978261</td>\n",
       "      <td>1.000000</td>\n",
       "      <td>0.989011</td>\n",
       "      <td>45.000000</td>\n",
       "    </tr>\n",
       "    <tr>\n",
       "      <th>accuracy</th>\n",
       "      <td>0.997849</td>\n",
       "      <td>0.997849</td>\n",
       "      <td>0.997849</td>\n",
       "      <td>0.997849</td>\n",
       "    </tr>\n",
       "    <tr>\n",
       "      <th>macro avg</th>\n",
       "      <td>0.989130</td>\n",
       "      <td>0.998810</td>\n",
       "      <td>0.993910</td>\n",
       "      <td>465.000000</td>\n",
       "    </tr>\n",
       "    <tr>\n",
       "      <th>weighted avg</th>\n",
       "      <td>0.997896</td>\n",
       "      <td>0.997849</td>\n",
       "      <td>0.997860</td>\n",
       "      <td>465.000000</td>\n",
       "    </tr>\n",
       "  </tbody>\n",
       "</table>\n",
       "</div>"
      ],
      "text/plain": [
       "              precision    recall  f1-score     support\n",
       "False          1.000000  0.997619  0.998808  420.000000\n",
       "True           0.978261  1.000000  0.989011   45.000000\n",
       "accuracy       0.997849  0.997849  0.997849    0.997849\n",
       "macro avg      0.989130  0.998810  0.993910  465.000000\n",
       "weighted avg   0.997896  0.997849  0.997860  465.000000"
      ]
     },
     "execution_count": 29,
     "metadata": {},
     "output_type": "execute_result"
    }
   ],
   "source": [
    "pd.DataFrame.from_dict(report).T"
   ]
  },
  {
   "cell_type": "markdown",
   "id": "282718a3",
   "metadata": {},
   "source": [
    "## 8.2. Test Set"
   ]
  },
  {
   "cell_type": "markdown",
   "id": "006a2f7a",
   "metadata": {},
   "source": [
    "### 8.2.1. Confusion Matrix"
   ]
  },
  {
   "cell_type": "code",
   "execution_count": 30,
   "id": "87a18f7e",
   "metadata": {},
   "outputs": [
    {
     "data": {
      "image/png": "[encoded data removed]",
      "text/plain": [
       "<Figure size 432x288 with 2 Axes>"
      ]
     },
     "metadata": {
      "needs_background": "light"
     },
     "output_type": "display_data"
    }
   ],
   "source": [
    "cm = confusion_matrix(y_test, y_pred_test)\n",
    "make_confusion_matrix(\n",
    "    cm,\n",
    "    cmap='viridis',\n",
    "    categories=classes,\n",
    "    sum_stats=False,\n",
    "    percent=False,\n",
    ")"
   ]
  },
  {
   "cell_type": "markdown",
   "id": "167bb8ba",
   "metadata": {},
   "source": [
    "### 8.2.2. Scoring"
   ]
  },
  {
   "cell_type": "code",
   "execution_count": 31,
   "id": "7a6c513a",
   "metadata": {},
   "outputs": [],
   "source": [
    "report = classification_report(y_test, y_pred_test, output_dict=True)"
   ]
  },
  {
   "cell_type": "code",
   "execution_count": 32,
   "id": "724c08f3",
   "metadata": {},
   "outputs": [
    {
     "data": {
      "text/html": [
       "<div>\n",
       "<style scoped>\n",
       "    .dataframe tbody tr th:only-of-type {\n",
       "        vertical-align: middle;\n",
       "    }\n",
       "\n",
       "    .dataframe tbody tr th {\n",
       "        vertical-align: top;\n",
       "    }\n",
       "\n",
       "    .dataframe thead th {\n",
       "        text-align: right;\n",
       "    }\n",
       "</style>\n",
       "<table border=\"1\" class=\"dataframe\">\n",
       "  <thead>\n",
       "    <tr style=\"text-align: right;\">\n",
       "      <th></th>\n",
       "      <th>precision</th>\n",
       "      <th>recall</th>\n",
       "      <th>f1-score</th>\n",
       "      <th>support</th>\n",
       "    </tr>\n",
       "  </thead>\n",
       "  <tbody>\n",
       "    <tr>\n",
       "      <th>False</th>\n",
       "      <td>0.972477</td>\n",
       "      <td>1.000000</td>\n",
       "      <td>0.986047</td>\n",
       "      <td>106.000000</td>\n",
       "    </tr>\n",
       "    <tr>\n",
       "      <th>True</th>\n",
       "      <td>1.000000</td>\n",
       "      <td>0.727273</td>\n",
       "      <td>0.842105</td>\n",
       "      <td>11.000000</td>\n",
       "    </tr>\n",
       "    <tr>\n",
       "      <th>accuracy</th>\n",
       "      <td>0.974359</td>\n",
       "      <td>0.974359</td>\n",
       "      <td>0.974359</td>\n",
       "      <td>0.974359</td>\n",
       "    </tr>\n",
       "    <tr>\n",
       "      <th>macro avg</th>\n",
       "      <td>0.986239</td>\n",
       "      <td>0.863636</td>\n",
       "      <td>0.914076</td>\n",
       "      <td>117.000000</td>\n",
       "    </tr>\n",
       "    <tr>\n",
       "      <th>weighted avg</th>\n",
       "      <td>0.975065</td>\n",
       "      <td>0.974359</td>\n",
       "      <td>0.972514</td>\n",
       "      <td>117.000000</td>\n",
       "    </tr>\n",
       "  </tbody>\n",
       "</table>\n",
       "</div>"
      ],
      "text/plain": [
       "              precision    recall  f1-score     support\n",
       "False          0.972477  1.000000  0.986047  106.000000\n",
       "True           1.000000  0.727273  0.842105   11.000000\n",
       "accuracy       0.974359  0.974359  0.974359    0.974359\n",
       "macro avg      0.986239  0.863636  0.914076  117.000000\n",
       "weighted avg   0.975065  0.974359  0.972514  117.000000"
      ]
     },
     "execution_count": 32,
     "metadata": {},
     "output_type": "execute_result"
    }
   ],
   "source": [
    "pd.DataFrame.from_dict(report).T"
   ]
  },
  {
   "cell_type": "markdown",
   "id": "2dfcf89e",
   "metadata": {},
   "source": [
    "# 9. Save Model"
   ]
  },
  {
   "cell_type": "code",
   "execution_count": 33,
   "id": "972634de",
   "metadata": {},
   "outputs": [
    {
     "name": "stdout",
     "output_type": "stream",
     "text": [
      "INFO:tensorflow:Assets written to: hepatitis_c_model/assets\n"
     ]
    }
   ],
   "source": [
    "clf.save_model('hepatitis_c_model')"
   ]
  },
  {
   "cell_type": "code",
   "execution_count": 34,
   "id": "c9383be0",
   "metadata": {},
   "outputs": [],
   "source": [
    "import pickle"
   ]
  },
  {
   "cell_type": "code",
   "execution_count": 35,
   "id": "fb484a2d",
   "metadata": {},
   "outputs": [],
   "source": [
    "pickle.dump((one_hot_encoder, \n",
    "             scaler, \n",
    "             feature_name, \n",
    "             numerical_feature, \n",
    "             ordinal_feature, \n",
    "             nominal_feature), \n",
    "            open('hepatitis_c_env.pickle', 'wb'))"
   ]
  }
 ],
 "metadata": {
  "kernelspec": {
   "display_name": "Python 3",
   "language": "python",
   "name": "python3"
  },
  "language_info": {
   "codemirror_mode": {
    "name": "ipython",
    "version": 3
   },
   "file_extension": ".py",
   "mimetype": "text/x-python",
   "name": "python",
   "nbconvert_exporter": "python",
   "pygments_lexer": "ipython3",
   "version": "3.8.8"
  }
 },
 "nbformat": 4,
 "nbformat_minor": 5
}
