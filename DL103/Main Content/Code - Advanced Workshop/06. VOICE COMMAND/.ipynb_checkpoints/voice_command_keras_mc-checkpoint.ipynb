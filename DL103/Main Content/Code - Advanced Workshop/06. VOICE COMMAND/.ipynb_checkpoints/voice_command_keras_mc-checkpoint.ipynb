{
 "cells": [
  {
   "cell_type": "markdown",
   "id": "34d05e66",
   "metadata": {},
   "source": [
    "# 1. Import Libraries"
   ]
  },
  {
   "cell_type": "code",
   "execution_count": 1,
   "id": "b6eb937e",
   "metadata": {},
   "outputs": [],
   "source": [
    "import numpy as np\n",
    "import pandas as pd\n",
    "import matplotlib.pyplot as plt\n",
    "import random\n",
    "\n",
    "from sklearn.model_selection import train_test_split\n",
    "from sklearn.preprocessing import (\n",
    "    OrdinalEncoder, \n",
    "    OneHotEncoder, \n",
    "    StandardScaler, \n",
    "    MinMaxScaler\n",
    ")\n",
    "import tensorflow as tf\n",
    "from sklearn.metrics import confusion_matrix, classification_report\n",
    "\n",
    "import warnings\n",
    "warnings.filterwarnings('ignore')\n",
    "\n",
    "np.random.seed(12345)"
   ]
  },
  {
   "cell_type": "code",
   "execution_count": 2,
   "id": "e11f1002",
   "metadata": {},
   "outputs": [],
   "source": [
    "import os\n",
    "import sys\n",
    "\n",
    "lib_path = os.path.abspath('../../lib')\n",
    "sys.path.append(lib_path)\n",
    "\n",
    "from easy_keras import KerasMLPClassifier, make_confusion_matrix"
   ]
  },
  {
   "cell_type": "code",
   "execution_count": 3,
   "id": "bac6c345",
   "metadata": {},
   "outputs": [],
   "source": [
    "seed = 12345\n",
    "\n",
    "random.seed(seed)\n",
    "np.random.seed(seed)\n",
    "tf.random.set_seed(seed)"
   ]
  },
  {
   "cell_type": "markdown",
   "id": "f951c82c",
   "metadata": {},
   "source": [
    "# 2. Read Data"
   ]
  },
  {
   "cell_type": "code",
   "execution_count": 4,
   "id": "390fd94e",
   "metadata": {},
   "outputs": [
    {
     "data": {
      "text/html": [
       "<div>\n",
       "<style scoped>\n",
       "    .dataframe tbody tr th:only-of-type {\n",
       "        vertical-align: middle;\n",
       "    }\n",
       "\n",
       "    .dataframe tbody tr th {\n",
       "        vertical-align: top;\n",
       "    }\n",
       "\n",
       "    .dataframe thead th {\n",
       "        text-align: right;\n",
       "    }\n",
       "</style>\n",
       "<table border=\"1\" class=\"dataframe\">\n",
       "  <thead>\n",
       "    <tr style=\"text-align: right;\">\n",
       "      <th></th>\n",
       "      <th>pixel_0</th>\n",
       "      <th>pixel_1</th>\n",
       "      <th>pixel_2</th>\n",
       "      <th>pixel_3</th>\n",
       "      <th>pixel_4</th>\n",
       "      <th>pixel_5</th>\n",
       "      <th>pixel_6</th>\n",
       "      <th>pixel_7</th>\n",
       "      <th>pixel_8</th>\n",
       "      <th>pixel_9</th>\n",
       "      <th>...</th>\n",
       "      <th>pixel_8183</th>\n",
       "      <th>pixel_8184</th>\n",
       "      <th>pixel_8185</th>\n",
       "      <th>pixel_8186</th>\n",
       "      <th>pixel_8187</th>\n",
       "      <th>pixel_8188</th>\n",
       "      <th>pixel_8189</th>\n",
       "      <th>pixel_8190</th>\n",
       "      <th>pixel_8191</th>\n",
       "      <th>label</th>\n",
       "    </tr>\n",
       "  </thead>\n",
       "  <tbody>\n",
       "    <tr>\n",
       "      <th>0</th>\n",
       "      <td>-80.000000</td>\n",
       "      <td>-80.000000</td>\n",
       "      <td>-80.000000</td>\n",
       "      <td>-80.000000</td>\n",
       "      <td>-80.000000</td>\n",
       "      <td>-80.000000</td>\n",
       "      <td>-80.000000</td>\n",
       "      <td>-80.000000</td>\n",
       "      <td>-80.000000</td>\n",
       "      <td>-80.000000</td>\n",
       "      <td>...</td>\n",
       "      <td>-80.0</td>\n",
       "      <td>-80.0</td>\n",
       "      <td>-80.0</td>\n",
       "      <td>-80.0</td>\n",
       "      <td>-80.0</td>\n",
       "      <td>-80.0</td>\n",
       "      <td>-80.0</td>\n",
       "      <td>-80.0</td>\n",
       "      <td>-80.0</td>\n",
       "      <td>go</td>\n",
       "    </tr>\n",
       "    <tr>\n",
       "      <th>1</th>\n",
       "      <td>-80.000000</td>\n",
       "      <td>-80.000000</td>\n",
       "      <td>-80.000000</td>\n",
       "      <td>-80.000000</td>\n",
       "      <td>-80.000000</td>\n",
       "      <td>-80.000000</td>\n",
       "      <td>-80.000000</td>\n",
       "      <td>-80.000000</td>\n",
       "      <td>-80.000000</td>\n",
       "      <td>-80.000000</td>\n",
       "      <td>...</td>\n",
       "      <td>-80.0</td>\n",
       "      <td>-80.0</td>\n",
       "      <td>-80.0</td>\n",
       "      <td>-80.0</td>\n",
       "      <td>-80.0</td>\n",
       "      <td>-80.0</td>\n",
       "      <td>-80.0</td>\n",
       "      <td>-80.0</td>\n",
       "      <td>-80.0</td>\n",
       "      <td>go</td>\n",
       "    </tr>\n",
       "    <tr>\n",
       "      <th>2</th>\n",
       "      <td>-80.000000</td>\n",
       "      <td>-80.000000</td>\n",
       "      <td>-80.000000</td>\n",
       "      <td>-80.000000</td>\n",
       "      <td>-80.000000</td>\n",
       "      <td>-80.000000</td>\n",
       "      <td>-80.000000</td>\n",
       "      <td>-80.000000</td>\n",
       "      <td>-80.000000</td>\n",
       "      <td>-80.000000</td>\n",
       "      <td>...</td>\n",
       "      <td>-80.0</td>\n",
       "      <td>-80.0</td>\n",
       "      <td>-80.0</td>\n",
       "      <td>-80.0</td>\n",
       "      <td>-80.0</td>\n",
       "      <td>-80.0</td>\n",
       "      <td>-80.0</td>\n",
       "      <td>-80.0</td>\n",
       "      <td>-80.0</td>\n",
       "      <td>go</td>\n",
       "    </tr>\n",
       "    <tr>\n",
       "      <th>3</th>\n",
       "      <td>-80.000000</td>\n",
       "      <td>-80.000000</td>\n",
       "      <td>-80.000000</td>\n",
       "      <td>-80.000000</td>\n",
       "      <td>-80.000000</td>\n",
       "      <td>-80.000000</td>\n",
       "      <td>-80.000000</td>\n",
       "      <td>-80.000000</td>\n",
       "      <td>-80.000000</td>\n",
       "      <td>-80.000000</td>\n",
       "      <td>...</td>\n",
       "      <td>-80.0</td>\n",
       "      <td>-80.0</td>\n",
       "      <td>-80.0</td>\n",
       "      <td>-80.0</td>\n",
       "      <td>-80.0</td>\n",
       "      <td>-80.0</td>\n",
       "      <td>-80.0</td>\n",
       "      <td>-80.0</td>\n",
       "      <td>-80.0</td>\n",
       "      <td>go</td>\n",
       "    </tr>\n",
       "    <tr>\n",
       "      <th>4</th>\n",
       "      <td>-62.529934</td>\n",
       "      <td>-62.529934</td>\n",
       "      <td>-62.529934</td>\n",
       "      <td>-62.152111</td>\n",
       "      <td>-61.512722</td>\n",
       "      <td>-60.873333</td>\n",
       "      <td>-60.233940</td>\n",
       "      <td>-59.594551</td>\n",
       "      <td>-58.955162</td>\n",
       "      <td>-58.632915</td>\n",
       "      <td>...</td>\n",
       "      <td>-80.0</td>\n",
       "      <td>-80.0</td>\n",
       "      <td>-80.0</td>\n",
       "      <td>-80.0</td>\n",
       "      <td>-80.0</td>\n",
       "      <td>-80.0</td>\n",
       "      <td>-80.0</td>\n",
       "      <td>-80.0</td>\n",
       "      <td>-80.0</td>\n",
       "      <td>go</td>\n",
       "    </tr>\n",
       "    <tr>\n",
       "      <th>...</th>\n",
       "      <td>...</td>\n",
       "      <td>...</td>\n",
       "      <td>...</td>\n",
       "      <td>...</td>\n",
       "      <td>...</td>\n",
       "      <td>...</td>\n",
       "      <td>...</td>\n",
       "      <td>...</td>\n",
       "      <td>...</td>\n",
       "      <td>...</td>\n",
       "      <td>...</td>\n",
       "      <td>...</td>\n",
       "      <td>...</td>\n",
       "      <td>...</td>\n",
       "      <td>...</td>\n",
       "      <td>...</td>\n",
       "      <td>...</td>\n",
       "      <td>...</td>\n",
       "      <td>...</td>\n",
       "      <td>...</td>\n",
       "      <td>...</td>\n",
       "    </tr>\n",
       "    <tr>\n",
       "      <th>9499</th>\n",
       "      <td>-80.000000</td>\n",
       "      <td>-80.000000</td>\n",
       "      <td>-80.000000</td>\n",
       "      <td>-80.000000</td>\n",
       "      <td>-80.000000</td>\n",
       "      <td>-80.000000</td>\n",
       "      <td>-80.000000</td>\n",
       "      <td>-80.000000</td>\n",
       "      <td>-80.000000</td>\n",
       "      <td>-80.000000</td>\n",
       "      <td>...</td>\n",
       "      <td>-80.0</td>\n",
       "      <td>-80.0</td>\n",
       "      <td>-80.0</td>\n",
       "      <td>-80.0</td>\n",
       "      <td>-80.0</td>\n",
       "      <td>-80.0</td>\n",
       "      <td>-80.0</td>\n",
       "      <td>-80.0</td>\n",
       "      <td>-80.0</td>\n",
       "      <td>yes</td>\n",
       "    </tr>\n",
       "    <tr>\n",
       "      <th>9500</th>\n",
       "      <td>-80.000000</td>\n",
       "      <td>-80.000000</td>\n",
       "      <td>-80.000000</td>\n",
       "      <td>-80.000000</td>\n",
       "      <td>-80.000000</td>\n",
       "      <td>-80.000000</td>\n",
       "      <td>-80.000000</td>\n",
       "      <td>-80.000000</td>\n",
       "      <td>-80.000000</td>\n",
       "      <td>-80.000000</td>\n",
       "      <td>...</td>\n",
       "      <td>-80.0</td>\n",
       "      <td>-80.0</td>\n",
       "      <td>-80.0</td>\n",
       "      <td>-80.0</td>\n",
       "      <td>-80.0</td>\n",
       "      <td>-80.0</td>\n",
       "      <td>-80.0</td>\n",
       "      <td>-80.0</td>\n",
       "      <td>-80.0</td>\n",
       "      <td>yes</td>\n",
       "    </tr>\n",
       "    <tr>\n",
       "      <th>9501</th>\n",
       "      <td>-71.944351</td>\n",
       "      <td>-71.944351</td>\n",
       "      <td>-71.944351</td>\n",
       "      <td>-71.608337</td>\n",
       "      <td>-71.039703</td>\n",
       "      <td>-70.471054</td>\n",
       "      <td>-69.902420</td>\n",
       "      <td>-69.333778</td>\n",
       "      <td>-68.765137</td>\n",
       "      <td>-68.614075</td>\n",
       "      <td>...</td>\n",
       "      <td>-80.0</td>\n",
       "      <td>-80.0</td>\n",
       "      <td>-80.0</td>\n",
       "      <td>-80.0</td>\n",
       "      <td>-80.0</td>\n",
       "      <td>-80.0</td>\n",
       "      <td>-80.0</td>\n",
       "      <td>-80.0</td>\n",
       "      <td>-80.0</td>\n",
       "      <td>yes</td>\n",
       "    </tr>\n",
       "    <tr>\n",
       "      <th>9502</th>\n",
       "      <td>-71.259109</td>\n",
       "      <td>-71.259109</td>\n",
       "      <td>-71.259109</td>\n",
       "      <td>-70.686661</td>\n",
       "      <td>-69.717888</td>\n",
       "      <td>-68.749115</td>\n",
       "      <td>-67.780342</td>\n",
       "      <td>-66.811569</td>\n",
       "      <td>-65.842796</td>\n",
       "      <td>-66.136719</td>\n",
       "      <td>...</td>\n",
       "      <td>-80.0</td>\n",
       "      <td>-80.0</td>\n",
       "      <td>-80.0</td>\n",
       "      <td>-80.0</td>\n",
       "      <td>-80.0</td>\n",
       "      <td>-80.0</td>\n",
       "      <td>-80.0</td>\n",
       "      <td>-80.0</td>\n",
       "      <td>-80.0</td>\n",
       "      <td>yes</td>\n",
       "    </tr>\n",
       "    <tr>\n",
       "      <th>9503</th>\n",
       "      <td>-80.000000</td>\n",
       "      <td>-80.000000</td>\n",
       "      <td>-80.000000</td>\n",
       "      <td>-80.000000</td>\n",
       "      <td>-80.000000</td>\n",
       "      <td>-80.000000</td>\n",
       "      <td>-80.000000</td>\n",
       "      <td>-80.000000</td>\n",
       "      <td>-80.000000</td>\n",
       "      <td>-80.000000</td>\n",
       "      <td>...</td>\n",
       "      <td>-80.0</td>\n",
       "      <td>-80.0</td>\n",
       "      <td>-80.0</td>\n",
       "      <td>-80.0</td>\n",
       "      <td>-80.0</td>\n",
       "      <td>-80.0</td>\n",
       "      <td>-80.0</td>\n",
       "      <td>-80.0</td>\n",
       "      <td>-80.0</td>\n",
       "      <td>yes</td>\n",
       "    </tr>\n",
       "  </tbody>\n",
       "</table>\n",
       "<p>9504 rows × 8193 columns</p>\n",
       "</div>"
      ],
      "text/plain": [
       "        pixel_0    pixel_1    pixel_2    pixel_3    pixel_4    pixel_5  \\\n",
       "0    -80.000000 -80.000000 -80.000000 -80.000000 -80.000000 -80.000000   \n",
       "1    -80.000000 -80.000000 -80.000000 -80.000000 -80.000000 -80.000000   \n",
       "2    -80.000000 -80.000000 -80.000000 -80.000000 -80.000000 -80.000000   \n",
       "3    -80.000000 -80.000000 -80.000000 -80.000000 -80.000000 -80.000000   \n",
       "4    -62.529934 -62.529934 -62.529934 -62.152111 -61.512722 -60.873333   \n",
       "...         ...        ...        ...        ...        ...        ...   \n",
       "9499 -80.000000 -80.000000 -80.000000 -80.000000 -80.000000 -80.000000   \n",
       "9500 -80.000000 -80.000000 -80.000000 -80.000000 -80.000000 -80.000000   \n",
       "9501 -71.944351 -71.944351 -71.944351 -71.608337 -71.039703 -70.471054   \n",
       "9502 -71.259109 -71.259109 -71.259109 -70.686661 -69.717888 -68.749115   \n",
       "9503 -80.000000 -80.000000 -80.000000 -80.000000 -80.000000 -80.000000   \n",
       "\n",
       "        pixel_6    pixel_7    pixel_8    pixel_9  ...  pixel_8183  pixel_8184  \\\n",
       "0    -80.000000 -80.000000 -80.000000 -80.000000  ...       -80.0       -80.0   \n",
       "1    -80.000000 -80.000000 -80.000000 -80.000000  ...       -80.0       -80.0   \n",
       "2    -80.000000 -80.000000 -80.000000 -80.000000  ...       -80.0       -80.0   \n",
       "3    -80.000000 -80.000000 -80.000000 -80.000000  ...       -80.0       -80.0   \n",
       "4    -60.233940 -59.594551 -58.955162 -58.632915  ...       -80.0       -80.0   \n",
       "...         ...        ...        ...        ...  ...         ...         ...   \n",
       "9499 -80.000000 -80.000000 -80.000000 -80.000000  ...       -80.0       -80.0   \n",
       "9500 -80.000000 -80.000000 -80.000000 -80.000000  ...       -80.0       -80.0   \n",
       "9501 -69.902420 -69.333778 -68.765137 -68.614075  ...       -80.0       -80.0   \n",
       "9502 -67.780342 -66.811569 -65.842796 -66.136719  ...       -80.0       -80.0   \n",
       "9503 -80.000000 -80.000000 -80.000000 -80.000000  ...       -80.0       -80.0   \n",
       "\n",
       "      pixel_8185  pixel_8186  pixel_8187  pixel_8188  pixel_8189  pixel_8190  \\\n",
       "0          -80.0       -80.0       -80.0       -80.0       -80.0       -80.0   \n",
       "1          -80.0       -80.0       -80.0       -80.0       -80.0       -80.0   \n",
       "2          -80.0       -80.0       -80.0       -80.0       -80.0       -80.0   \n",
       "3          -80.0       -80.0       -80.0       -80.0       -80.0       -80.0   \n",
       "4          -80.0       -80.0       -80.0       -80.0       -80.0       -80.0   \n",
       "...          ...         ...         ...         ...         ...         ...   \n",
       "9499       -80.0       -80.0       -80.0       -80.0       -80.0       -80.0   \n",
       "9500       -80.0       -80.0       -80.0       -80.0       -80.0       -80.0   \n",
       "9501       -80.0       -80.0       -80.0       -80.0       -80.0       -80.0   \n",
       "9502       -80.0       -80.0       -80.0       -80.0       -80.0       -80.0   \n",
       "9503       -80.0       -80.0       -80.0       -80.0       -80.0       -80.0   \n",
       "\n",
       "      pixel_8191  label  \n",
       "0          -80.0     go  \n",
       "1          -80.0     go  \n",
       "2          -80.0     go  \n",
       "3          -80.0     go  \n",
       "4          -80.0     go  \n",
       "...          ...    ...  \n",
       "9499       -80.0    yes  \n",
       "9500       -80.0    yes  \n",
       "9501       -80.0    yes  \n",
       "9502       -80.0    yes  \n",
       "9503       -80.0    yes  \n",
       "\n",
       "[9504 rows x 8193 columns]"
      ]
     },
     "execution_count": 4,
     "metadata": {},
     "output_type": "execute_result"
    }
   ],
   "source": [
    "data = pd.read_csv('sound_to_csv/voice_command_dataset.csv')\n",
    "\n",
    "data"
   ]
  },
  {
   "cell_type": "markdown",
   "id": "2ba457e4",
   "metadata": {},
   "source": [
    "# 3. Clean Data"
   ]
  },
  {
   "cell_type": "markdown",
   "id": "8d173bd4",
   "metadata": {},
   "source": [
    "## 3.1. Handle Missing Values"
   ]
  },
  {
   "cell_type": "markdown",
   "id": "31642503",
   "metadata": {},
   "source": [
    "### 3.1.1. Check Missing Values"
   ]
  },
  {
   "cell_type": "code",
   "execution_count": 5,
   "id": "2de23c61",
   "metadata": {},
   "outputs": [
    {
     "name": "stdout",
     "output_type": "stream",
     "text": [
      "<class 'pandas.core.frame.DataFrame'>\n",
      "RangeIndex: 9504 entries, 0 to 9503\n",
      "Columns: 8193 entries, pixel_0 to label\n",
      "dtypes: float64(8192), object(1)\n",
      "memory usage: 594.1+ MB\n"
     ]
    }
   ],
   "source": [
    "data.info()"
   ]
  },
  {
   "cell_type": "markdown",
   "id": "c44da5d8",
   "metadata": {},
   "source": [
    "### 3.1.2. Remove Missing Values"
   ]
  },
  {
   "cell_type": "code",
   "execution_count": 6,
   "id": "57707ddf",
   "metadata": {},
   "outputs": [],
   "source": [
    "# no NaN to remove\n",
    "# data.dropna(axis=0, inplace=True)"
   ]
  },
  {
   "cell_type": "markdown",
   "id": "c00dc1e2",
   "metadata": {},
   "source": [
    "## 3.2. Handle Outliers"
   ]
  },
  {
   "cell_type": "markdown",
   "id": "89a37380",
   "metadata": {},
   "source": [
    "### 3.2.1. Check Outliers"
   ]
  },
  {
   "cell_type": "code",
   "execution_count": 7,
   "id": "6be17f6b",
   "metadata": {},
   "outputs": [
    {
     "data": {
      "text/html": [
       "<div>\n",
       "<style scoped>\n",
       "    .dataframe tbody tr th:only-of-type {\n",
       "        vertical-align: middle;\n",
       "    }\n",
       "\n",
       "    .dataframe tbody tr th {\n",
       "        vertical-align: top;\n",
       "    }\n",
       "\n",
       "    .dataframe thead th {\n",
       "        text-align: right;\n",
       "    }\n",
       "</style>\n",
       "<table border=\"1\" class=\"dataframe\">\n",
       "  <thead>\n",
       "    <tr style=\"text-align: right;\">\n",
       "      <th></th>\n",
       "      <th>pixel_0</th>\n",
       "      <th>pixel_1</th>\n",
       "      <th>pixel_2</th>\n",
       "      <th>pixel_3</th>\n",
       "      <th>pixel_4</th>\n",
       "      <th>pixel_5</th>\n",
       "      <th>pixel_6</th>\n",
       "      <th>pixel_7</th>\n",
       "      <th>pixel_8</th>\n",
       "      <th>pixel_9</th>\n",
       "      <th>...</th>\n",
       "      <th>pixel_8182</th>\n",
       "      <th>pixel_8183</th>\n",
       "      <th>pixel_8184</th>\n",
       "      <th>pixel_8185</th>\n",
       "      <th>pixel_8186</th>\n",
       "      <th>pixel_8187</th>\n",
       "      <th>pixel_8188</th>\n",
       "      <th>pixel_8189</th>\n",
       "      <th>pixel_8190</th>\n",
       "      <th>pixel_8191</th>\n",
       "    </tr>\n",
       "  </thead>\n",
       "  <tbody>\n",
       "    <tr>\n",
       "      <th>count</th>\n",
       "      <td>9504.000000</td>\n",
       "      <td>9504.000000</td>\n",
       "      <td>9504.000000</td>\n",
       "      <td>9504.000000</td>\n",
       "      <td>9504.000000</td>\n",
       "      <td>9504.000000</td>\n",
       "      <td>9504.000000</td>\n",
       "      <td>9504.000000</td>\n",
       "      <td>9504.000000</td>\n",
       "      <td>9504.000000</td>\n",
       "      <td>...</td>\n",
       "      <td>9504.000000</td>\n",
       "      <td>9504.000000</td>\n",
       "      <td>9504.000000</td>\n",
       "      <td>9504.000000</td>\n",
       "      <td>9504.000000</td>\n",
       "      <td>9504.000000</td>\n",
       "      <td>9504.000000</td>\n",
       "      <td>9504.000000</td>\n",
       "      <td>9504.000000</td>\n",
       "      <td>9504.000000</td>\n",
       "    </tr>\n",
       "    <tr>\n",
       "      <th>mean</th>\n",
       "      <td>-74.196901</td>\n",
       "      <td>-74.196901</td>\n",
       "      <td>-74.196901</td>\n",
       "      <td>-74.111060</td>\n",
       "      <td>-73.951679</td>\n",
       "      <td>-73.788371</td>\n",
       "      <td>-73.624398</td>\n",
       "      <td>-73.460246</td>\n",
       "      <td>-73.296075</td>\n",
       "      <td>-73.265710</td>\n",
       "      <td>...</td>\n",
       "      <td>-79.719772</td>\n",
       "      <td>-79.719772</td>\n",
       "      <td>-79.719772</td>\n",
       "      <td>-79.719772</td>\n",
       "      <td>-79.719772</td>\n",
       "      <td>-79.719772</td>\n",
       "      <td>-79.719772</td>\n",
       "      <td>-79.719772</td>\n",
       "      <td>-79.719772</td>\n",
       "      <td>-79.719772</td>\n",
       "    </tr>\n",
       "    <tr>\n",
       "      <th>std</th>\n",
       "      <td>12.805863</td>\n",
       "      <td>12.805863</td>\n",
       "      <td>12.805863</td>\n",
       "      <td>12.864995</td>\n",
       "      <td>12.999738</td>\n",
       "      <td>13.162878</td>\n",
       "      <td>13.350508</td>\n",
       "      <td>13.561792</td>\n",
       "      <td>13.795588</td>\n",
       "      <td>13.801340</td>\n",
       "      <td>...</td>\n",
       "      <td>3.642860</td>\n",
       "      <td>3.642860</td>\n",
       "      <td>3.642860</td>\n",
       "      <td>3.642860</td>\n",
       "      <td>3.642860</td>\n",
       "      <td>3.642860</td>\n",
       "      <td>3.642860</td>\n",
       "      <td>3.642860</td>\n",
       "      <td>3.642860</td>\n",
       "      <td>3.642860</td>\n",
       "    </tr>\n",
       "    <tr>\n",
       "      <th>min</th>\n",
       "      <td>-80.000008</td>\n",
       "      <td>-80.000008</td>\n",
       "      <td>-80.000008</td>\n",
       "      <td>-80.000008</td>\n",
       "      <td>-80.000008</td>\n",
       "      <td>-80.000008</td>\n",
       "      <td>-80.000008</td>\n",
       "      <td>-80.000008</td>\n",
       "      <td>-80.000008</td>\n",
       "      <td>-80.000008</td>\n",
       "      <td>...</td>\n",
       "      <td>-80.000008</td>\n",
       "      <td>-80.000008</td>\n",
       "      <td>-80.000008</td>\n",
       "      <td>-80.000008</td>\n",
       "      <td>-80.000008</td>\n",
       "      <td>-80.000008</td>\n",
       "      <td>-80.000008</td>\n",
       "      <td>-80.000008</td>\n",
       "      <td>-80.000008</td>\n",
       "      <td>-80.000008</td>\n",
       "    </tr>\n",
       "    <tr>\n",
       "      <th>25%</th>\n",
       "      <td>-80.000000</td>\n",
       "      <td>-80.000000</td>\n",
       "      <td>-80.000000</td>\n",
       "      <td>-80.000000</td>\n",
       "      <td>-80.000000</td>\n",
       "      <td>-80.000000</td>\n",
       "      <td>-80.000000</td>\n",
       "      <td>-80.000000</td>\n",
       "      <td>-80.000000</td>\n",
       "      <td>-80.000000</td>\n",
       "      <td>...</td>\n",
       "      <td>-80.000000</td>\n",
       "      <td>-80.000000</td>\n",
       "      <td>-80.000000</td>\n",
       "      <td>-80.000000</td>\n",
       "      <td>-80.000000</td>\n",
       "      <td>-80.000000</td>\n",
       "      <td>-80.000000</td>\n",
       "      <td>-80.000000</td>\n",
       "      <td>-80.000000</td>\n",
       "      <td>-80.000000</td>\n",
       "    </tr>\n",
       "    <tr>\n",
       "      <th>50%</th>\n",
       "      <td>-80.000000</td>\n",
       "      <td>-80.000000</td>\n",
       "      <td>-80.000000</td>\n",
       "      <td>-80.000000</td>\n",
       "      <td>-80.000000</td>\n",
       "      <td>-80.000000</td>\n",
       "      <td>-80.000000</td>\n",
       "      <td>-80.000000</td>\n",
       "      <td>-80.000000</td>\n",
       "      <td>-80.000000</td>\n",
       "      <td>...</td>\n",
       "      <td>-80.000000</td>\n",
       "      <td>-80.000000</td>\n",
       "      <td>-80.000000</td>\n",
       "      <td>-80.000000</td>\n",
       "      <td>-80.000000</td>\n",
       "      <td>-80.000000</td>\n",
       "      <td>-80.000000</td>\n",
       "      <td>-80.000000</td>\n",
       "      <td>-80.000000</td>\n",
       "      <td>-80.000000</td>\n",
       "    </tr>\n",
       "    <tr>\n",
       "      <th>75%</th>\n",
       "      <td>-76.969191</td>\n",
       "      <td>-76.969191</td>\n",
       "      <td>-76.969191</td>\n",
       "      <td>-76.658869</td>\n",
       "      <td>-76.080811</td>\n",
       "      <td>-75.448872</td>\n",
       "      <td>-74.956299</td>\n",
       "      <td>-74.506472</td>\n",
       "      <td>-74.175171</td>\n",
       "      <td>-74.098099</td>\n",
       "      <td>...</td>\n",
       "      <td>-80.000000</td>\n",
       "      <td>-80.000000</td>\n",
       "      <td>-80.000000</td>\n",
       "      <td>-80.000000</td>\n",
       "      <td>-80.000000</td>\n",
       "      <td>-80.000000</td>\n",
       "      <td>-80.000000</td>\n",
       "      <td>-80.000000</td>\n",
       "      <td>-80.000000</td>\n",
       "      <td>-80.000000</td>\n",
       "    </tr>\n",
       "    <tr>\n",
       "      <th>max</th>\n",
       "      <td>-0.173088</td>\n",
       "      <td>-0.173088</td>\n",
       "      <td>-0.173088</td>\n",
       "      <td>-0.173088</td>\n",
       "      <td>-0.173088</td>\n",
       "      <td>-0.173088</td>\n",
       "      <td>-0.173088</td>\n",
       "      <td>-0.173088</td>\n",
       "      <td>-0.173088</td>\n",
       "      <td>-0.173088</td>\n",
       "      <td>...</td>\n",
       "      <td>-0.173088</td>\n",
       "      <td>-0.173088</td>\n",
       "      <td>-0.173088</td>\n",
       "      <td>-0.173088</td>\n",
       "      <td>-0.173088</td>\n",
       "      <td>-0.173088</td>\n",
       "      <td>-0.173088</td>\n",
       "      <td>-0.173088</td>\n",
       "      <td>-0.173088</td>\n",
       "      <td>-0.173088</td>\n",
       "    </tr>\n",
       "  </tbody>\n",
       "</table>\n",
       "<p>8 rows × 8192 columns</p>\n",
       "</div>"
      ],
      "text/plain": [
       "           pixel_0      pixel_1      pixel_2      pixel_3      pixel_4  \\\n",
       "count  9504.000000  9504.000000  9504.000000  9504.000000  9504.000000   \n",
       "mean    -74.196901   -74.196901   -74.196901   -74.111060   -73.951679   \n",
       "std      12.805863    12.805863    12.805863    12.864995    12.999738   \n",
       "min     -80.000008   -80.000008   -80.000008   -80.000008   -80.000008   \n",
       "25%     -80.000000   -80.000000   -80.000000   -80.000000   -80.000000   \n",
       "50%     -80.000000   -80.000000   -80.000000   -80.000000   -80.000000   \n",
       "75%     -76.969191   -76.969191   -76.969191   -76.658869   -76.080811   \n",
       "max      -0.173088    -0.173088    -0.173088    -0.173088    -0.173088   \n",
       "\n",
       "           pixel_5      pixel_6      pixel_7      pixel_8      pixel_9  ...  \\\n",
       "count  9504.000000  9504.000000  9504.000000  9504.000000  9504.000000  ...   \n",
       "mean    -73.788371   -73.624398   -73.460246   -73.296075   -73.265710  ...   \n",
       "std      13.162878    13.350508    13.561792    13.795588    13.801340  ...   \n",
       "min     -80.000008   -80.000008   -80.000008   -80.000008   -80.000008  ...   \n",
       "25%     -80.000000   -80.000000   -80.000000   -80.000000   -80.000000  ...   \n",
       "50%     -80.000000   -80.000000   -80.000000   -80.000000   -80.000000  ...   \n",
       "75%     -75.448872   -74.956299   -74.506472   -74.175171   -74.098099  ...   \n",
       "max      -0.173088    -0.173088    -0.173088    -0.173088    -0.173088  ...   \n",
       "\n",
       "        pixel_8182   pixel_8183   pixel_8184   pixel_8185   pixel_8186  \\\n",
       "count  9504.000000  9504.000000  9504.000000  9504.000000  9504.000000   \n",
       "mean    -79.719772   -79.719772   -79.719772   -79.719772   -79.719772   \n",
       "std       3.642860     3.642860     3.642860     3.642860     3.642860   \n",
       "min     -80.000008   -80.000008   -80.000008   -80.000008   -80.000008   \n",
       "25%     -80.000000   -80.000000   -80.000000   -80.000000   -80.000000   \n",
       "50%     -80.000000   -80.000000   -80.000000   -80.000000   -80.000000   \n",
       "75%     -80.000000   -80.000000   -80.000000   -80.000000   -80.000000   \n",
       "max      -0.173088    -0.173088    -0.173088    -0.173088    -0.173088   \n",
       "\n",
       "        pixel_8187   pixel_8188   pixel_8189   pixel_8190   pixel_8191  \n",
       "count  9504.000000  9504.000000  9504.000000  9504.000000  9504.000000  \n",
       "mean    -79.719772   -79.719772   -79.719772   -79.719772   -79.719772  \n",
       "std       3.642860     3.642860     3.642860     3.642860     3.642860  \n",
       "min     -80.000008   -80.000008   -80.000008   -80.000008   -80.000008  \n",
       "25%     -80.000000   -80.000000   -80.000000   -80.000000   -80.000000  \n",
       "50%     -80.000000   -80.000000   -80.000000   -80.000000   -80.000000  \n",
       "75%     -80.000000   -80.000000   -80.000000   -80.000000   -80.000000  \n",
       "max      -0.173088    -0.173088    -0.173088    -0.173088    -0.173088  \n",
       "\n",
       "[8 rows x 8192 columns]"
      ]
     },
     "execution_count": 7,
     "metadata": {},
     "output_type": "execute_result"
    }
   ],
   "source": [
    "data.describe()"
   ]
  },
  {
   "cell_type": "markdown",
   "id": "d782326a",
   "metadata": {},
   "source": [
    "### 3.2.2. Remove Outliers"
   ]
  },
  {
   "cell_type": "code",
   "execution_count": 8,
   "id": "11e9d35b",
   "metadata": {},
   "outputs": [],
   "source": [
    "# no outlier to remove"
   ]
  },
  {
   "cell_type": "markdown",
   "id": "a58ec641",
   "metadata": {},
   "source": [
    "# 4. Split Dataset into Training & Test Sets"
   ]
  },
  {
   "cell_type": "code",
   "execution_count": 9,
   "id": "f55759e1",
   "metadata": {},
   "outputs": [],
   "source": [
    "target_name = 'label'\n",
    "feature_name = list(data.columns.drop(target_name))"
   ]
  },
  {
   "cell_type": "code",
   "execution_count": 10,
   "id": "200b638d",
   "metadata": {},
   "outputs": [],
   "source": [
    "X = data[feature_name]\n",
    "y = data[target_name]"
   ]
  },
  {
   "cell_type": "code",
   "execution_count": 11,
   "id": "f754053c",
   "metadata": {},
   "outputs": [],
   "source": [
    "X_train, X_test, y_train, y_test = train_test_split(X, y, test_size=0.20, shuffle=True)"
   ]
  },
  {
   "cell_type": "markdown",
   "id": "37dbd7e8",
   "metadata": {},
   "source": [
    "# 5. Data Preparation"
   ]
  },
  {
   "cell_type": "markdown",
   "id": "bd566633",
   "metadata": {},
   "source": [
    "## ### 5.1. Ordinal Encoding"
   ]
  },
  {
   "cell_type": "markdown",
   "id": "b59dad3e",
   "metadata": {},
   "source": [
    "## ### 5.2. One Hot Encoding"
   ]
  },
  {
   "cell_type": "markdown",
   "id": "535bb9d8",
   "metadata": {},
   "source": [
    "## 5.3. Feature Scaling"
   ]
  },
  {
   "cell_type": "markdown",
   "id": "c2d72322",
   "metadata": {},
   "source": [
    "### 5.3.1. Training Set"
   ]
  },
  {
   "cell_type": "code",
   "execution_count": 12,
   "id": "4c8c2162",
   "metadata": {},
   "outputs": [],
   "source": [
    "scaler = MinMaxScaler()\n",
    "X_train_scaled = scaler.fit_transform(X_train)"
   ]
  },
  {
   "cell_type": "markdown",
   "id": "4b6b08cb",
   "metadata": {},
   "source": [
    "### 5.3.2. Test Set"
   ]
  },
  {
   "cell_type": "code",
   "execution_count": 13,
   "id": "bd61267f",
   "metadata": {},
   "outputs": [],
   "source": [
    "X_test_scaled = scaler.transform(X_test)"
   ]
  },
  {
   "cell_type": "markdown",
   "id": "b675efa0",
   "metadata": {},
   "source": [
    "# 6. Model Creation"
   ]
  },
  {
   "cell_type": "markdown",
   "id": "1a10bac7",
   "metadata": {},
   "source": [
    "## 6.1. Setting Parameters"
   ]
  },
  {
   "cell_type": "code",
   "execution_count": 14,
   "id": "2c08be0f",
   "metadata": {},
   "outputs": [],
   "source": [
    "classes = np.unique(y_train)"
   ]
  },
  {
   "cell_type": "code",
   "execution_count": 15,
   "id": "4807928e",
   "metadata": {},
   "outputs": [],
   "source": [
    "clf = KerasMLPClassifier(\n",
    "    input_dim=X_train_scaled.shape[1],\n",
    "    hidden_layer_sizes=(5, 5),\n",
    "    activation_function='relu',\n",
    "    classes=classes,\n",
    "    learning_rate_init=0.0001,\n",
    "    epochs=10,\n",
    "    validation_split=0.1,\n",
    "    use_gpu=True,\n",
    "    class_weight='balanced',\n",
    "    l1_lambda=0.0,\n",
    "    l2_lambda=0.001,\n",
    "    dropout_rate=[0, 0],\n",
    "    solver='adam',\n",
    "    batch_size=64\n",
    ")"
   ]
  },
  {
   "cell_type": "markdown",
   "id": "c2122317",
   "metadata": {},
   "source": [
    "## 6.2. Train Model"
   ]
  },
  {
   "cell_type": "code",
   "execution_count": 16,
   "id": "44966bc0",
   "metadata": {},
   "outputs": [
    {
     "data": {
      "application/vnd.jupyter.widget-view+json": {
       "model_id": "a02693eef853490292786870945f8859",
       "version_major": 2,
       "version_minor": 0
      },
      "text/plain": [
       "Training:   0%|           0/10 ETA: ?s,  ?epochs/s"
      ]
     },
     "metadata": {},
     "output_type": "display_data"
    },
    {
     "data": {
      "text/plain": [
       "{'loss': [1.3035616874694824,\n",
       "  1.2076401710510254,\n",
       "  1.1589986085891724,\n",
       "  1.1265599727630615,\n",
       "  1.0966997146606445,\n",
       "  1.0736051797866821,\n",
       "  1.0529522895812988,\n",
       "  1.0341918468475342,\n",
       "  1.018071174621582,\n",
       "  1.0037500858306885],\n",
       " 'val_loss': [1.2508636713027954,\n",
       "  1.185968041419983,\n",
       "  1.1517832279205322,\n",
       "  1.1216785907745361,\n",
       "  1.0986989736557007,\n",
       "  1.0818661451339722,\n",
       "  1.0662816762924194,\n",
       "  1.050365686416626,\n",
       "  1.0415562391281128,\n",
       "  1.0268311500549316]}"
      ]
     },
     "execution_count": 16,
     "metadata": {},
     "output_type": "execute_result"
    }
   ],
   "source": [
    "clf.fit(X_train_scaled, y_train)"
   ]
  },
  {
   "cell_type": "markdown",
   "id": "e79c3dac",
   "metadata": {},
   "source": [
    "## 6.3. Loss Curve"
   ]
  },
  {
   "cell_type": "code",
   "execution_count": 17,
   "id": "65e0b51b",
   "metadata": {
    "scrolled": true
   },
   "outputs": [
    {
     "data": {
      "text/plain": [
       "<matplotlib.legend.Legend at 0x146020d60>"
      ]
     },
     "execution_count": 17,
     "metadata": {},
     "output_type": "execute_result"
    },
    {
     "data": {
      "image/png": "[encoded data removed]",
      "text/plain": [
       "<Figure size 432x288 with 1 Axes>"
      ]
     },
     "metadata": {
      "needs_background": "light"
     },
     "output_type": "display_data"
    }
   ],
   "source": [
    "plt.plot(clf.loss_curve_, label='training_loss')\n",
    "plt.plot(clf.val_loss_curve_, label='validation_loss')\n",
    "plt.xlabel('epoch')\n",
    "plt.ylabel('loss')\n",
    "plt.legend()"
   ]
  },
  {
   "cell_type": "markdown",
   "id": "b0f38bca",
   "metadata": {},
   "source": [
    "## 6.4. Model's Weight & Bias"
   ]
  },
  {
   "cell_type": "code",
   "execution_count": 18,
   "id": "140324ac",
   "metadata": {},
   "outputs": [
    {
     "name": "stdout",
     "output_type": "stream",
     "text": [
      "(8192, 5)\n",
      "(5, 5)\n",
      "(5, 4)\n"
     ]
    }
   ],
   "source": [
    "for coef_ in clf.coefs_:\n",
    "    print(coef_.shape)"
   ]
  },
  {
   "cell_type": "code",
   "execution_count": 19,
   "id": "3324c5d3",
   "metadata": {
    "scrolled": true
   },
   "outputs": [
    {
     "name": "stdout",
     "output_type": "stream",
     "text": [
      "(5,)\n",
      "(5,)\n",
      "(4,)\n"
     ]
    }
   ],
   "source": [
    "for intercept_ in clf.intercepts_:\n",
    "    print(intercept_.shape)"
   ]
  },
  {
   "cell_type": "markdown",
   "id": "790c1273",
   "metadata": {},
   "source": [
    "# 7. Prediction"
   ]
  },
  {
   "cell_type": "markdown",
   "id": "1ca0382a",
   "metadata": {},
   "source": [
    "## 7.1. Training Set"
   ]
  },
  {
   "cell_type": "code",
   "execution_count": 20,
   "id": "95f8e7a1",
   "metadata": {},
   "outputs": [],
   "source": [
    "y_pred_train = clf.predict(X_train_scaled)"
   ]
  },
  {
   "cell_type": "markdown",
   "id": "7ab051b1",
   "metadata": {},
   "source": [
    "## 7.2. Test Set"
   ]
  },
  {
   "cell_type": "code",
   "execution_count": 21,
   "id": "1a3db6bd",
   "metadata": {},
   "outputs": [],
   "source": [
    "y_pred_test = clf.predict(X_test_scaled)"
   ]
  },
  {
   "cell_type": "markdown",
   "id": "72a16acb",
   "metadata": {},
   "source": [
    "# 8. Model Evaluation"
   ]
  },
  {
   "cell_type": "markdown",
   "id": "7f9d943a",
   "metadata": {},
   "source": [
    "## 8.1. Training Set"
   ]
  },
  {
   "cell_type": "markdown",
   "id": "55f96f40",
   "metadata": {},
   "source": [
    "### 8.1.1. Confusion Matrix"
   ]
  },
  {
   "cell_type": "code",
   "execution_count": 22,
   "id": "8eb5f70b",
   "metadata": {},
   "outputs": [
    {
     "data": {
      "image/png": "[encoded data removed]",
      "text/plain": [
       "<Figure size 432x288 with 2 Axes>"
      ]
     },
     "metadata": {
      "needs_background": "light"
     },
     "output_type": "display_data"
    }
   ],
   "source": [
    "cm = confusion_matrix(y_train, y_pred_train)\n",
    "make_confusion_matrix(\n",
    "    cm,\n",
    "    cmap='viridis',\n",
    "    categories=classes,\n",
    "    sum_stats=False,\n",
    "    percent=False,\n",
    ")\n",
    "plt.show()"
   ]
  },
  {
   "cell_type": "markdown",
   "id": "6fb54b57",
   "metadata": {},
   "source": [
    "### 8.1.2. Scoring"
   ]
  },
  {
   "cell_type": "code",
   "execution_count": 23,
   "id": "527a7b37",
   "metadata": {},
   "outputs": [],
   "source": [
    "report = classification_report(y_train, y_pred_train, output_dict=True)"
   ]
  },
  {
   "cell_type": "code",
   "execution_count": 24,
   "id": "042c261e",
   "metadata": {},
   "outputs": [
    {
     "data": {
      "text/html": [
       "<div>\n",
       "<style scoped>\n",
       "    .dataframe tbody tr th:only-of-type {\n",
       "        vertical-align: middle;\n",
       "    }\n",
       "\n",
       "    .dataframe tbody tr th {\n",
       "        vertical-align: top;\n",
       "    }\n",
       "\n",
       "    .dataframe thead th {\n",
       "        text-align: right;\n",
       "    }\n",
       "</style>\n",
       "<table border=\"1\" class=\"dataframe\">\n",
       "  <thead>\n",
       "    <tr style=\"text-align: right;\">\n",
       "      <th></th>\n",
       "      <th>precision</th>\n",
       "      <th>recall</th>\n",
       "      <th>f1-score</th>\n",
       "      <th>support</th>\n",
       "    </tr>\n",
       "  </thead>\n",
       "  <tbody>\n",
       "    <tr>\n",
       "      <th>go</th>\n",
       "      <td>0.521345</td>\n",
       "      <td>0.802380</td>\n",
       "      <td>0.632029</td>\n",
       "      <td>1933.000000</td>\n",
       "    </tr>\n",
       "    <tr>\n",
       "      <th>no</th>\n",
       "      <td>0.556903</td>\n",
       "      <td>0.313221</td>\n",
       "      <td>0.400940</td>\n",
       "      <td>1906.000000</td>\n",
       "    </tr>\n",
       "    <tr>\n",
       "      <th>stop</th>\n",
       "      <td>0.692411</td>\n",
       "      <td>0.818037</td>\n",
       "      <td>0.750000</td>\n",
       "      <td>1885.000000</td>\n",
       "    </tr>\n",
       "    <tr>\n",
       "      <th>yes</th>\n",
       "      <td>0.916479</td>\n",
       "      <td>0.648217</td>\n",
       "      <td>0.759352</td>\n",
       "      <td>1879.000000</td>\n",
       "    </tr>\n",
       "    <tr>\n",
       "      <th>accuracy</th>\n",
       "      <td>0.645535</td>\n",
       "      <td>0.645535</td>\n",
       "      <td>0.645535</td>\n",
       "      <td>0.645535</td>\n",
       "    </tr>\n",
       "    <tr>\n",
       "      <th>macro avg</th>\n",
       "      <td>0.671784</td>\n",
       "      <td>0.645464</td>\n",
       "      <td>0.635580</td>\n",
       "      <td>7603.000000</td>\n",
       "    </tr>\n",
       "    <tr>\n",
       "      <th>weighted avg</th>\n",
       "      <td>0.670324</td>\n",
       "      <td>0.645535</td>\n",
       "      <td>0.634812</td>\n",
       "      <td>7603.000000</td>\n",
       "    </tr>\n",
       "  </tbody>\n",
       "</table>\n",
       "</div>"
      ],
      "text/plain": [
       "              precision    recall  f1-score      support\n",
       "go             0.521345  0.802380  0.632029  1933.000000\n",
       "no             0.556903  0.313221  0.400940  1906.000000\n",
       "stop           0.692411  0.818037  0.750000  1885.000000\n",
       "yes            0.916479  0.648217  0.759352  1879.000000\n",
       "accuracy       0.645535  0.645535  0.645535     0.645535\n",
       "macro avg      0.671784  0.645464  0.635580  7603.000000\n",
       "weighted avg   0.670324  0.645535  0.634812  7603.000000"
      ]
     },
     "execution_count": 24,
     "metadata": {},
     "output_type": "execute_result"
    }
   ],
   "source": [
    "pd.DataFrame.from_dict(report).T"
   ]
  },
  {
   "cell_type": "markdown",
   "id": "9533f763",
   "metadata": {},
   "source": [
    "## 8.2. Test Set"
   ]
  },
  {
   "cell_type": "markdown",
   "id": "ef10b301",
   "metadata": {},
   "source": [
    "### 8.2.1. Confusion Matrix"
   ]
  },
  {
   "cell_type": "code",
   "execution_count": 25,
   "id": "aa27890a",
   "metadata": {},
   "outputs": [
    {
     "data": {
      "image/png": "[encoded data removed]",
      "text/plain": [
       "<Figure size 432x288 with 2 Axes>"
      ]
     },
     "metadata": {
      "needs_background": "light"
     },
     "output_type": "display_data"
    }
   ],
   "source": [
    "cm = confusion_matrix(y_test, y_pred_test)\n",
    "make_confusion_matrix(\n",
    "    cm,\n",
    "    cmap='viridis',\n",
    "    categories=classes,\n",
    "    sum_stats=False,\n",
    "    percent=False,\n",
    ")\n",
    "plt.show()"
   ]
  },
  {
   "cell_type": "markdown",
   "id": "cefece92",
   "metadata": {},
   "source": [
    "### 8.2.2. Scoring"
   ]
  },
  {
   "cell_type": "code",
   "execution_count": 26,
   "id": "9f72a11f",
   "metadata": {},
   "outputs": [],
   "source": [
    "report = classification_report(y_test, y_pred_test, output_dict=True)"
   ]
  },
  {
   "cell_type": "code",
   "execution_count": 27,
   "id": "a60bb854",
   "metadata": {
    "scrolled": true
   },
   "outputs": [
    {
     "data": {
      "text/html": [
       "<div>\n",
       "<style scoped>\n",
       "    .dataframe tbody tr th:only-of-type {\n",
       "        vertical-align: middle;\n",
       "    }\n",
       "\n",
       "    .dataframe tbody tr th {\n",
       "        vertical-align: top;\n",
       "    }\n",
       "\n",
       "    .dataframe thead th {\n",
       "        text-align: right;\n",
       "    }\n",
       "</style>\n",
       "<table border=\"1\" class=\"dataframe\">\n",
       "  <thead>\n",
       "    <tr style=\"text-align: right;\">\n",
       "      <th></th>\n",
       "      <th>precision</th>\n",
       "      <th>recall</th>\n",
       "      <th>f1-score</th>\n",
       "      <th>support</th>\n",
       "    </tr>\n",
       "  </thead>\n",
       "  <tbody>\n",
       "    <tr>\n",
       "      <th>go</th>\n",
       "      <td>0.464828</td>\n",
       "      <td>0.767654</td>\n",
       "      <td>0.579038</td>\n",
       "      <td>439.000000</td>\n",
       "    </tr>\n",
       "    <tr>\n",
       "      <th>no</th>\n",
       "      <td>0.529880</td>\n",
       "      <td>0.283582</td>\n",
       "      <td>0.369444</td>\n",
       "      <td>469.000000</td>\n",
       "    </tr>\n",
       "    <tr>\n",
       "      <th>stop</th>\n",
       "      <td>0.709790</td>\n",
       "      <td>0.820202</td>\n",
       "      <td>0.761012</td>\n",
       "      <td>495.000000</td>\n",
       "    </tr>\n",
       "    <tr>\n",
       "      <th>yes</th>\n",
       "      <td>0.895184</td>\n",
       "      <td>0.634538</td>\n",
       "      <td>0.742656</td>\n",
       "      <td>498.000000</td>\n",
       "    </tr>\n",
       "    <tr>\n",
       "      <th>accuracy</th>\n",
       "      <td>0.627038</td>\n",
       "      <td>0.627038</td>\n",
       "      <td>0.627038</td>\n",
       "      <td>0.627038</td>\n",
       "    </tr>\n",
       "    <tr>\n",
       "      <th>macro avg</th>\n",
       "      <td>0.649921</td>\n",
       "      <td>0.626494</td>\n",
       "      <td>0.613038</td>\n",
       "      <td>1901.000000</td>\n",
       "    </tr>\n",
       "    <tr>\n",
       "      <th>weighted avg</th>\n",
       "      <td>0.657402</td>\n",
       "      <td>0.627038</td>\n",
       "      <td>0.617575</td>\n",
       "      <td>1901.000000</td>\n",
       "    </tr>\n",
       "  </tbody>\n",
       "</table>\n",
       "</div>"
      ],
      "text/plain": [
       "              precision    recall  f1-score      support\n",
       "go             0.464828  0.767654  0.579038   439.000000\n",
       "no             0.529880  0.283582  0.369444   469.000000\n",
       "stop           0.709790  0.820202  0.761012   495.000000\n",
       "yes            0.895184  0.634538  0.742656   498.000000\n",
       "accuracy       0.627038  0.627038  0.627038     0.627038\n",
       "macro avg      0.649921  0.626494  0.613038  1901.000000\n",
       "weighted avg   0.657402  0.627038  0.617575  1901.000000"
      ]
     },
     "execution_count": 27,
     "metadata": {},
     "output_type": "execute_result"
    }
   ],
   "source": [
    "pd.DataFrame.from_dict(report).T"
   ]
  },
  {
   "cell_type": "markdown",
   "id": "a8f29c2b",
   "metadata": {},
   "source": [
    "# 9. Save Model"
   ]
  },
  {
   "cell_type": "code",
   "execution_count": 28,
   "id": "cc102ce0",
   "metadata": {},
   "outputs": [],
   "source": [
    "### ???"
   ]
  }
 ],
 "metadata": {
  "kernelspec": {
   "display_name": "Python 3",
   "language": "python",
   "name": "python3"
  },
  "language_info": {
   "codemirror_mode": {
    "name": "ipython",
    "version": 3
   },
   "file_extension": ".py",
   "mimetype": "text/x-python",
   "name": "python",
   "nbconvert_exporter": "python",
   "pygments_lexer": "ipython3",
   "version": "3.8.8"
  }
 },
 "nbformat": 4,
 "nbformat_minor": 5
}
