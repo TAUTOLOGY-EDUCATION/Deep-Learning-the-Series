{
 "cells": [
  {
   "cell_type": "code",
   "execution_count": 1,
   "id": "a0980185",
   "metadata": {},
   "outputs": [],
   "source": [
    "# !pip install opencv-python"
   ]
  },
  {
   "cell_type": "code",
   "execution_count": 2,
   "id": "d5ec355c",
   "metadata": {},
   "outputs": [],
   "source": [
    "# !pip install librosa"
   ]
  },
  {
   "cell_type": "code",
   "execution_count": 3,
   "id": "4eded7a1",
   "metadata": {},
   "outputs": [],
   "source": [
    "import numpy as np\n",
    "import pandas as pd\n",
    "import pickle\n",
    "\n",
    "from glob import glob\n",
    "import librosa\n",
    "import cv2\n",
    "\n",
    "import warnings\n",
    "warnings.filterwarnings('ignore')"
   ]
  },
  {
   "cell_type": "code",
   "execution_count": 4,
   "id": "02458623",
   "metadata": {},
   "outputs": [],
   "source": [
    "import os\n",
    "import sys\n",
    "\n",
    "lib_path = os.path.abspath(\"../../../lib\")\n",
    "sys.path.append(lib_path)\n",
    "\n",
    "from easy_keras import KerasMLPClassifier, load_model"
   ]
  },
  {
   "cell_type": "code",
   "execution_count": 5,
   "id": "85308db5",
   "metadata": {},
   "outputs": [],
   "source": [
    "clf = load_model(KerasMLPClassifier, 'voice_command_model')"
   ]
  },
  {
   "cell_type": "code",
   "execution_count": 6,
   "id": "5ce98de5",
   "metadata": {},
   "outputs": [],
   "source": [
    "saved_env = pickle.load(open('voice_command_env.pickle', 'rb'))"
   ]
  },
  {
   "cell_type": "code",
   "execution_count": 7,
   "id": "278c1a07",
   "metadata": {},
   "outputs": [],
   "source": [
    "scaler = saved_env"
   ]
  },
  {
   "cell_type": "code",
   "execution_count": 8,
   "id": "801a34a2",
   "metadata": {},
   "outputs": [],
   "source": [
    "def get_img(voice_data, sampling_data, mode):\n",
    "    if mode == 'spec':\n",
    "        stft = np.abs(librosa.core.spectrum.stft(voice_data))\n",
    "        return librosa.amplitude_to_db(stft, ref=np.max)\n",
    "    elif mode == 'mel':\n",
    "        stft = np.abs(librosa.feature.melspectrogram(voice_data))\n",
    "        return librosa.amplitude_to_db(stft, ref=np.max)\n",
    "    elif mode == 'chrom':\n",
    "        stft = np.abs(librosa.core.spectrum.stft(voice_data))\n",
    "        return librosa.feature.chroma_stft(S=stft, sr=sampling_rate)"
   ]
  },
  {
   "cell_type": "code",
   "execution_count": 9,
   "id": "412a6b22",
   "metadata": {},
   "outputs": [],
   "source": [
    "import librosa.display"
   ]
  },
  {
   "cell_type": "code",
   "execution_count": 10,
   "id": "8d8b49d9",
   "metadata": {},
   "outputs": [
    {
     "data": {
      "text/plain": [
       "<matplotlib.collections.QuadMesh at 0x15372c730>"
      ]
     },
     "execution_count": 10,
     "metadata": {},
     "output_type": "execute_result"
    },
    {
     "data": {
      "image/png": "[encoded data removed]",
      "text/plain": [
       "<Figure size 432x288 with 1 Axes>"
      ]
     },
     "metadata": {
      "needs_background": "light"
     },
     "output_type": "display_data"
    }
   ],
   "source": [
    "mode = 'mel'\n",
    "\n",
    "sound_path = glob('../sound_to_csv/dataset/stop/*')[1]\n",
    "voice_data, sampling_rate = librosa.load(sound_path)\n",
    "incoming_data = get_img(voice_data, sampling_rate, mode)\n",
    "\n",
    "librosa.display.specshow(incoming_data, sr=sampling_rate, x_axis='time', y_axis='hz')"
   ]
  },
  {
   "cell_type": "code",
   "execution_count": 11,
   "id": "ec355e58",
   "metadata": {},
   "outputs": [
    {
     "data": {
      "text/plain": [
       "array([[1.1347514e-07, 1.1347514e-07, 1.1347514e-07, ..., 1.1347514e-07,\n",
       "        1.1347514e-07, 1.1347514e-07]], dtype=float32)"
      ]
     },
     "execution_count": 11,
     "metadata": {},
     "output_type": "execute_result"
    }
   ],
   "source": [
    "width = 256\n",
    "height = 32\n",
    "\n",
    "incoming_data = cv2.resize(incoming_data, dsize=(width, height))\n",
    "incoming_data = incoming_data.reshape(1, -1)\n",
    "incoming_data_scaled = scaler.transform(incoming_data)\n",
    "\n",
    "incoming_data_scaled"
   ]
  },
  {
   "cell_type": "markdown",
   "id": "f53c7b82",
   "metadata": {},
   "source": [
    "### Prediction"
   ]
  },
  {
   "cell_type": "code",
   "execution_count": 12,
   "id": "1ce825c2",
   "metadata": {},
   "outputs": [],
   "source": [
    "predicted_target = clf.predict(incoming_data_scaled)"
   ]
  },
  {
   "cell_type": "code",
   "execution_count": 13,
   "id": "02f4916c",
   "metadata": {},
   "outputs": [
    {
     "data": {
      "text/plain": [
       "array([['stop']], dtype=object)"
      ]
     },
     "execution_count": 13,
     "metadata": {},
     "output_type": "execute_result"
    }
   ],
   "source": [
    "predicted_target"
   ]
  },
  {
   "cell_type": "code",
   "execution_count": null,
   "id": "c83817be",
   "metadata": {},
   "outputs": [],
   "source": []
  }
 ],
 "metadata": {
  "kernelspec": {
   "display_name": "Python 3",
   "language": "python",
   "name": "python3"
  },
  "language_info": {
   "codemirror_mode": {
    "name": "ipython",
    "version": 3
   },
   "file_extension": ".py",
   "mimetype": "text/x-python",
   "name": "python",
   "nbconvert_exporter": "python",
   "pygments_lexer": "ipython3",
   "version": "3.8.8"
  }
 },
 "nbformat": 4,
 "nbformat_minor": 5
}
