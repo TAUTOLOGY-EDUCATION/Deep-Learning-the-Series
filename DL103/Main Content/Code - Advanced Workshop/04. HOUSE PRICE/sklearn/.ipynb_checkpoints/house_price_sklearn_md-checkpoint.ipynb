{
 "cells": [
  {
   "cell_type": "code",
   "execution_count": 1,
   "id": "a8478d19",
   "metadata": {},
   "outputs": [],
   "source": [
    "import numpy as np\n",
    "import pandas as pd\n",
    "import pickle"
   ]
  },
  {
   "cell_type": "code",
   "execution_count": 2,
   "id": "b9603b3b",
   "metadata": {},
   "outputs": [],
   "source": [
    "saved_model = pickle.load(open('house_price_model.pickle', 'rb'))"
   ]
  },
  {
   "cell_type": "code",
   "execution_count": 3,
   "id": "e3fc9f7c",
   "metadata": {},
   "outputs": [],
   "source": [
    "reg = saved_model[0]\n",
    "one_hot_encoder = saved_model[1]\n",
    "scaler = saved_model[2]\n",
    "feature_name = saved_model[3]\n",
    "numerical_feature = saved_model[4]\n",
    "ordinal_feature = saved_model[5]\n",
    "nominal_feature = saved_model[6]"
   ]
  },
  {
   "cell_type": "code",
   "execution_count": 4,
   "id": "175d2d8a",
   "metadata": {},
   "outputs": [
    {
     "data": {
      "text/plain": [
       "['MSSubClass',\n",
       " 'MSZoning',\n",
       " 'LotFrontage',\n",
       " 'LotArea',\n",
       " 'Street',\n",
       " 'LotShape',\n",
       " 'LandContour',\n",
       " 'Utilities',\n",
       " 'LotConfig',\n",
       " 'LandSlope',\n",
       " 'Neighborhood',\n",
       " 'Condition1',\n",
       " 'Condition2',\n",
       " 'BldgType',\n",
       " 'HouseStyle',\n",
       " 'OverallQual',\n",
       " 'OverallCond',\n",
       " 'YearBuilt',\n",
       " 'YearRemodAdd',\n",
       " 'RoofStyle',\n",
       " 'RoofMatl',\n",
       " 'Exterior1st',\n",
       " 'Exterior2nd',\n",
       " 'MasVnrType',\n",
       " 'MasVnrArea',\n",
       " 'ExterQual',\n",
       " 'ExterCond',\n",
       " 'Foundation',\n",
       " 'BsmtQual',\n",
       " 'BsmtCond',\n",
       " 'BsmtExposure',\n",
       " 'BsmtFinType1',\n",
       " 'BsmtFinSF1',\n",
       " 'BsmtFinType2',\n",
       " 'BsmtFinSF2',\n",
       " 'BsmtUnfSF',\n",
       " 'TotalBsmtSF',\n",
       " 'Heating',\n",
       " 'HeatingQC',\n",
       " 'CentralAir',\n",
       " 'Electrical',\n",
       " '1stFlrSF',\n",
       " '2ndFlrSF',\n",
       " 'LowQualFinSF',\n",
       " 'GrLivArea',\n",
       " 'BsmtFullBath',\n",
       " 'BsmtHalfBath',\n",
       " 'FullBath',\n",
       " 'HalfBath',\n",
       " 'BedroomAbvGr',\n",
       " 'KitchenAbvGr',\n",
       " 'KitchenQual',\n",
       " 'TotRmsAbvGrd',\n",
       " 'Functional',\n",
       " 'Fireplaces',\n",
       " 'GarageType',\n",
       " 'GarageYrBlt',\n",
       " 'GarageFinish',\n",
       " 'GarageCars',\n",
       " 'GarageArea',\n",
       " 'GarageQual',\n",
       " 'GarageCond',\n",
       " 'PavedDrive',\n",
       " 'WoodDeckSF',\n",
       " 'OpenPorchSF',\n",
       " 'EnclosedPorch',\n",
       " '3SsnPorch',\n",
       " 'ScreenPorch',\n",
       " 'PoolArea',\n",
       " 'MiscVal',\n",
       " 'MoSold',\n",
       " 'YrSold',\n",
       " 'SaleType',\n",
       " 'SaleCondition']"
      ]
     },
     "execution_count": 4,
     "metadata": {},
     "output_type": "execute_result"
    }
   ],
   "source": [
    "feature_name"
   ]
  },
  {
   "cell_type": "code",
   "execution_count": 5,
   "id": "7c6825e6",
   "metadata": {},
   "outputs": [],
   "source": [
    "MSSubClass = 50\n",
    "MSZoning = 'RM'\n",
    "LotFrontage = 50\n",
    "LotArea = 8635\n",
    "Street = 'Pave'\n",
    "LotShape = 'Reg'\n",
    "LandContour = 'Lvl'\n",
    "Utilities = 'AllPub'\n",
    "LotConfig = 'Inside'\n",
    "LandSlope = 'Gtl'\n",
    "Neighborhood = 'BrkSide'\n",
    "Condition1 = 'Norm'\n",
    "Condition2 = 'Norm'\n",
    "BldgType = '1Fam'\n",
    "HouseStyle = '1.5Fin'\n",
    "OverallQual = 5\n",
    "OverallCond = 5\n",
    "YearBuilt = 1948\n",
    "YearRemodAdd = 2001\n",
    "RoofStyle = 'Gable'\n",
    "RoofMatl = 'CompShg'\n",
    "Exterior1st = 'Wd Sdng'\n",
    "Exterior2nd = 'Wd Sdng'\n",
    "MasVnrType = 'None'\n",
    "MasVnrArea = 0\n",
    "ExterQual = 'TA'\n",
    "ExterCond = 'TA'\n",
    "Foundation = 'CBlock'\n",
    "BsmtQual = 'TA'\n",
    "BsmtCond = 'TA'\n",
    "BsmtExposure = 'No'\n",
    "BsmtFinType1 = 'BLQ'\n",
    "BsmtFinSF1 = 336\n",
    "BsmtFinType2 = 'GLQ'\n",
    "BsmtFinSF2 = 41\n",
    "BsmtUnfSF = 295\n",
    "TotalBsmtSF = 672\n",
    "Heating = 'GasA'\n",
    "HeatingQC = 'TA'\n",
    "CentralAir = 'Y'\n",
    "Electrical = 'SBrkr'\n",
    "_1stFlrSF = 1072\n",
    "_2ndFlrSF = 213\n",
    "LowQualFinSF = 0\n",
    "GrLivArea = 1285\n",
    "BsmtFullBath = 1\n",
    "BsmtHalfBath = 0\n",
    "FullBath = 1\n",
    "HalfBath = 0\n",
    "BedroomAbvGr = 2\n",
    "KitchenAbvGr = 1\n",
    "KitchenQual = 'TA'\n",
    "TotRmsAbvGrd = 6\n",
    "Functional = 'Min1'\n",
    "Fireplaces = 0\n",
    "GarageType = 'Detchd'\n",
    "GarageYrBlt = 1948\n",
    "GarageFinish = 'Unf'\n",
    "GarageCars = 1\n",
    "GarageArea = 240\n",
    "GarageQual = 'TA'\n",
    "GarageCond = 'TA'\n",
    "PavedDrive = 'Y'\n",
    "WoodDeckSF = 0\n",
    "OpenPorchSF = 0\n",
    "EnclosedPorch = 0\n",
    "_3SsnPorch = 0\n",
    "ScreenPorch = 0\n",
    "PoolArea = 0\n",
    "MiscVal = 0\n",
    "MoSold = 1\n",
    "YrSold = 2008\n",
    "SaleType = 'WD'\n",
    "SaleConditio = 'Normal'"
   ]
  },
  {
   "cell_type": "code",
   "execution_count": 6,
   "id": "d65ea0e2",
   "metadata": {},
   "outputs": [
    {
     "data": {
      "text/html": [
       "<div>\n",
       "<style scoped>\n",
       "    .dataframe tbody tr th:only-of-type {\n",
       "        vertical-align: middle;\n",
       "    }\n",
       "\n",
       "    .dataframe tbody tr th {\n",
       "        vertical-align: top;\n",
       "    }\n",
       "\n",
       "    .dataframe thead th {\n",
       "        text-align: right;\n",
       "    }\n",
       "</style>\n",
       "<table border=\"1\" class=\"dataframe\">\n",
       "  <thead>\n",
       "    <tr style=\"text-align: right;\">\n",
       "      <th></th>\n",
       "      <th>MSSubClass</th>\n",
       "      <th>MSZoning</th>\n",
       "      <th>LotFrontage</th>\n",
       "      <th>LotArea</th>\n",
       "      <th>Street</th>\n",
       "      <th>LotShape</th>\n",
       "      <th>LandContour</th>\n",
       "      <th>Utilities</th>\n",
       "      <th>LotConfig</th>\n",
       "      <th>LandSlope</th>\n",
       "      <th>...</th>\n",
       "      <th>OpenPorchSF</th>\n",
       "      <th>EnclosedPorch</th>\n",
       "      <th>3SsnPorch</th>\n",
       "      <th>ScreenPorch</th>\n",
       "      <th>PoolArea</th>\n",
       "      <th>MiscVal</th>\n",
       "      <th>MoSold</th>\n",
       "      <th>YrSold</th>\n",
       "      <th>SaleType</th>\n",
       "      <th>SaleCondition</th>\n",
       "    </tr>\n",
       "  </thead>\n",
       "  <tbody>\n",
       "    <tr>\n",
       "      <th>0</th>\n",
       "      <td>50</td>\n",
       "      <td>RM</td>\n",
       "      <td>50</td>\n",
       "      <td>8635</td>\n",
       "      <td>Pave</td>\n",
       "      <td>Reg</td>\n",
       "      <td>Lvl</td>\n",
       "      <td>AllPub</td>\n",
       "      <td>Inside</td>\n",
       "      <td>Gtl</td>\n",
       "      <td>...</td>\n",
       "      <td>0</td>\n",
       "      <td>0</td>\n",
       "      <td>0</td>\n",
       "      <td>0</td>\n",
       "      <td>0</td>\n",
       "      <td>0</td>\n",
       "      <td>1</td>\n",
       "      <td>2008</td>\n",
       "      <td>WD</td>\n",
       "      <td>Normal</td>\n",
       "    </tr>\n",
       "  </tbody>\n",
       "</table>\n",
       "<p>1 rows × 74 columns</p>\n",
       "</div>"
      ],
      "text/plain": [
       "  MSSubClass MSZoning LotFrontage LotArea Street LotShape LandContour  \\\n",
       "0         50       RM          50    8635   Pave      Reg         Lvl   \n",
       "\n",
       "  Utilities LotConfig LandSlope  ... OpenPorchSF EnclosedPorch 3SsnPorch  \\\n",
       "0    AllPub    Inside       Gtl  ...           0             0         0   \n",
       "\n",
       "  ScreenPorch PoolArea MiscVal MoSold YrSold SaleType SaleCondition  \n",
       "0           0        0       0      1   2008       WD        Normal  \n",
       "\n",
       "[1 rows x 74 columns]"
      ]
     },
     "execution_count": 6,
     "metadata": {},
     "output_type": "execute_result"
    }
   ],
   "source": [
    "incoming_data = pd.DataFrame(np.array([[MSSubClass, MSZoning, LotFrontage, LotArea, \n",
    "                                        Street, LotShape, LandContour, Utilities, \n",
    "                                        LotConfig, LandSlope, Neighborhood, Condition1, \n",
    "                                        Condition2, BldgType, HouseStyle, OverallQual, \n",
    "                                        OverallCond, YearBuilt, YearRemodAdd, RoofStyle, \n",
    "                                        RoofMatl, Exterior1st, Exterior2nd, MasVnrType, \n",
    "                                        MasVnrArea, ExterQual, ExterCond, Foundation, \n",
    "                                        BsmtQual, BsmtCond, BsmtExposure, BsmtFinType1, \n",
    "                                        BsmtFinSF1, BsmtFinType2, BsmtFinSF2, BsmtUnfSF, \n",
    "                                        TotalBsmtSF, Heating, HeatingQC, CentralAir, \n",
    "                                        Electrical, _1stFlrSF, _2ndFlrSF, LowQualFinSF, \n",
    "                                        GrLivArea, BsmtFullBath, BsmtHalfBath, FullBath, \n",
    "                                        HalfBath, BedroomAbvGr, KitchenAbvGr, KitchenQual, \n",
    "                                        TotRmsAbvGrd, Functional, Fireplaces, GarageType, \n",
    "                                        GarageYrBlt, GarageFinish, GarageCars, GarageArea, \n",
    "                                        GarageQual, GarageCond, PavedDrive, WoodDeckSF, \n",
    "                                        OpenPorchSF, EnclosedPorch, _3SsnPorch, ScreenPorch, \n",
    "                                        PoolArea, MiscVal, MoSold, YrSold, SaleType, \n",
    "                                        SaleConditio, ]]), \n",
    "                             columns=feature_name)\n",
    "\n",
    "incoming_data"
   ]
  },
  {
   "cell_type": "code",
   "execution_count": 7,
   "id": "01676150",
   "metadata": {},
   "outputs": [
    {
     "name": "stdout",
     "output_type": "stream",
     "text": [
      "numerical_feature : ['MSSubClass', 'LotFrontage', 'LotArea', 'OverallQual', 'OverallCond', 'YearBuilt', 'YearRemodAdd', 'MasVnrArea', 'BsmtFinSF1', 'BsmtFinSF2', 'BsmtUnfSF', 'TotalBsmtSF', '1stFlrSF', '2ndFlrSF', 'LowQualFinSF', 'GrLivArea', 'BsmtFullBath', 'BsmtHalfBath', 'FullBath', 'HalfBath', 'BedroomAbvGr', 'KitchenAbvGr', 'TotRmsAbvGrd', 'Fireplaces', 'GarageYrBlt', 'GarageCars', 'GarageArea', 'WoodDeckSF', 'OpenPorchSF', 'EnclosedPorch', '3SsnPorch', 'ScreenPorch', 'PoolArea', 'MiscVal', 'MoSold', 'YrSold']\n",
      "ordinal_feature : []\n",
      "nominal_feature : ['MSZoning', 'Street', 'LotShape', 'LandContour', 'Utilities', 'LotConfig', 'LandSlope', 'Neighborhood', 'Condition1', 'Condition2', 'BldgType', 'HouseStyle', 'RoofStyle', 'RoofMatl', 'Exterior1st', 'Exterior2nd', 'MasVnrType', 'ExterQual', 'ExterCond', 'Foundation', 'BsmtQual', 'BsmtCond', 'BsmtExposure', 'BsmtFinType1', 'BsmtFinType2', 'Heating', 'HeatingQC', 'CentralAir', 'Electrical', 'KitchenQual', 'Functional', 'GarageType', 'GarageFinish', 'GarageQual', 'GarageCond', 'PavedDrive', 'SaleType', 'SaleCondition']\n"
     ]
    }
   ],
   "source": [
    "print('numerical_feature :', numerical_feature)\n",
    "print('ordinal_feature :', ordinal_feature)\n",
    "print('nominal_feature :', nominal_feature)"
   ]
  },
  {
   "cell_type": "markdown",
   "id": "ee3f53f1",
   "metadata": {},
   "source": [
    "### One Hot Encoding"
   ]
  },
  {
   "cell_type": "code",
   "execution_count": 8,
   "id": "e285dcd9",
   "metadata": {},
   "outputs": [],
   "source": [
    "one_hot_feature = []\n",
    "for i, feature in enumerate(nominal_feature):\n",
    "    for cate in one_hot_encoder.categories_[i]:\n",
    "        one_hot_feature_name = str(feature) + '_' + str(cate)\n",
    "        one_hot_feature.append(one_hot_feature_name)\n",
    "\n",
    "incoming_data[one_hot_feature] = one_hot_encoder.transform(incoming_data[nominal_feature])\n",
    "incoming_data.drop(nominal_feature, axis=1, inplace=True)"
   ]
  },
  {
   "cell_type": "code",
   "execution_count": 9,
   "id": "9a949188",
   "metadata": {},
   "outputs": [
    {
     "data": {
      "text/html": [
       "<div>\n",
       "<style scoped>\n",
       "    .dataframe tbody tr th:only-of-type {\n",
       "        vertical-align: middle;\n",
       "    }\n",
       "\n",
       "    .dataframe tbody tr th {\n",
       "        vertical-align: top;\n",
       "    }\n",
       "\n",
       "    .dataframe thead th {\n",
       "        text-align: right;\n",
       "    }\n",
       "</style>\n",
       "<table border=\"1\" class=\"dataframe\">\n",
       "  <thead>\n",
       "    <tr style=\"text-align: right;\">\n",
       "      <th></th>\n",
       "      <th>MSSubClass</th>\n",
       "      <th>LotFrontage</th>\n",
       "      <th>LotArea</th>\n",
       "      <th>OverallQual</th>\n",
       "      <th>OverallCond</th>\n",
       "      <th>YearBuilt</th>\n",
       "      <th>YearRemodAdd</th>\n",
       "      <th>MasVnrArea</th>\n",
       "      <th>BsmtFinSF1</th>\n",
       "      <th>BsmtFinSF2</th>\n",
       "      <th>...</th>\n",
       "      <th>SaleType_ConLD</th>\n",
       "      <th>SaleType_ConLI</th>\n",
       "      <th>SaleType_ConLw</th>\n",
       "      <th>SaleType_New</th>\n",
       "      <th>SaleType_WD</th>\n",
       "      <th>SaleCondition_Abnorml</th>\n",
       "      <th>SaleCondition_Alloca</th>\n",
       "      <th>SaleCondition_Family</th>\n",
       "      <th>SaleCondition_Normal</th>\n",
       "      <th>SaleCondition_Partial</th>\n",
       "    </tr>\n",
       "  </thead>\n",
       "  <tbody>\n",
       "    <tr>\n",
       "      <th>0</th>\n",
       "      <td>50</td>\n",
       "      <td>50</td>\n",
       "      <td>8635</td>\n",
       "      <td>5</td>\n",
       "      <td>5</td>\n",
       "      <td>1948</td>\n",
       "      <td>2001</td>\n",
       "      <td>0</td>\n",
       "      <td>336</td>\n",
       "      <td>41</td>\n",
       "      <td>...</td>\n",
       "      <td>0.0</td>\n",
       "      <td>0.0</td>\n",
       "      <td>0.0</td>\n",
       "      <td>0.0</td>\n",
       "      <td>1.0</td>\n",
       "      <td>0.0</td>\n",
       "      <td>0.0</td>\n",
       "      <td>0.0</td>\n",
       "      <td>1.0</td>\n",
       "      <td>0.0</td>\n",
       "    </tr>\n",
       "  </tbody>\n",
       "</table>\n",
       "<p>1 rows × 251 columns</p>\n",
       "</div>"
      ],
      "text/plain": [
       "  MSSubClass LotFrontage LotArea OverallQual OverallCond YearBuilt  \\\n",
       "0         50          50    8635           5           5      1948   \n",
       "\n",
       "  YearRemodAdd MasVnrArea BsmtFinSF1 BsmtFinSF2  ... SaleType_ConLD  \\\n",
       "0         2001          0        336         41  ...            0.0   \n",
       "\n",
       "  SaleType_ConLI SaleType_ConLw SaleType_New SaleType_WD  \\\n",
       "0            0.0            0.0          0.0         1.0   \n",
       "\n",
       "  SaleCondition_Abnorml SaleCondition_Alloca SaleCondition_Family  \\\n",
       "0                   0.0                  0.0                  0.0   \n",
       "\n",
       "  SaleCondition_Normal SaleCondition_Partial  \n",
       "0                  1.0                   0.0  \n",
       "\n",
       "[1 rows x 251 columns]"
      ]
     },
     "execution_count": 9,
     "metadata": {},
     "output_type": "execute_result"
    }
   ],
   "source": [
    "incoming_data"
   ]
  },
  {
   "cell_type": "markdown",
   "id": "edd0b8be",
   "metadata": {},
   "source": [
    "### Feature Scaling"
   ]
  },
  {
   "cell_type": "code",
   "execution_count": 10,
   "id": "81722698",
   "metadata": {},
   "outputs": [],
   "source": [
    "incoming_data_scaled = scaler.transform(incoming_data)"
   ]
  },
  {
   "cell_type": "markdown",
   "id": "5a00e4ea",
   "metadata": {},
   "source": [
    "### Prediction"
   ]
  },
  {
   "cell_type": "code",
   "execution_count": 11,
   "id": "3aee73e9",
   "metadata": {},
   "outputs": [],
   "source": [
    "predicted_target = reg.predict(incoming_data_scaled)"
   ]
  },
  {
   "cell_type": "code",
   "execution_count": 12,
   "id": "9c4908b5",
   "metadata": {},
   "outputs": [
    {
     "data": {
      "text/plain": [
       "array([126366.52373592])"
      ]
     },
     "execution_count": 12,
     "metadata": {},
     "output_type": "execute_result"
    }
   ],
   "source": [
    "predicted_target"
   ]
  }
 ],
 "metadata": {
  "kernelspec": {
   "display_name": "Python 3",
   "language": "python",
   "name": "python3"
  },
  "language_info": {
   "codemirror_mode": {
    "name": "ipython",
    "version": 3
   },
   "file_extension": ".py",
   "mimetype": "text/x-python",
   "name": "python",
   "nbconvert_exporter": "python",
   "pygments_lexer": "ipython3",
   "version": "3.8.8"
  }
 },
 "nbformat": 4,
 "nbformat_minor": 5
}
