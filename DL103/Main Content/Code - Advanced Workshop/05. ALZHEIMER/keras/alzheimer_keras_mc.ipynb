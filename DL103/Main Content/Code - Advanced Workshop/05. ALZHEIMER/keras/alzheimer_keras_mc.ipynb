{
 "cells": [
  {
   "cell_type": "markdown",
   "id": "34d05e66",
   "metadata": {},
   "source": [
    "# 1. Import Libraries"
   ]
  },
  {
   "cell_type": "code",
   "execution_count": 1,
   "id": "b6eb937e",
   "metadata": {},
   "outputs": [],
   "source": [
    "import numpy as np\n",
    "import pandas as pd\n",
    "import matplotlib.pyplot as plt\n",
    "import random\n",
    "\n",
    "from sklearn.model_selection import train_test_split\n",
    "from sklearn.preprocessing import (\n",
    "    OrdinalEncoder, \n",
    "    OneHotEncoder, \n",
    "    StandardScaler, \n",
    "    MinMaxScaler\n",
    ")\n",
    "import tensorflow as tf\n",
    "from sklearn.metrics import confusion_matrix, classification_report\n",
    "\n",
    "import warnings\n",
    "warnings.filterwarnings('ignore')"
   ]
  },
  {
   "cell_type": "code",
   "execution_count": 2,
   "id": "e11f1002",
   "metadata": {},
   "outputs": [],
   "source": [
    "import os\n",
    "import sys\n",
    "\n",
    "lib_path = os.path.abspath('../../../lib')\n",
    "sys.path.append(lib_path)\n",
    "\n",
    "from easy_keras import KerasMLPClassifier, make_confusion_matrix"
   ]
  },
  {
   "cell_type": "code",
   "execution_count": 3,
   "id": "bac6c345",
   "metadata": {},
   "outputs": [],
   "source": [
    "seed = 12345\n",
    "\n",
    "random.seed(seed)\n",
    "np.random.seed(seed)\n",
    "tf.random.set_seed(seed)"
   ]
  },
  {
   "cell_type": "markdown",
   "id": "f951c82c",
   "metadata": {},
   "source": [
    "# 2. Read Data"
   ]
  },
  {
   "cell_type": "code",
   "execution_count": 4,
   "id": "390fd94e",
   "metadata": {},
   "outputs": [
    {
     "data": {
      "text/html": [
       "<div>\n",
       "<style scoped>\n",
       "    .dataframe tbody tr th:only-of-type {\n",
       "        vertical-align: middle;\n",
       "    }\n",
       "\n",
       "    .dataframe tbody tr th {\n",
       "        vertical-align: top;\n",
       "    }\n",
       "\n",
       "    .dataframe thead th {\n",
       "        text-align: right;\n",
       "    }\n",
       "</style>\n",
       "<table border=\"1\" class=\"dataframe\">\n",
       "  <thead>\n",
       "    <tr style=\"text-align: right;\">\n",
       "      <th></th>\n",
       "      <th>pixel_0</th>\n",
       "      <th>pixel_1</th>\n",
       "      <th>pixel_2</th>\n",
       "      <th>pixel_3</th>\n",
       "      <th>pixel_4</th>\n",
       "      <th>pixel_5</th>\n",
       "      <th>pixel_6</th>\n",
       "      <th>pixel_7</th>\n",
       "      <th>pixel_8</th>\n",
       "      <th>pixel_9</th>\n",
       "      <th>...</th>\n",
       "      <th>pixel_36599</th>\n",
       "      <th>pixel_36600</th>\n",
       "      <th>pixel_36601</th>\n",
       "      <th>pixel_36602</th>\n",
       "      <th>pixel_36603</th>\n",
       "      <th>pixel_36604</th>\n",
       "      <th>pixel_36605</th>\n",
       "      <th>pixel_36606</th>\n",
       "      <th>pixel_36607</th>\n",
       "      <th>label</th>\n",
       "    </tr>\n",
       "  </thead>\n",
       "  <tbody>\n",
       "    <tr>\n",
       "      <th>0</th>\n",
       "      <td>0.0</td>\n",
       "      <td>0.0</td>\n",
       "      <td>0.0</td>\n",
       "      <td>0.0</td>\n",
       "      <td>0.0</td>\n",
       "      <td>0.0</td>\n",
       "      <td>0.0</td>\n",
       "      <td>0.0</td>\n",
       "      <td>0.0</td>\n",
       "      <td>0.0</td>\n",
       "      <td>...</td>\n",
       "      <td>0.0</td>\n",
       "      <td>0.0</td>\n",
       "      <td>0.0</td>\n",
       "      <td>0.0</td>\n",
       "      <td>0.0</td>\n",
       "      <td>0.0</td>\n",
       "      <td>0.0</td>\n",
       "      <td>0.0</td>\n",
       "      <td>0.0</td>\n",
       "      <td>1.0</td>\n",
       "    </tr>\n",
       "    <tr>\n",
       "      <th>1</th>\n",
       "      <td>0.0</td>\n",
       "      <td>0.0</td>\n",
       "      <td>0.0</td>\n",
       "      <td>0.0</td>\n",
       "      <td>0.0</td>\n",
       "      <td>0.0</td>\n",
       "      <td>0.0</td>\n",
       "      <td>0.0</td>\n",
       "      <td>0.0</td>\n",
       "      <td>0.0</td>\n",
       "      <td>...</td>\n",
       "      <td>0.0</td>\n",
       "      <td>0.0</td>\n",
       "      <td>0.0</td>\n",
       "      <td>0.0</td>\n",
       "      <td>0.0</td>\n",
       "      <td>0.0</td>\n",
       "      <td>0.0</td>\n",
       "      <td>0.0</td>\n",
       "      <td>0.0</td>\n",
       "      <td>1.0</td>\n",
       "    </tr>\n",
       "    <tr>\n",
       "      <th>2</th>\n",
       "      <td>0.0</td>\n",
       "      <td>0.0</td>\n",
       "      <td>0.0</td>\n",
       "      <td>0.0</td>\n",
       "      <td>0.0</td>\n",
       "      <td>0.0</td>\n",
       "      <td>0.0</td>\n",
       "      <td>0.0</td>\n",
       "      <td>0.0</td>\n",
       "      <td>0.0</td>\n",
       "      <td>...</td>\n",
       "      <td>0.0</td>\n",
       "      <td>0.0</td>\n",
       "      <td>0.0</td>\n",
       "      <td>0.0</td>\n",
       "      <td>0.0</td>\n",
       "      <td>0.0</td>\n",
       "      <td>0.0</td>\n",
       "      <td>0.0</td>\n",
       "      <td>0.0</td>\n",
       "      <td>1.0</td>\n",
       "    </tr>\n",
       "    <tr>\n",
       "      <th>3</th>\n",
       "      <td>0.0</td>\n",
       "      <td>0.0</td>\n",
       "      <td>0.0</td>\n",
       "      <td>0.0</td>\n",
       "      <td>0.0</td>\n",
       "      <td>0.0</td>\n",
       "      <td>0.0</td>\n",
       "      <td>0.0</td>\n",
       "      <td>0.0</td>\n",
       "      <td>0.0</td>\n",
       "      <td>...</td>\n",
       "      <td>0.0</td>\n",
       "      <td>0.0</td>\n",
       "      <td>0.0</td>\n",
       "      <td>0.0</td>\n",
       "      <td>0.0</td>\n",
       "      <td>0.0</td>\n",
       "      <td>0.0</td>\n",
       "      <td>0.0</td>\n",
       "      <td>0.0</td>\n",
       "      <td>1.0</td>\n",
       "    </tr>\n",
       "    <tr>\n",
       "      <th>4</th>\n",
       "      <td>0.0</td>\n",
       "      <td>0.0</td>\n",
       "      <td>0.0</td>\n",
       "      <td>0.0</td>\n",
       "      <td>0.0</td>\n",
       "      <td>0.0</td>\n",
       "      <td>0.0</td>\n",
       "      <td>0.0</td>\n",
       "      <td>0.0</td>\n",
       "      <td>0.0</td>\n",
       "      <td>...</td>\n",
       "      <td>0.0</td>\n",
       "      <td>0.0</td>\n",
       "      <td>0.0</td>\n",
       "      <td>0.0</td>\n",
       "      <td>0.0</td>\n",
       "      <td>0.0</td>\n",
       "      <td>0.0</td>\n",
       "      <td>0.0</td>\n",
       "      <td>0.0</td>\n",
       "      <td>1.0</td>\n",
       "    </tr>\n",
       "    <tr>\n",
       "      <th>...</th>\n",
       "      <td>...</td>\n",
       "      <td>...</td>\n",
       "      <td>...</td>\n",
       "      <td>...</td>\n",
       "      <td>...</td>\n",
       "      <td>...</td>\n",
       "      <td>...</td>\n",
       "      <td>...</td>\n",
       "      <td>...</td>\n",
       "      <td>...</td>\n",
       "      <td>...</td>\n",
       "      <td>...</td>\n",
       "      <td>...</td>\n",
       "      <td>...</td>\n",
       "      <td>...</td>\n",
       "      <td>...</td>\n",
       "      <td>...</td>\n",
       "      <td>...</td>\n",
       "      <td>...</td>\n",
       "      <td>...</td>\n",
       "      <td>...</td>\n",
       "    </tr>\n",
       "    <tr>\n",
       "      <th>5116</th>\n",
       "      <td>0.0</td>\n",
       "      <td>0.0</td>\n",
       "      <td>0.0</td>\n",
       "      <td>0.0</td>\n",
       "      <td>0.0</td>\n",
       "      <td>0.0</td>\n",
       "      <td>0.0</td>\n",
       "      <td>0.0</td>\n",
       "      <td>0.0</td>\n",
       "      <td>0.0</td>\n",
       "      <td>...</td>\n",
       "      <td>0.0</td>\n",
       "      <td>0.0</td>\n",
       "      <td>0.0</td>\n",
       "      <td>0.0</td>\n",
       "      <td>0.0</td>\n",
       "      <td>0.0</td>\n",
       "      <td>0.0</td>\n",
       "      <td>0.0</td>\n",
       "      <td>0.0</td>\n",
       "      <td>1.0</td>\n",
       "    </tr>\n",
       "    <tr>\n",
       "      <th>5117</th>\n",
       "      <td>0.0</td>\n",
       "      <td>0.0</td>\n",
       "      <td>0.0</td>\n",
       "      <td>0.0</td>\n",
       "      <td>0.0</td>\n",
       "      <td>0.0</td>\n",
       "      <td>0.0</td>\n",
       "      <td>0.0</td>\n",
       "      <td>0.0</td>\n",
       "      <td>0.0</td>\n",
       "      <td>...</td>\n",
       "      <td>0.0</td>\n",
       "      <td>0.0</td>\n",
       "      <td>0.0</td>\n",
       "      <td>0.0</td>\n",
       "      <td>0.0</td>\n",
       "      <td>0.0</td>\n",
       "      <td>0.0</td>\n",
       "      <td>0.0</td>\n",
       "      <td>0.0</td>\n",
       "      <td>1.0</td>\n",
       "    </tr>\n",
       "    <tr>\n",
       "      <th>5118</th>\n",
       "      <td>0.0</td>\n",
       "      <td>0.0</td>\n",
       "      <td>0.0</td>\n",
       "      <td>0.0</td>\n",
       "      <td>0.0</td>\n",
       "      <td>0.0</td>\n",
       "      <td>0.0</td>\n",
       "      <td>0.0</td>\n",
       "      <td>0.0</td>\n",
       "      <td>0.0</td>\n",
       "      <td>...</td>\n",
       "      <td>0.0</td>\n",
       "      <td>0.0</td>\n",
       "      <td>0.0</td>\n",
       "      <td>0.0</td>\n",
       "      <td>0.0</td>\n",
       "      <td>0.0</td>\n",
       "      <td>0.0</td>\n",
       "      <td>0.0</td>\n",
       "      <td>0.0</td>\n",
       "      <td>1.0</td>\n",
       "    </tr>\n",
       "    <tr>\n",
       "      <th>5119</th>\n",
       "      <td>0.0</td>\n",
       "      <td>0.0</td>\n",
       "      <td>0.0</td>\n",
       "      <td>0.0</td>\n",
       "      <td>0.0</td>\n",
       "      <td>0.0</td>\n",
       "      <td>0.0</td>\n",
       "      <td>0.0</td>\n",
       "      <td>0.0</td>\n",
       "      <td>0.0</td>\n",
       "      <td>...</td>\n",
       "      <td>0.0</td>\n",
       "      <td>0.0</td>\n",
       "      <td>0.0</td>\n",
       "      <td>0.0</td>\n",
       "      <td>0.0</td>\n",
       "      <td>0.0</td>\n",
       "      <td>0.0</td>\n",
       "      <td>0.0</td>\n",
       "      <td>0.0</td>\n",
       "      <td>1.0</td>\n",
       "    </tr>\n",
       "    <tr>\n",
       "      <th>5120</th>\n",
       "      <td>0.0</td>\n",
       "      <td>0.0</td>\n",
       "      <td>0.0</td>\n",
       "      <td>0.0</td>\n",
       "      <td>0.0</td>\n",
       "      <td>0.0</td>\n",
       "      <td>0.0</td>\n",
       "      <td>0.0</td>\n",
       "      <td>0.0</td>\n",
       "      <td>0.0</td>\n",
       "      <td>...</td>\n",
       "      <td>0.0</td>\n",
       "      <td>0.0</td>\n",
       "      <td>0.0</td>\n",
       "      <td>0.0</td>\n",
       "      <td>0.0</td>\n",
       "      <td>0.0</td>\n",
       "      <td>0.0</td>\n",
       "      <td>0.0</td>\n",
       "      <td>0.0</td>\n",
       "      <td>1.0</td>\n",
       "    </tr>\n",
       "  </tbody>\n",
       "</table>\n",
       "<p>5121 rows × 36609 columns</p>\n",
       "</div>"
      ],
      "text/plain": [
       "      pixel_0  pixel_1  pixel_2  pixel_3  pixel_4  pixel_5  pixel_6  pixel_7  \\\n",
       "0         0.0      0.0      0.0      0.0      0.0      0.0      0.0      0.0   \n",
       "1         0.0      0.0      0.0      0.0      0.0      0.0      0.0      0.0   \n",
       "2         0.0      0.0      0.0      0.0      0.0      0.0      0.0      0.0   \n",
       "3         0.0      0.0      0.0      0.0      0.0      0.0      0.0      0.0   \n",
       "4         0.0      0.0      0.0      0.0      0.0      0.0      0.0      0.0   \n",
       "...       ...      ...      ...      ...      ...      ...      ...      ...   \n",
       "5116      0.0      0.0      0.0      0.0      0.0      0.0      0.0      0.0   \n",
       "5117      0.0      0.0      0.0      0.0      0.0      0.0      0.0      0.0   \n",
       "5118      0.0      0.0      0.0      0.0      0.0      0.0      0.0      0.0   \n",
       "5119      0.0      0.0      0.0      0.0      0.0      0.0      0.0      0.0   \n",
       "5120      0.0      0.0      0.0      0.0      0.0      0.0      0.0      0.0   \n",
       "\n",
       "      pixel_8  pixel_9  ...  pixel_36599  pixel_36600  pixel_36601  \\\n",
       "0         0.0      0.0  ...          0.0          0.0          0.0   \n",
       "1         0.0      0.0  ...          0.0          0.0          0.0   \n",
       "2         0.0      0.0  ...          0.0          0.0          0.0   \n",
       "3         0.0      0.0  ...          0.0          0.0          0.0   \n",
       "4         0.0      0.0  ...          0.0          0.0          0.0   \n",
       "...       ...      ...  ...          ...          ...          ...   \n",
       "5116      0.0      0.0  ...          0.0          0.0          0.0   \n",
       "5117      0.0      0.0  ...          0.0          0.0          0.0   \n",
       "5118      0.0      0.0  ...          0.0          0.0          0.0   \n",
       "5119      0.0      0.0  ...          0.0          0.0          0.0   \n",
       "5120      0.0      0.0  ...          0.0          0.0          0.0   \n",
       "\n",
       "      pixel_36602  pixel_36603  pixel_36604  pixel_36605  pixel_36606  \\\n",
       "0             0.0          0.0          0.0          0.0          0.0   \n",
       "1             0.0          0.0          0.0          0.0          0.0   \n",
       "2             0.0          0.0          0.0          0.0          0.0   \n",
       "3             0.0          0.0          0.0          0.0          0.0   \n",
       "4             0.0          0.0          0.0          0.0          0.0   \n",
       "...           ...          ...          ...          ...          ...   \n",
       "5116          0.0          0.0          0.0          0.0          0.0   \n",
       "5117          0.0          0.0          0.0          0.0          0.0   \n",
       "5118          0.0          0.0          0.0          0.0          0.0   \n",
       "5119          0.0          0.0          0.0          0.0          0.0   \n",
       "5120          0.0          0.0          0.0          0.0          0.0   \n",
       "\n",
       "      pixel_36607  label  \n",
       "0             0.0    1.0  \n",
       "1             0.0    1.0  \n",
       "2             0.0    1.0  \n",
       "3             0.0    1.0  \n",
       "4             0.0    1.0  \n",
       "...           ...    ...  \n",
       "5116          0.0    1.0  \n",
       "5117          0.0    1.0  \n",
       "5118          0.0    1.0  \n",
       "5119          0.0    1.0  \n",
       "5120          0.0    1.0  \n",
       "\n",
       "[5121 rows x 36609 columns]"
      ]
     },
     "execution_count": 4,
     "metadata": {},
     "output_type": "execute_result"
    }
   ],
   "source": [
    "data = pd.read_csv('../image_to_csv/alzheimer_dataset.csv')\n",
    "\n",
    "data"
   ]
  },
  {
   "cell_type": "markdown",
   "id": "2ba457e4",
   "metadata": {},
   "source": [
    "# 3. Clean Data"
   ]
  },
  {
   "cell_type": "markdown",
   "id": "8d173bd4",
   "metadata": {},
   "source": [
    "## 3.1. Handle Missing Values"
   ]
  },
  {
   "cell_type": "markdown",
   "id": "31642503",
   "metadata": {},
   "source": [
    "### 3.1.1. Check Missing Values"
   ]
  },
  {
   "cell_type": "code",
   "execution_count": 5,
   "id": "2de23c61",
   "metadata": {},
   "outputs": [
    {
     "name": "stdout",
     "output_type": "stream",
     "text": [
      "<class 'pandas.core.frame.DataFrame'>\n",
      "RangeIndex: 5121 entries, 0 to 5120\n",
      "Columns: 36609 entries, pixel_0 to label\n",
      "dtypes: float64(36609)\n",
      "memory usage: 1.4 GB\n"
     ]
    }
   ],
   "source": [
    "data.info()"
   ]
  },
  {
   "cell_type": "markdown",
   "id": "c44da5d8",
   "metadata": {},
   "source": [
    "### 3.1.2. Remove Missing Values"
   ]
  },
  {
   "cell_type": "code",
   "execution_count": 6,
   "id": "57707ddf",
   "metadata": {},
   "outputs": [],
   "source": [
    "# no NaN to remove\n",
    "# data.dropna(axis=0, inplace=True)"
   ]
  },
  {
   "cell_type": "markdown",
   "id": "c00dc1e2",
   "metadata": {},
   "source": [
    "## 3.2. Handle Outliers"
   ]
  },
  {
   "cell_type": "markdown",
   "id": "89a37380",
   "metadata": {},
   "source": [
    "### 3.2.1. Check Outliers"
   ]
  },
  {
   "cell_type": "code",
   "execution_count": 7,
   "id": "6be17f6b",
   "metadata": {},
   "outputs": [
    {
     "data": {
      "text/html": [
       "<div>\n",
       "<style scoped>\n",
       "    .dataframe tbody tr th:only-of-type {\n",
       "        vertical-align: middle;\n",
       "    }\n",
       "\n",
       "    .dataframe tbody tr th {\n",
       "        vertical-align: top;\n",
       "    }\n",
       "\n",
       "    .dataframe thead th {\n",
       "        text-align: right;\n",
       "    }\n",
       "</style>\n",
       "<table border=\"1\" class=\"dataframe\">\n",
       "  <thead>\n",
       "    <tr style=\"text-align: right;\">\n",
       "      <th></th>\n",
       "      <th>pixel_0</th>\n",
       "      <th>pixel_1</th>\n",
       "      <th>pixel_2</th>\n",
       "      <th>pixel_3</th>\n",
       "      <th>pixel_4</th>\n",
       "      <th>pixel_5</th>\n",
       "      <th>pixel_6</th>\n",
       "      <th>pixel_7</th>\n",
       "      <th>pixel_8</th>\n",
       "      <th>pixel_9</th>\n",
       "      <th>...</th>\n",
       "      <th>pixel_36599</th>\n",
       "      <th>pixel_36600</th>\n",
       "      <th>pixel_36601</th>\n",
       "      <th>pixel_36602</th>\n",
       "      <th>pixel_36603</th>\n",
       "      <th>pixel_36604</th>\n",
       "      <th>pixel_36605</th>\n",
       "      <th>pixel_36606</th>\n",
       "      <th>pixel_36607</th>\n",
       "      <th>label</th>\n",
       "    </tr>\n",
       "  </thead>\n",
       "  <tbody>\n",
       "    <tr>\n",
       "      <th>count</th>\n",
       "      <td>5121.0</td>\n",
       "      <td>5121.0</td>\n",
       "      <td>5121.0</td>\n",
       "      <td>5121.0</td>\n",
       "      <td>5121.0</td>\n",
       "      <td>5121.0</td>\n",
       "      <td>5121.0</td>\n",
       "      <td>5121.0</td>\n",
       "      <td>5121.0</td>\n",
       "      <td>5121.0</td>\n",
       "      <td>...</td>\n",
       "      <td>5121.0</td>\n",
       "      <td>5121.0</td>\n",
       "      <td>5121.0</td>\n",
       "      <td>5121.0</td>\n",
       "      <td>5121.0</td>\n",
       "      <td>5121.0</td>\n",
       "      <td>5121.0</td>\n",
       "      <td>5121.0</td>\n",
       "      <td>5121.0</td>\n",
       "      <td>5121.000000</td>\n",
       "    </tr>\n",
       "    <tr>\n",
       "      <th>mean</th>\n",
       "      <td>0.0</td>\n",
       "      <td>0.0</td>\n",
       "      <td>0.0</td>\n",
       "      <td>0.0</td>\n",
       "      <td>0.0</td>\n",
       "      <td>0.0</td>\n",
       "      <td>0.0</td>\n",
       "      <td>0.0</td>\n",
       "      <td>0.0</td>\n",
       "      <td>0.0</td>\n",
       "      <td>...</td>\n",
       "      <td>0.0</td>\n",
       "      <td>0.0</td>\n",
       "      <td>0.0</td>\n",
       "      <td>0.0</td>\n",
       "      <td>0.0</td>\n",
       "      <td>0.0</td>\n",
       "      <td>0.0</td>\n",
       "      <td>0.0</td>\n",
       "      <td>0.0</td>\n",
       "      <td>0.500098</td>\n",
       "    </tr>\n",
       "    <tr>\n",
       "      <th>std</th>\n",
       "      <td>0.0</td>\n",
       "      <td>0.0</td>\n",
       "      <td>0.0</td>\n",
       "      <td>0.0</td>\n",
       "      <td>0.0</td>\n",
       "      <td>0.0</td>\n",
       "      <td>0.0</td>\n",
       "      <td>0.0</td>\n",
       "      <td>0.0</td>\n",
       "      <td>0.0</td>\n",
       "      <td>...</td>\n",
       "      <td>0.0</td>\n",
       "      <td>0.0</td>\n",
       "      <td>0.0</td>\n",
       "      <td>0.0</td>\n",
       "      <td>0.0</td>\n",
       "      <td>0.0</td>\n",
       "      <td>0.0</td>\n",
       "      <td>0.0</td>\n",
       "      <td>0.0</td>\n",
       "      <td>0.500049</td>\n",
       "    </tr>\n",
       "    <tr>\n",
       "      <th>min</th>\n",
       "      <td>0.0</td>\n",
       "      <td>0.0</td>\n",
       "      <td>0.0</td>\n",
       "      <td>0.0</td>\n",
       "      <td>0.0</td>\n",
       "      <td>0.0</td>\n",
       "      <td>0.0</td>\n",
       "      <td>0.0</td>\n",
       "      <td>0.0</td>\n",
       "      <td>0.0</td>\n",
       "      <td>...</td>\n",
       "      <td>0.0</td>\n",
       "      <td>0.0</td>\n",
       "      <td>0.0</td>\n",
       "      <td>0.0</td>\n",
       "      <td>0.0</td>\n",
       "      <td>0.0</td>\n",
       "      <td>0.0</td>\n",
       "      <td>0.0</td>\n",
       "      <td>0.0</td>\n",
       "      <td>0.000000</td>\n",
       "    </tr>\n",
       "    <tr>\n",
       "      <th>25%</th>\n",
       "      <td>0.0</td>\n",
       "      <td>0.0</td>\n",
       "      <td>0.0</td>\n",
       "      <td>0.0</td>\n",
       "      <td>0.0</td>\n",
       "      <td>0.0</td>\n",
       "      <td>0.0</td>\n",
       "      <td>0.0</td>\n",
       "      <td>0.0</td>\n",
       "      <td>0.0</td>\n",
       "      <td>...</td>\n",
       "      <td>0.0</td>\n",
       "      <td>0.0</td>\n",
       "      <td>0.0</td>\n",
       "      <td>0.0</td>\n",
       "      <td>0.0</td>\n",
       "      <td>0.0</td>\n",
       "      <td>0.0</td>\n",
       "      <td>0.0</td>\n",
       "      <td>0.0</td>\n",
       "      <td>0.000000</td>\n",
       "    </tr>\n",
       "    <tr>\n",
       "      <th>50%</th>\n",
       "      <td>0.0</td>\n",
       "      <td>0.0</td>\n",
       "      <td>0.0</td>\n",
       "      <td>0.0</td>\n",
       "      <td>0.0</td>\n",
       "      <td>0.0</td>\n",
       "      <td>0.0</td>\n",
       "      <td>0.0</td>\n",
       "      <td>0.0</td>\n",
       "      <td>0.0</td>\n",
       "      <td>...</td>\n",
       "      <td>0.0</td>\n",
       "      <td>0.0</td>\n",
       "      <td>0.0</td>\n",
       "      <td>0.0</td>\n",
       "      <td>0.0</td>\n",
       "      <td>0.0</td>\n",
       "      <td>0.0</td>\n",
       "      <td>0.0</td>\n",
       "      <td>0.0</td>\n",
       "      <td>1.000000</td>\n",
       "    </tr>\n",
       "    <tr>\n",
       "      <th>75%</th>\n",
       "      <td>0.0</td>\n",
       "      <td>0.0</td>\n",
       "      <td>0.0</td>\n",
       "      <td>0.0</td>\n",
       "      <td>0.0</td>\n",
       "      <td>0.0</td>\n",
       "      <td>0.0</td>\n",
       "      <td>0.0</td>\n",
       "      <td>0.0</td>\n",
       "      <td>0.0</td>\n",
       "      <td>...</td>\n",
       "      <td>0.0</td>\n",
       "      <td>0.0</td>\n",
       "      <td>0.0</td>\n",
       "      <td>0.0</td>\n",
       "      <td>0.0</td>\n",
       "      <td>0.0</td>\n",
       "      <td>0.0</td>\n",
       "      <td>0.0</td>\n",
       "      <td>0.0</td>\n",
       "      <td>1.000000</td>\n",
       "    </tr>\n",
       "    <tr>\n",
       "      <th>max</th>\n",
       "      <td>0.0</td>\n",
       "      <td>0.0</td>\n",
       "      <td>0.0</td>\n",
       "      <td>0.0</td>\n",
       "      <td>0.0</td>\n",
       "      <td>0.0</td>\n",
       "      <td>0.0</td>\n",
       "      <td>0.0</td>\n",
       "      <td>0.0</td>\n",
       "      <td>0.0</td>\n",
       "      <td>...</td>\n",
       "      <td>0.0</td>\n",
       "      <td>0.0</td>\n",
       "      <td>0.0</td>\n",
       "      <td>0.0</td>\n",
       "      <td>0.0</td>\n",
       "      <td>0.0</td>\n",
       "      <td>0.0</td>\n",
       "      <td>0.0</td>\n",
       "      <td>0.0</td>\n",
       "      <td>1.000000</td>\n",
       "    </tr>\n",
       "  </tbody>\n",
       "</table>\n",
       "<p>8 rows × 36609 columns</p>\n",
       "</div>"
      ],
      "text/plain": [
       "       pixel_0  pixel_1  pixel_2  pixel_3  pixel_4  pixel_5  pixel_6  pixel_7  \\\n",
       "count   5121.0   5121.0   5121.0   5121.0   5121.0   5121.0   5121.0   5121.0   \n",
       "mean       0.0      0.0      0.0      0.0      0.0      0.0      0.0      0.0   \n",
       "std        0.0      0.0      0.0      0.0      0.0      0.0      0.0      0.0   \n",
       "min        0.0      0.0      0.0      0.0      0.0      0.0      0.0      0.0   \n",
       "25%        0.0      0.0      0.0      0.0      0.0      0.0      0.0      0.0   \n",
       "50%        0.0      0.0      0.0      0.0      0.0      0.0      0.0      0.0   \n",
       "75%        0.0      0.0      0.0      0.0      0.0      0.0      0.0      0.0   \n",
       "max        0.0      0.0      0.0      0.0      0.0      0.0      0.0      0.0   \n",
       "\n",
       "       pixel_8  pixel_9  ...  pixel_36599  pixel_36600  pixel_36601  \\\n",
       "count   5121.0   5121.0  ...       5121.0       5121.0       5121.0   \n",
       "mean       0.0      0.0  ...          0.0          0.0          0.0   \n",
       "std        0.0      0.0  ...          0.0          0.0          0.0   \n",
       "min        0.0      0.0  ...          0.0          0.0          0.0   \n",
       "25%        0.0      0.0  ...          0.0          0.0          0.0   \n",
       "50%        0.0      0.0  ...          0.0          0.0          0.0   \n",
       "75%        0.0      0.0  ...          0.0          0.0          0.0   \n",
       "max        0.0      0.0  ...          0.0          0.0          0.0   \n",
       "\n",
       "       pixel_36602  pixel_36603  pixel_36604  pixel_36605  pixel_36606  \\\n",
       "count       5121.0       5121.0       5121.0       5121.0       5121.0   \n",
       "mean           0.0          0.0          0.0          0.0          0.0   \n",
       "std            0.0          0.0          0.0          0.0          0.0   \n",
       "min            0.0          0.0          0.0          0.0          0.0   \n",
       "25%            0.0          0.0          0.0          0.0          0.0   \n",
       "50%            0.0          0.0          0.0          0.0          0.0   \n",
       "75%            0.0          0.0          0.0          0.0          0.0   \n",
       "max            0.0          0.0          0.0          0.0          0.0   \n",
       "\n",
       "       pixel_36607        label  \n",
       "count       5121.0  5121.000000  \n",
       "mean           0.0     0.500098  \n",
       "std            0.0     0.500049  \n",
       "min            0.0     0.000000  \n",
       "25%            0.0     0.000000  \n",
       "50%            0.0     1.000000  \n",
       "75%            0.0     1.000000  \n",
       "max            0.0     1.000000  \n",
       "\n",
       "[8 rows x 36609 columns]"
      ]
     },
     "execution_count": 7,
     "metadata": {},
     "output_type": "execute_result"
    }
   ],
   "source": [
    "data.describe()"
   ]
  },
  {
   "cell_type": "markdown",
   "id": "d782326a",
   "metadata": {},
   "source": [
    "### 3.2.2. Remove Outliers"
   ]
  },
  {
   "cell_type": "code",
   "execution_count": 8,
   "id": "11e9d35b",
   "metadata": {},
   "outputs": [],
   "source": [
    "# no outlier to remove"
   ]
  },
  {
   "cell_type": "markdown",
   "id": "a58ec641",
   "metadata": {},
   "source": [
    "# 4. Split Dataset into Training & Test Sets"
   ]
  },
  {
   "cell_type": "code",
   "execution_count": 9,
   "id": "f55759e1",
   "metadata": {},
   "outputs": [],
   "source": [
    "target_name = 'label'\n",
    "feature_name = list(data.columns.drop(target_name))"
   ]
  },
  {
   "cell_type": "code",
   "execution_count": 10,
   "id": "200b638d",
   "metadata": {},
   "outputs": [],
   "source": [
    "X = data[feature_name]\n",
    "y = data[target_name]"
   ]
  },
  {
   "cell_type": "code",
   "execution_count": 11,
   "id": "f754053c",
   "metadata": {},
   "outputs": [],
   "source": [
    "X_train, X_test, y_train, y_test = train_test_split(X, y, test_size=0.20, shuffle=True)"
   ]
  },
  {
   "cell_type": "markdown",
   "id": "37dbd7e8",
   "metadata": {},
   "source": [
    "# 5. Data Preparation"
   ]
  },
  {
   "cell_type": "markdown",
   "id": "bd566633",
   "metadata": {},
   "source": [
    "## ### 5.1. Ordinal Encoding"
   ]
  },
  {
   "cell_type": "markdown",
   "id": "b59dad3e",
   "metadata": {},
   "source": [
    "## ### 5.2. One Hot Encoding"
   ]
  },
  {
   "cell_type": "markdown",
   "id": "535bb9d8",
   "metadata": {},
   "source": [
    "## 5.3. Feature Scaling"
   ]
  },
  {
   "cell_type": "markdown",
   "id": "c2d72322",
   "metadata": {},
   "source": [
    "### 5.3.1. Training Set"
   ]
  },
  {
   "cell_type": "code",
   "execution_count": 12,
   "id": "4c8c2162",
   "metadata": {},
   "outputs": [],
   "source": [
    "scaler = MinMaxScaler()\n",
    "X_train_scaled = scaler.fit_transform(X_train)"
   ]
  },
  {
   "cell_type": "markdown",
   "id": "4b6b08cb",
   "metadata": {},
   "source": [
    "### 5.3.2. Test Set"
   ]
  },
  {
   "cell_type": "code",
   "execution_count": 13,
   "id": "bd61267f",
   "metadata": {},
   "outputs": [],
   "source": [
    "X_test_scaled = scaler.transform(X_test)"
   ]
  },
  {
   "cell_type": "markdown",
   "id": "b675efa0",
   "metadata": {},
   "source": [
    "# 6. Model Creation"
   ]
  },
  {
   "cell_type": "markdown",
   "id": "1a10bac7",
   "metadata": {},
   "source": [
    "## 6.1. Setting Parameters"
   ]
  },
  {
   "cell_type": "code",
   "execution_count": 14,
   "id": "2c08be0f",
   "metadata": {},
   "outputs": [],
   "source": [
    "classes = np.unique(y_train)"
   ]
  },
  {
   "cell_type": "code",
   "execution_count": 15,
   "id": "4807928e",
   "metadata": {},
   "outputs": [],
   "source": [
    "clf = KerasMLPClassifier(\n",
    "    input_dim=X_train_scaled.shape[1],\n",
    "    hidden_layer_sizes=(50, 10, 10),\n",
    "    activation_function='relu',\n",
    "    classes=classes,\n",
    "    learning_rate_init=0.00015,\n",
    "    epochs=100,\n",
    "    validation_split=0.1,\n",
    "    use_gpu=True,\n",
    "    class_weight='balanced',\n",
    "    l1_lambda=0.0,\n",
    "    l2_lambda=0.001,\n",
    "    dropout_rate=[0, 0, 0],\n",
    "    solver='adam',\n",
    "    batch_size=64\n",
    ")"
   ]
  },
  {
   "cell_type": "markdown",
   "id": "c2122317",
   "metadata": {},
   "source": [
    "## 6.2. Train Model"
   ]
  },
  {
   "cell_type": "code",
   "execution_count": 16,
   "id": "44966bc0",
   "metadata": {},
   "outputs": [
    {
     "data": {
      "application/vnd.jupyter.widget-view+json": {
       "model_id": "290f7ae3730a4a969b98ebd5ce7b779a",
       "version_major": 2,
       "version_minor": 0
      },
      "text/plain": [
       "Training:   0%|           0/100 ETA: ?s,  ?epochs/s"
      ]
     },
     "metadata": {},
     "output_type": "display_data"
    },
    {
     "data": {
      "text/plain": [
       "{'loss': [0.7278040051460266,\n",
       "  0.6268577575683594,\n",
       "  0.5847988128662109,\n",
       "  0.5504645109176636,\n",
       "  0.5200855135917664,\n",
       "  0.4789176285266876,\n",
       "  0.4450821578502655,\n",
       "  0.41784629225730896,\n",
       "  0.39921480417251587,\n",
       "  0.40194928646087646,\n",
       "  0.4279266893863678,\n",
       "  0.3451499044895172,\n",
       "  0.32464930415153503,\n",
       "  0.3141319453716278,\n",
       "  0.30141210556030273,\n",
       "  0.2987886071205139,\n",
       "  0.2713594138622284,\n",
       "  0.27101433277130127,\n",
       "  0.24895234405994415,\n",
       "  0.2562893331050873,\n",
       "  0.23036983609199524,\n",
       "  0.23185211420059204,\n",
       "  0.20857800543308258,\n",
       "  0.220821350812912,\n",
       "  0.2020980715751648,\n",
       "  0.19347642362117767,\n",
       "  0.19069898128509521,\n",
       "  0.17107082903385162,\n",
       "  0.16876956820487976,\n",
       "  0.1624596267938614,\n",
       "  0.15938498079776764,\n",
       "  0.15372730791568756,\n",
       "  0.16500061750411987,\n",
       "  0.15270651876926422,\n",
       "  0.1516321450471878,\n",
       "  0.13734039664268494,\n",
       "  0.13093505799770355,\n",
       "  0.129609614610672,\n",
       "  0.12174345552921295,\n",
       "  0.14161284267902374,\n",
       "  0.11128626018762589,\n",
       "  0.12395114451646805,\n",
       "  0.10423972457647324,\n",
       "  0.10192131996154785,\n",
       "  0.09877213090658188,\n",
       "  0.095321424305439,\n",
       "  0.09076664596796036,\n",
       "  0.09338349848985672,\n",
       "  0.08871930092573166,\n",
       "  0.0869349017739296,\n",
       "  0.08464974164962769,\n",
       "  0.10820348560810089,\n",
       "  0.08072273433208466,\n",
       "  0.08019156008958817,\n",
       "  0.08654583990573883,\n",
       "  0.07852642238140106,\n",
       "  0.07461133599281311,\n",
       "  0.11545775830745697,\n",
       "  0.07905133813619614,\n",
       "  0.06962112337350845,\n",
       "  0.07479024678468704,\n",
       "  0.06934098899364471,\n",
       "  0.07128609716892242,\n",
       "  0.07012900710105896,\n",
       "  0.06711164116859436,\n",
       "  0.0653994008898735,\n",
       "  0.06673789769411087,\n",
       "  0.062244709581136703,\n",
       "  0.06906192004680634,\n",
       "  0.0602249875664711,\n",
       "  0.06434137374162674,\n",
       "  0.06023531034588814,\n",
       "  0.05954199284315109,\n",
       "  0.05838168039917946,\n",
       "  0.06260187923908234,\n",
       "  0.11254620552062988,\n",
       "  0.05681193619966507,\n",
       "  0.05618269741535187,\n",
       "  0.05793384835124016,\n",
       "  0.055030014365911484,\n",
       "  0.054262712597846985,\n",
       "  0.05368329957127571,\n",
       "  0.05401502922177315,\n",
       "  0.05271553248167038,\n",
       "  0.051694054156541824,\n",
       "  0.05334952473640442,\n",
       "  0.051154229789972305,\n",
       "  0.051184505224227905,\n",
       "  0.05167157202959061,\n",
       "  0.049775246530771255,\n",
       "  0.04906392842531204,\n",
       "  0.048431847244501114,\n",
       "  0.04805818572640419,\n",
       "  0.05271589010953903,\n",
       "  0.047812603414058685,\n",
       "  0.04650281369686127,\n",
       "  0.3117090165615082,\n",
       "  0.14657795429229736,\n",
       "  0.13460536301136017,\n",
       "  0.12296484410762787],\n",
       " 'val_loss': [0.6881099939346313,\n",
       "  0.64313143491745,\n",
       "  0.6004172563552856,\n",
       "  0.6002642512321472,\n",
       "  0.5625730752944946,\n",
       "  0.519641101360321,\n",
       "  0.5059007406234741,\n",
       "  0.4854902923107147,\n",
       "  0.4770802855491638,\n",
       "  0.44905224442481995,\n",
       "  0.45565852522850037,\n",
       "  0.42783278226852417,\n",
       "  0.44343987107276917,\n",
       "  0.40770143270492554,\n",
       "  0.43772757053375244,\n",
       "  0.4088635742664337,\n",
       "  0.4631982445716858,\n",
       "  0.43842387199401855,\n",
       "  0.42557400465011597,\n",
       "  0.36075079441070557,\n",
       "  0.369189977645874,\n",
       "  0.36167365312576294,\n",
       "  0.39536476135253906,\n",
       "  0.32776108384132385,\n",
       "  0.3228296935558319,\n",
       "  0.364879846572876,\n",
       "  0.3129796087741852,\n",
       "  0.3073095977306366,\n",
       "  0.3012295961380005,\n",
       "  0.3840455710887909,\n",
       "  0.29490402340888977,\n",
       "  0.3723970353603363,\n",
       "  0.34887441992759705,\n",
       "  0.2866273522377014,\n",
       "  0.34716036915779114,\n",
       "  0.27168959379196167,\n",
       "  0.30383267998695374,\n",
       "  0.29933327436447144,\n",
       "  0.3057456612586975,\n",
       "  0.2490319162607193,\n",
       "  0.26106852293014526,\n",
       "  0.25469672679901123,\n",
       "  0.24511058628559113,\n",
       "  0.24022246897220612,\n",
       "  0.24718719720840454,\n",
       "  0.24585333466529846,\n",
       "  0.24368475377559662,\n",
       "  0.27033424377441406,\n",
       "  0.2374267429113388,\n",
       "  0.23649734258651733,\n",
       "  0.24607199430465698,\n",
       "  0.22467389702796936,\n",
       "  0.22595079243183136,\n",
       "  0.25555774569511414,\n",
       "  0.3281784653663635,\n",
       "  0.2153279036283493,\n",
       "  0.2319003939628601,\n",
       "  0.3730778992176056,\n",
       "  0.2157733142375946,\n",
       "  0.2159808874130249,\n",
       "  0.21278110146522522,\n",
       "  0.3014119565486908,\n",
       "  0.24225354194641113,\n",
       "  0.2165457159280777,\n",
       "  0.21071073412895203,\n",
       "  0.24037575721740723,\n",
       "  0.22829243540763855,\n",
       "  0.20056407153606415,\n",
       "  0.24012158811092377,\n",
       "  0.20117726922035217,\n",
       "  0.20992323756217957,\n",
       "  0.19927531480789185,\n",
       "  0.19643372297286987,\n",
       "  0.20453383028507233,\n",
       "  0.3458515405654907,\n",
       "  0.19979198276996613,\n",
       "  0.2063986212015152,\n",
       "  0.19658847153186798,\n",
       "  0.19638893008232117,\n",
       "  0.1928645223379135,\n",
       "  0.19470636546611786,\n",
       "  0.20538055896759033,\n",
       "  0.1956057846546173,\n",
       "  0.18969671428203583,\n",
       "  0.2032015472650528,\n",
       "  0.207325741648674,\n",
       "  0.20395736396312714,\n",
       "  0.22032387554645538,\n",
       "  0.18544091284275055,\n",
       "  0.18515628576278687,\n",
       "  0.1845240741968155,\n",
       "  0.18507184088230133,\n",
       "  0.18203981220722198,\n",
       "  0.18409356474876404,\n",
       "  0.18609265983104706,\n",
       "  0.1810314804315567,\n",
       "  0.27047762274742126,\n",
       "  0.2477886974811554,\n",
       "  0.23747049272060394,\n",
       "  0.23276260495185852]}"
      ]
     },
     "execution_count": 16,
     "metadata": {},
     "output_type": "execute_result"
    }
   ],
   "source": [
    "clf.fit(X_train_scaled, y_train)"
   ]
  },
  {
   "cell_type": "markdown",
   "id": "e79c3dac",
   "metadata": {},
   "source": [
    "## 6.3. Loss Curve"
   ]
  },
  {
   "cell_type": "code",
   "execution_count": 17,
   "id": "65e0b51b",
   "metadata": {
    "scrolled": true
   },
   "outputs": [
    {
     "data": {
      "text/plain": [
       "<matplotlib.legend.Legend at 0x158bcb700>"
      ]
     },
     "execution_count": 17,
     "metadata": {},
     "output_type": "execute_result"
    },
    {
     "data": {
      "image/png": "[encoded data removed]",
      "text/plain": [
       "<Figure size 432x288 with 1 Axes>"
      ]
     },
     "metadata": {
      "needs_background": "light"
     },
     "output_type": "display_data"
    }
   ],
   "source": [
    "plt.plot(clf.loss_curve_, label='training_loss')\n",
    "plt.plot(clf.val_loss_curve_, label='validation_loss')\n",
    "plt.xlabel('epoch')\n",
    "plt.ylabel('loss')\n",
    "plt.legend()"
   ]
  },
  {
   "cell_type": "markdown",
   "id": "b0f38bca",
   "metadata": {},
   "source": [
    "## 6.4. Model's Weight & Bias"
   ]
  },
  {
   "cell_type": "code",
   "execution_count": 18,
   "id": "140324ac",
   "metadata": {},
   "outputs": [
    {
     "name": "stdout",
     "output_type": "stream",
     "text": [
      "(36608, 50)\n",
      "(50, 10)\n",
      "(10, 10)\n",
      "(10, 2)\n"
     ]
    }
   ],
   "source": [
    "for coef_ in clf.coefs_:\n",
    "    print(coef_.shape)"
   ]
  },
  {
   "cell_type": "code",
   "execution_count": 19,
   "id": "3324c5d3",
   "metadata": {
    "scrolled": true
   },
   "outputs": [
    {
     "name": "stdout",
     "output_type": "stream",
     "text": [
      "(50,)\n",
      "(10,)\n",
      "(10,)\n",
      "(2,)\n"
     ]
    }
   ],
   "source": [
    "for intercept_ in clf.intercepts_:\n",
    "    print(intercept_.shape)"
   ]
  },
  {
   "cell_type": "markdown",
   "id": "790c1273",
   "metadata": {},
   "source": [
    "# 7. Prediction"
   ]
  },
  {
   "cell_type": "markdown",
   "id": "1ca0382a",
   "metadata": {},
   "source": [
    "## 7.1. Training Set"
   ]
  },
  {
   "cell_type": "code",
   "execution_count": 20,
   "id": "95f8e7a1",
   "metadata": {},
   "outputs": [],
   "source": [
    "y_pred_train = clf.predict(X_train_scaled)"
   ]
  },
  {
   "cell_type": "markdown",
   "id": "7ab051b1",
   "metadata": {},
   "source": [
    "## 7.2. Test Set"
   ]
  },
  {
   "cell_type": "code",
   "execution_count": 21,
   "id": "1a3db6bd",
   "metadata": {},
   "outputs": [],
   "source": [
    "y_pred_test = clf.predict(X_test_scaled)"
   ]
  },
  {
   "cell_type": "markdown",
   "id": "72a16acb",
   "metadata": {},
   "source": [
    "# 8. Model Evaluation"
   ]
  },
  {
   "cell_type": "markdown",
   "id": "7f9d943a",
   "metadata": {},
   "source": [
    "## 8.1. Training Set"
   ]
  },
  {
   "cell_type": "markdown",
   "id": "55f96f40",
   "metadata": {},
   "source": [
    "### 8.1.1. Confusion Matrix"
   ]
  },
  {
   "cell_type": "code",
   "execution_count": 22,
   "id": "8eb5f70b",
   "metadata": {},
   "outputs": [
    {
     "data": {
      "image/png": "[encoded data removed]",
      "text/plain": [
       "<Figure size 432x288 with 2 Axes>"
      ]
     },
     "metadata": {
      "needs_background": "light"
     },
     "output_type": "display_data"
    }
   ],
   "source": [
    "cm = confusion_matrix(y_train, y_pred_train)\n",
    "make_confusion_matrix(\n",
    "    cm,\n",
    "    cmap='viridis',\n",
    "    categories=classes,\n",
    "    sum_stats=False,\n",
    "    percent=False,\n",
    ")\n",
    "plt.show()"
   ]
  },
  {
   "cell_type": "markdown",
   "id": "6fb54b57",
   "metadata": {},
   "source": [
    "### 8.1.2. Scoring"
   ]
  },
  {
   "cell_type": "code",
   "execution_count": 23,
   "id": "527a7b37",
   "metadata": {},
   "outputs": [],
   "source": [
    "report = classification_report(y_train, y_pred_train, output_dict=True)"
   ]
  },
  {
   "cell_type": "code",
   "execution_count": 24,
   "id": "042c261e",
   "metadata": {},
   "outputs": [
    {
     "data": {
      "text/html": [
       "<div>\n",
       "<style scoped>\n",
       "    .dataframe tbody tr th:only-of-type {\n",
       "        vertical-align: middle;\n",
       "    }\n",
       "\n",
       "    .dataframe tbody tr th {\n",
       "        vertical-align: top;\n",
       "    }\n",
       "\n",
       "    .dataframe thead th {\n",
       "        text-align: right;\n",
       "    }\n",
       "</style>\n",
       "<table border=\"1\" class=\"dataframe\">\n",
       "  <thead>\n",
       "    <tr style=\"text-align: right;\">\n",
       "      <th></th>\n",
       "      <th>precision</th>\n",
       "      <th>recall</th>\n",
       "      <th>f1-score</th>\n",
       "      <th>support</th>\n",
       "    </tr>\n",
       "  </thead>\n",
       "  <tbody>\n",
       "    <tr>\n",
       "      <th>0.0</th>\n",
       "      <td>0.988894</td>\n",
       "      <td>0.998051</td>\n",
       "      <td>0.993451</td>\n",
       "      <td>2052.000000</td>\n",
       "    </tr>\n",
       "    <tr>\n",
       "      <th>1.0</th>\n",
       "      <td>0.998025</td>\n",
       "      <td>0.988748</td>\n",
       "      <td>0.993364</td>\n",
       "      <td>2044.000000</td>\n",
       "    </tr>\n",
       "    <tr>\n",
       "      <th>accuracy</th>\n",
       "      <td>0.993408</td>\n",
       "      <td>0.993408</td>\n",
       "      <td>0.993408</td>\n",
       "      <td>0.993408</td>\n",
       "    </tr>\n",
       "    <tr>\n",
       "      <th>macro avg</th>\n",
       "      <td>0.993459</td>\n",
       "      <td>0.993399</td>\n",
       "      <td>0.993408</td>\n",
       "      <td>4096.000000</td>\n",
       "    </tr>\n",
       "    <tr>\n",
       "      <th>weighted avg</th>\n",
       "      <td>0.993451</td>\n",
       "      <td>0.993408</td>\n",
       "      <td>0.993408</td>\n",
       "      <td>4096.000000</td>\n",
       "    </tr>\n",
       "  </tbody>\n",
       "</table>\n",
       "</div>"
      ],
      "text/plain": [
       "              precision    recall  f1-score      support\n",
       "0.0            0.988894  0.998051  0.993451  2052.000000\n",
       "1.0            0.998025  0.988748  0.993364  2044.000000\n",
       "accuracy       0.993408  0.993408  0.993408     0.993408\n",
       "macro avg      0.993459  0.993399  0.993408  4096.000000\n",
       "weighted avg   0.993451  0.993408  0.993408  4096.000000"
      ]
     },
     "execution_count": 24,
     "metadata": {},
     "output_type": "execute_result"
    }
   ],
   "source": [
    "pd.DataFrame.from_dict(report).T"
   ]
  },
  {
   "cell_type": "markdown",
   "id": "9533f763",
   "metadata": {},
   "source": [
    "## 8.2. Test Set"
   ]
  },
  {
   "cell_type": "markdown",
   "id": "ef10b301",
   "metadata": {},
   "source": [
    "### 8.2.1. Confusion Matrix"
   ]
  },
  {
   "cell_type": "code",
   "execution_count": 25,
   "id": "aa27890a",
   "metadata": {},
   "outputs": [
    {
     "data": {
      "image/png": "[encoded data removed]",
      "text/plain": [
       "<Figure size 432x288 with 2 Axes>"
      ]
     },
     "metadata": {
      "needs_background": "light"
     },
     "output_type": "display_data"
    }
   ],
   "source": [
    "cm = confusion_matrix(y_test, y_pred_test)\n",
    "make_confusion_matrix(\n",
    "    cm,\n",
    "    cmap='viridis',\n",
    "    categories=classes,\n",
    "    sum_stats=False,\n",
    "    percent=False,\n",
    ")\n",
    "plt.show()"
   ]
  },
  {
   "cell_type": "markdown",
   "id": "cefece92",
   "metadata": {},
   "source": [
    "### 8.2.2. Scoring"
   ]
  },
  {
   "cell_type": "code",
   "execution_count": 26,
   "id": "9f72a11f",
   "metadata": {},
   "outputs": [],
   "source": [
    "report = classification_report(y_test, y_pred_test, output_dict=True)"
   ]
  },
  {
   "cell_type": "code",
   "execution_count": 27,
   "id": "a60bb854",
   "metadata": {
    "scrolled": true
   },
   "outputs": [
    {
     "data": {
      "text/html": [
       "<div>\n",
       "<style scoped>\n",
       "    .dataframe tbody tr th:only-of-type {\n",
       "        vertical-align: middle;\n",
       "    }\n",
       "\n",
       "    .dataframe tbody tr th {\n",
       "        vertical-align: top;\n",
       "    }\n",
       "\n",
       "    .dataframe thead th {\n",
       "        text-align: right;\n",
       "    }\n",
       "</style>\n",
       "<table border=\"1\" class=\"dataframe\">\n",
       "  <thead>\n",
       "    <tr style=\"text-align: right;\">\n",
       "      <th></th>\n",
       "      <th>precision</th>\n",
       "      <th>recall</th>\n",
       "      <th>f1-score</th>\n",
       "      <th>support</th>\n",
       "    </tr>\n",
       "  </thead>\n",
       "  <tbody>\n",
       "    <tr>\n",
       "      <th>0.0</th>\n",
       "      <td>0.919776</td>\n",
       "      <td>0.970472</td>\n",
       "      <td>0.944444</td>\n",
       "      <td>508.000000</td>\n",
       "    </tr>\n",
       "    <tr>\n",
       "      <th>1.0</th>\n",
       "      <td>0.969325</td>\n",
       "      <td>0.916828</td>\n",
       "      <td>0.942346</td>\n",
       "      <td>517.000000</td>\n",
       "    </tr>\n",
       "    <tr>\n",
       "      <th>accuracy</th>\n",
       "      <td>0.943415</td>\n",
       "      <td>0.943415</td>\n",
       "      <td>0.943415</td>\n",
       "      <td>0.943415</td>\n",
       "    </tr>\n",
       "    <tr>\n",
       "      <th>macro avg</th>\n",
       "      <td>0.944551</td>\n",
       "      <td>0.943650</td>\n",
       "      <td>0.943395</td>\n",
       "      <td>1025.000000</td>\n",
       "    </tr>\n",
       "    <tr>\n",
       "      <th>weighted avg</th>\n",
       "      <td>0.944768</td>\n",
       "      <td>0.943415</td>\n",
       "      <td>0.943386</td>\n",
       "      <td>1025.000000</td>\n",
       "    </tr>\n",
       "  </tbody>\n",
       "</table>\n",
       "</div>"
      ],
      "text/plain": [
       "              precision    recall  f1-score      support\n",
       "0.0            0.919776  0.970472  0.944444   508.000000\n",
       "1.0            0.969325  0.916828  0.942346   517.000000\n",
       "accuracy       0.943415  0.943415  0.943415     0.943415\n",
       "macro avg      0.944551  0.943650  0.943395  1025.000000\n",
       "weighted avg   0.944768  0.943415  0.943386  1025.000000"
      ]
     },
     "execution_count": 27,
     "metadata": {},
     "output_type": "execute_result"
    }
   ],
   "source": [
    "pd.DataFrame.from_dict(report).T"
   ]
  },
  {
   "cell_type": "markdown",
   "id": "a8f29c2b",
   "metadata": {},
   "source": [
    "# 9. Save Model"
   ]
  },
  {
   "cell_type": "code",
   "execution_count": 28,
   "id": "cc102ce0",
   "metadata": {},
   "outputs": [
    {
     "name": "stdout",
     "output_type": "stream",
     "text": [
      "INFO:tensorflow:Assets written to: alzheimer_model/assets\n"
     ]
    }
   ],
   "source": [
    "clf.save_model('alzheimer_model')"
   ]
  },
  {
   "cell_type": "code",
   "execution_count": 29,
   "id": "d835e133",
   "metadata": {},
   "outputs": [],
   "source": [
    "import pickle"
   ]
  },
  {
   "cell_type": "code",
   "execution_count": 30,
   "id": "8ba1664a",
   "metadata": {},
   "outputs": [],
   "source": [
    "pickle.dump((scaler), open('alzheimer_env.pickle', 'wb'))"
   ]
  }
 ],
 "metadata": {
  "kernelspec": {
   "display_name": "Python 3",
   "language": "python",
   "name": "python3"
  },
  "language_info": {
   "codemirror_mode": {
    "name": "ipython",
    "version": 3
   },
   "file_extension": ".py",
   "mimetype": "text/x-python",
   "name": "python",
   "nbconvert_exporter": "python",
   "pygments_lexer": "ipython3",
   "version": "3.8.8"
  }
 },
 "nbformat": 4,
 "nbformat_minor": 5
}
