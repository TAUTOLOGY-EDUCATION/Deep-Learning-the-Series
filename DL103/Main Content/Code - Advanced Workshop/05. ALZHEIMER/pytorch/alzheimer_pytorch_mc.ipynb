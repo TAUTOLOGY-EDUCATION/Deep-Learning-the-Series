{
 "cells": [
  {
   "cell_type": "markdown",
   "id": "34d05e66",
   "metadata": {},
   "source": [
    "# 1. Import Libraries"
   ]
  },
  {
   "cell_type": "code",
   "execution_count": 1,
   "id": "1abdab6f",
   "metadata": {},
   "outputs": [],
   "source": [
    "import numpy as np\n",
    "import pandas as pd\n",
    "import matplotlib.pyplot as plt\n",
    "import random\n",
    "\n",
    "from sklearn.model_selection import train_test_split\n",
    "from sklearn.preprocessing import (\n",
    "    OrdinalEncoder, \n",
    "    OneHotEncoder, \n",
    "    StandardScaler, \n",
    "    MinMaxScaler\n",
    ")\n",
    "import torch\n",
    "from sklearn.metrics import confusion_matrix, classification_report\n",
    "\n",
    "import warnings\n",
    "warnings.filterwarnings('ignore')"
   ]
  },
  {
   "cell_type": "code",
   "execution_count": 2,
   "id": "ba9e82c3",
   "metadata": {},
   "outputs": [],
   "source": [
    "import os\n",
    "import sys\n",
    "\n",
    "lib_path = os.path.abspath('../../../lib')\n",
    "sys.path.append(lib_path)\n",
    "\n",
    "from easy_pytorch import PytorchMLPClassifier, make_confusion_matrix"
   ]
  },
  {
   "cell_type": "code",
   "execution_count": 3,
   "id": "099f69ad",
   "metadata": {},
   "outputs": [
    {
     "data": {
      "text/plain": [
       "<torch._C.Generator at 0x132e2b730>"
      ]
     },
     "execution_count": 3,
     "metadata": {},
     "output_type": "execute_result"
    }
   ],
   "source": [
    "seed = 12345\n",
    "\n",
    "random.seed(seed)\n",
    "np.random.seed(seed)\n",
    "torch.manual_seed(seed)"
   ]
  },
  {
   "cell_type": "markdown",
   "id": "f951c82c",
   "metadata": {},
   "source": [
    "# 2. Read Data"
   ]
  },
  {
   "cell_type": "code",
   "execution_count": 4,
   "id": "390fd94e",
   "metadata": {},
   "outputs": [
    {
     "data": {
      "text/html": [
       "<div>\n",
       "<style scoped>\n",
       "    .dataframe tbody tr th:only-of-type {\n",
       "        vertical-align: middle;\n",
       "    }\n",
       "\n",
       "    .dataframe tbody tr th {\n",
       "        vertical-align: top;\n",
       "    }\n",
       "\n",
       "    .dataframe thead th {\n",
       "        text-align: right;\n",
       "    }\n",
       "</style>\n",
       "<table border=\"1\" class=\"dataframe\">\n",
       "  <thead>\n",
       "    <tr style=\"text-align: right;\">\n",
       "      <th></th>\n",
       "      <th>pixel_0</th>\n",
       "      <th>pixel_1</th>\n",
       "      <th>pixel_2</th>\n",
       "      <th>pixel_3</th>\n",
       "      <th>pixel_4</th>\n",
       "      <th>pixel_5</th>\n",
       "      <th>pixel_6</th>\n",
       "      <th>pixel_7</th>\n",
       "      <th>pixel_8</th>\n",
       "      <th>pixel_9</th>\n",
       "      <th>...</th>\n",
       "      <th>pixel_36599</th>\n",
       "      <th>pixel_36600</th>\n",
       "      <th>pixel_36601</th>\n",
       "      <th>pixel_36602</th>\n",
       "      <th>pixel_36603</th>\n",
       "      <th>pixel_36604</th>\n",
       "      <th>pixel_36605</th>\n",
       "      <th>pixel_36606</th>\n",
       "      <th>pixel_36607</th>\n",
       "      <th>label</th>\n",
       "    </tr>\n",
       "  </thead>\n",
       "  <tbody>\n",
       "    <tr>\n",
       "      <th>0</th>\n",
       "      <td>0.0</td>\n",
       "      <td>0.0</td>\n",
       "      <td>0.0</td>\n",
       "      <td>0.0</td>\n",
       "      <td>0.0</td>\n",
       "      <td>0.0</td>\n",
       "      <td>0.0</td>\n",
       "      <td>0.0</td>\n",
       "      <td>0.0</td>\n",
       "      <td>0.0</td>\n",
       "      <td>...</td>\n",
       "      <td>0.0</td>\n",
       "      <td>0.0</td>\n",
       "      <td>0.0</td>\n",
       "      <td>0.0</td>\n",
       "      <td>0.0</td>\n",
       "      <td>0.0</td>\n",
       "      <td>0.0</td>\n",
       "      <td>0.0</td>\n",
       "      <td>0.0</td>\n",
       "      <td>1.0</td>\n",
       "    </tr>\n",
       "    <tr>\n",
       "      <th>1</th>\n",
       "      <td>0.0</td>\n",
       "      <td>0.0</td>\n",
       "      <td>0.0</td>\n",
       "      <td>0.0</td>\n",
       "      <td>0.0</td>\n",
       "      <td>0.0</td>\n",
       "      <td>0.0</td>\n",
       "      <td>0.0</td>\n",
       "      <td>0.0</td>\n",
       "      <td>0.0</td>\n",
       "      <td>...</td>\n",
       "      <td>0.0</td>\n",
       "      <td>0.0</td>\n",
       "      <td>0.0</td>\n",
       "      <td>0.0</td>\n",
       "      <td>0.0</td>\n",
       "      <td>0.0</td>\n",
       "      <td>0.0</td>\n",
       "      <td>0.0</td>\n",
       "      <td>0.0</td>\n",
       "      <td>1.0</td>\n",
       "    </tr>\n",
       "    <tr>\n",
       "      <th>2</th>\n",
       "      <td>0.0</td>\n",
       "      <td>0.0</td>\n",
       "      <td>0.0</td>\n",
       "      <td>0.0</td>\n",
       "      <td>0.0</td>\n",
       "      <td>0.0</td>\n",
       "      <td>0.0</td>\n",
       "      <td>0.0</td>\n",
       "      <td>0.0</td>\n",
       "      <td>0.0</td>\n",
       "      <td>...</td>\n",
       "      <td>0.0</td>\n",
       "      <td>0.0</td>\n",
       "      <td>0.0</td>\n",
       "      <td>0.0</td>\n",
       "      <td>0.0</td>\n",
       "      <td>0.0</td>\n",
       "      <td>0.0</td>\n",
       "      <td>0.0</td>\n",
       "      <td>0.0</td>\n",
       "      <td>1.0</td>\n",
       "    </tr>\n",
       "    <tr>\n",
       "      <th>3</th>\n",
       "      <td>0.0</td>\n",
       "      <td>0.0</td>\n",
       "      <td>0.0</td>\n",
       "      <td>0.0</td>\n",
       "      <td>0.0</td>\n",
       "      <td>0.0</td>\n",
       "      <td>0.0</td>\n",
       "      <td>0.0</td>\n",
       "      <td>0.0</td>\n",
       "      <td>0.0</td>\n",
       "      <td>...</td>\n",
       "      <td>0.0</td>\n",
       "      <td>0.0</td>\n",
       "      <td>0.0</td>\n",
       "      <td>0.0</td>\n",
       "      <td>0.0</td>\n",
       "      <td>0.0</td>\n",
       "      <td>0.0</td>\n",
       "      <td>0.0</td>\n",
       "      <td>0.0</td>\n",
       "      <td>1.0</td>\n",
       "    </tr>\n",
       "    <tr>\n",
       "      <th>4</th>\n",
       "      <td>0.0</td>\n",
       "      <td>0.0</td>\n",
       "      <td>0.0</td>\n",
       "      <td>0.0</td>\n",
       "      <td>0.0</td>\n",
       "      <td>0.0</td>\n",
       "      <td>0.0</td>\n",
       "      <td>0.0</td>\n",
       "      <td>0.0</td>\n",
       "      <td>0.0</td>\n",
       "      <td>...</td>\n",
       "      <td>0.0</td>\n",
       "      <td>0.0</td>\n",
       "      <td>0.0</td>\n",
       "      <td>0.0</td>\n",
       "      <td>0.0</td>\n",
       "      <td>0.0</td>\n",
       "      <td>0.0</td>\n",
       "      <td>0.0</td>\n",
       "      <td>0.0</td>\n",
       "      <td>1.0</td>\n",
       "    </tr>\n",
       "    <tr>\n",
       "      <th>...</th>\n",
       "      <td>...</td>\n",
       "      <td>...</td>\n",
       "      <td>...</td>\n",
       "      <td>...</td>\n",
       "      <td>...</td>\n",
       "      <td>...</td>\n",
       "      <td>...</td>\n",
       "      <td>...</td>\n",
       "      <td>...</td>\n",
       "      <td>...</td>\n",
       "      <td>...</td>\n",
       "      <td>...</td>\n",
       "      <td>...</td>\n",
       "      <td>...</td>\n",
       "      <td>...</td>\n",
       "      <td>...</td>\n",
       "      <td>...</td>\n",
       "      <td>...</td>\n",
       "      <td>...</td>\n",
       "      <td>...</td>\n",
       "      <td>...</td>\n",
       "    </tr>\n",
       "    <tr>\n",
       "      <th>5116</th>\n",
       "      <td>0.0</td>\n",
       "      <td>0.0</td>\n",
       "      <td>0.0</td>\n",
       "      <td>0.0</td>\n",
       "      <td>0.0</td>\n",
       "      <td>0.0</td>\n",
       "      <td>0.0</td>\n",
       "      <td>0.0</td>\n",
       "      <td>0.0</td>\n",
       "      <td>0.0</td>\n",
       "      <td>...</td>\n",
       "      <td>0.0</td>\n",
       "      <td>0.0</td>\n",
       "      <td>0.0</td>\n",
       "      <td>0.0</td>\n",
       "      <td>0.0</td>\n",
       "      <td>0.0</td>\n",
       "      <td>0.0</td>\n",
       "      <td>0.0</td>\n",
       "      <td>0.0</td>\n",
       "      <td>1.0</td>\n",
       "    </tr>\n",
       "    <tr>\n",
       "      <th>5117</th>\n",
       "      <td>0.0</td>\n",
       "      <td>0.0</td>\n",
       "      <td>0.0</td>\n",
       "      <td>0.0</td>\n",
       "      <td>0.0</td>\n",
       "      <td>0.0</td>\n",
       "      <td>0.0</td>\n",
       "      <td>0.0</td>\n",
       "      <td>0.0</td>\n",
       "      <td>0.0</td>\n",
       "      <td>...</td>\n",
       "      <td>0.0</td>\n",
       "      <td>0.0</td>\n",
       "      <td>0.0</td>\n",
       "      <td>0.0</td>\n",
       "      <td>0.0</td>\n",
       "      <td>0.0</td>\n",
       "      <td>0.0</td>\n",
       "      <td>0.0</td>\n",
       "      <td>0.0</td>\n",
       "      <td>1.0</td>\n",
       "    </tr>\n",
       "    <tr>\n",
       "      <th>5118</th>\n",
       "      <td>0.0</td>\n",
       "      <td>0.0</td>\n",
       "      <td>0.0</td>\n",
       "      <td>0.0</td>\n",
       "      <td>0.0</td>\n",
       "      <td>0.0</td>\n",
       "      <td>0.0</td>\n",
       "      <td>0.0</td>\n",
       "      <td>0.0</td>\n",
       "      <td>0.0</td>\n",
       "      <td>...</td>\n",
       "      <td>0.0</td>\n",
       "      <td>0.0</td>\n",
       "      <td>0.0</td>\n",
       "      <td>0.0</td>\n",
       "      <td>0.0</td>\n",
       "      <td>0.0</td>\n",
       "      <td>0.0</td>\n",
       "      <td>0.0</td>\n",
       "      <td>0.0</td>\n",
       "      <td>1.0</td>\n",
       "    </tr>\n",
       "    <tr>\n",
       "      <th>5119</th>\n",
       "      <td>0.0</td>\n",
       "      <td>0.0</td>\n",
       "      <td>0.0</td>\n",
       "      <td>0.0</td>\n",
       "      <td>0.0</td>\n",
       "      <td>0.0</td>\n",
       "      <td>0.0</td>\n",
       "      <td>0.0</td>\n",
       "      <td>0.0</td>\n",
       "      <td>0.0</td>\n",
       "      <td>...</td>\n",
       "      <td>0.0</td>\n",
       "      <td>0.0</td>\n",
       "      <td>0.0</td>\n",
       "      <td>0.0</td>\n",
       "      <td>0.0</td>\n",
       "      <td>0.0</td>\n",
       "      <td>0.0</td>\n",
       "      <td>0.0</td>\n",
       "      <td>0.0</td>\n",
       "      <td>1.0</td>\n",
       "    </tr>\n",
       "    <tr>\n",
       "      <th>5120</th>\n",
       "      <td>0.0</td>\n",
       "      <td>0.0</td>\n",
       "      <td>0.0</td>\n",
       "      <td>0.0</td>\n",
       "      <td>0.0</td>\n",
       "      <td>0.0</td>\n",
       "      <td>0.0</td>\n",
       "      <td>0.0</td>\n",
       "      <td>0.0</td>\n",
       "      <td>0.0</td>\n",
       "      <td>...</td>\n",
       "      <td>0.0</td>\n",
       "      <td>0.0</td>\n",
       "      <td>0.0</td>\n",
       "      <td>0.0</td>\n",
       "      <td>0.0</td>\n",
       "      <td>0.0</td>\n",
       "      <td>0.0</td>\n",
       "      <td>0.0</td>\n",
       "      <td>0.0</td>\n",
       "      <td>1.0</td>\n",
       "    </tr>\n",
       "  </tbody>\n",
       "</table>\n",
       "<p>5121 rows × 36609 columns</p>\n",
       "</div>"
      ],
      "text/plain": [
       "      pixel_0  pixel_1  pixel_2  pixel_3  pixel_4  pixel_5  pixel_6  pixel_7  \\\n",
       "0         0.0      0.0      0.0      0.0      0.0      0.0      0.0      0.0   \n",
       "1         0.0      0.0      0.0      0.0      0.0      0.0      0.0      0.0   \n",
       "2         0.0      0.0      0.0      0.0      0.0      0.0      0.0      0.0   \n",
       "3         0.0      0.0      0.0      0.0      0.0      0.0      0.0      0.0   \n",
       "4         0.0      0.0      0.0      0.0      0.0      0.0      0.0      0.0   \n",
       "...       ...      ...      ...      ...      ...      ...      ...      ...   \n",
       "5116      0.0      0.0      0.0      0.0      0.0      0.0      0.0      0.0   \n",
       "5117      0.0      0.0      0.0      0.0      0.0      0.0      0.0      0.0   \n",
       "5118      0.0      0.0      0.0      0.0      0.0      0.0      0.0      0.0   \n",
       "5119      0.0      0.0      0.0      0.0      0.0      0.0      0.0      0.0   \n",
       "5120      0.0      0.0      0.0      0.0      0.0      0.0      0.0      0.0   \n",
       "\n",
       "      pixel_8  pixel_9  ...  pixel_36599  pixel_36600  pixel_36601  \\\n",
       "0         0.0      0.0  ...          0.0          0.0          0.0   \n",
       "1         0.0      0.0  ...          0.0          0.0          0.0   \n",
       "2         0.0      0.0  ...          0.0          0.0          0.0   \n",
       "3         0.0      0.0  ...          0.0          0.0          0.0   \n",
       "4         0.0      0.0  ...          0.0          0.0          0.0   \n",
       "...       ...      ...  ...          ...          ...          ...   \n",
       "5116      0.0      0.0  ...          0.0          0.0          0.0   \n",
       "5117      0.0      0.0  ...          0.0          0.0          0.0   \n",
       "5118      0.0      0.0  ...          0.0          0.0          0.0   \n",
       "5119      0.0      0.0  ...          0.0          0.0          0.0   \n",
       "5120      0.0      0.0  ...          0.0          0.0          0.0   \n",
       "\n",
       "      pixel_36602  pixel_36603  pixel_36604  pixel_36605  pixel_36606  \\\n",
       "0             0.0          0.0          0.0          0.0          0.0   \n",
       "1             0.0          0.0          0.0          0.0          0.0   \n",
       "2             0.0          0.0          0.0          0.0          0.0   \n",
       "3             0.0          0.0          0.0          0.0          0.0   \n",
       "4             0.0          0.0          0.0          0.0          0.0   \n",
       "...           ...          ...          ...          ...          ...   \n",
       "5116          0.0          0.0          0.0          0.0          0.0   \n",
       "5117          0.0          0.0          0.0          0.0          0.0   \n",
       "5118          0.0          0.0          0.0          0.0          0.0   \n",
       "5119          0.0          0.0          0.0          0.0          0.0   \n",
       "5120          0.0          0.0          0.0          0.0          0.0   \n",
       "\n",
       "      pixel_36607  label  \n",
       "0             0.0    1.0  \n",
       "1             0.0    1.0  \n",
       "2             0.0    1.0  \n",
       "3             0.0    1.0  \n",
       "4             0.0    1.0  \n",
       "...           ...    ...  \n",
       "5116          0.0    1.0  \n",
       "5117          0.0    1.0  \n",
       "5118          0.0    1.0  \n",
       "5119          0.0    1.0  \n",
       "5120          0.0    1.0  \n",
       "\n",
       "[5121 rows x 36609 columns]"
      ]
     },
     "execution_count": 4,
     "metadata": {},
     "output_type": "execute_result"
    }
   ],
   "source": [
    "data = pd.read_csv('../image_to_csv/alzheimer_dataset.csv')\n",
    "\n",
    "data"
   ]
  },
  {
   "cell_type": "markdown",
   "id": "2ba457e4",
   "metadata": {},
   "source": [
    "# 3. Clean Data"
   ]
  },
  {
   "cell_type": "markdown",
   "id": "8d173bd4",
   "metadata": {},
   "source": [
    "## 3.1. Handle Missing Values"
   ]
  },
  {
   "cell_type": "markdown",
   "id": "31642503",
   "metadata": {},
   "source": [
    "### 3.1.1. Check Missing Values"
   ]
  },
  {
   "cell_type": "code",
   "execution_count": 5,
   "id": "2de23c61",
   "metadata": {},
   "outputs": [
    {
     "name": "stdout",
     "output_type": "stream",
     "text": [
      "<class 'pandas.core.frame.DataFrame'>\n",
      "RangeIndex: 5121 entries, 0 to 5120\n",
      "Columns: 36609 entries, pixel_0 to label\n",
      "dtypes: float64(36609)\n",
      "memory usage: 1.4 GB\n"
     ]
    }
   ],
   "source": [
    "data.info()"
   ]
  },
  {
   "cell_type": "markdown",
   "id": "c44da5d8",
   "metadata": {},
   "source": [
    "### 3.1.2. Remove Missing Values"
   ]
  },
  {
   "cell_type": "code",
   "execution_count": 6,
   "id": "57707ddf",
   "metadata": {},
   "outputs": [],
   "source": [
    "# no NaN to remove\n",
    "# data.dropna(axis=0, inplace=True)"
   ]
  },
  {
   "cell_type": "markdown",
   "id": "c00dc1e2",
   "metadata": {},
   "source": [
    "## 3.2. Handle Outliers"
   ]
  },
  {
   "cell_type": "markdown",
   "id": "89a37380",
   "metadata": {},
   "source": [
    "### 3.2.1. Check Outliers"
   ]
  },
  {
   "cell_type": "code",
   "execution_count": 7,
   "id": "6be17f6b",
   "metadata": {},
   "outputs": [
    {
     "data": {
      "text/html": [
       "<div>\n",
       "<style scoped>\n",
       "    .dataframe tbody tr th:only-of-type {\n",
       "        vertical-align: middle;\n",
       "    }\n",
       "\n",
       "    .dataframe tbody tr th {\n",
       "        vertical-align: top;\n",
       "    }\n",
       "\n",
       "    .dataframe thead th {\n",
       "        text-align: right;\n",
       "    }\n",
       "</style>\n",
       "<table border=\"1\" class=\"dataframe\">\n",
       "  <thead>\n",
       "    <tr style=\"text-align: right;\">\n",
       "      <th></th>\n",
       "      <th>pixel_0</th>\n",
       "      <th>pixel_1</th>\n",
       "      <th>pixel_2</th>\n",
       "      <th>pixel_3</th>\n",
       "      <th>pixel_4</th>\n",
       "      <th>pixel_5</th>\n",
       "      <th>pixel_6</th>\n",
       "      <th>pixel_7</th>\n",
       "      <th>pixel_8</th>\n",
       "      <th>pixel_9</th>\n",
       "      <th>...</th>\n",
       "      <th>pixel_36599</th>\n",
       "      <th>pixel_36600</th>\n",
       "      <th>pixel_36601</th>\n",
       "      <th>pixel_36602</th>\n",
       "      <th>pixel_36603</th>\n",
       "      <th>pixel_36604</th>\n",
       "      <th>pixel_36605</th>\n",
       "      <th>pixel_36606</th>\n",
       "      <th>pixel_36607</th>\n",
       "      <th>label</th>\n",
       "    </tr>\n",
       "  </thead>\n",
       "  <tbody>\n",
       "    <tr>\n",
       "      <th>count</th>\n",
       "      <td>5121.0</td>\n",
       "      <td>5121.0</td>\n",
       "      <td>5121.0</td>\n",
       "      <td>5121.0</td>\n",
       "      <td>5121.0</td>\n",
       "      <td>5121.0</td>\n",
       "      <td>5121.0</td>\n",
       "      <td>5121.0</td>\n",
       "      <td>5121.0</td>\n",
       "      <td>5121.0</td>\n",
       "      <td>...</td>\n",
       "      <td>5121.0</td>\n",
       "      <td>5121.0</td>\n",
       "      <td>5121.0</td>\n",
       "      <td>5121.0</td>\n",
       "      <td>5121.0</td>\n",
       "      <td>5121.0</td>\n",
       "      <td>5121.0</td>\n",
       "      <td>5121.0</td>\n",
       "      <td>5121.0</td>\n",
       "      <td>5121.000000</td>\n",
       "    </tr>\n",
       "    <tr>\n",
       "      <th>mean</th>\n",
       "      <td>0.0</td>\n",
       "      <td>0.0</td>\n",
       "      <td>0.0</td>\n",
       "      <td>0.0</td>\n",
       "      <td>0.0</td>\n",
       "      <td>0.0</td>\n",
       "      <td>0.0</td>\n",
       "      <td>0.0</td>\n",
       "      <td>0.0</td>\n",
       "      <td>0.0</td>\n",
       "      <td>...</td>\n",
       "      <td>0.0</td>\n",
       "      <td>0.0</td>\n",
       "      <td>0.0</td>\n",
       "      <td>0.0</td>\n",
       "      <td>0.0</td>\n",
       "      <td>0.0</td>\n",
       "      <td>0.0</td>\n",
       "      <td>0.0</td>\n",
       "      <td>0.0</td>\n",
       "      <td>0.500098</td>\n",
       "    </tr>\n",
       "    <tr>\n",
       "      <th>std</th>\n",
       "      <td>0.0</td>\n",
       "      <td>0.0</td>\n",
       "      <td>0.0</td>\n",
       "      <td>0.0</td>\n",
       "      <td>0.0</td>\n",
       "      <td>0.0</td>\n",
       "      <td>0.0</td>\n",
       "      <td>0.0</td>\n",
       "      <td>0.0</td>\n",
       "      <td>0.0</td>\n",
       "      <td>...</td>\n",
       "      <td>0.0</td>\n",
       "      <td>0.0</td>\n",
       "      <td>0.0</td>\n",
       "      <td>0.0</td>\n",
       "      <td>0.0</td>\n",
       "      <td>0.0</td>\n",
       "      <td>0.0</td>\n",
       "      <td>0.0</td>\n",
       "      <td>0.0</td>\n",
       "      <td>0.500049</td>\n",
       "    </tr>\n",
       "    <tr>\n",
       "      <th>min</th>\n",
       "      <td>0.0</td>\n",
       "      <td>0.0</td>\n",
       "      <td>0.0</td>\n",
       "      <td>0.0</td>\n",
       "      <td>0.0</td>\n",
       "      <td>0.0</td>\n",
       "      <td>0.0</td>\n",
       "      <td>0.0</td>\n",
       "      <td>0.0</td>\n",
       "      <td>0.0</td>\n",
       "      <td>...</td>\n",
       "      <td>0.0</td>\n",
       "      <td>0.0</td>\n",
       "      <td>0.0</td>\n",
       "      <td>0.0</td>\n",
       "      <td>0.0</td>\n",
       "      <td>0.0</td>\n",
       "      <td>0.0</td>\n",
       "      <td>0.0</td>\n",
       "      <td>0.0</td>\n",
       "      <td>0.000000</td>\n",
       "    </tr>\n",
       "    <tr>\n",
       "      <th>25%</th>\n",
       "      <td>0.0</td>\n",
       "      <td>0.0</td>\n",
       "      <td>0.0</td>\n",
       "      <td>0.0</td>\n",
       "      <td>0.0</td>\n",
       "      <td>0.0</td>\n",
       "      <td>0.0</td>\n",
       "      <td>0.0</td>\n",
       "      <td>0.0</td>\n",
       "      <td>0.0</td>\n",
       "      <td>...</td>\n",
       "      <td>0.0</td>\n",
       "      <td>0.0</td>\n",
       "      <td>0.0</td>\n",
       "      <td>0.0</td>\n",
       "      <td>0.0</td>\n",
       "      <td>0.0</td>\n",
       "      <td>0.0</td>\n",
       "      <td>0.0</td>\n",
       "      <td>0.0</td>\n",
       "      <td>0.000000</td>\n",
       "    </tr>\n",
       "    <tr>\n",
       "      <th>50%</th>\n",
       "      <td>0.0</td>\n",
       "      <td>0.0</td>\n",
       "      <td>0.0</td>\n",
       "      <td>0.0</td>\n",
       "      <td>0.0</td>\n",
       "      <td>0.0</td>\n",
       "      <td>0.0</td>\n",
       "      <td>0.0</td>\n",
       "      <td>0.0</td>\n",
       "      <td>0.0</td>\n",
       "      <td>...</td>\n",
       "      <td>0.0</td>\n",
       "      <td>0.0</td>\n",
       "      <td>0.0</td>\n",
       "      <td>0.0</td>\n",
       "      <td>0.0</td>\n",
       "      <td>0.0</td>\n",
       "      <td>0.0</td>\n",
       "      <td>0.0</td>\n",
       "      <td>0.0</td>\n",
       "      <td>1.000000</td>\n",
       "    </tr>\n",
       "    <tr>\n",
       "      <th>75%</th>\n",
       "      <td>0.0</td>\n",
       "      <td>0.0</td>\n",
       "      <td>0.0</td>\n",
       "      <td>0.0</td>\n",
       "      <td>0.0</td>\n",
       "      <td>0.0</td>\n",
       "      <td>0.0</td>\n",
       "      <td>0.0</td>\n",
       "      <td>0.0</td>\n",
       "      <td>0.0</td>\n",
       "      <td>...</td>\n",
       "      <td>0.0</td>\n",
       "      <td>0.0</td>\n",
       "      <td>0.0</td>\n",
       "      <td>0.0</td>\n",
       "      <td>0.0</td>\n",
       "      <td>0.0</td>\n",
       "      <td>0.0</td>\n",
       "      <td>0.0</td>\n",
       "      <td>0.0</td>\n",
       "      <td>1.000000</td>\n",
       "    </tr>\n",
       "    <tr>\n",
       "      <th>max</th>\n",
       "      <td>0.0</td>\n",
       "      <td>0.0</td>\n",
       "      <td>0.0</td>\n",
       "      <td>0.0</td>\n",
       "      <td>0.0</td>\n",
       "      <td>0.0</td>\n",
       "      <td>0.0</td>\n",
       "      <td>0.0</td>\n",
       "      <td>0.0</td>\n",
       "      <td>0.0</td>\n",
       "      <td>...</td>\n",
       "      <td>0.0</td>\n",
       "      <td>0.0</td>\n",
       "      <td>0.0</td>\n",
       "      <td>0.0</td>\n",
       "      <td>0.0</td>\n",
       "      <td>0.0</td>\n",
       "      <td>0.0</td>\n",
       "      <td>0.0</td>\n",
       "      <td>0.0</td>\n",
       "      <td>1.000000</td>\n",
       "    </tr>\n",
       "  </tbody>\n",
       "</table>\n",
       "<p>8 rows × 36609 columns</p>\n",
       "</div>"
      ],
      "text/plain": [
       "       pixel_0  pixel_1  pixel_2  pixel_3  pixel_4  pixel_5  pixel_6  pixel_7  \\\n",
       "count   5121.0   5121.0   5121.0   5121.0   5121.0   5121.0   5121.0   5121.0   \n",
       "mean       0.0      0.0      0.0      0.0      0.0      0.0      0.0      0.0   \n",
       "std        0.0      0.0      0.0      0.0      0.0      0.0      0.0      0.0   \n",
       "min        0.0      0.0      0.0      0.0      0.0      0.0      0.0      0.0   \n",
       "25%        0.0      0.0      0.0      0.0      0.0      0.0      0.0      0.0   \n",
       "50%        0.0      0.0      0.0      0.0      0.0      0.0      0.0      0.0   \n",
       "75%        0.0      0.0      0.0      0.0      0.0      0.0      0.0      0.0   \n",
       "max        0.0      0.0      0.0      0.0      0.0      0.0      0.0      0.0   \n",
       "\n",
       "       pixel_8  pixel_9  ...  pixel_36599  pixel_36600  pixel_36601  \\\n",
       "count   5121.0   5121.0  ...       5121.0       5121.0       5121.0   \n",
       "mean       0.0      0.0  ...          0.0          0.0          0.0   \n",
       "std        0.0      0.0  ...          0.0          0.0          0.0   \n",
       "min        0.0      0.0  ...          0.0          0.0          0.0   \n",
       "25%        0.0      0.0  ...          0.0          0.0          0.0   \n",
       "50%        0.0      0.0  ...          0.0          0.0          0.0   \n",
       "75%        0.0      0.0  ...          0.0          0.0          0.0   \n",
       "max        0.0      0.0  ...          0.0          0.0          0.0   \n",
       "\n",
       "       pixel_36602  pixel_36603  pixel_36604  pixel_36605  pixel_36606  \\\n",
       "count       5121.0       5121.0       5121.0       5121.0       5121.0   \n",
       "mean           0.0          0.0          0.0          0.0          0.0   \n",
       "std            0.0          0.0          0.0          0.0          0.0   \n",
       "min            0.0          0.0          0.0          0.0          0.0   \n",
       "25%            0.0          0.0          0.0          0.0          0.0   \n",
       "50%            0.0          0.0          0.0          0.0          0.0   \n",
       "75%            0.0          0.0          0.0          0.0          0.0   \n",
       "max            0.0          0.0          0.0          0.0          0.0   \n",
       "\n",
       "       pixel_36607        label  \n",
       "count       5121.0  5121.000000  \n",
       "mean           0.0     0.500098  \n",
       "std            0.0     0.500049  \n",
       "min            0.0     0.000000  \n",
       "25%            0.0     0.000000  \n",
       "50%            0.0     1.000000  \n",
       "75%            0.0     1.000000  \n",
       "max            0.0     1.000000  \n",
       "\n",
       "[8 rows x 36609 columns]"
      ]
     },
     "execution_count": 7,
     "metadata": {},
     "output_type": "execute_result"
    }
   ],
   "source": [
    "data.describe()"
   ]
  },
  {
   "cell_type": "markdown",
   "id": "d782326a",
   "metadata": {},
   "source": [
    "### 3.2.2. Remove Outliers"
   ]
  },
  {
   "cell_type": "code",
   "execution_count": 8,
   "id": "11e9d35b",
   "metadata": {},
   "outputs": [],
   "source": [
    "# no outlier to remove"
   ]
  },
  {
   "cell_type": "markdown",
   "id": "a58ec641",
   "metadata": {},
   "source": [
    "# 4. Split Dataset into Training & Test Sets"
   ]
  },
  {
   "cell_type": "code",
   "execution_count": 9,
   "id": "f55759e1",
   "metadata": {},
   "outputs": [],
   "source": [
    "target_name = 'label'\n",
    "feature_name = list(data.columns.drop(target_name))"
   ]
  },
  {
   "cell_type": "code",
   "execution_count": 10,
   "id": "200b638d",
   "metadata": {},
   "outputs": [],
   "source": [
    "X = data[feature_name]\n",
    "y = data[target_name]"
   ]
  },
  {
   "cell_type": "code",
   "execution_count": 11,
   "id": "f754053c",
   "metadata": {},
   "outputs": [],
   "source": [
    "X_train, X_test, y_train, y_test = train_test_split(X, y, test_size=0.20, shuffle=True)"
   ]
  },
  {
   "cell_type": "markdown",
   "id": "37dbd7e8",
   "metadata": {},
   "source": [
    "# 5. Data Preparation"
   ]
  },
  {
   "cell_type": "markdown",
   "id": "bd566633",
   "metadata": {},
   "source": [
    "## ### 5.1. Ordinal Encoding"
   ]
  },
  {
   "cell_type": "markdown",
   "id": "b59dad3e",
   "metadata": {},
   "source": [
    "## ### 5.2. One Hot Encoding"
   ]
  },
  {
   "cell_type": "markdown",
   "id": "535bb9d8",
   "metadata": {},
   "source": [
    "## 5.3. Feature Scaling"
   ]
  },
  {
   "cell_type": "markdown",
   "id": "c2d72322",
   "metadata": {},
   "source": [
    "### 5.3.1. Training Set"
   ]
  },
  {
   "cell_type": "code",
   "execution_count": 12,
   "id": "4c8c2162",
   "metadata": {},
   "outputs": [],
   "source": [
    "scaler = MinMaxScaler()\n",
    "X_train_scaled = scaler.fit_transform(X_train)"
   ]
  },
  {
   "cell_type": "markdown",
   "id": "4b6b08cb",
   "metadata": {},
   "source": [
    "### 5.3.2. Test Set"
   ]
  },
  {
   "cell_type": "code",
   "execution_count": 13,
   "id": "bd61267f",
   "metadata": {},
   "outputs": [],
   "source": [
    "X_test_scaled = scaler.transform(X_test)"
   ]
  },
  {
   "cell_type": "markdown",
   "id": "b675efa0",
   "metadata": {},
   "source": [
    "# 6. Model Creation"
   ]
  },
  {
   "cell_type": "markdown",
   "id": "1a10bac7",
   "metadata": {},
   "source": [
    "## 6.1. Setting Parameters"
   ]
  },
  {
   "cell_type": "code",
   "execution_count": 14,
   "id": "c8163dc3",
   "metadata": {},
   "outputs": [],
   "source": [
    "classes = np.unique(y_train)"
   ]
  },
  {
   "cell_type": "code",
   "execution_count": 15,
   "id": "a3c7819d",
   "metadata": {},
   "outputs": [],
   "source": [
    "clf = PytorchMLPClassifier(\n",
    "    input_dim=X_train_scaled.shape[1],\n",
    "    hidden_layer_sizes=(50, 10, 10),\n",
    "    activation_function='relu',\n",
    "    classes=classes,\n",
    "    learning_rate_init=0.00015,\n",
    "    epochs=100,\n",
    "    validation_split=0.1,\n",
    "    use_gpu=True,\n",
    "    class_weight='balanced',\n",
    "    l1_lambda=0.0,\n",
    "    l2_lambda=0.001,\n",
    "    dropout_rate=[0, 0, 0],\n",
    "    solver='adam',\n",
    "    batch_size=64\n",
    ")"
   ]
  },
  {
   "cell_type": "markdown",
   "id": "c2122317",
   "metadata": {},
   "source": [
    "## 6.2. Train Model"
   ]
  },
  {
   "cell_type": "code",
   "execution_count": 16,
   "id": "44966bc0",
   "metadata": {},
   "outputs": [
    {
     "data": {
      "application/vnd.jupyter.widget-view+json": {
       "model_id": "8788a8b0afd84b45841ec12f811728dd",
       "version_major": 2,
       "version_minor": 0
      },
      "text/plain": [
       "  0%|          | 0/100 [00:00<?, ?it/s]"
      ]
     },
     "metadata": {},
     "output_type": "display_data"
    },
    {
     "data": {
      "text/plain": [
       "{'loss': [0.675678661157345,\n",
       "  0.6184298550260479,\n",
       "  0.579392454747496,\n",
       "  0.5751399187178448,\n",
       "  0.5356447491152533,\n",
       "  0.5122894218255734,\n",
       "  0.49420056209481994,\n",
       "  0.47931430617283133,\n",
       "  0.46380032187905806,\n",
       "  0.44016403833339957,\n",
       "  0.40892713337109005,\n",
       "  0.4311609561073369,\n",
       "  0.3839271782801069,\n",
       "  0.36713038127997827,\n",
       "  0.3421125437678962,\n",
       "  0.3392448969956102,\n",
       "  0.32486149334701997,\n",
       "  0.3004541561521333,\n",
       "  0.285899229861539,\n",
       "  0.27809364168808376,\n",
       "  0.2532190608567205,\n",
       "  0.24690395773484788,\n",
       "  0.2365012263943409,\n",
       "  0.22306594432427965,\n",
       "  0.21271136711383687,\n",
       "  0.21083830849363885,\n",
       "  0.1907128650566627,\n",
       "  0.17988995963643337,\n",
       "  0.18941429154626255,\n",
       "  0.16182829516715017,\n",
       "  0.15664986572388945,\n",
       "  0.14961526992505994,\n",
       "  0.14585912150555644,\n",
       "  0.12897798406152888,\n",
       "  0.1256388046875082,\n",
       "  0.11819191835820675,\n",
       "  0.10952071871223121,\n",
       "  0.1065654456615448,\n",
       "  0.09686363623316946,\n",
       "  0.1100675506067687,\n",
       "  0.09034421327042169,\n",
       "  0.08662220964144016,\n",
       "  0.07825487697946615,\n",
       "  0.1020626713489664,\n",
       "  0.08084482442716072,\n",
       "  0.06430291416573114,\n",
       "  0.09928202808930955,\n",
       "  0.0651496298097331,\n",
       "  0.06082834232727002,\n",
       "  0.04932555177345358,\n",
       "  0.05070053339646808,\n",
       "  0.04547537782968118,\n",
       "  0.04839867629624646,\n",
       "  0.04039595533033897,\n",
       "  0.03973594307899475,\n",
       "  0.04548055229002032,\n",
       "  0.042758240332377365,\n",
       "  0.03333171543761574,\n",
       "  0.03226949422266977,\n",
       "  0.032173884358128596,\n",
       "  0.03289104407203609,\n",
       "  0.032544490206858206,\n",
       "  0.028263753922335034,\n",
       "  0.03671478793217704,\n",
       "  0.023024031266184717,\n",
       "  0.023870302621146727,\n",
       "  0.019916378122208447,\n",
       "  0.018895258821932406,\n",
       "  0.021255926148773266,\n",
       "  0.017844480446315016,\n",
       "  0.016003605018466198,\n",
       "  0.0157525516115129,\n",
       "  0.020999728429034865,\n",
       "  0.01530420285617483,\n",
       "  0.014213910527077728,\n",
       "  0.013637121309173005,\n",
       "  0.01663542269118901,\n",
       "  0.01178394612888324,\n",
       "  0.011798988385447141,\n",
       "  0.02984226066298012,\n",
       "  0.010024369244688544,\n",
       "  0.010984223191465798,\n",
       "  0.009872284838287481,\n",
       "  0.0115129127937915,\n",
       "  0.31224430490542077,\n",
       "  0.09505566818125803,\n",
       "  0.018832296887733812,\n",
       "  0.018339491722270333,\n",
       "  0.017545180957250554,\n",
       "  0.016172017613104706,\n",
       "  0.015211593953828359,\n",
       "  0.01544597704798497,\n",
       "  0.014986777373043627,\n",
       "  0.014138240776634935,\n",
       "  0.013714779810658816,\n",
       "  0.013398857369762042,\n",
       "  0.012469182320838344,\n",
       "  0.01253464198992427,\n",
       "  0.012042186536087558,\n",
       "  0.011882019237261909],\n",
       " 'val_loss': [0.6537402272224426,\n",
       "  0.6286895871162415,\n",
       "  0.5951303243637085,\n",
       "  0.624671459197998,\n",
       "  0.5788451433181763,\n",
       "  0.5617032051086426,\n",
       "  0.5551307201385498,\n",
       "  0.5224273204803467,\n",
       "  0.5195572972297668,\n",
       "  0.491083025932312,\n",
       "  0.47250980138778687,\n",
       "  0.47422003746032715,\n",
       "  0.46101537346839905,\n",
       "  0.42774498462677,\n",
       "  0.41127604246139526,\n",
       "  0.45441585779190063,\n",
       "  0.3874402642250061,\n",
       "  0.37733685970306396,\n",
       "  0.3896753489971161,\n",
       "  0.35889092087745667,\n",
       "  0.34574928879737854,\n",
       "  0.3324204683303833,\n",
       "  0.3201192021369934,\n",
       "  0.3535080552101135,\n",
       "  0.30378156900405884,\n",
       "  0.36940816044807434,\n",
       "  0.2842674255371094,\n",
       "  0.3296925127506256,\n",
       "  0.26965537667274475,\n",
       "  0.31489142775535583,\n",
       "  0.25366657972335815,\n",
       "  0.33587077260017395,\n",
       "  0.25613486766815186,\n",
       "  0.24137134850025177,\n",
       "  0.2996665835380554,\n",
       "  0.22258083522319794,\n",
       "  0.21999071538448334,\n",
       "  0.2087288796901703,\n",
       "  0.21040573716163635,\n",
       "  0.22363799810409546,\n",
       "  0.197810560464859,\n",
       "  0.19468270242214203,\n",
       "  0.19145427644252777,\n",
       "  0.20814034342765808,\n",
       "  0.18908904492855072,\n",
       "  0.19202202558517456,\n",
       "  0.1882670372724533,\n",
       "  0.17386914789676666,\n",
       "  0.17186209559440613,\n",
       "  0.16854725778102875,\n",
       "  0.16419759392738342,\n",
       "  0.16292713582515717,\n",
       "  0.16833940148353577,\n",
       "  0.1609928160905838,\n",
       "  0.16112448275089264,\n",
       "  0.24627573788166046,\n",
       "  0.16158796846866608,\n",
       "  0.15236280858516693,\n",
       "  0.14597760140895844,\n",
       "  0.1474658101797104,\n",
       "  0.1478257030248642,\n",
       "  0.14851227402687073,\n",
       "  0.1724158674478531,\n",
       "  0.14299632608890533,\n",
       "  0.13917270302772522,\n",
       "  0.13997463881969452,\n",
       "  0.13816751539707184,\n",
       "  0.13554634153842926,\n",
       "  0.13723742961883545,\n",
       "  0.13517150282859802,\n",
       "  0.13634145259857178,\n",
       "  0.13693208992481232,\n",
       "  0.13268893957138062,\n",
       "  0.16053682565689087,\n",
       "  0.13230566680431366,\n",
       "  0.1852978765964508,\n",
       "  0.12825754284858704,\n",
       "  0.13840323686599731,\n",
       "  0.12732554972171783,\n",
       "  0.1352582573890686,\n",
       "  0.1297730654478073,\n",
       "  0.13241389393806458,\n",
       "  0.12809379398822784,\n",
       "  0.18192847073078156,\n",
       "  0.39557456970214844,\n",
       "  0.14655274152755737,\n",
       "  0.14167582988739014,\n",
       "  0.13475941121578217,\n",
       "  0.13760870695114136,\n",
       "  0.1326477974653244,\n",
       "  0.13315370678901672,\n",
       "  0.128841832280159,\n",
       "  0.1336022913455963,\n",
       "  0.12835955619812012,\n",
       "  0.13446471095085144,\n",
       "  0.12841366231441498,\n",
       "  0.12608174979686737,\n",
       "  0.12512680888175964,\n",
       "  0.12617863714694977,\n",
       "  0.13043329119682312]}"
      ]
     },
     "execution_count": 16,
     "metadata": {},
     "output_type": "execute_result"
    }
   ],
   "source": [
    "clf.fit(X_train_scaled, y_train)"
   ]
  },
  {
   "cell_type": "markdown",
   "id": "e79c3dac",
   "metadata": {},
   "source": [
    "## 6.3. Loss Curve"
   ]
  },
  {
   "cell_type": "code",
   "execution_count": 17,
   "id": "65e0b51b",
   "metadata": {
    "scrolled": true
   },
   "outputs": [
    {
     "data": {
      "text/plain": [
       "<matplotlib.legend.Legend at 0x16af811c0>"
      ]
     },
     "execution_count": 17,
     "metadata": {},
     "output_type": "execute_result"
    },
    {
     "data": {
      "image/png": "[encoded data removed]",
      "text/plain": [
       "<Figure size 432x288 with 1 Axes>"
      ]
     },
     "metadata": {
      "needs_background": "light"
     },
     "output_type": "display_data"
    }
   ],
   "source": [
    "plt.plot(clf.loss_curve_, label='training_loss')\n",
    "plt.plot(clf.val_loss_curve_, label='validation_loss')\n",
    "plt.xlabel('epoch')\n",
    "plt.ylabel('loss')\n",
    "plt.legend()"
   ]
  },
  {
   "cell_type": "markdown",
   "id": "b0f38bca",
   "metadata": {},
   "source": [
    "## 6.4. Model's Weight & Bias"
   ]
  },
  {
   "cell_type": "code",
   "execution_count": 18,
   "id": "140324ac",
   "metadata": {},
   "outputs": [
    {
     "name": "stdout",
     "output_type": "stream",
     "text": [
      "(36608, 50)\n",
      "(50, 10)\n",
      "(10, 10)\n",
      "(10, 2)\n"
     ]
    }
   ],
   "source": [
    "for coef_ in clf.coefs_:\n",
    "    print(coef_.shape)"
   ]
  },
  {
   "cell_type": "code",
   "execution_count": 19,
   "id": "3324c5d3",
   "metadata": {
    "scrolled": true
   },
   "outputs": [
    {
     "name": "stdout",
     "output_type": "stream",
     "text": [
      "(50,)\n",
      "(10,)\n",
      "(10,)\n",
      "(2,)\n"
     ]
    }
   ],
   "source": [
    "for intercept_ in clf.intercepts_:\n",
    "    print(intercept_.shape)"
   ]
  },
  {
   "cell_type": "markdown",
   "id": "790c1273",
   "metadata": {},
   "source": [
    "# 7. Prediction"
   ]
  },
  {
   "cell_type": "markdown",
   "id": "1ca0382a",
   "metadata": {},
   "source": [
    "## 7.1. Training Set"
   ]
  },
  {
   "cell_type": "code",
   "execution_count": 20,
   "id": "95f8e7a1",
   "metadata": {},
   "outputs": [],
   "source": [
    "y_pred_train = clf.predict(X_train_scaled)"
   ]
  },
  {
   "cell_type": "markdown",
   "id": "7ab051b1",
   "metadata": {},
   "source": [
    "## 7.2. Test Set"
   ]
  },
  {
   "cell_type": "code",
   "execution_count": 21,
   "id": "1a3db6bd",
   "metadata": {},
   "outputs": [],
   "source": [
    "y_pred_test = clf.predict(X_test_scaled)"
   ]
  },
  {
   "cell_type": "markdown",
   "id": "72a16acb",
   "metadata": {},
   "source": [
    "# 8. Model Evaluation"
   ]
  },
  {
   "cell_type": "markdown",
   "id": "7f9d943a",
   "metadata": {},
   "source": [
    "## 8.1. Training Set"
   ]
  },
  {
   "cell_type": "markdown",
   "id": "55f96f40",
   "metadata": {},
   "source": [
    "### 8.1.1. Confusion Matrix"
   ]
  },
  {
   "cell_type": "code",
   "execution_count": 22,
   "id": "8eb5f70b",
   "metadata": {},
   "outputs": [
    {
     "data": {
      "image/png": "[encoded data removed]",
      "text/plain": [
       "<Figure size 432x288 with 2 Axes>"
      ]
     },
     "metadata": {
      "needs_background": "light"
     },
     "output_type": "display_data"
    }
   ],
   "source": [
    "cm = confusion_matrix(y_train, y_pred_train)\n",
    "make_confusion_matrix(\n",
    "    cm,\n",
    "    cmap='viridis',\n",
    "    categories=classes,\n",
    "    sum_stats=False,\n",
    "    percent=False,\n",
    ")\n",
    "plt.show()"
   ]
  },
  {
   "cell_type": "markdown",
   "id": "6fb54b57",
   "metadata": {},
   "source": [
    "### 8.1.2. Scoring"
   ]
  },
  {
   "cell_type": "code",
   "execution_count": 23,
   "id": "527a7b37",
   "metadata": {},
   "outputs": [],
   "source": [
    "report = classification_report(y_train, y_pred_train, output_dict=True)"
   ]
  },
  {
   "cell_type": "code",
   "execution_count": 24,
   "id": "042c261e",
   "metadata": {},
   "outputs": [
    {
     "data": {
      "text/html": [
       "<div>\n",
       "<style scoped>\n",
       "    .dataframe tbody tr th:only-of-type {\n",
       "        vertical-align: middle;\n",
       "    }\n",
       "\n",
       "    .dataframe tbody tr th {\n",
       "        vertical-align: top;\n",
       "    }\n",
       "\n",
       "    .dataframe thead th {\n",
       "        text-align: right;\n",
       "    }\n",
       "</style>\n",
       "<table border=\"1\" class=\"dataframe\">\n",
       "  <thead>\n",
       "    <tr style=\"text-align: right;\">\n",
       "      <th></th>\n",
       "      <th>precision</th>\n",
       "      <th>recall</th>\n",
       "      <th>f1-score</th>\n",
       "      <th>support</th>\n",
       "    </tr>\n",
       "  </thead>\n",
       "  <tbody>\n",
       "    <tr>\n",
       "      <th>0.0</th>\n",
       "      <td>0.995136</td>\n",
       "      <td>0.997076</td>\n",
       "      <td>0.996105</td>\n",
       "      <td>2052.000000</td>\n",
       "    </tr>\n",
       "    <tr>\n",
       "      <th>1.0</th>\n",
       "      <td>0.997059</td>\n",
       "      <td>0.995108</td>\n",
       "      <td>0.996082</td>\n",
       "      <td>2044.000000</td>\n",
       "    </tr>\n",
       "    <tr>\n",
       "      <th>accuracy</th>\n",
       "      <td>0.996094</td>\n",
       "      <td>0.996094</td>\n",
       "      <td>0.996094</td>\n",
       "      <td>0.996094</td>\n",
       "    </tr>\n",
       "    <tr>\n",
       "      <th>macro avg</th>\n",
       "      <td>0.996098</td>\n",
       "      <td>0.996092</td>\n",
       "      <td>0.996094</td>\n",
       "      <td>4096.000000</td>\n",
       "    </tr>\n",
       "    <tr>\n",
       "      <th>weighted avg</th>\n",
       "      <td>0.996096</td>\n",
       "      <td>0.996094</td>\n",
       "      <td>0.996094</td>\n",
       "      <td>4096.000000</td>\n",
       "    </tr>\n",
       "  </tbody>\n",
       "</table>\n",
       "</div>"
      ],
      "text/plain": [
       "              precision    recall  f1-score      support\n",
       "0.0            0.995136  0.997076  0.996105  2052.000000\n",
       "1.0            0.997059  0.995108  0.996082  2044.000000\n",
       "accuracy       0.996094  0.996094  0.996094     0.996094\n",
       "macro avg      0.996098  0.996092  0.996094  4096.000000\n",
       "weighted avg   0.996096  0.996094  0.996094  4096.000000"
      ]
     },
     "execution_count": 24,
     "metadata": {},
     "output_type": "execute_result"
    }
   ],
   "source": [
    "pd.DataFrame.from_dict(report).T"
   ]
  },
  {
   "cell_type": "markdown",
   "id": "9533f763",
   "metadata": {},
   "source": [
    "## 8.2. Test Set"
   ]
  },
  {
   "cell_type": "markdown",
   "id": "ef10b301",
   "metadata": {},
   "source": [
    "### 8.2.1. Confusion Matrix"
   ]
  },
  {
   "cell_type": "code",
   "execution_count": 25,
   "id": "aa27890a",
   "metadata": {},
   "outputs": [
    {
     "data": {
      "image/png": "[encoded data removed]",
      "text/plain": [
       "<Figure size 432x288 with 2 Axes>"
      ]
     },
     "metadata": {
      "needs_background": "light"
     },
     "output_type": "display_data"
    }
   ],
   "source": [
    "cm = confusion_matrix(y_test, y_pred_test)\n",
    "make_confusion_matrix(\n",
    "    cm,\n",
    "    cmap='viridis',\n",
    "    categories=classes,\n",
    "    sum_stats=False,\n",
    "    percent=False,\n",
    ")\n",
    "plt.show()"
   ]
  },
  {
   "cell_type": "markdown",
   "id": "cefece92",
   "metadata": {},
   "source": [
    "### 8.2.2. Scoring"
   ]
  },
  {
   "cell_type": "code",
   "execution_count": 26,
   "id": "9f72a11f",
   "metadata": {},
   "outputs": [],
   "source": [
    "report = classification_report(y_test, y_pred_test, output_dict=True)"
   ]
  },
  {
   "cell_type": "code",
   "execution_count": 27,
   "id": "a60bb854",
   "metadata": {
    "scrolled": true
   },
   "outputs": [
    {
     "data": {
      "text/html": [
       "<div>\n",
       "<style scoped>\n",
       "    .dataframe tbody tr th:only-of-type {\n",
       "        vertical-align: middle;\n",
       "    }\n",
       "\n",
       "    .dataframe tbody tr th {\n",
       "        vertical-align: top;\n",
       "    }\n",
       "\n",
       "    .dataframe thead th {\n",
       "        text-align: right;\n",
       "    }\n",
       "</style>\n",
       "<table border=\"1\" class=\"dataframe\">\n",
       "  <thead>\n",
       "    <tr style=\"text-align: right;\">\n",
       "      <th></th>\n",
       "      <th>precision</th>\n",
       "      <th>recall</th>\n",
       "      <th>f1-score</th>\n",
       "      <th>support</th>\n",
       "    </tr>\n",
       "  </thead>\n",
       "  <tbody>\n",
       "    <tr>\n",
       "      <th>0.0</th>\n",
       "      <td>0.943074</td>\n",
       "      <td>0.978346</td>\n",
       "      <td>0.960386</td>\n",
       "      <td>508.00</td>\n",
       "    </tr>\n",
       "    <tr>\n",
       "      <th>1.0</th>\n",
       "      <td>0.977912</td>\n",
       "      <td>0.941973</td>\n",
       "      <td>0.959606</td>\n",
       "      <td>517.00</td>\n",
       "    </tr>\n",
       "    <tr>\n",
       "      <th>accuracy</th>\n",
       "      <td>0.960000</td>\n",
       "      <td>0.960000</td>\n",
       "      <td>0.960000</td>\n",
       "      <td>0.96</td>\n",
       "    </tr>\n",
       "    <tr>\n",
       "      <th>macro avg</th>\n",
       "      <td>0.960493</td>\n",
       "      <td>0.960160</td>\n",
       "      <td>0.959996</td>\n",
       "      <td>1025.00</td>\n",
       "    </tr>\n",
       "    <tr>\n",
       "      <th>weighted avg</th>\n",
       "      <td>0.960646</td>\n",
       "      <td>0.960000</td>\n",
       "      <td>0.959993</td>\n",
       "      <td>1025.00</td>\n",
       "    </tr>\n",
       "  </tbody>\n",
       "</table>\n",
       "</div>"
      ],
      "text/plain": [
       "              precision    recall  f1-score  support\n",
       "0.0            0.943074  0.978346  0.960386   508.00\n",
       "1.0            0.977912  0.941973  0.959606   517.00\n",
       "accuracy       0.960000  0.960000  0.960000     0.96\n",
       "macro avg      0.960493  0.960160  0.959996  1025.00\n",
       "weighted avg   0.960646  0.960000  0.959993  1025.00"
      ]
     },
     "execution_count": 27,
     "metadata": {},
     "output_type": "execute_result"
    }
   ],
   "source": [
    "pd.DataFrame.from_dict(report).T"
   ]
  },
  {
   "cell_type": "markdown",
   "id": "a8f29c2b",
   "metadata": {},
   "source": [
    "# 9. Save Model"
   ]
  },
  {
   "cell_type": "code",
   "execution_count": 28,
   "id": "cc102ce0",
   "metadata": {},
   "outputs": [],
   "source": [
    "clf.save_model('alzheimer_model')"
   ]
  },
  {
   "cell_type": "code",
   "execution_count": 29,
   "id": "66ea1ce9",
   "metadata": {},
   "outputs": [],
   "source": [
    "import pickle"
   ]
  },
  {
   "cell_type": "code",
   "execution_count": 30,
   "id": "8d2a63e5",
   "metadata": {},
   "outputs": [],
   "source": [
    "pickle.dump((scaler), open('alzheimer_env.pickle', 'wb'))"
   ]
  }
 ],
 "metadata": {
  "kernelspec": {
   "display_name": "Python 3",
   "language": "python",
   "name": "python3"
  },
  "language_info": {
   "codemirror_mode": {
    "name": "ipython",
    "version": 3
   },
   "file_extension": ".py",
   "mimetype": "text/x-python",
   "name": "python",
   "nbconvert_exporter": "python",
   "pygments_lexer": "ipython3",
   "version": "3.8.8"
  }
 },
 "nbformat": 4,
 "nbformat_minor": 5
}
