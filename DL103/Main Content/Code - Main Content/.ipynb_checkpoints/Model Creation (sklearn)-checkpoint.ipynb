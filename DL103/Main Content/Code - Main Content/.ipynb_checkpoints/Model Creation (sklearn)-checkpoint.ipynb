{
 "cells": [
  {
   "cell_type": "code",
   "execution_count": 1,
   "id": "d19cac4c",
   "metadata": {},
   "outputs": [],
   "source": [
    "import numpy as np\n",
    "import pandas as pd\n",
    "import matplotlib.pyplot as plt\n",
    "\n",
    "from sklearn.neural_network import MLPRegressor"
   ]
  },
  {
   "cell_type": "markdown",
   "id": "17eb4b80",
   "metadata": {},
   "source": [
    "# ========== Data =========="
   ]
  },
  {
   "cell_type": "code",
   "execution_count": 2,
   "id": "c1b1fa37",
   "metadata": {},
   "outputs": [],
   "source": [
    "data = pd.read_csv('dataset.csv')"
   ]
  },
  {
   "cell_type": "code",
   "execution_count": 3,
   "id": "9a238791",
   "metadata": {},
   "outputs": [
    {
     "data": {
      "text/html": [
       "<div>\n",
       "<style scoped>\n",
       "    .dataframe tbody tr th:only-of-type {\n",
       "        vertical-align: middle;\n",
       "    }\n",
       "\n",
       "    .dataframe tbody tr th {\n",
       "        vertical-align: top;\n",
       "    }\n",
       "\n",
       "    .dataframe thead th {\n",
       "        text-align: right;\n",
       "    }\n",
       "</style>\n",
       "<table border=\"1\" class=\"dataframe\">\n",
       "  <thead>\n",
       "    <tr style=\"text-align: right;\">\n",
       "      <th></th>\n",
       "      <th>x1</th>\n",
       "      <th>x2</th>\n",
       "      <th>y</th>\n",
       "    </tr>\n",
       "  </thead>\n",
       "  <tbody>\n",
       "    <tr>\n",
       "      <th>0</th>\n",
       "      <td>0</td>\n",
       "      <td>2</td>\n",
       "      <td>4</td>\n",
       "    </tr>\n",
       "    <tr>\n",
       "      <th>1</th>\n",
       "      <td>2</td>\n",
       "      <td>1</td>\n",
       "      <td>8</td>\n",
       "    </tr>\n",
       "    <tr>\n",
       "      <th>2</th>\n",
       "      <td>1</td>\n",
       "      <td>-2</td>\n",
       "      <td>-5</td>\n",
       "    </tr>\n",
       "    <tr>\n",
       "      <th>3</th>\n",
       "      <td>-1</td>\n",
       "      <td>0</td>\n",
       "      <td>-1</td>\n",
       "    </tr>\n",
       "  </tbody>\n",
       "</table>\n",
       "</div>"
      ],
      "text/plain": [
       "   x1  x2  y\n",
       "0   0   2  4\n",
       "1   2   1  8\n",
       "2   1  -2 -5\n",
       "3  -1   0 -1"
      ]
     },
     "execution_count": 3,
     "metadata": {},
     "output_type": "execute_result"
    }
   ],
   "source": [
    "data"
   ]
  },
  {
   "cell_type": "code",
   "execution_count": 4,
   "id": "ea938163",
   "metadata": {},
   "outputs": [],
   "source": [
    "X = data[['x1', 'x2']]"
   ]
  },
  {
   "cell_type": "code",
   "execution_count": 5,
   "id": "5addee36",
   "metadata": {},
   "outputs": [],
   "source": [
    "y = data['y']"
   ]
  },
  {
   "cell_type": "markdown",
   "id": "f2784d94",
   "metadata": {},
   "source": [
    "# ========== Model =========="
   ]
  },
  {
   "cell_type": "code",
   "execution_count": 6,
   "id": "37e8e3fb",
   "metadata": {},
   "outputs": [],
   "source": [
    "reg = MLPRegressor(\n",
    "    hidden_layer_sizes=(5, 5),\n",
    "    activation='relu',\n",
    "    solver='sgd',\n",
    "    alpha=0,\n",
    "    learning_rate_init=0.01,\n",
    "    max_iter=1000,\n",
    "    momentum=0,\n",
    ")"
   ]
  },
  {
   "cell_type": "code",
   "execution_count": 7,
   "id": "a7d42ec2",
   "metadata": {},
   "outputs": [
    {
     "data": {
      "text/plain": [
       "MLPRegressor(alpha=0, hidden_layer_sizes=(5, 5), learning_rate_init=0.01,\n",
       "             max_iter=1000, momentum=0, solver='sgd')"
      ]
     },
     "execution_count": 7,
     "metadata": {},
     "output_type": "execute_result"
    }
   ],
   "source": [
    "reg.fit(X, y)"
   ]
  },
  {
   "cell_type": "code",
   "execution_count": 8,
   "id": "6fef2a39",
   "metadata": {},
   "outputs": [
    {
     "data": {
      "text/plain": [
       "[<matplotlib.lines.Line2D at 0x11e3fb5b0>]"
      ]
     },
     "execution_count": 8,
     "metadata": {},
     "output_type": "execute_result"
    },
    {
     "data": {
      "image/png": "[encoded data removed]",
      "text/plain": [
       "<Figure size 432x288 with 1 Axes>"
      ]
     },
     "metadata": {
      "needs_background": "light"
     },
     "output_type": "display_data"
    }
   ],
   "source": [
    "plt.plot(reg.loss_curve_)"
   ]
  },
  {
   "cell_type": "code",
   "execution_count": 9,
   "id": "b759dee4",
   "metadata": {},
   "outputs": [
    {
     "data": {
      "text/plain": [
       "[array([-0.34946202, -0.58331976,  0.62382208,  0.48118711, -0.03061204]),\n",
       " array([ 0.51263879, -0.67650094,  0.19583482, -0.52269878, -0.22932672]),\n",
       " array([-0.56166039])]"
      ]
     },
     "execution_count": 9,
     "metadata": {},
     "output_type": "execute_result"
    }
   ],
   "source": [
    "reg.intercepts_"
   ]
  },
  {
   "cell_type": "code",
   "execution_count": 10,
   "id": "ec2cdbb5",
   "metadata": {},
   "outputs": [
    {
     "data": {
      "text/plain": [
       "[array([[-1.80441222e-01,  5.90304189e-01,  9.58348364e-05,\n",
       "          5.05944020e-01,  1.31433997e+00],\n",
       "        [ 2.96462759e-01, -1.21900444e+00,  8.97778365e-01,\n",
       "         -1.53251549e-01,  9.12669091e-01]]),\n",
       " array([[-0.77187743, -0.18647846,  0.50482656, -0.10862934, -0.26267654],\n",
       "        [ 0.40782972, -0.31485419, -0.64851201,  0.35319969,  0.94851143],\n",
       "        [ 0.7769886 ,  0.59009912,  0.15082797,  0.83729781,  0.10162954],\n",
       "        [ 0.75032417, -0.58276682,  0.71690602, -0.51960542,  0.20961638],\n",
       "        [-0.78260873, -0.71662025,  1.35264428, -0.42753114, -0.36334696]]),\n",
       " array([[-0.67218137],\n",
       "        [ 0.51076594],\n",
       "        [ 1.39590217],\n",
       "        [ 1.0429024 ],\n",
       "        [-1.17991935]])]"
      ]
     },
     "execution_count": 10,
     "metadata": {},
     "output_type": "execute_result"
    }
   ],
   "source": [
    "reg.coefs_"
   ]
  },
  {
   "cell_type": "markdown",
   "id": "fbb76602",
   "metadata": {},
   "source": [
    "# ========== Prediction =========="
   ]
  },
  {
   "cell_type": "code",
   "execution_count": 11,
   "id": "c08f25ac",
   "metadata": {},
   "outputs": [],
   "source": [
    "X = pd.read_csv('incoming_data.csv')"
   ]
  },
  {
   "cell_type": "code",
   "execution_count": 12,
   "id": "151a1903",
   "metadata": {},
   "outputs": [
    {
     "data": {
      "text/html": [
       "<div>\n",
       "<style scoped>\n",
       "    .dataframe tbody tr th:only-of-type {\n",
       "        vertical-align: middle;\n",
       "    }\n",
       "\n",
       "    .dataframe tbody tr th {\n",
       "        vertical-align: top;\n",
       "    }\n",
       "\n",
       "    .dataframe thead th {\n",
       "        text-align: right;\n",
       "    }\n",
       "</style>\n",
       "<table border=\"1\" class=\"dataframe\">\n",
       "  <thead>\n",
       "    <tr style=\"text-align: right;\">\n",
       "      <th></th>\n",
       "      <th>x1</th>\n",
       "      <th>x2</th>\n",
       "    </tr>\n",
       "  </thead>\n",
       "  <tbody>\n",
       "    <tr>\n",
       "      <th>0</th>\n",
       "      <td>0</td>\n",
       "      <td>1</td>\n",
       "    </tr>\n",
       "    <tr>\n",
       "      <th>1</th>\n",
       "      <td>2</td>\n",
       "      <td>-1</td>\n",
       "    </tr>\n",
       "    <tr>\n",
       "      <th>2</th>\n",
       "      <td>1</td>\n",
       "      <td>0</td>\n",
       "    </tr>\n",
       "    <tr>\n",
       "      <th>3</th>\n",
       "      <td>-1</td>\n",
       "      <td>2</td>\n",
       "    </tr>\n",
       "  </tbody>\n",
       "</table>\n",
       "</div>"
      ],
      "text/plain": [
       "   x1  x2\n",
       "0   0   1\n",
       "1   2  -1\n",
       "2   1   0\n",
       "3  -1   2"
      ]
     },
     "execution_count": 12,
     "metadata": {},
     "output_type": "execute_result"
    }
   ],
   "source": [
    "X"
   ]
  },
  {
   "cell_type": "code",
   "execution_count": 13,
   "id": "e920d06f",
   "metadata": {},
   "outputs": [
    {
     "data": {
      "text/plain": [
       "array([1.39761065, 0.66433425, 2.75356743, 1.76401898])"
      ]
     },
     "execution_count": 13,
     "metadata": {},
     "output_type": "execute_result"
    }
   ],
   "source": [
    "reg.predict(X)"
   ]
  },
  {
   "cell_type": "code",
   "execution_count": null,
   "id": "6ba5adce",
   "metadata": {},
   "outputs": [],
   "source": []
  }
 ],
 "metadata": {
  "kernelspec": {
   "display_name": "Python 3",
   "language": "python",
   "name": "python3"
  },
  "language_info": {
   "codemirror_mode": {
    "name": "ipython",
    "version": 3
   },
   "file_extension": ".py",
   "mimetype": "text/x-python",
   "name": "python",
   "nbconvert_exporter": "python",
   "pygments_lexer": "ipython3",
   "version": "3.8.8"
  }
 },
 "nbformat": 4,
 "nbformat_minor": 5
}
