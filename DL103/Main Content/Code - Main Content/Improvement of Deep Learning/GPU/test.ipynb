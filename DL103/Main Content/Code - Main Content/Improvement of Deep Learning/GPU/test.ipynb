{
 "cells": [
  {
   "cell_type": "code",
   "execution_count": 1,
   "id": "5cc2312c",
   "metadata": {},
   "outputs": [
    {
     "name": "stdout",
     "output_type": "stream",
     "text": [
      "Hello, I'm from local drive\n"
     ]
    }
   ],
   "source": [
    "print(\"Hello, I'm from local drive\")"
   ]
  },
  {
   "cell_type": "code",
   "execution_count": 5,
   "id": "e4cf280e",
   "metadata": {},
   "outputs": [
    {
     "name": "stdout",
     "output_type": "stream",
     "text": [
      "427004.8936033244\n"
     ]
    }
   ],
   "source": [
    "x = [48600 for i in range(10)]\n",
    "\n",
    "sumx = 0\n",
    "\n",
    "for i in range(len(x)):\n",
    "    sumx = sumx + x[i]/1.03**i\n",
    "    \n",
    "print(sumx)"
   ]
  },
  {
   "cell_type": "code",
   "execution_count": 15,
   "id": "f343deef",
   "metadata": {},
   "outputs": [
    {
     "name": "stdout",
     "output_type": "stream",
     "text": [
      "76618.99553134588\n"
     ]
    }
   ],
   "source": [
    "profit = [5000 for i in range(20)]\n",
    "\n",
    "sum_profit = 0\n",
    "\n",
    "for i in range(len(profit)):\n",
    "    sum_profit = sum_profit + profit[i]/1.03**i\n",
    "    \n",
    "print(sum_profit)"
   ]
  },
  {
   "cell_type": "code",
   "execution_count": 14,
   "id": "301722d2",
   "metadata": {},
   "outputs": [
    {
     "data": {
      "text/plain": [
       "232543.81675826048"
      ]
     },
     "execution_count": 14,
     "metadata": {},
     "output_type": "execute_result"
    }
   ],
   "source": [
    "420000/1.03**20"
   ]
  },
  {
   "cell_type": "code",
   "execution_count": null,
   "id": "400303c7",
   "metadata": {},
   "outputs": [],
   "source": []
  }
 ],
 "metadata": {
  "kernelspec": {
   "display_name": "Python 3",
   "language": "python",
   "name": "python3"
  },
  "language_info": {
   "codemirror_mode": {
    "name": "ipython",
    "version": 3
   },
   "file_extension": ".py",
   "mimetype": "text/x-python",
   "name": "python",
   "nbconvert_exporter": "python",
   "pygments_lexer": "ipython3",
   "version": "3.8.8"
  }
 },
 "nbformat": 4,
 "nbformat_minor": 5
}
